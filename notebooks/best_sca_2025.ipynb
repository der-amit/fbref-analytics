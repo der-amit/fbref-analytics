{
 "cells": [
  {
   "cell_type": "code",
   "execution_count": 1,
   "metadata": {},
   "outputs": [],
   "source": [
    "import pandas as pd\n",
    "import plotly.express as px"
   ]
  },
  {
   "cell_type": "code",
   "execution_count": 16,
   "metadata": {},
   "outputs": [],
   "source": [
    "mydata = pd.read_csv('/Users/amitmishra/fbref-analytics/data/mls2025_player_gca_cleaned.csv')"
   ]
  },
  {
   "cell_type": "code",
   "execution_count": 21,
   "metadata": {},
   "outputs": [
    {
     "data": {
      "text/plain": [
       "(703, 25)"
      ]
     },
     "execution_count": 21,
     "metadata": {},
     "output_type": "execute_result"
    }
   ],
   "source": [
    "mydata.shape"
   ]
  },
  {
   "cell_type": "code",
   "execution_count": 19,
   "metadata": {},
   "outputs": [],
   "source": [
    "df = mydata[mydata['Player']!='Player']"
   ]
  },
  {
   "cell_type": "code",
   "execution_count": 22,
   "metadata": {},
   "outputs": [
    {
     "name": "stdout",
     "output_type": "stream",
     "text": [
      "<class 'pandas.core.frame.DataFrame'>\n",
      "Index: 676 entries, 0 to 702\n",
      "Data columns (total 25 columns):\n",
      " #   Column        Non-Null Count  Dtype \n",
      "---  ------        --------------  ----- \n",
      " 0   Rk            676 non-null    object\n",
      " 1   Player        676 non-null    object\n",
      " 2   Nation        674 non-null    object\n",
      " 3   Pos           676 non-null    object\n",
      " 4   Squad         676 non-null    object\n",
      " 5   Age           675 non-null    object\n",
      " 6   Born          675 non-null    object\n",
      " 7   90s           676 non-null    object\n",
      " 8   SCA           676 non-null    object\n",
      " 9   SCA90         676 non-null    object\n",
      " 10  SCA_PassLive  676 non-null    object\n",
      " 11  SCA_PassDead  676 non-null    object\n",
      " 12  SCA_TO        676 non-null    object\n",
      " 13  SCA_Shot      676 non-null    object\n",
      " 14  SCA_Fld       676 non-null    object\n",
      " 15  SCA_DefAct    676 non-null    object\n",
      " 16  GCA           676 non-null    object\n",
      " 17  GCA90         676 non-null    object\n",
      " 18  GCA_PassLive  676 non-null    object\n",
      " 19  GCA_PassDead  676 non-null    object\n",
      " 20  GCA_TO        676 non-null    object\n",
      " 21  GCA_Shot      676 non-null    object\n",
      " 22  GCA_Fld       676 non-null    object\n",
      " 23  GCA_DefAct    676 non-null    object\n",
      " 24  Matches       676 non-null    object\n",
      "dtypes: object(25)\n",
      "memory usage: 137.3+ KB\n"
     ]
    }
   ],
   "source": [
    "df.info()"
   ]
  },
  {
   "cell_type": "code",
   "execution_count": 20,
   "metadata": {},
   "outputs": [
    {
     "data": {
      "text/plain": [
       "(676, 25)"
      ]
     },
     "execution_count": 20,
     "metadata": {},
     "output_type": "execute_result"
    }
   ],
   "source": [
    "df.shape"
   ]
  },
  {
   "cell_type": "code",
   "execution_count": null,
   "metadata": {},
   "outputs": [],
   "source": []
  }
 ],
 "metadata": {
  "kernelspec": {
   "display_name": "Python 3",
   "language": "python",
   "name": "python3"
  },
  "language_info": {
   "codemirror_mode": {
    "name": "ipython",
    "version": 3
   },
   "file_extension": ".py",
   "mimetype": "text/x-python",
   "name": "python",
   "nbconvert_exporter": "python",
   "pygments_lexer": "ipython3",
   "version": "3.12.6"
  },
  "orig_nbformat": 4
 },
 "nbformat": 4,
 "nbformat_minor": 2
}
