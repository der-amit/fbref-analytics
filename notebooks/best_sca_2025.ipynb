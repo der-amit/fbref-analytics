{
 "cells": [
  {
   "cell_type": "code",
   "execution_count": 1,
   "metadata": {},
   "outputs": [],
   "source": [
    "import pandas as pd\n",
    "import plotly.express as px\n",
    "import matplotlib.pyplot as plt"
   ]
  },
  {
   "cell_type": "code",
   "execution_count": 2,
   "metadata": {},
   "outputs": [],
   "source": [
    "mydata = pd.read_csv('/Users/amitmishra/fbref-analytics/data/mls2025_player_gca_cleaned.csv')"
   ]
  },
  {
   "cell_type": "code",
   "execution_count": 3,
   "metadata": {},
   "outputs": [
    {
     "data": {
      "text/plain": [
       "(703, 25)"
      ]
     },
     "execution_count": 3,
     "metadata": {},
     "output_type": "execute_result"
    }
   ],
   "source": [
    "mydata.shape"
   ]
  },
  {
   "cell_type": "code",
   "execution_count": 4,
   "metadata": {},
   "outputs": [],
   "source": [
    "df = mydata[mydata['Player']!='Player']"
   ]
  },
  {
   "cell_type": "code",
   "execution_count": 5,
   "metadata": {},
   "outputs": [
    {
     "name": "stdout",
     "output_type": "stream",
     "text": [
      "<class 'pandas.core.frame.DataFrame'>\n",
      "Index: 676 entries, 0 to 702\n",
      "Data columns (total 25 columns):\n",
      " #   Column        Non-Null Count  Dtype \n",
      "---  ------        --------------  ----- \n",
      " 0   Rk            676 non-null    object\n",
      " 1   Player        676 non-null    object\n",
      " 2   Nation        674 non-null    object\n",
      " 3   Pos           676 non-null    object\n",
      " 4   Squad         676 non-null    object\n",
      " 5   Age           675 non-null    object\n",
      " 6   Born          675 non-null    object\n",
      " 7   90s           676 non-null    object\n",
      " 8   SCA           676 non-null    object\n",
      " 9   SCA90         676 non-null    object\n",
      " 10  SCA_PassLive  676 non-null    object\n",
      " 11  SCA_PassDead  676 non-null    object\n",
      " 12  SCA_TO        676 non-null    object\n",
      " 13  SCA_Shot      676 non-null    object\n",
      " 14  SCA_Fld       676 non-null    object\n",
      " 15  SCA_DefAct    676 non-null    object\n",
      " 16  GCA           676 non-null    object\n",
      " 17  GCA90         676 non-null    object\n",
      " 18  GCA_PassLive  676 non-null    object\n",
      " 19  GCA_PassDead  676 non-null    object\n",
      " 20  GCA_TO        676 non-null    object\n",
      " 21  GCA_Shot      676 non-null    object\n",
      " 22  GCA_Fld       676 non-null    object\n",
      " 23  GCA_DefAct    676 non-null    object\n",
      " 24  Matches       676 non-null    object\n",
      "dtypes: object(25)\n",
      "memory usage: 137.3+ KB\n"
     ]
    }
   ],
   "source": [
    "df.info()"
   ]
  },
  {
   "cell_type": "code",
   "execution_count": 6,
   "metadata": {},
   "outputs": [
    {
     "data": {
      "text/plain": [
       "Index(['Rk', 'Player', 'Nation', 'Pos', 'Squad', 'Age', 'Born', '90s', 'SCA',\n",
       "       'SCA90', 'SCA_PassLive', 'SCA_PassDead', 'SCA_TO', 'SCA_Shot',\n",
       "       'SCA_Fld', 'SCA_DefAct', 'GCA', 'GCA90', 'GCA_PassLive', 'GCA_PassDead',\n",
       "       'GCA_TO', 'GCA_Shot', 'GCA_Fld', 'GCA_DefAct', 'Matches'],\n",
       "      dtype='object')"
      ]
     },
     "execution_count": 6,
     "metadata": {},
     "output_type": "execute_result"
    }
   ],
   "source": [
    "df.shape\n",
    "df.columns"
   ]
  },
  {
   "cell_type": "code",
   "execution_count": 7,
   "metadata": {},
   "outputs": [
    {
     "data": {
      "text/html": [
       "<div>\n",
       "<style scoped>\n",
       "    .dataframe tbody tr th:only-of-type {\n",
       "        vertical-align: middle;\n",
       "    }\n",
       "\n",
       "    .dataframe tbody tr th {\n",
       "        vertical-align: top;\n",
       "    }\n",
       "\n",
       "    .dataframe thead th {\n",
       "        text-align: right;\n",
       "    }\n",
       "</style>\n",
       "<table border=\"1\" class=\"dataframe\">\n",
       "  <thead>\n",
       "    <tr style=\"text-align: right;\">\n",
       "      <th></th>\n",
       "      <th>Rk</th>\n",
       "      <th>Player</th>\n",
       "      <th>Nation</th>\n",
       "      <th>Pos</th>\n",
       "      <th>Squad</th>\n",
       "      <th>Age</th>\n",
       "      <th>Born</th>\n",
       "      <th>90s</th>\n",
       "      <th>SCA</th>\n",
       "      <th>SCA90</th>\n",
       "      <th>...</th>\n",
       "      <th>SCA_DefAct</th>\n",
       "      <th>GCA</th>\n",
       "      <th>GCA90</th>\n",
       "      <th>GCA_PassLive</th>\n",
       "      <th>GCA_PassDead</th>\n",
       "      <th>GCA_TO</th>\n",
       "      <th>GCA_Shot</th>\n",
       "      <th>GCA_Fld</th>\n",
       "      <th>GCA_DefAct</th>\n",
       "      <th>Matches</th>\n",
       "    </tr>\n",
       "  </thead>\n",
       "  <tbody>\n",
       "    <tr>\n",
       "      <th>0</th>\n",
       "      <td>1</td>\n",
       "      <td>Liel Abada</td>\n",
       "      <td>il ISR</td>\n",
       "      <td>MF,FW</td>\n",
       "      <td>Charlotte</td>\n",
       "      <td>23-202</td>\n",
       "      <td>2001</td>\n",
       "      <td>5.7</td>\n",
       "      <td>13</td>\n",
       "      <td>2.29</td>\n",
       "      <td>...</td>\n",
       "      <td>0</td>\n",
       "      <td>2</td>\n",
       "      <td>0.35</td>\n",
       "      <td>1</td>\n",
       "      <td>0</td>\n",
       "      <td>0</td>\n",
       "      <td>1</td>\n",
       "      <td>0</td>\n",
       "      <td>0</td>\n",
       "      <td>Matches</td>\n",
       "    </tr>\n",
       "    <tr>\n",
       "      <th>1</th>\n",
       "      <td>2</td>\n",
       "      <td>Luis Abram</td>\n",
       "      <td>pe PER</td>\n",
       "      <td>DF</td>\n",
       "      <td>Atlanta Utd</td>\n",
       "      <td>29-055</td>\n",
       "      <td>1996</td>\n",
       "      <td>4.8</td>\n",
       "      <td>2</td>\n",
       "      <td>0.41</td>\n",
       "      <td>...</td>\n",
       "      <td>0</td>\n",
       "      <td>0</td>\n",
       "      <td>0.00</td>\n",
       "      <td>0</td>\n",
       "      <td>0</td>\n",
       "      <td>0</td>\n",
       "      <td>0</td>\n",
       "      <td>0</td>\n",
       "      <td>0</td>\n",
       "      <td>Matches</td>\n",
       "    </tr>\n",
       "    <tr>\n",
       "      <th>2</th>\n",
       "      <td>3</td>\n",
       "      <td>Lalas Abubakar</td>\n",
       "      <td>gh GHA</td>\n",
       "      <td>DF,MF</td>\n",
       "      <td>FC Dallas</td>\n",
       "      <td>30-119</td>\n",
       "      <td>1994</td>\n",
       "      <td>0.6</td>\n",
       "      <td>2</td>\n",
       "      <td>3.10</td>\n",
       "      <td>...</td>\n",
       "      <td>1</td>\n",
       "      <td>0</td>\n",
       "      <td>0.00</td>\n",
       "      <td>0</td>\n",
       "      <td>0</td>\n",
       "      <td>0</td>\n",
       "      <td>0</td>\n",
       "      <td>0</td>\n",
       "      <td>0</td>\n",
       "      <td>Matches</td>\n",
       "    </tr>\n",
       "  </tbody>\n",
       "</table>\n",
       "<p>3 rows × 25 columns</p>\n",
       "</div>"
      ],
      "text/plain": [
       "  Rk          Player  Nation    Pos        Squad     Age  Born  90s SCA SCA90  \\\n",
       "0  1      Liel Abada  il ISR  MF,FW    Charlotte  23-202  2001  5.7  13  2.29   \n",
       "1  2      Luis Abram  pe PER     DF  Atlanta Utd  29-055  1996  4.8   2  0.41   \n",
       "2  3  Lalas Abubakar  gh GHA  DF,MF    FC Dallas  30-119  1994  0.6   2  3.10   \n",
       "\n",
       "   ... SCA_DefAct GCA GCA90 GCA_PassLive GCA_PassDead GCA_TO GCA_Shot GCA_Fld  \\\n",
       "0  ...          0   2  0.35            1            0      0        1       0   \n",
       "1  ...          0   0  0.00            0            0      0        0       0   \n",
       "2  ...          1   0  0.00            0            0      0        0       0   \n",
       "\n",
       "  GCA_DefAct  Matches  \n",
       "0          0  Matches  \n",
       "1          0  Matches  \n",
       "2          0  Matches  \n",
       "\n",
       "[3 rows x 25 columns]"
      ]
     },
     "execution_count": 7,
     "metadata": {},
     "output_type": "execute_result"
    }
   ],
   "source": [
    "df.head(3)"
   ]
  },
  {
   "cell_type": "code",
   "execution_count": 8,
   "metadata": {},
   "outputs": [],
   "source": [
    "convert_dict = {\n",
    "    'Rk' : int,\n",
    "    'Player': object,\n",
    "    'Nation': object,\n",
    "    'Pos' :str,\n",
    "    'Age': object,\n",
    "    'Born': pd.Int64Dtype(),\n",
    "    '90s': float,\n",
    "    'SCA': int,\n",
    "    'SCA90': float ,\n",
    "    'SCA_PassLive': int,\n",
    "    'SCA_PassDead':int,\n",
    "    'SCA_TO':int,\n",
    "    'SCA_Shot':int,\n",
    "    'SCA_Fld':int,\n",
    "    'SCA_DefAct':int,\n",
    "    'GCA':int,\n",
    "    'GCA90':float,\n",
    "    'GCA_PassLive':int ,\n",
    "    'GCA_PassDead':int,\n",
    "    'GCA_TO':int,\n",
    "    'GCA_Shot':int,\n",
    "    'GCA_Fld':int,\n",
    "    'GCA_DefAct':int,\n",
    "    'Matches':str\n",
    "}"
   ]
  },
  {
   "cell_type": "code",
   "execution_count": 9,
   "metadata": {},
   "outputs": [],
   "source": [
    "df = df.astype(convert_dict)"
   ]
  },
  {
   "cell_type": "code",
   "execution_count": 10,
   "metadata": {},
   "outputs": [],
   "source": [
    "df = df.drop(['Matches', 'Nation','Born', 'Rk'], axis = 1)"
   ]
  },
  {
   "cell_type": "code",
   "execution_count": 11,
   "metadata": {},
   "outputs": [
    {
     "name": "stdout",
     "output_type": "stream",
     "text": [
      "<class 'pandas.core.frame.DataFrame'>\n",
      "Index: 676 entries, 0 to 702\n",
      "Data columns (total 21 columns):\n",
      " #   Column        Non-Null Count  Dtype  \n",
      "---  ------        --------------  -----  \n",
      " 0   Player        676 non-null    object \n",
      " 1   Pos           676 non-null    object \n",
      " 2   Squad         676 non-null    object \n",
      " 3   Age           675 non-null    object \n",
      " 4   90s           676 non-null    float64\n",
      " 5   SCA           676 non-null    int64  \n",
      " 6   SCA90         676 non-null    float64\n",
      " 7   SCA_PassLive  676 non-null    int64  \n",
      " 8   SCA_PassDead  676 non-null    int64  \n",
      " 9   SCA_TO        676 non-null    int64  \n",
      " 10  SCA_Shot      676 non-null    int64  \n",
      " 11  SCA_Fld       676 non-null    int64  \n",
      " 12  SCA_DefAct    676 non-null    int64  \n",
      " 13  GCA           676 non-null    int64  \n",
      " 14  GCA90         676 non-null    float64\n",
      " 15  GCA_PassLive  676 non-null    int64  \n",
      " 16  GCA_PassDead  676 non-null    int64  \n",
      " 17  GCA_TO        676 non-null    int64  \n",
      " 18  GCA_Shot      676 non-null    int64  \n",
      " 19  GCA_Fld       676 non-null    int64  \n",
      " 20  GCA_DefAct    676 non-null    int64  \n",
      "dtypes: float64(3), int64(14), object(4)\n",
      "memory usage: 116.2+ KB\n"
     ]
    }
   ],
   "source": [
    "df.info()"
   ]
  },
  {
   "cell_type": "code",
   "execution_count": 12,
   "metadata": {},
   "outputs": [
    {
     "data": {
      "text/html": [
       "<div>\n",
       "<style scoped>\n",
       "    .dataframe tbody tr th:only-of-type {\n",
       "        vertical-align: middle;\n",
       "    }\n",
       "\n",
       "    .dataframe tbody tr th {\n",
       "        vertical-align: top;\n",
       "    }\n",
       "\n",
       "    .dataframe thead th {\n",
       "        text-align: right;\n",
       "    }\n",
       "</style>\n",
       "<table border=\"1\" class=\"dataframe\">\n",
       "  <thead>\n",
       "    <tr style=\"text-align: right;\">\n",
       "      <th></th>\n",
       "      <th>90s</th>\n",
       "      <th>SCA</th>\n",
       "      <th>SCA90</th>\n",
       "      <th>SCA_PassLive</th>\n",
       "      <th>SCA_PassDead</th>\n",
       "      <th>SCA_TO</th>\n",
       "      <th>SCA_Shot</th>\n",
       "      <th>SCA_Fld</th>\n",
       "      <th>SCA_DefAct</th>\n",
       "      <th>GCA</th>\n",
       "      <th>GCA90</th>\n",
       "      <th>GCA_PassLive</th>\n",
       "      <th>GCA_PassDead</th>\n",
       "      <th>GCA_TO</th>\n",
       "      <th>GCA_Shot</th>\n",
       "      <th>GCA_Fld</th>\n",
       "      <th>GCA_DefAct</th>\n",
       "    </tr>\n",
       "  </thead>\n",
       "  <tbody>\n",
       "    <tr>\n",
       "      <th>count</th>\n",
       "      <td>676.000000</td>\n",
       "      <td>676.000000</td>\n",
       "      <td>676.000000</td>\n",
       "      <td>676.000000</td>\n",
       "      <td>676.000000</td>\n",
       "      <td>676.000000</td>\n",
       "      <td>676.000000</td>\n",
       "      <td>676.000000</td>\n",
       "      <td>676.000000</td>\n",
       "      <td>676.000000</td>\n",
       "      <td>676.000000</td>\n",
       "      <td>676.000000</td>\n",
       "      <td>676.000000</td>\n",
       "      <td>676.000000</td>\n",
       "      <td>676.000000</td>\n",
       "      <td>676.000000</td>\n",
       "      <td>676.000000</td>\n",
       "    </tr>\n",
       "    <tr>\n",
       "      <th>mean</th>\n",
       "      <td>4.350592</td>\n",
       "      <td>8.618343</td>\n",
       "      <td>2.222160</td>\n",
       "      <td>6.437870</td>\n",
       "      <td>0.680473</td>\n",
       "      <td>0.372781</td>\n",
       "      <td>0.556213</td>\n",
       "      <td>0.431953</td>\n",
       "      <td>0.139053</td>\n",
       "      <td>0.869822</td>\n",
       "      <td>0.182130</td>\n",
       "      <td>0.618343</td>\n",
       "      <td>0.048817</td>\n",
       "      <td>0.041420</td>\n",
       "      <td>0.075444</td>\n",
       "      <td>0.072485</td>\n",
       "      <td>0.013314</td>\n",
       "    </tr>\n",
       "    <tr>\n",
       "      <th>std</th>\n",
       "      <td>2.909568</td>\n",
       "      <td>9.619235</td>\n",
       "      <td>3.366346</td>\n",
       "      <td>6.809187</td>\n",
       "      <td>1.963739</td>\n",
       "      <td>0.884483</td>\n",
       "      <td>1.030544</td>\n",
       "      <td>0.894319</td>\n",
       "      <td>0.390496</td>\n",
       "      <td>1.416592</td>\n",
       "      <td>0.314619</td>\n",
       "      <td>1.067730</td>\n",
       "      <td>0.270498</td>\n",
       "      <td>0.206703</td>\n",
       "      <td>0.300992</td>\n",
       "      <td>0.311385</td>\n",
       "      <td>0.114699</td>\n",
       "    </tr>\n",
       "    <tr>\n",
       "      <th>min</th>\n",
       "      <td>0.000000</td>\n",
       "      <td>0.000000</td>\n",
       "      <td>0.000000</td>\n",
       "      <td>0.000000</td>\n",
       "      <td>0.000000</td>\n",
       "      <td>0.000000</td>\n",
       "      <td>0.000000</td>\n",
       "      <td>0.000000</td>\n",
       "      <td>0.000000</td>\n",
       "      <td>0.000000</td>\n",
       "      <td>0.000000</td>\n",
       "      <td>0.000000</td>\n",
       "      <td>0.000000</td>\n",
       "      <td>0.000000</td>\n",
       "      <td>0.000000</td>\n",
       "      <td>0.000000</td>\n",
       "      <td>0.000000</td>\n",
       "    </tr>\n",
       "    <tr>\n",
       "      <th>25%</th>\n",
       "      <td>1.700000</td>\n",
       "      <td>2.000000</td>\n",
       "      <td>0.570000</td>\n",
       "      <td>1.000000</td>\n",
       "      <td>0.000000</td>\n",
       "      <td>0.000000</td>\n",
       "      <td>0.000000</td>\n",
       "      <td>0.000000</td>\n",
       "      <td>0.000000</td>\n",
       "      <td>0.000000</td>\n",
       "      <td>0.000000</td>\n",
       "      <td>0.000000</td>\n",
       "      <td>0.000000</td>\n",
       "      <td>0.000000</td>\n",
       "      <td>0.000000</td>\n",
       "      <td>0.000000</td>\n",
       "      <td>0.000000</td>\n",
       "    </tr>\n",
       "    <tr>\n",
       "      <th>50%</th>\n",
       "      <td>4.200000</td>\n",
       "      <td>5.000000</td>\n",
       "      <td>1.650000</td>\n",
       "      <td>4.000000</td>\n",
       "      <td>0.000000</td>\n",
       "      <td>0.000000</td>\n",
       "      <td>0.000000</td>\n",
       "      <td>0.000000</td>\n",
       "      <td>0.000000</td>\n",
       "      <td>0.000000</td>\n",
       "      <td>0.000000</td>\n",
       "      <td>0.000000</td>\n",
       "      <td>0.000000</td>\n",
       "      <td>0.000000</td>\n",
       "      <td>0.000000</td>\n",
       "      <td>0.000000</td>\n",
       "      <td>0.000000</td>\n",
       "    </tr>\n",
       "    <tr>\n",
       "      <th>75%</th>\n",
       "      <td>7.000000</td>\n",
       "      <td>12.000000</td>\n",
       "      <td>2.940000</td>\n",
       "      <td>9.000000</td>\n",
       "      <td>0.000000</td>\n",
       "      <td>0.000000</td>\n",
       "      <td>1.000000</td>\n",
       "      <td>1.000000</td>\n",
       "      <td>0.000000</td>\n",
       "      <td>1.000000</td>\n",
       "      <td>0.272500</td>\n",
       "      <td>1.000000</td>\n",
       "      <td>0.000000</td>\n",
       "      <td>0.000000</td>\n",
       "      <td>0.000000</td>\n",
       "      <td>0.000000</td>\n",
       "      <td>0.000000</td>\n",
       "    </tr>\n",
       "    <tr>\n",
       "      <th>max</th>\n",
       "      <td>9.000000</td>\n",
       "      <td>68.000000</td>\n",
       "      <td>60.000000</td>\n",
       "      <td>46.000000</td>\n",
       "      <td>18.000000</td>\n",
       "      <td>6.000000</td>\n",
       "      <td>7.000000</td>\n",
       "      <td>7.000000</td>\n",
       "      <td>2.000000</td>\n",
       "      <td>9.000000</td>\n",
       "      <td>3.330000</td>\n",
       "      <td>6.000000</td>\n",
       "      <td>3.000000</td>\n",
       "      <td>2.000000</td>\n",
       "      <td>3.000000</td>\n",
       "      <td>3.000000</td>\n",
       "      <td>1.000000</td>\n",
       "    </tr>\n",
       "  </tbody>\n",
       "</table>\n",
       "</div>"
      ],
      "text/plain": [
       "              90s         SCA       SCA90  SCA_PassLive  SCA_PassDead  \\\n",
       "count  676.000000  676.000000  676.000000    676.000000    676.000000   \n",
       "mean     4.350592    8.618343    2.222160      6.437870      0.680473   \n",
       "std      2.909568    9.619235    3.366346      6.809187      1.963739   \n",
       "min      0.000000    0.000000    0.000000      0.000000      0.000000   \n",
       "25%      1.700000    2.000000    0.570000      1.000000      0.000000   \n",
       "50%      4.200000    5.000000    1.650000      4.000000      0.000000   \n",
       "75%      7.000000   12.000000    2.940000      9.000000      0.000000   \n",
       "max      9.000000   68.000000   60.000000     46.000000     18.000000   \n",
       "\n",
       "           SCA_TO    SCA_Shot     SCA_Fld  SCA_DefAct         GCA       GCA90  \\\n",
       "count  676.000000  676.000000  676.000000  676.000000  676.000000  676.000000   \n",
       "mean     0.372781    0.556213    0.431953    0.139053    0.869822    0.182130   \n",
       "std      0.884483    1.030544    0.894319    0.390496    1.416592    0.314619   \n",
       "min      0.000000    0.000000    0.000000    0.000000    0.000000    0.000000   \n",
       "25%      0.000000    0.000000    0.000000    0.000000    0.000000    0.000000   \n",
       "50%      0.000000    0.000000    0.000000    0.000000    0.000000    0.000000   \n",
       "75%      0.000000    1.000000    1.000000    0.000000    1.000000    0.272500   \n",
       "max      6.000000    7.000000    7.000000    2.000000    9.000000    3.330000   \n",
       "\n",
       "       GCA_PassLive  GCA_PassDead      GCA_TO    GCA_Shot     GCA_Fld  \\\n",
       "count    676.000000    676.000000  676.000000  676.000000  676.000000   \n",
       "mean       0.618343      0.048817    0.041420    0.075444    0.072485   \n",
       "std        1.067730      0.270498    0.206703    0.300992    0.311385   \n",
       "min        0.000000      0.000000    0.000000    0.000000    0.000000   \n",
       "25%        0.000000      0.000000    0.000000    0.000000    0.000000   \n",
       "50%        0.000000      0.000000    0.000000    0.000000    0.000000   \n",
       "75%        1.000000      0.000000    0.000000    0.000000    0.000000   \n",
       "max        6.000000      3.000000    2.000000    3.000000    3.000000   \n",
       "\n",
       "       GCA_DefAct  \n",
       "count  676.000000  \n",
       "mean     0.013314  \n",
       "std      0.114699  \n",
       "min      0.000000  \n",
       "25%      0.000000  \n",
       "50%      0.000000  \n",
       "75%      0.000000  \n",
       "max      1.000000  "
      ]
     },
     "execution_count": 12,
     "metadata": {},
     "output_type": "execute_result"
    }
   ],
   "source": [
    "df.describe()"
   ]
  },
  {
   "cell_type": "code",
   "execution_count": 13,
   "metadata": {},
   "outputs": [],
   "source": [
    "sca_mf = df[df['Pos'].str.contains('MF')]"
   ]
  },
  {
   "cell_type": "code",
   "execution_count": 14,
   "metadata": {},
   "outputs": [
    {
     "data": {
      "text/html": [
       "<div>\n",
       "<style scoped>\n",
       "    .dataframe tbody tr th:only-of-type {\n",
       "        vertical-align: middle;\n",
       "    }\n",
       "\n",
       "    .dataframe tbody tr th {\n",
       "        vertical-align: top;\n",
       "    }\n",
       "\n",
       "    .dataframe thead th {\n",
       "        text-align: right;\n",
       "    }\n",
       "</style>\n",
       "<table border=\"1\" class=\"dataframe\">\n",
       "  <thead>\n",
       "    <tr style=\"text-align: right;\">\n",
       "      <th></th>\n",
       "      <th>Player</th>\n",
       "      <th>Pos</th>\n",
       "      <th>Squad</th>\n",
       "      <th>Age</th>\n",
       "      <th>90s</th>\n",
       "      <th>SCA</th>\n",
       "      <th>SCA90</th>\n",
       "      <th>SCA_PassLive</th>\n",
       "      <th>SCA_PassDead</th>\n",
       "      <th>SCA_TO</th>\n",
       "      <th>...</th>\n",
       "      <th>SCA_Fld</th>\n",
       "      <th>SCA_DefAct</th>\n",
       "      <th>GCA</th>\n",
       "      <th>GCA90</th>\n",
       "      <th>GCA_PassLive</th>\n",
       "      <th>GCA_PassDead</th>\n",
       "      <th>GCA_TO</th>\n",
       "      <th>GCA_Shot</th>\n",
       "      <th>GCA_Fld</th>\n",
       "      <th>GCA_DefAct</th>\n",
       "    </tr>\n",
       "  </thead>\n",
       "  <tbody>\n",
       "    <tr>\n",
       "      <th>0</th>\n",
       "      <td>Liel Abada</td>\n",
       "      <td>MF,FW</td>\n",
       "      <td>Charlotte</td>\n",
       "      <td>23-202</td>\n",
       "      <td>5.7</td>\n",
       "      <td>13</td>\n",
       "      <td>2.29</td>\n",
       "      <td>8</td>\n",
       "      <td>0</td>\n",
       "      <td>1</td>\n",
       "      <td>...</td>\n",
       "      <td>0</td>\n",
       "      <td>0</td>\n",
       "      <td>2</td>\n",
       "      <td>0.35</td>\n",
       "      <td>1</td>\n",
       "      <td>0</td>\n",
       "      <td>0</td>\n",
       "      <td>1</td>\n",
       "      <td>0</td>\n",
       "      <td>0</td>\n",
       "    </tr>\n",
       "    <tr>\n",
       "      <th>2</th>\n",
       "      <td>Lalas Abubakar</td>\n",
       "      <td>DF,MF</td>\n",
       "      <td>FC Dallas</td>\n",
       "      <td>30-119</td>\n",
       "      <td>0.6</td>\n",
       "      <td>2</td>\n",
       "      <td>3.10</td>\n",
       "      <td>1</td>\n",
       "      <td>0</td>\n",
       "      <td>0</td>\n",
       "      <td>...</td>\n",
       "      <td>0</td>\n",
       "      <td>1</td>\n",
       "      <td>0</td>\n",
       "      <td>0.00</td>\n",
       "      <td>0</td>\n",
       "      <td>0</td>\n",
       "      <td>0</td>\n",
       "      <td>0</td>\n",
       "      <td>0</td>\n",
       "      <td>0</td>\n",
       "    </tr>\n",
       "    <tr>\n",
       "      <th>3</th>\n",
       "      <td>Kellyn Acosta</td>\n",
       "      <td>MF</td>\n",
       "      <td>Chicago Fire</td>\n",
       "      <td>29-273</td>\n",
       "      <td>3.3</td>\n",
       "      <td>5</td>\n",
       "      <td>1.52</td>\n",
       "      <td>5</td>\n",
       "      <td>0</td>\n",
       "      <td>0</td>\n",
       "      <td>...</td>\n",
       "      <td>0</td>\n",
       "      <td>0</td>\n",
       "      <td>0</td>\n",
       "      <td>0.00</td>\n",
       "      <td>0</td>\n",
       "      <td>0</td>\n",
       "      <td>0</td>\n",
       "      <td>0</td>\n",
       "      <td>0</td>\n",
       "      <td>0</td>\n",
       "    </tr>\n",
       "    <tr>\n",
       "      <th>4</th>\n",
       "      <td>Luciano Acosta</td>\n",
       "      <td>MF</td>\n",
       "      <td>FC Dallas</td>\n",
       "      <td>30-327</td>\n",
       "      <td>8.2</td>\n",
       "      <td>44</td>\n",
       "      <td>5.38</td>\n",
       "      <td>31</td>\n",
       "      <td>10</td>\n",
       "      <td>0</td>\n",
       "      <td>...</td>\n",
       "      <td>2</td>\n",
       "      <td>1</td>\n",
       "      <td>2</td>\n",
       "      <td>0.24</td>\n",
       "      <td>2</td>\n",
       "      <td>0</td>\n",
       "      <td>0</td>\n",
       "      <td>0</td>\n",
       "      <td>0</td>\n",
       "      <td>0</td>\n",
       "    </tr>\n",
       "    <tr>\n",
       "      <th>7</th>\n",
       "      <td>Stephen Afrifa</td>\n",
       "      <td>MF</td>\n",
       "      <td>Sporting KC</td>\n",
       "      <td>24-063</td>\n",
       "      <td>0.0</td>\n",
       "      <td>2</td>\n",
       "      <td>60.00</td>\n",
       "      <td>0</td>\n",
       "      <td>0</td>\n",
       "      <td>1</td>\n",
       "      <td>...</td>\n",
       "      <td>1</td>\n",
       "      <td>0</td>\n",
       "      <td>0</td>\n",
       "      <td>0.00</td>\n",
       "      <td>0</td>\n",
       "      <td>0</td>\n",
       "      <td>0</td>\n",
       "      <td>0</td>\n",
       "      <td>0</td>\n",
       "      <td>0</td>\n",
       "    </tr>\n",
       "  </tbody>\n",
       "</table>\n",
       "<p>5 rows × 21 columns</p>\n",
       "</div>"
      ],
      "text/plain": [
       "           Player    Pos         Squad     Age  90s  SCA  SCA90  SCA_PassLive  \\\n",
       "0      Liel Abada  MF,FW     Charlotte  23-202  5.7   13   2.29             8   \n",
       "2  Lalas Abubakar  DF,MF     FC Dallas  30-119  0.6    2   3.10             1   \n",
       "3   Kellyn Acosta     MF  Chicago Fire  29-273  3.3    5   1.52             5   \n",
       "4  Luciano Acosta     MF     FC Dallas  30-327  8.2   44   5.38            31   \n",
       "7  Stephen Afrifa     MF   Sporting KC  24-063  0.0    2  60.00             0   \n",
       "\n",
       "   SCA_PassDead  SCA_TO  ...  SCA_Fld  SCA_DefAct  GCA  GCA90  GCA_PassLive  \\\n",
       "0             0       1  ...        0           0    2   0.35             1   \n",
       "2             0       0  ...        0           1    0   0.00             0   \n",
       "3             0       0  ...        0           0    0   0.00             0   \n",
       "4            10       0  ...        2           1    2   0.24             2   \n",
       "7             0       1  ...        1           0    0   0.00             0   \n",
       "\n",
       "   GCA_PassDead  GCA_TO  GCA_Shot  GCA_Fld  GCA_DefAct  \n",
       "0             0       0         1        0           0  \n",
       "2             0       0         0        0           0  \n",
       "3             0       0         0        0           0  \n",
       "4             0       0         0        0           0  \n",
       "7             0       0         0        0           0  \n",
       "\n",
       "[5 rows x 21 columns]"
      ]
     },
     "execution_count": 14,
     "metadata": {},
     "output_type": "execute_result"
    }
   ],
   "source": [
    "sca_mf.head()"
   ]
  },
  {
   "cell_type": "code",
   "execution_count": 15,
   "metadata": {},
   "outputs": [],
   "source": [
    "#Bench marking the top creative players with more than 16 shot creating actions from live-ball passes\n",
    "\n",
    "sca_best = sca_mf[(sca_mf['SCA_PassLive'] > 16) & (sca_mf['90s'] > 5.0)].reset_index(drop = True)"
   ]
  },
  {
   "cell_type": "code",
   "execution_count": 16,
   "metadata": {},
   "outputs": [
    {
     "data": {
      "text/html": [
       "<div>\n",
       "<style scoped>\n",
       "    .dataframe tbody tr th:only-of-type {\n",
       "        vertical-align: middle;\n",
       "    }\n",
       "\n",
       "    .dataframe tbody tr th {\n",
       "        vertical-align: top;\n",
       "    }\n",
       "\n",
       "    .dataframe thead th {\n",
       "        text-align: right;\n",
       "    }\n",
       "</style>\n",
       "<table border=\"1\" class=\"dataframe\">\n",
       "  <thead>\n",
       "    <tr style=\"text-align: right;\">\n",
       "      <th></th>\n",
       "      <th>Player</th>\n",
       "      <th>Pos</th>\n",
       "      <th>Squad</th>\n",
       "      <th>Age</th>\n",
       "      <th>90s</th>\n",
       "      <th>SCA</th>\n",
       "      <th>SCA90</th>\n",
       "      <th>SCA_PassLive</th>\n",
       "      <th>SCA_PassDead</th>\n",
       "      <th>SCA_TO</th>\n",
       "      <th>...</th>\n",
       "      <th>SCA_Fld</th>\n",
       "      <th>SCA_DefAct</th>\n",
       "      <th>GCA</th>\n",
       "      <th>GCA90</th>\n",
       "      <th>GCA_PassLive</th>\n",
       "      <th>GCA_PassDead</th>\n",
       "      <th>GCA_TO</th>\n",
       "      <th>GCA_Shot</th>\n",
       "      <th>GCA_Fld</th>\n",
       "      <th>GCA_DefAct</th>\n",
       "    </tr>\n",
       "  </thead>\n",
       "  <tbody>\n",
       "    <tr>\n",
       "      <th>0</th>\n",
       "      <td>Luciano Acosta</td>\n",
       "      <td>MF</td>\n",
       "      <td>FC Dallas</td>\n",
       "      <td>30-327</td>\n",
       "      <td>8.2</td>\n",
       "      <td>44</td>\n",
       "      <td>5.38</td>\n",
       "      <td>31</td>\n",
       "      <td>10</td>\n",
       "      <td>0</td>\n",
       "      <td>...</td>\n",
       "      <td>2</td>\n",
       "      <td>1</td>\n",
       "      <td>2</td>\n",
       "      <td>0.24</td>\n",
       "      <td>2</td>\n",
       "      <td>0</td>\n",
       "      <td>0</td>\n",
       "      <td>0</td>\n",
       "      <td>0</td>\n",
       "      <td>0</td>\n",
       "    </tr>\n",
       "    <tr>\n",
       "      <th>1</th>\n",
       "      <td>Miguel Almirón</td>\n",
       "      <td>FW,MF</td>\n",
       "      <td>Atlanta Utd</td>\n",
       "      <td>31-072</td>\n",
       "      <td>7.9</td>\n",
       "      <td>37</td>\n",
       "      <td>4.66</td>\n",
       "      <td>27</td>\n",
       "      <td>1</td>\n",
       "      <td>2</td>\n",
       "      <td>...</td>\n",
       "      <td>3</td>\n",
       "      <td>2</td>\n",
       "      <td>2</td>\n",
       "      <td>0.25</td>\n",
       "      <td>2</td>\n",
       "      <td>0</td>\n",
       "      <td>0</td>\n",
       "      <td>0</td>\n",
       "      <td>0</td>\n",
       "      <td>0</td>\n",
       "    </tr>\n",
       "    <tr>\n",
       "      <th>2</th>\n",
       "      <td>Antony</td>\n",
       "      <td>FW,MF</td>\n",
       "      <td>Portland Timbers</td>\n",
       "      <td>23-227</td>\n",
       "      <td>8.1</td>\n",
       "      <td>23</td>\n",
       "      <td>2.84</td>\n",
       "      <td>21</td>\n",
       "      <td>0</td>\n",
       "      <td>0</td>\n",
       "      <td>...</td>\n",
       "      <td>1</td>\n",
       "      <td>0</td>\n",
       "      <td>3</td>\n",
       "      <td>0.37</td>\n",
       "      <td>3</td>\n",
       "      <td>0</td>\n",
       "      <td>0</td>\n",
       "      <td>0</td>\n",
       "      <td>0</td>\n",
       "      <td>0</td>\n",
       "    </tr>\n",
       "    <tr>\n",
       "      <th>3</th>\n",
       "      <td>Cristian Arango</td>\n",
       "      <td>MF,FW</td>\n",
       "      <td>SJ Earthquakes</td>\n",
       "      <td>30-045</td>\n",
       "      <td>8.8</td>\n",
       "      <td>33</td>\n",
       "      <td>3.77</td>\n",
       "      <td>23</td>\n",
       "      <td>1</td>\n",
       "      <td>2</td>\n",
       "      <td>...</td>\n",
       "      <td>3</td>\n",
       "      <td>1</td>\n",
       "      <td>2</td>\n",
       "      <td>0.23</td>\n",
       "      <td>2</td>\n",
       "      <td>0</td>\n",
       "      <td>0</td>\n",
       "      <td>0</td>\n",
       "      <td>0</td>\n",
       "      <td>0</td>\n",
       "    </tr>\n",
       "    <tr>\n",
       "      <th>4</th>\n",
       "      <td>Maximilian Arfsten</td>\n",
       "      <td>DF,MF</td>\n",
       "      <td>Columbus Crew</td>\n",
       "      <td>24-004</td>\n",
       "      <td>8.0</td>\n",
       "      <td>23</td>\n",
       "      <td>2.88</td>\n",
       "      <td>17</td>\n",
       "      <td>1</td>\n",
       "      <td>4</td>\n",
       "      <td>...</td>\n",
       "      <td>1</td>\n",
       "      <td>0</td>\n",
       "      <td>3</td>\n",
       "      <td>0.38</td>\n",
       "      <td>3</td>\n",
       "      <td>0</td>\n",
       "      <td>0</td>\n",
       "      <td>0</td>\n",
       "      <td>0</td>\n",
       "      <td>0</td>\n",
       "    </tr>\n",
       "  </tbody>\n",
       "</table>\n",
       "<p>5 rows × 21 columns</p>\n",
       "</div>"
      ],
      "text/plain": [
       "               Player    Pos             Squad     Age  90s  SCA  SCA90  \\\n",
       "0      Luciano Acosta     MF         FC Dallas  30-327  8.2   44   5.38   \n",
       "1      Miguel Almirón  FW,MF       Atlanta Utd  31-072  7.9   37   4.66   \n",
       "2              Antony  FW,MF  Portland Timbers  23-227  8.1   23   2.84   \n",
       "3     Cristian Arango  MF,FW    SJ Earthquakes  30-045  8.8   33   3.77   \n",
       "4  Maximilian Arfsten  DF,MF     Columbus Crew  24-004  8.0   23   2.88   \n",
       "\n",
       "   SCA_PassLive  SCA_PassDead  SCA_TO  ...  SCA_Fld  SCA_DefAct  GCA  GCA90  \\\n",
       "0            31            10       0  ...        2           1    2   0.24   \n",
       "1            27             1       2  ...        3           2    2   0.25   \n",
       "2            21             0       0  ...        1           0    3   0.37   \n",
       "3            23             1       2  ...        3           1    2   0.23   \n",
       "4            17             1       4  ...        1           0    3   0.38   \n",
       "\n",
       "   GCA_PassLive  GCA_PassDead  GCA_TO  GCA_Shot  GCA_Fld  GCA_DefAct  \n",
       "0             2             0       0         0        0           0  \n",
       "1             2             0       0         0        0           0  \n",
       "2             3             0       0         0        0           0  \n",
       "3             2             0       0         0        0           0  \n",
       "4             3             0       0         0        0           0  \n",
       "\n",
       "[5 rows x 21 columns]"
      ]
     },
     "execution_count": 16,
     "metadata": {},
     "output_type": "execute_result"
    }
   ],
   "source": [
    "sca_best.head()"
   ]
  },
  {
   "cell_type": "code",
   "execution_count": 17,
   "metadata": {},
   "outputs": [
    {
     "data": {
      "application/vnd.plotly.v1+json": {
       "config": {
        "plotlyServerURL": "https://plot.ly"
       },
       "data": [
        {
         "hovertemplate": "<b>%{hovertext}</b><br><br>Player=%{text}<br>x=%{x}<br>y=%{y}<br>GCA=%{marker.size}<extra></extra>",
         "hovertext": {
          "bdata": "AAAAAAAAAEA=",
          "dtype": "f8"
         },
         "legendgroup": "Luciano Acosta",
         "marker": {
          "color": "#636efa",
          "size": {
           "bdata": "Ag==",
           "dtype": "i1"
          },
          "sizemode": "area",
          "sizeref": 0.02,
          "symbol": "circle"
         },
         "mode": "markers+text",
         "name": "Luciano Acosta",
         "orientation": "v",
         "showlegend": true,
         "text": [
          "Luciano Acosta"
         ],
         "textfont": {
          "size": 10
         },
         "textposition": "middle center",
         "type": "scatter",
         "x": {
          "bdata": "PwbnY3A+DkA=",
          "dtype": "f8"
         },
         "xaxis": "x",
         "y": {
          "bdata": "dyVqV6J2FUA=",
          "dtype": "f8"
         },
         "yaxis": "y"
        },
        {
         "hovertemplate": "<b>%{hovertext}</b><br><br>Player=%{text}<br>x=%{x}<br>y=%{y}<br>GCA=%{marker.size}<extra></extra>",
         "hovertext": {
          "bdata": "AAAAAAAAAEA=",
          "dtype": "f8"
         },
         "legendgroup": "Miguel Almirón",
         "marker": {
          "color": "#EF553B",
          "size": {
           "bdata": "Ag==",
           "dtype": "i1"
          },
          "sizemode": "area",
          "sizeref": 0.02,
          "symbol": "circle"
         },
         "mode": "markers+text",
         "name": "Miguel Almirón",
         "orientation": "v",
         "showlegend": true,
         "text": [
          "Miguel Almirón"
         ],
         "textfont": {
          "size": 10
         },
         "textposition": "middle center",
         "type": "scatter",
         "x": {
          "bdata": "rxY3YX5XC0A=",
          "dtype": "f8"
         },
         "xaxis": "x",
         "y": {
          "bdata": "eLW4CfO7EkA=",
          "dtype": "f8"
         },
         "yaxis": "y"
        },
        {
         "hovertemplate": "<b>%{hovertext}</b><br><br>Player=%{text}<br>x=%{x}<br>y=%{y}<br>GCA=%{marker.size}<extra></extra>",
         "hovertext": {
          "bdata": "AAAAAAAACEA=",
          "dtype": "f8"
         },
         "legendgroup": "Antony",
         "marker": {
          "color": "#00cc96",
          "size": {
           "bdata": "Aw==",
           "dtype": "i1"
          },
          "sizemode": "area",
          "sizeref": 0.02,
          "symbol": "circle"
         },
         "mode": "markers+text",
         "name": "Antony",
         "orientation": "v",
         "showlegend": true,
         "text": [
          "Antony"
         ],
         "textfont": {
          "size": 10
         },
         "textposition": "middle center",
         "type": "scatter",
         "x": {
          "bdata": "2ktoL6G9BEA=",
          "dtype": "f8"
         },
         "xaxis": "x",
         "y": {
          "bdata": "IBYpA0+3BkA=",
          "dtype": "f8"
         },
         "yaxis": "y"
        },
        {
         "hovertemplate": "<b>%{hovertext}</b><br><br>Player=%{text}<br>x=%{x}<br>y=%{y}<br>GCA=%{marker.size}<extra></extra>",
         "hovertext": {
          "bdata": "AAAAAAAAAEA=",
          "dtype": "f8"
         },
         "legendgroup": "Cristian Arango",
         "marker": {
          "color": "#ab63fa",
          "size": {
           "bdata": "Ag==",
           "dtype": "i1"
          },
          "sizemode": "area",
          "sizeref": 0.02,
          "symbol": "circle"
         },
         "mode": "markers+text",
         "name": "Cristian Arango",
         "orientation": "v",
         "showlegend": true,
         "text": [
          "Cristian Arango"
         ],
         "textfont": {
          "size": 10
         },
         "textposition": "middle center",
         "type": "scatter",
         "x": {
          "bdata": "6KKLLrroBEA=",
          "dtype": "f8"
         },
         "xaxis": "x",
         "y": {
          "bdata": "////////DUA=",
          "dtype": "f8"
         },
         "yaxis": "y"
        },
        {
         "hovertemplate": "<b>%{hovertext}</b><br><br>Player=%{text}<br>x=%{x}<br>y=%{y}<br>GCA=%{marker.size}<extra></extra>",
         "hovertext": {
          "bdata": "AAAAAAAACEA=",
          "dtype": "f8"
         },
         "legendgroup": "Maximilian Arfsten",
         "marker": {
          "color": "#FFA15A",
          "size": {
           "bdata": "Aw==",
           "dtype": "i1"
          },
          "sizemode": "area",
          "sizeref": 0.02,
          "symbol": "circle"
         },
         "mode": "markers+text",
         "name": "Maximilian Arfsten",
         "orientation": "v",
         "showlegend": true,
         "text": [
          "Maximilian Arfsten"
         ],
         "textfont": {
          "size": 10
         },
         "textposition": "middle center",
         "type": "scatter",
         "x": {
          "bdata": "AAAAAAAAAUA=",
          "dtype": "f8"
         },
         "xaxis": "x",
         "y": {
          "bdata": "AAAAAAAAB0A=",
          "dtype": "f8"
         },
         "yaxis": "y"
        },
        {
         "hovertemplate": "<b>%{hovertext}</b><br><br>Player=%{text}<br>x=%{x}<br>y=%{y}<br>GCA=%{marker.size}<extra></extra>",
         "hovertext": {
          "bdata": "AAAAAAAAAAA=",
          "dtype": "f8"
         },
         "legendgroup": "Joshua Atencio",
         "marker": {
          "color": "#19d3f3",
          "size": {
           "bdata": "AA==",
           "dtype": "i1"
          },
          "sizemode": "area",
          "sizeref": 0.02,
          "symbol": "circle"
         },
         "mode": "markers+text",
         "name": "Joshua Atencio",
         "orientation": "v",
         "showlegend": true,
         "text": [
          "Joshua Atencio"
         ],
         "textfont": {
          "size": 10
         },
         "textposition": "middle center",
         "type": "scatter",
         "x": {
          "bdata": "ytkt/GpMBEA=",
          "dtype": "f8"
         },
         "xaxis": "x",
         "y": {
          "bdata": "9EDl7BZ+BUA=",
          "dtype": "f8"
         },
         "yaxis": "y"
        },
        {
         "hovertemplate": "<b>%{hovertext}</b><br><br>Player=%{text}<br>x=%{x}<br>y=%{y}<br>GCA=%{marker.size}<extra></extra>",
         "hovertext": {
          "bdata": "AAAAAAAAHEA=",
          "dtype": "f8"
         },
         "legendgroup": "Eduard Atuesta",
         "marker": {
          "color": "#FF6692",
          "size": {
           "bdata": "Bw==",
           "dtype": "i1"
          },
          "sizemode": "area",
          "sizeref": 0.02,
          "symbol": "circle"
         },
         "mode": "markers+text",
         "name": "Eduard Atuesta",
         "orientation": "v",
         "showlegend": true,
         "text": [
          "Eduard Atuesta"
         ],
         "textfont": {
          "size": 10
         },
         "textposition": "middle center",
         "type": "scatter",
         "x": {
          "bdata": "c08jLPc0CkA=",
          "dtype": "f8"
         },
         "xaxis": "x",
         "y": {
          "bdata": "WO5phOWeEkA=",
          "dtype": "f8"
         },
         "yaxis": "y"
        },
        {
         "hovertemplate": "<b>%{hovertext}</b><br><br>Player=%{text}<br>x=%{x}<br>y=%{y}<br>GCA=%{marker.size}<extra></extra>",
         "hovertext": {
          "bdata": "AAAAAAAAEEA=",
          "dtype": "f8"
         },
         "legendgroup": "Cole Bassett",
         "marker": {
          "color": "#B6E880",
          "size": {
           "bdata": "BA==",
           "dtype": "i1"
          },
          "sizemode": "area",
          "sizeref": 0.02,
          "symbol": "circle"
         },
         "mode": "markers+text",
         "name": "Cole Bassett",
         "orientation": "v",
         "showlegend": true,
         "text": [
          "Cole Bassett"
         ],
         "textfont": {
          "size": 10
         },
         "textposition": "middle center",
         "type": "scatter",
         "x": {
          "bdata": "pqWlpaWlBUA=",
          "dtype": "f8"
         },
         "xaxis": "x",
         "y": {
          "bdata": "eHh4eHh4CEA=",
          "dtype": "f8"
         },
         "yaxis": "y"
        },
        {
         "hovertemplate": "<b>%{hovertext}</b><br><br>Player=%{text}<br>x=%{x}<br>y=%{y}<br>GCA=%{marker.size}<extra></extra>",
         "hovertext": {
          "bdata": "AAAAAAAA8D8=",
          "dtype": "f8"
         },
         "legendgroup": "Sebastian Berhalter",
         "marker": {
          "color": "#FF97FF",
          "size": {
           "bdata": "AQ==",
           "dtype": "i1"
          },
          "sizemode": "area",
          "sizeref": 0.02,
          "symbol": "circle"
         },
         "mode": "markers+text",
         "name": "Sebastian Berhalter",
         "orientation": "v",
         "showlegend": true,
         "text": [
          "Sebastian Berhalter"
         ],
         "textfont": {
          "size": 10
         },
         "textposition": "middle center",
         "type": "scatter",
         "x": {
          "bdata": "IiIiIiIiAkA=",
          "dtype": "f8"
         },
         "xaxis": "x",
         "y": {
          "bdata": "mpmZmZmZEUA=",
          "dtype": "f8"
         },
         "yaxis": "y"
        },
        {
         "hovertemplate": "<b>%{hovertext}</b><br><br>Player=%{text}<br>x=%{x}<br>y=%{y}<br>GCA=%{marker.size}<extra></extra>",
         "hovertext": {
          "bdata": "AAAAAAAAHEA=",
          "dtype": "f8"
         },
         "legendgroup": "Pep Biel",
         "marker": {
          "color": "#FECB52",
          "size": {
           "bdata": "Bw==",
           "dtype": "i1"
          },
          "sizemode": "area",
          "sizeref": 0.02,
          "symbol": "circle"
         },
         "mode": "markers+text",
         "name": "Pep Biel",
         "orientation": "v",
         "showlegend": true,
         "text": [
          "Pep Biel"
         ],
         "textfont": {
          "size": 10
         },
         "textposition": "middle center",
         "type": "scatter",
         "x": {
          "bdata": "B2mQBmmQBkA=",
          "dtype": "f8"
         },
         "xaxis": "x",
         "y": {
          "bdata": "fcu3fMu3DEA=",
          "dtype": "f8"
         },
         "yaxis": "y"
        },
        {
         "hovertemplate": "<b>%{hovertext}</b><br><br>Player=%{text}<br>x=%{x}<br>y=%{y}<br>GCA=%{marker.size}<extra></extra>",
         "hovertext": {
          "bdata": "AAAAAAAACEA=",
          "dtype": "f8"
         },
         "legendgroup": "Pavel Bucha",
         "marker": {
          "color": "#636efa",
          "size": {
           "bdata": "Aw==",
           "dtype": "i1"
          },
          "sizemode": "area",
          "sizeref": 0.02,
          "symbol": "circle"
         },
         "mode": "markers+text",
         "name": "Pavel Bucha",
         "orientation": "v",
         "showlegend": true,
         "text": [
          "Pavel Bucha"
         ],
         "textfont": {
          "size": 10
         },
         "textposition": "middle center",
         "type": "scatter",
         "x": {
          "bdata": "ep7neZ7nBUA=",
          "dtype": "f8"
         },
         "xaxis": "x",
         "y": {
          "bdata": "53me53meC0A=",
          "dtype": "f8"
         },
         "yaxis": "y"
        },
        {
         "hovertemplate": "<b>%{hovertext}</b><br><br>Player=%{text}<br>x=%{x}<br>y=%{y}<br>GCA=%{marker.size}<extra></extra>",
         "hovertext": {
          "bdata": "AAAAAAAAAEA=",
          "dtype": "f8"
         },
         "legendgroup": "Osman Bukari",
         "marker": {
          "color": "#EF553B",
          "size": {
           "bdata": "Ag==",
           "dtype": "i1"
          },
          "sizemode": "area",
          "sizeref": 0.02,
          "symbol": "circle"
         },
         "mode": "markers+text",
         "name": "Osman Bukari",
         "orientation": "v",
         "showlegend": true,
         "text": [
          "Osman Bukari"
         ],
         "textfont": {
          "size": 10
         },
         "textposition": "middle center",
         "type": "scatter",
         "x": {
          "bdata": "q6qqqqqqCkA=",
          "dtype": "f8"
         },
         "xaxis": "x",
         "y": {
          "bdata": "lE022WSTEUA=",
          "dtype": "f8"
         },
         "yaxis": "y"
        },
        {
         "hovertemplate": "<b>%{hovertext}</b><br><br>Player=%{text}<br>x=%{x}<br>y=%{y}<br>GCA=%{marker.size}<extra></extra>",
         "hovertext": {
          "bdata": "AAAAAAAACEA=",
          "dtype": "f8"
         },
         "legendgroup": "Dylan Chambost",
         "marker": {
          "color": "#00cc96",
          "size": {
           "bdata": "Aw==",
           "dtype": "i1"
          },
          "sizemode": "area",
          "sizeref": 0.02,
          "symbol": "circle"
         },
         "mode": "markers+text",
         "name": "Dylan Chambost",
         "orientation": "v",
         "showlegend": true,
         "text": [
          "Dylan Chambost"
         ],
         "textfont": {
          "size": 10
         },
         "textposition": "middle center",
         "type": "scatter",
         "x": {
          "bdata": "6KKLLrro/j8=",
          "dtype": "f8"
         },
         "xaxis": "x",
         "y": {
          "bdata": "AAAAAAAABEA=",
          "dtype": "f8"
         },
         "yaxis": "y"
        },
        {
         "hovertemplate": "<b>%{hovertext}</b><br><br>Player=%{text}<br>x=%{x}<br>y=%{y}<br>GCA=%{marker.size}<extra></extra>",
         "hovertext": {
          "bdata": "AAAAAAAAFEA=",
          "dtype": "f8"
         },
         "legendgroup": "David Costa",
         "marker": {
          "color": "#ab63fa",
          "size": {
           "bdata": "BQ==",
           "dtype": "i1"
          },
          "sizemode": "area",
          "sizeref": 0.02,
          "symbol": "circle"
         },
         "mode": "markers+text",
         "name": "David Costa",
         "orientation": "v",
         "showlegend": true,
         "text": [
          "David Costa"
         ],
         "textfont": {
          "size": 10
         },
         "textposition": "middle center",
         "type": "scatter",
         "x": {
          "bdata": "t23btm3bBkA=",
          "dtype": "f8"
         },
         "xaxis": "x",
         "y": {
          "bdata": "DMMwDMMwEEA=",
          "dtype": "f8"
         },
         "yaxis": "y"
        },
        {
         "hovertemplate": "<b>%{hovertext}</b><br><br>Player=%{text}<br>x=%{x}<br>y=%{y}<br>GCA=%{marker.size}<extra></extra>",
         "hovertext": {
          "bdata": "AAAAAAAAEEA=",
          "dtype": "f8"
         },
         "legendgroup": "Evander",
         "marker": {
          "color": "#FFA15A",
          "size": {
           "bdata": "BA==",
           "dtype": "i1"
          },
          "sizemode": "area",
          "sizeref": 0.02,
          "symbol": "circle"
         },
         "mode": "markers+text",
         "name": "Evander",
         "orientation": "v",
         "showlegend": true,
         "text": [
          "Evander"
         ],
         "textfont": {
          "size": 10
         },
         "textposition": "middle center",
         "type": "scatter",
         "x": {
          "bdata": "VVVVVVVVCUA=",
          "dtype": "f8"
         },
         "xaxis": "x",
         "y": {
          "bdata": "VVVVVVVVFUA=",
          "dtype": "f8"
         },
         "yaxis": "y"
        },
        {
         "hovertemplate": "<b>%{hovertext}</b><br><br>Player=%{text}<br>x=%{x}<br>y=%{y}<br>GCA=%{marker.size}<extra></extra>",
         "hovertext": {
          "bdata": "AAAAAAAAAAA=",
          "dtype": "f8"
         },
         "legendgroup": "Diego Fagúndez",
         "marker": {
          "color": "#19d3f3",
          "size": {
           "bdata": "AA==",
           "dtype": "i1"
          },
          "sizemode": "area",
          "sizeref": 0.02,
          "symbol": "circle"
         },
         "mode": "markers+text",
         "name": "Diego Fagúndez",
         "orientation": "v",
         "showlegend": true,
         "text": [
          "Diego Fagúndez"
         ],
         "textfont": {
          "size": 10
         },
         "textposition": "middle center",
         "type": "scatter",
         "x": {
          "bdata": "4Y2mzq89BEA=",
          "dtype": "f8"
         },
         "xaxis": "x",
         "y": {
          "bdata": "D7msGCjhDUA=",
          "dtype": "f8"
         },
         "yaxis": "y"
        },
        {
         "hovertemplate": "<b>%{hovertext}</b><br><br>Player=%{text}<br>x=%{x}<br>y=%{y}<br>GCA=%{marker.size}<extra></extra>",
         "hovertext": {
          "bdata": "AAAAAAAAAEA=",
          "dtype": "f8"
         },
         "legendgroup": "Mohamed Farsi",
         "marker": {
          "color": "#FF6692",
          "size": {
           "bdata": "Ag==",
           "dtype": "i1"
          },
          "sizemode": "area",
          "sizeref": 0.02,
          "symbol": "circle"
         },
         "mode": "markers+text",
         "name": "Mohamed Farsi",
         "orientation": "v",
         "showlegend": true,
         "text": [
          "Mohamed Farsi"
         ],
         "textfont": {
          "size": 10
         },
         "textposition": "middle center",
         "type": "scatter",
         "x": {
          "bdata": "OzDXDsy1A0A=",
          "dtype": "f8"
         },
         "xaxis": "x",
         "y": {
          "bdata": "YK4dmGsHBkA=",
          "dtype": "f8"
         },
         "yaxis": "y"
        },
        {
         "hovertemplate": "<b>%{hovertext}</b><br><br>Player=%{text}<br>x=%{x}<br>y=%{y}<br>GCA=%{marker.size}<extra></extra>",
         "hovertext": {
          "bdata": "AAAAAAAACEA=",
          "dtype": "f8"
         },
         "legendgroup": "Jesús Ferreira",
         "marker": {
          "color": "#B6E880",
          "size": {
           "bdata": "Aw==",
           "dtype": "i1"
          },
          "sizemode": "area",
          "sizeref": 0.02,
          "symbol": "circle"
         },
         "mode": "markers+text",
         "name": "Jesús Ferreira",
         "orientation": "v",
         "showlegend": true,
         "text": [
          "Jesús Ferreira"
         ],
         "textfont": {
          "size": 10
         },
         "textposition": "middle center",
         "type": "scatter",
         "x": {
          "bdata": "dmIndmInBkA=",
          "dtype": "f8"
         },
         "xaxis": "x",
         "y": {
          "bdata": "2Ymd2ImdCEA=",
          "dtype": "f8"
         },
         "yaxis": "y"
        },
        {
         "hovertemplate": "<b>%{hovertext}</b><br><br>Player=%{text}<br>x=%{x}<br>y=%{y}<br>GCA=%{marker.size}<extra></extra>",
         "hovertext": {
          "bdata": "AAAAAAAAEEA=",
          "dtype": "f8"
         },
         "legendgroup": "Emil Forsberg",
         "marker": {
          "color": "#FF97FF",
          "size": {
           "bdata": "BA==",
           "dtype": "i1"
          },
          "sizemode": "area",
          "sizeref": 0.02,
          "symbol": "circle"
         },
         "mode": "markers+text",
         "name": "Emil Forsberg",
         "orientation": "v",
         "showlegend": true,
         "text": [
          "Emil Forsberg"
         ],
         "textfont": {
          "size": 10
         },
         "textposition": "middle center",
         "type": "scatter",
         "x": {
          "bdata": "LnCBC1zgAkA=",
          "dtype": "f8"
         },
         "xaxis": "x",
         "y": {
          "bdata": "2tSmNrWpDUA=",
          "dtype": "f8"
         },
         "yaxis": "y"
        },
        {
         "hovertemplate": "<b>%{hovertext}</b><br><br>Player=%{text}<br>x=%{x}<br>y=%{y}<br>GCA=%{marker.size}<extra></extra>",
         "hovertext": {
          "bdata": "AAAAAAAAIEA=",
          "dtype": "f8"
         },
         "legendgroup": "Manu García",
         "marker": {
          "color": "#FECB52",
          "size": {
           "bdata": "CA==",
           "dtype": "i1"
          },
          "sizemode": "area",
          "sizeref": 0.02,
          "symbol": "circle"
         },
         "mode": "markers+text",
         "name": "Manu García",
         "orientation": "v",
         "showlegend": true,
         "text": [
          "Manu García"
         ],
         "textfont": {
          "size": 10
         },
         "textposition": "middle center",
         "type": "scatter",
         "x": {
          "bdata": "xMPDw8PDA0A=",
          "dtype": "f8"
         },
         "xaxis": "x",
         "y": {
          "bdata": "aWlpaWlpEUA=",
          "dtype": "f8"
         },
         "yaxis": "y"
        },
        {
         "hovertemplate": "<b>%{hovertext}</b><br><br>Player=%{text}<br>x=%{x}<br>y=%{y}<br>GCA=%{marker.size}<extra></extra>",
         "hovertext": {
          "bdata": "AAAAAAAACEA=",
          "dtype": "f8"
         },
         "legendgroup": "Dániel Gazdag",
         "marker": {
          "color": "#636efa",
          "size": {
           "bdata": "Aw==",
           "dtype": "i1"
          },
          "sizemode": "area",
          "sizeref": 0.02,
          "symbol": "circle"
         },
         "mode": "markers+text",
         "name": "Dániel Gazdag",
         "orientation": "v",
         "showlegend": true,
         "text": [
          "Dániel Gazdag"
         ],
         "textfont": {
          "size": 10
         },
         "textposition": "middle center",
         "type": "scatter",
         "x": {
          "bdata": "o4suuuiiC0A=",
          "dtype": "f8"
         },
         "xaxis": "x",
         "y": {
          "bdata": "AAAAAAAAEEA=",
          "dtype": "f8"
         },
         "yaxis": "y"
        },
        {
         "hovertemplate": "<b>%{hovertext}</b><br><br>Player=%{text}<br>x=%{x}<br>y=%{y}<br>GCA=%{marker.size}<extra></extra>",
         "hovertext": {
          "bdata": "AAAAAAAACEA=",
          "dtype": "f8"
         },
         "legendgroup": "Carles Gil",
         "marker": {
          "color": "#EF553B",
          "size": {
           "bdata": "Aw==",
           "dtype": "i1"
          },
          "sizemode": "area",
          "sizeref": 0.02,
          "symbol": "circle"
         },
         "mode": "markers+text",
         "name": "Carles Gil",
         "orientation": "v",
         "showlegend": true,
         "text": [
          "Carles Gil"
         ],
         "textfont": {
          "size": 10
         },
         "textposition": "middle center",
         "type": "scatter",
         "x": {
          "bdata": "AAAAAAAACEA=",
          "dtype": "f8"
         },
         "xaxis": "x",
         "y": {
          "bdata": "AAAAAAAAFUA=",
          "dtype": "f8"
         },
         "yaxis": "y"
        },
        {
         "hovertemplate": "<b>%{hovertext}</b><br><br>Player=%{text}<br>x=%{x}<br>y=%{y}<br>GCA=%{marker.size}<extra></extra>",
         "hovertext": {
          "bdata": "AAAAAAAAEEA=",
          "dtype": "f8"
         },
         "legendgroup": "Diogo Gonçalves",
         "marker": {
          "color": "#00cc96",
          "size": {
           "bdata": "BA==",
           "dtype": "i1"
          },
          "sizemode": "area",
          "sizeref": 0.02,
          "symbol": "circle"
         },
         "mode": "markers+text",
         "name": "Diogo Gonçalves",
         "orientation": "v",
         "showlegend": true,
         "text": [
          "Diogo Gonçalves"
         ],
         "textfont": {
          "size": 10
         },
         "textposition": "middle center",
         "type": "scatter",
         "x": {
          "bdata": "FSpUqFChAkA=",
          "dtype": "f8"
         },
         "xaxis": "x",
         "y": {
          "bdata": "bdmyZcuWDUA=",
          "dtype": "f8"
         },
         "yaxis": "y"
        },
        {
         "hovertemplate": "<b>%{hovertext}</b><br><br>Player=%{text}<br>x=%{x}<br>y=%{y}<br>GCA=%{marker.size}<extra></extra>",
         "hovertext": {
          "bdata": "AAAAAAAACEA=",
          "dtype": "f8"
         },
         "legendgroup": "Ian Harkes",
         "marker": {
          "color": "#ab63fa",
          "size": {
           "bdata": "Aw==",
           "dtype": "i1"
          },
          "sizemode": "area",
          "sizeref": 0.02,
          "symbol": "circle"
         },
         "mode": "markers+text",
         "name": "Ian Harkes",
         "orientation": "v",
         "showlegend": true,
         "text": [
          "Ian Harkes"
         ],
         "textfont": {
          "size": 10
         },
         "textposition": "middle center",
         "type": "scatter",
         "x": {
          "bdata": "r6G8hvIaBkA=",
          "dtype": "f8"
         },
         "xaxis": "x",
         "y": {
          "bdata": "h/IaymsoB0A=",
          "dtype": "f8"
         },
         "yaxis": "y"
        },
        {
         "hovertemplate": "<b>%{hovertext}</b><br><br>Player=%{text}<br>x=%{x}<br>y=%{y}<br>GCA=%{marker.size}<extra></extra>",
         "hovertext": {
          "bdata": "AAAAAAAA8D8=",
          "dtype": "f8"
         },
         "legendgroup": "Marcel Hartel",
         "marker": {
          "color": "#FFA15A",
          "size": {
           "bdata": "AQ==",
           "dtype": "i1"
          },
          "sizemode": "area",
          "sizeref": 0.02,
          "symbol": "circle"
         },
         "mode": "markers+text",
         "name": "Marcel Hartel",
         "orientation": "v",
         "showlegend": true,
         "text": [
          "Marcel Hartel"
         ],
         "textfont": {
          "size": 10
         },
         "textposition": "middle center",
         "type": "scatter",
         "x": {
          "bdata": "LnCBC1zgAkA=",
          "dtype": "f8"
         },
         "xaxis": "x",
         "y": {
          "bdata": "ilCEIhShEEA=",
          "dtype": "f8"
         },
         "yaxis": "y"
        },
        {
         "hovertemplate": "<b>%{hovertext}</b><br><br>Player=%{text}<br>x=%{x}<br>y=%{y}<br>GCA=%{marker.size}<extra></extra>",
         "hovertext": {
          "bdata": "AAAAAAAAAAA=",
          "dtype": "f8"
         },
         "legendgroup": "Hosei Kijima",
         "marker": {
          "color": "#19d3f3",
          "size": {
           "bdata": "AA==",
           "dtype": "i1"
          },
          "sizemode": "area",
          "sizeref": 0.02,
          "symbol": "circle"
         },
         "mode": "markers+text",
         "name": "Hosei Kijima",
         "orientation": "v",
         "showlegend": true,
         "text": [
          "Hosei Kijima"
         ],
         "textfont": {
          "size": 10
         },
         "textposition": "middle center",
         "type": "scatter",
         "x": {
          "bdata": "njt37ty5A0A=",
          "dtype": "f8"
         },
         "xaxis": "x",
         "y": {
          "bdata": "r169evXqBUA=",
          "dtype": "f8"
         },
         "yaxis": "y"
        },
        {
         "hovertemplate": "<b>%{hovertext}</b><br><br>Player=%{text}<br>x=%{x}<br>y=%{y}<br>GCA=%{marker.size}<extra></extra>",
         "hovertext": {
          "bdata": "AAAAAAAAFEA=",
          "dtype": "f8"
         },
         "legendgroup": "Beau Leroux",
         "marker": {
          "color": "#FF6692",
          "size": {
           "bdata": "BQ==",
           "dtype": "i1"
          },
          "sizemode": "area",
          "sizeref": 0.02,
          "symbol": "circle"
         },
         "mode": "markers+text",
         "name": "Beau Leroux",
         "orientation": "v",
         "showlegend": true,
         "text": [
          "Beau Leroux"
         ],
         "textfont": {
          "size": 10
         },
         "textposition": "middle center",
         "type": "scatter",
         "x": {
          "bdata": "hSxkIQtZCEA=",
          "dtype": "f8"
         },
         "xaxis": "x",
         "y": {
          "bdata": "4meU+BklDkA=",
          "dtype": "f8"
         },
         "yaxis": "y"
        },
        {
         "hovertemplate": "<b>%{hovertext}</b><br><br>Player=%{text}<br>x=%{x}<br>y=%{y}<br>GCA=%{marker.size}<extra></extra>",
         "hovertext": {
          "bdata": "AAAAAAAAAEA=",
          "dtype": "f8"
         },
         "legendgroup": "Robin Lod",
         "marker": {
          "color": "#B6E880",
          "size": {
           "bdata": "Ag==",
           "dtype": "i1"
          },
          "sizemode": "area",
          "sizeref": 0.02,
          "symbol": "circle"
         },
         "mode": "markers+text",
         "name": "Robin Lod",
         "orientation": "v",
         "showlegend": true,
         "text": [
          "Robin Lod"
         ],
         "textfont": {
          "size": 10
         },
         "textposition": "middle center",
         "type": "scatter",
         "x": {
          "bdata": "ytkt/GpMBEA=",
          "dtype": "f8"
         },
         "xaxis": "x",
         "y": {
          "bdata": "cnYLvxoTCUA=",
          "dtype": "f8"
         },
         "yaxis": "y"
        },
        {
         "hovertemplate": "<b>%{hovertext}</b><br><br>Player=%{text}<br>x=%{x}<br>y=%{y}<br>GCA=%{marker.size}<extra></extra>",
         "hovertext": {
          "bdata": "AAAAAAAAAAA=",
          "dtype": "f8"
         },
         "legendgroup": "Jovan Lukić",
         "marker": {
          "color": "#FF97FF",
          "size": {
           "bdata": "AA==",
           "dtype": "i1"
          },
          "sizemode": "area",
          "sizeref": 0.02,
          "symbol": "circle"
         },
         "mode": "markers+text",
         "name": "Jovan Lukić",
         "orientation": "v",
         "showlegend": true,
         "text": [
          "Jovan Lukić"
         ],
         "textfont": {
          "size": 10
         },
         "textposition": "middle center",
         "type": "scatter",
         "x": {
          "bdata": "lYGnW/PDAkA=",
          "dtype": "f8"
         },
         "xaxis": "x",
         "y": {
          "bdata": "/bBIGXi6BUA=",
          "dtype": "f8"
         },
         "yaxis": "y"
        },
        {
         "hovertemplate": "<b>%{hovertext}</b><br><br>Player=%{text}<br>x=%{x}<br>y=%{y}<br>GCA=%{marker.size}<extra></extra>",
         "hovertext": {
          "bdata": "AAAAAAAAAEA=",
          "dtype": "f8"
         },
         "legendgroup": "Diego Luna",
         "marker": {
          "color": "#FECB52",
          "size": {
           "bdata": "Ag==",
           "dtype": "i1"
          },
          "sizemode": "area",
          "sizeref": 0.02,
          "symbol": "circle"
         },
         "mode": "markers+text",
         "name": "Diego Luna",
         "orientation": "v",
         "showlegend": true,
         "text": [
          "Diego Luna"
         ],
         "textfont": {
          "size": 10
         },
         "textposition": "middle center",
         "type": "scatter",
         "x": {
          "bdata": "W7Zs2bJlC0A=",
          "dtype": "f8"
         },
         "xaxis": "x",
         "y": {
          "bdata": "BAcOHDhwEEA=",
          "dtype": "f8"
         },
         "yaxis": "y"
        },
        {
         "hovertemplate": "<b>%{hovertext}</b><br><br>Player=%{text}<br>x=%{x}<br>y=%{y}<br>GCA=%{marker.size}<extra></extra>",
         "hovertext": {
          "bdata": "AAAAAAAAEEA=",
          "dtype": "f8"
         },
         "legendgroup": "Jack McGlynn",
         "marker": {
          "color": "#636efa",
          "size": {
           "bdata": "BA==",
           "dtype": "i1"
          },
          "sizemode": "area",
          "sizeref": 0.02,
          "symbol": "circle"
         },
         "mode": "markers+text",
         "name": "Jack McGlynn",
         "orientation": "v",
         "showlegend": true,
         "text": [
          "Jack McGlynn"
         ],
         "textfont": {
          "size": 10
         },
         "textposition": "middle center",
         "type": "scatter",
         "x": {
          "bdata": "B2mQBmmQBkA=",
          "dtype": "f8"
         },
         "xaxis": "x",
         "y": {
          "bdata": "zLd8y7d8E0A=",
          "dtype": "f8"
         },
         "yaxis": "y"
        },
        {
         "hovertemplate": "<b>%{hovertext}</b><br><br>Player=%{text}<br>x=%{x}<br>y=%{y}<br>GCA=%{marker.size}<extra></extra>",
         "hovertext": {
          "bdata": "AAAAAAAACEA=",
          "dtype": "f8"
         },
         "legendgroup": "Lionel Messi",
         "marker": {
          "color": "#EF553B",
          "size": {
           "bdata": "Aw==",
           "dtype": "i1"
          },
          "sizemode": "area",
          "sizeref": 0.02,
          "symbol": "circle"
         },
         "mode": "markers+text",
         "name": "Lionel Messi",
         "orientation": "v",
         "showlegend": true,
         "text": [
          "Lionel Messi"
         ],
         "textfont": {
          "size": 10
         },
         "textposition": "middle center",
         "type": "scatter",
         "x": {
          "bdata": "qqqqqqqqCkA=",
          "dtype": "f8"
         },
         "xaxis": "x",
         "y": {
          "bdata": "hPYS2ktoG0A=",
          "dtype": "f8"
         },
         "yaxis": "y"
        },
        {
         "hovertemplate": "<b>%{hovertext}</b><br><br>Player=%{text}<br>x=%{x}<br>y=%{y}<br>GCA=%{marker.size}<extra></extra>",
         "hovertext": {
          "bdata": "AAAAAAAAGEA=",
          "dtype": "f8"
         },
         "legendgroup": "Djordje Mihailovic",
         "marker": {
          "color": "#00cc96",
          "size": {
           "bdata": "Bg==",
           "dtype": "i1"
          },
          "sizemode": "area",
          "sizeref": 0.02,
          "symbol": "circle"
         },
         "mode": "markers+text",
         "name": "Djordje Mihailovic",
         "orientation": "v",
         "showlegend": true,
         "text": [
          "Djordje Mihailovic"
         ],
         "textfont": {
          "size": 10
         },
         "textposition": "middle center",
         "type": "scatter",
         "x": {
          "bdata": "dNFFF110CUA=",
          "dtype": "f8"
         },
         "xaxis": "x",
         "y": {
          "bdata": "iy666KKLE0A=",
          "dtype": "f8"
         },
         "yaxis": "y"
        },
        {
         "hovertemplate": "<b>%{hovertext}</b><br><br>Player=%{text}<br>x=%{x}<br>y=%{y}<br>GCA=%{marker.size}<extra></extra>",
         "hovertext": {
          "bdata": "AAAAAAAA8D8=",
          "dtype": "f8"
         },
         "legendgroup": "Aleksei Miranchuk",
         "marker": {
          "color": "#ab63fa",
          "size": {
           "bdata": "AQ==",
           "dtype": "i1"
          },
          "sizemode": "area",
          "sizeref": 0.02,
          "symbol": "circle"
         },
         "mode": "markers+text",
         "name": "Aleksei Miranchuk",
         "orientation": "v",
         "showlegend": true,
         "text": [
          "Aleksei Miranchuk"
         ],
         "textfont": {
          "size": 10
         },
         "textposition": "middle center",
         "type": "scatter",
         "x": {
          "bdata": "Q3sJ7SW0B0A=",
          "dtype": "f8"
         },
         "xaxis": "x",
         "y": {
          "bdata": "T7fmh0XKEEA=",
          "dtype": "f8"
         },
         "yaxis": "y"
        },
        {
         "hovertemplate": "<b>%{hovertext}</b><br><br>Player=%{text}<br>x=%{x}<br>y=%{y}<br>GCA=%{marker.size}<extra></extra>",
         "hovertext": {
          "bdata": "AAAAAAAAAEA=",
          "dtype": "f8"
         },
         "legendgroup": "Maximiliano Moralez",
         "marker": {
          "color": "#FFA15A",
          "size": {
           "bdata": "Ag==",
           "dtype": "i1"
          },
          "sizemode": "area",
          "sizeref": 0.02,
          "symbol": "circle"
         },
         "mode": "markers+text",
         "name": "Maximiliano Moralez",
         "orientation": "v",
         "showlegend": true,
         "text": [
          "Maximiliano Moralez"
         ],
         "textfont": {
          "size": 10
         },
         "textposition": "middle center",
         "type": "scatter",
         "x": {
          "bdata": "gRLeaOr8CkA=",
          "dtype": "f8"
         },
         "xaxis": "x",
         "y": {
          "bdata": "mjq/9pDLEkA=",
          "dtype": "f8"
         },
         "yaxis": "y"
        },
        {
         "hovertemplate": "<b>%{hovertext}</b><br><br>Player=%{text}<br>x=%{x}<br>y=%{y}<br>GCA=%{marker.size}<extra></extra>",
         "hovertext": {
          "bdata": "AAAAAAAACEA=",
          "dtype": "f8"
         },
         "legendgroup": "Hany Mukhtar",
         "marker": {
          "color": "#19d3f3",
          "size": {
           "bdata": "Aw==",
           "dtype": "i1"
          },
          "sizemode": "area",
          "sizeref": 0.02,
          "symbol": "circle"
         },
         "mode": "markers+text",
         "name": "Hany Mukhtar",
         "orientation": "v",
         "showlegend": true,
         "text": [
          "Hany Mukhtar"
         ],
         "textfont": {
          "size": 10
         },
         "textposition": "middle center",
         "type": "scatter",
         "x": {
          "bdata": "dNFFF110CUA=",
          "dtype": "f8"
         },
         "xaxis": "x",
         "y": {
          "bdata": "XXTRRRddFUA=",
          "dtype": "f8"
         },
         "yaxis": "y"
        },
        {
         "hovertemplate": "<b>%{hovertext}</b><br><br>Player=%{text}<br>x=%{x}<br>y=%{y}<br>GCA=%{marker.size}<extra></extra>",
         "hovertext": {
          "bdata": "AAAAAAAAAAA=",
          "dtype": "f8"
         },
         "legendgroup": "Braian Ojeda",
         "marker": {
          "color": "#FF6692",
          "size": {
           "bdata": "AA==",
           "dtype": "i1"
          },
          "sizemode": "area",
          "sizeref": 0.02,
          "symbol": "circle"
         },
         "mode": "markers+text",
         "name": "Braian Ojeda",
         "orientation": "v",
         "showlegend": true,
         "text": [
          "Braian Ojeda"
         ],
         "textfont": {
          "size": 10
         },
         "textposition": "middle center",
         "type": "scatter",
         "x": {
          "bdata": "AAAAAAAAAUA=",
          "dtype": "f8"
         },
         "xaxis": "x",
         "y": {
          "bdata": "AAAAAAAABUA=",
          "dtype": "f8"
         },
         "yaxis": "y"
        },
        {
         "hovertemplate": "<b>%{hovertext}</b><br><br>Player=%{text}<br>x=%{x}<br>y=%{y}<br>GCA=%{marker.size}<extra></extra>",
         "hovertext": {
          "bdata": "AAAAAAAAFEA=",
          "dtype": "f8"
         },
         "legendgroup": "Martín Ojeda",
         "marker": {
          "color": "#B6E880",
          "size": {
           "bdata": "BQ==",
           "dtype": "i1"
          },
          "sizemode": "area",
          "sizeref": 0.02,
          "symbol": "circle"
         },
         "mode": "markers+text",
         "name": "Martín Ojeda",
         "orientation": "v",
         "showlegend": true,
         "text": [
          "Martín Ojeda"
         ],
         "textfont": {
          "size": 10
         },
         "textposition": "middle center",
         "type": "scatter",
         "x": {
          "bdata": "T7fmh0XKEEA=",
          "dtype": "f8"
         },
         "xaxis": "x",
         "y": {
          "bdata": "1K35YZEyGEA=",
          "dtype": "f8"
         },
         "yaxis": "y"
        },
        {
         "hovertemplate": "<b>%{hovertext}</b><br><br>Player=%{text}<br>x=%{x}<br>y=%{y}<br>GCA=%{marker.size}<extra></extra>",
         "hovertext": {
          "bdata": "AAAAAAAA8D8=",
          "dtype": "f8"
         },
         "legendgroup": "Keaton Parks",
         "marker": {
          "color": "#FF97FF",
          "size": {
           "bdata": "AQ==",
           "dtype": "i1"
          },
          "sizemode": "area",
          "sizeref": 0.02,
          "symbol": "circle"
         },
         "mode": "markers+text",
         "name": "Keaton Parks",
         "orientation": "v",
         "showlegend": true,
         "text": [
          "Keaton Parks"
         ],
         "textfont": {
          "size": 10
         },
         "textposition": "middle center",
         "type": "scatter",
         "x": {
          "bdata": "NUiDNEiDBEA=",
          "dtype": "f8"
         },
         "xaxis": "x",
         "y": {
          "bdata": "FDuxEzuxC0A=",
          "dtype": "f8"
         },
         "yaxis": "y"
        },
        {
         "hovertemplate": "<b>%{hovertext}</b><br><br>Player=%{text}<br>x=%{x}<br>y=%{y}<br>GCA=%{marker.size}<extra></extra>",
         "hovertext": {
          "bdata": "AAAAAAAACEA=",
          "dtype": "f8"
         },
         "legendgroup": "Marco Pašalić",
         "marker": {
          "color": "#FECB52",
          "size": {
           "bdata": "Aw==",
           "dtype": "i1"
          },
          "sizemode": "area",
          "sizeref": 0.02,
          "symbol": "circle"
         },
         "mode": "markers+text",
         "name": "Marco Pašalić",
         "orientation": "v",
         "showlegend": true,
         "text": [
          "Marco Pašalić"
         ],
         "textfont": {
          "size": 10
         },
         "textposition": "middle center",
         "type": "scatter",
         "x": {
          "bdata": "Ka+hvIbyAkA=",
          "dtype": "f8"
         },
         "xaxis": "x",
         "y": {
          "bdata": "h/IaymsoB0A=",
          "dtype": "f8"
         },
         "yaxis": "y"
        },
        {
         "hovertemplate": "<b>%{hovertext}</b><br><br>Player=%{text}<br>x=%{x}<br>y=%{y}<br>GCA=%{marker.size}<extra></extra>",
         "hovertext": {
          "bdata": "AAAAAAAAAEA=",
          "dtype": "f8"
         },
         "legendgroup": "Daniel Pereira",
         "marker": {
          "color": "#636efa",
          "size": {
           "bdata": "Ag==",
           "dtype": "i1"
          },
          "sizemode": "area",
          "sizeref": 0.02,
          "symbol": "circle"
         },
         "mode": "markers+text",
         "name": "Daniel Pereira",
         "orientation": "v",
         "showlegend": true,
         "text": [
          "Daniel Pereira"
         ],
         "textfont": {
          "size": 10
         },
         "textposition": "middle center",
         "type": "scatter",
         "x": {
          "bdata": "lYGnW/PDAkA=",
          "dtype": "f8"
         },
         "xaxis": "x",
         "y": {
          "bdata": "ZeDp1vywCEA=",
          "dtype": "f8"
         },
         "yaxis": "y"
        },
        {
         "hovertemplate": "<b>%{hovertext}</b><br><br>Player=%{text}<br>x=%{x}<br>y=%{y}<br>GCA=%{marker.size}<extra></extra>",
         "hovertext": {
          "bdata": "AAAAAAAAEEA=",
          "dtype": "f8"
         },
         "legendgroup": "Joaquín Pereyra",
         "marker": {
          "color": "#EF553B",
          "size": {
           "bdata": "BA==",
           "dtype": "i1"
          },
          "sizemode": "area",
          "sizeref": 0.02,
          "symbol": "circle"
         },
         "mode": "markers+text",
         "name": "Joaquín Pereyra",
         "orientation": "v",
         "showlegend": true,
         "text": [
          "Joaquín Pereyra"
         ],
         "textfont": {
          "size": 10
         },
         "textposition": "middle center",
         "type": "scatter",
         "x": {
          "bdata": "L/Vk/HapB0A=",
          "dtype": "f8"
         },
         "xaxis": "x",
         "y": {
          "bdata": "C5sDiVbYFEA=",
          "dtype": "f8"
         },
         "yaxis": "y"
        },
        {
         "hovertemplate": "<b>%{hovertext}</b><br><br>Player=%{text}<br>x=%{x}<br>y=%{y}<br>GCA=%{marker.size}<extra></extra>",
         "hovertext": {
          "bdata": "AAAAAAAACEA=",
          "dtype": "f8"
         },
         "legendgroup": "Cristian Roldan",
         "marker": {
          "color": "#00cc96",
          "size": {
           "bdata": "Aw==",
           "dtype": "i1"
          },
          "sizemode": "area",
          "sizeref": 0.02,
          "symbol": "circle"
         },
         "mode": "markers+text",
         "name": "Cristian Roldan",
         "orientation": "v",
         "showlegend": true,
         "text": [
          "Cristian Roldan"
         ],
         "textfont": {
          "size": 10
         },
         "textposition": "middle center",
         "type": "scatter",
         "x": {
          "bdata": "2ktoL6G9BEA=",
          "dtype": "f8"
         },
         "xaxis": "x",
         "y": {
          "bdata": "iEXKwNOtCUA=",
          "dtype": "f8"
         },
         "yaxis": "y"
        },
        {
         "hovertemplate": "<b>%{hovertext}</b><br><br>Player=%{text}<br>x=%{x}<br>y=%{y}<br>GCA=%{marker.size}<extra></extra>",
         "hovertext": {
          "bdata": "AAAAAAAAEEA=",
          "dtype": "f8"
         },
         "legendgroup": "Albert Rusnák",
         "marker": {
          "color": "#ab63fa",
          "size": {
           "bdata": "BA==",
           "dtype": "i1"
          },
          "sizemode": "area",
          "sizeref": 0.02,
          "symbol": "circle"
         },
         "mode": "markers+text",
         "name": "Albert Rusnák",
         "orientation": "v",
         "showlegend": true,
         "text": [
          "Albert Rusnák"
         ],
         "textfont": {
          "size": 10
         },
         "textposition": "middle center",
         "type": "scatter",
         "x": {
          "bdata": "AAAAAAAACUA=",
          "dtype": "f8"
         },
         "xaxis": "x",
         "y": {
          "bdata": "AAAAAABgGEA=",
          "dtype": "f8"
         },
         "yaxis": "y"
        },
        {
         "hovertemplate": "<b>%{hovertext}</b><br><br>Player=%{text}<br>x=%{x}<br>y=%{y}<br>GCA=%{marker.size}<extra></extra>",
         "hovertext": {
          "bdata": "AAAAAAAACEA=",
          "dtype": "f8"
         },
         "legendgroup": "David Schnegg",
         "marker": {
          "color": "#FFA15A",
          "size": {
           "bdata": "Aw==",
           "dtype": "i1"
          },
          "sizemode": "area",
          "sizeref": 0.02,
          "symbol": "circle"
         },
         "mode": "markers+text",
         "name": "David Schnegg",
         "orientation": "v",
         "showlegend": true,
         "text": [
          "David Schnegg"
         ],
         "textfont": {
          "size": 10
         },
         "textposition": "middle center",
         "type": "scatter",
         "x": {
          "bdata": "LnCBC1zgAkA=",
          "dtype": "f8"
         },
         "xaxis": "x",
         "y": {
          "bdata": "hCIUoQhFCEA=",
          "dtype": "f8"
         },
         "yaxis": "y"
        },
        {
         "hovertemplate": "<b>%{hovertext}</b><br><br>Player=%{text}<br>x=%{x}<br>y=%{y}<br>GCA=%{marker.size}<extra></extra>",
         "hovertext": {
          "bdata": "AAAAAAAAGEA=",
          "dtype": "f8"
         },
         "legendgroup": "Quinn Sullivan",
         "marker": {
          "color": "#19d3f3",
          "size": {
           "bdata": "Bg==",
           "dtype": "i1"
          },
          "sizemode": "area",
          "sizeref": 0.02,
          "symbol": "circle"
         },
         "mode": "markers+text",
         "name": "Quinn Sullivan",
         "orientation": "v",
         "showlegend": true,
         "text": [
          "Quinn Sullivan"
         ],
         "textfont": {
          "size": 10
         },
         "textposition": "middle center",
         "type": "scatter",
         "x": {
          "bdata": "GCjhjabOD0A=",
          "dtype": "f8"
         },
         "xaxis": "x",
         "y": {
          "bdata": "ZcVACW80FUA=",
          "dtype": "f8"
         },
         "yaxis": "y"
        },
        {
         "hovertemplate": "<b>%{hovertext}</b><br><br>Player=%{text}<br>x=%{x}<br>y=%{y}<br>GCA=%{marker.size}<extra></extra>",
         "hovertext": {
          "bdata": "AAAAAAAAAAA=",
          "dtype": "f8"
         },
         "legendgroup": "Timmy Tillman",
         "marker": {
          "color": "#FF6692",
          "size": {
           "bdata": "AA==",
           "dtype": "i1"
          },
          "sizemode": "area",
          "sizeref": 0.02,
          "symbol": "circle"
         },
         "mode": "markers+text",
         "name": "Timmy Tillman",
         "orientation": "v",
         "showlegend": true,
         "text": [
          "Timmy Tillman"
         ],
         "textfont": {
          "size": 10
         },
         "textposition": "middle center",
         "type": "scatter",
         "x": {
          "bdata": "CIIgCIIgCEA=",
          "dtype": "f8"
         },
         "xaxis": "x",
         "y": {
          "bdata": "TdM0TdM0DUA=",
          "dtype": "f8"
         },
         "yaxis": "y"
        },
        {
         "hovertemplate": "<b>%{hovertext}</b><br><br>Player=%{text}<br>x=%{x}<br>y=%{y}<br>GCA=%{marker.size}<extra></extra>",
         "hovertext": {
          "bdata": "AAAAAAAACEA=",
          "dtype": "f8"
         },
         "legendgroup": "Jeppe Tverskov",
         "marker": {
          "color": "#B6E880",
          "size": {
           "bdata": "Aw==",
           "dtype": "i1"
          },
          "sizemode": "area",
          "sizeref": 0.02,
          "symbol": "circle"
         },
         "mode": "markers+text",
         "name": "Jeppe Tverskov",
         "orientation": "v",
         "showlegend": true,
         "text": [
          "Jeppe Tverskov"
         ],
         "textfont": {
          "size": 10
         },
         "textposition": "middle center",
         "type": "scatter",
         "x": {
          "bdata": "XXTRRRddAEA=",
          "dtype": "f8"
         },
         "xaxis": "x",
         "y": {
          "bdata": "XXTRRRddAEA=",
          "dtype": "f8"
         },
         "yaxis": "y"
        },
        {
         "hovertemplate": "<b>%{hovertext}</b><br><br>Player=%{text}<br>x=%{x}<br>y=%{y}<br>GCA=%{marker.size}<extra></extra>",
         "hovertext": {
          "bdata": "AAAAAAAACEA=",
          "dtype": "f8"
         },
         "legendgroup": "Obed Vargas",
         "marker": {
          "color": "#FF97FF",
          "size": {
           "bdata": "Aw==",
           "dtype": "i1"
          },
          "sizemode": "area",
          "sizeref": 0.02,
          "symbol": "circle"
         },
         "mode": "markers+text",
         "name": "Obed Vargas",
         "orientation": "v",
         "showlegend": true,
         "text": [
          "Obed Vargas"
         ],
         "textfont": {
          "size": 10
         },
         "textposition": "middle center",
         "type": "scatter",
         "x": {
          "bdata": "tbS0tLS0CEA=",
          "dtype": "f8"
         },
         "xaxis": "x",
         "y": {
          "bdata": "Dw8PDw8PEUA=",
          "dtype": "f8"
         },
         "yaxis": "y"
        },
        {
         "hovertemplate": "<b>%{hovertext}</b><br><br>Player=%{text}<br>x=%{x}<br>y=%{y}<br>GCA=%{marker.size}<extra></extra>",
         "hovertext": {
          "bdata": "AAAAAAAAFEA=",
          "dtype": "f8"
         },
         "legendgroup": "Pedro Vite",
         "marker": {
          "color": "#FECB52",
          "size": {
           "bdata": "BQ==",
           "dtype": "i1"
          },
          "sizemode": "area",
          "sizeref": 0.02,
          "symbol": "circle"
         },
         "mode": "markers+text",
         "name": "Pedro Vite",
         "orientation": "v",
         "showlegend": true,
         "text": [
          "Pedro Vite"
         ],
         "textfont": {
          "size": 10
         },
         "textposition": "middle center",
         "type": "scatter",
         "x": {
          "bdata": "amlpaWlpDUA=",
          "dtype": "f8"
         },
         "xaxis": "x",
         "y": {
          "bdata": "PDw8PDw8EkA=",
          "dtype": "f8"
         },
         "yaxis": "y"
        },
        {
         "hovertemplate": "<b>%{hovertext}</b><br><br>Player=%{text}<br>x=%{x}<br>y=%{y}<br>GCA=%{marker.size}<extra></extra>",
         "hovertext": {
          "bdata": "AAAAAAAACEA=",
          "dtype": "f8"
         },
         "legendgroup": "Owen Wolff",
         "marker": {
          "color": "#636efa",
          "size": {
           "bdata": "Aw==",
           "dtype": "i1"
          },
          "sizemode": "area",
          "sizeref": 0.02,
          "symbol": "circle"
         },
         "mode": "markers+text",
         "name": "Owen Wolff",
         "orientation": "v",
         "showlegend": true,
         "text": [
          "Owen Wolff"
         ],
         "textfont": {
          "size": 10
         },
         "textposition": "middle center",
         "type": "scatter",
         "x": {
          "bdata": "zq895LJiAEA=",
          "dtype": "f8"
         },
         "xaxis": "x",
         "y": {
          "bdata": "gRLeaOr8CkA=",
          "dtype": "f8"
         },
         "yaxis": "y"
        },
        {
         "hovertemplate": "<b>%{hovertext}</b><br><br>Player=%{text}<br>x=%{x}<br>y=%{y}<br>GCA=%{marker.size}<extra></extra>",
         "hovertext": {
          "bdata": "AAAAAAAA8D8=",
          "dtype": "f8"
         },
         "legendgroup": "Alhassan Yusuf",
         "marker": {
          "color": "#EF553B",
          "size": {
           "bdata": "AQ==",
           "dtype": "i1"
          },
          "sizemode": "area",
          "sizeref": 0.02,
          "symbol": "circle"
         },
         "mode": "markers+text",
         "name": "Alhassan Yusuf",
         "orientation": "v",
         "showlegend": true,
         "text": [
          "Alhassan Yusuf"
         ],
         "textfont": {
          "size": 10
         },
         "textposition": "middle center",
         "type": "scatter",
         "x": {
          "bdata": "gah0ZM9ABEA=",
          "dtype": "f8"
         },
         "xaxis": "x",
         "y": {
          "bdata": "iEpH9gxEBUA=",
          "dtype": "f8"
         },
         "yaxis": "y"
        },
        {
         "hovertemplate": "<b>%{hovertext}</b><br><br>Player=%{text}<br>x=%{x}<br>y=%{y}<br>GCA=%{marker.size}<extra></extra>",
         "hovertext": {
          "bdata": "AAAAAAAA8D8=",
          "dtype": "f8"
         },
         "legendgroup": "Wilfried Zaha",
         "marker": {
          "color": "#00cc96",
          "size": {
           "bdata": "AQ==",
           "dtype": "i1"
          },
          "sizemode": "area",
          "sizeref": 0.02,
          "symbol": "circle"
         },
         "mode": "markers+text",
         "name": "Wilfried Zaha",
         "orientation": "v",
         "showlegend": true,
         "text": [
          "Wilfried Zaha"
         ],
         "textfont": {
          "size": 10
         },
         "textposition": "middle center",
         "type": "scatter",
         "x": {
          "bdata": "JUmSJEmSBEA=",
          "dtype": "f8"
         },
         "xaxis": "x",
         "y": {
          "bdata": "btu2bdu2DUA=",
          "dtype": "f8"
         },
         "yaxis": "y"
        }
       ],
       "layout": {
        "height": 700,
        "legend": {
         "itemsizing": "constant",
         "title": {
          "text": "Player"
         },
         "tracegroupgap": 0
        },
        "margin": {
         "t": 60
        },
        "paper_bgcolor": "White",
        "template": {
         "data": {
          "bar": [
           {
            "error_x": {
             "color": "#2a3f5f"
            },
            "error_y": {
             "color": "#2a3f5f"
            },
            "marker": {
             "line": {
              "color": "#E5ECF6",
              "width": 0.5
             },
             "pattern": {
              "fillmode": "overlay",
              "size": 10,
              "solidity": 0.2
             }
            },
            "type": "bar"
           }
          ],
          "barpolar": [
           {
            "marker": {
             "line": {
              "color": "#E5ECF6",
              "width": 0.5
             },
             "pattern": {
              "fillmode": "overlay",
              "size": 10,
              "solidity": 0.2
             }
            },
            "type": "barpolar"
           }
          ],
          "carpet": [
           {
            "aaxis": {
             "endlinecolor": "#2a3f5f",
             "gridcolor": "white",
             "linecolor": "white",
             "minorgridcolor": "white",
             "startlinecolor": "#2a3f5f"
            },
            "baxis": {
             "endlinecolor": "#2a3f5f",
             "gridcolor": "white",
             "linecolor": "white",
             "minorgridcolor": "white",
             "startlinecolor": "#2a3f5f"
            },
            "type": "carpet"
           }
          ],
          "choropleth": [
           {
            "colorbar": {
             "outlinewidth": 0,
             "ticks": ""
            },
            "type": "choropleth"
           }
          ],
          "contour": [
           {
            "colorbar": {
             "outlinewidth": 0,
             "ticks": ""
            },
            "colorscale": [
             [
              0,
              "#0d0887"
             ],
             [
              0.1111111111111111,
              "#46039f"
             ],
             [
              0.2222222222222222,
              "#7201a8"
             ],
             [
              0.3333333333333333,
              "#9c179e"
             ],
             [
              0.4444444444444444,
              "#bd3786"
             ],
             [
              0.5555555555555556,
              "#d8576b"
             ],
             [
              0.6666666666666666,
              "#ed7953"
             ],
             [
              0.7777777777777778,
              "#fb9f3a"
             ],
             [
              0.8888888888888888,
              "#fdca26"
             ],
             [
              1,
              "#f0f921"
             ]
            ],
            "type": "contour"
           }
          ],
          "contourcarpet": [
           {
            "colorbar": {
             "outlinewidth": 0,
             "ticks": ""
            },
            "type": "contourcarpet"
           }
          ],
          "heatmap": [
           {
            "colorbar": {
             "outlinewidth": 0,
             "ticks": ""
            },
            "colorscale": [
             [
              0,
              "#0d0887"
             ],
             [
              0.1111111111111111,
              "#46039f"
             ],
             [
              0.2222222222222222,
              "#7201a8"
             ],
             [
              0.3333333333333333,
              "#9c179e"
             ],
             [
              0.4444444444444444,
              "#bd3786"
             ],
             [
              0.5555555555555556,
              "#d8576b"
             ],
             [
              0.6666666666666666,
              "#ed7953"
             ],
             [
              0.7777777777777778,
              "#fb9f3a"
             ],
             [
              0.8888888888888888,
              "#fdca26"
             ],
             [
              1,
              "#f0f921"
             ]
            ],
            "type": "heatmap"
           }
          ],
          "histogram": [
           {
            "marker": {
             "pattern": {
              "fillmode": "overlay",
              "size": 10,
              "solidity": 0.2
             }
            },
            "type": "histogram"
           }
          ],
          "histogram2d": [
           {
            "colorbar": {
             "outlinewidth": 0,
             "ticks": ""
            },
            "colorscale": [
             [
              0,
              "#0d0887"
             ],
             [
              0.1111111111111111,
              "#46039f"
             ],
             [
              0.2222222222222222,
              "#7201a8"
             ],
             [
              0.3333333333333333,
              "#9c179e"
             ],
             [
              0.4444444444444444,
              "#bd3786"
             ],
             [
              0.5555555555555556,
              "#d8576b"
             ],
             [
              0.6666666666666666,
              "#ed7953"
             ],
             [
              0.7777777777777778,
              "#fb9f3a"
             ],
             [
              0.8888888888888888,
              "#fdca26"
             ],
             [
              1,
              "#f0f921"
             ]
            ],
            "type": "histogram2d"
           }
          ],
          "histogram2dcontour": [
           {
            "colorbar": {
             "outlinewidth": 0,
             "ticks": ""
            },
            "colorscale": [
             [
              0,
              "#0d0887"
             ],
             [
              0.1111111111111111,
              "#46039f"
             ],
             [
              0.2222222222222222,
              "#7201a8"
             ],
             [
              0.3333333333333333,
              "#9c179e"
             ],
             [
              0.4444444444444444,
              "#bd3786"
             ],
             [
              0.5555555555555556,
              "#d8576b"
             ],
             [
              0.6666666666666666,
              "#ed7953"
             ],
             [
              0.7777777777777778,
              "#fb9f3a"
             ],
             [
              0.8888888888888888,
              "#fdca26"
             ],
             [
              1,
              "#f0f921"
             ]
            ],
            "type": "histogram2dcontour"
           }
          ],
          "mesh3d": [
           {
            "colorbar": {
             "outlinewidth": 0,
             "ticks": ""
            },
            "type": "mesh3d"
           }
          ],
          "parcoords": [
           {
            "line": {
             "colorbar": {
              "outlinewidth": 0,
              "ticks": ""
             }
            },
            "type": "parcoords"
           }
          ],
          "pie": [
           {
            "automargin": true,
            "type": "pie"
           }
          ],
          "scatter": [
           {
            "fillpattern": {
             "fillmode": "overlay",
             "size": 10,
             "solidity": 0.2
            },
            "type": "scatter"
           }
          ],
          "scatter3d": [
           {
            "line": {
             "colorbar": {
              "outlinewidth": 0,
              "ticks": ""
             }
            },
            "marker": {
             "colorbar": {
              "outlinewidth": 0,
              "ticks": ""
             }
            },
            "type": "scatter3d"
           }
          ],
          "scattercarpet": [
           {
            "marker": {
             "colorbar": {
              "outlinewidth": 0,
              "ticks": ""
             }
            },
            "type": "scattercarpet"
           }
          ],
          "scattergeo": [
           {
            "marker": {
             "colorbar": {
              "outlinewidth": 0,
              "ticks": ""
             }
            },
            "type": "scattergeo"
           }
          ],
          "scattergl": [
           {
            "marker": {
             "colorbar": {
              "outlinewidth": 0,
              "ticks": ""
             }
            },
            "type": "scattergl"
           }
          ],
          "scattermap": [
           {
            "marker": {
             "colorbar": {
              "outlinewidth": 0,
              "ticks": ""
             }
            },
            "type": "scattermap"
           }
          ],
          "scattermapbox": [
           {
            "marker": {
             "colorbar": {
              "outlinewidth": 0,
              "ticks": ""
             }
            },
            "type": "scattermapbox"
           }
          ],
          "scatterpolar": [
           {
            "marker": {
             "colorbar": {
              "outlinewidth": 0,
              "ticks": ""
             }
            },
            "type": "scatterpolar"
           }
          ],
          "scatterpolargl": [
           {
            "marker": {
             "colorbar": {
              "outlinewidth": 0,
              "ticks": ""
             }
            },
            "type": "scatterpolargl"
           }
          ],
          "scatterternary": [
           {
            "marker": {
             "colorbar": {
              "outlinewidth": 0,
              "ticks": ""
             }
            },
            "type": "scatterternary"
           }
          ],
          "surface": [
           {
            "colorbar": {
             "outlinewidth": 0,
             "ticks": ""
            },
            "colorscale": [
             [
              0,
              "#0d0887"
             ],
             [
              0.1111111111111111,
              "#46039f"
             ],
             [
              0.2222222222222222,
              "#7201a8"
             ],
             [
              0.3333333333333333,
              "#9c179e"
             ],
             [
              0.4444444444444444,
              "#bd3786"
             ],
             [
              0.5555555555555556,
              "#d8576b"
             ],
             [
              0.6666666666666666,
              "#ed7953"
             ],
             [
              0.7777777777777778,
              "#fb9f3a"
             ],
             [
              0.8888888888888888,
              "#fdca26"
             ],
             [
              1,
              "#f0f921"
             ]
            ],
            "type": "surface"
           }
          ],
          "table": [
           {
            "cells": {
             "fill": {
              "color": "#EBF0F8"
             },
             "line": {
              "color": "white"
             }
            },
            "header": {
             "fill": {
              "color": "#C8D4E3"
             },
             "line": {
              "color": "white"
             }
            },
            "type": "table"
           }
          ]
         },
         "layout": {
          "annotationdefaults": {
           "arrowcolor": "#2a3f5f",
           "arrowhead": 0,
           "arrowwidth": 1
          },
          "autotypenumbers": "strict",
          "coloraxis": {
           "colorbar": {
            "outlinewidth": 0,
            "ticks": ""
           }
          },
          "colorscale": {
           "diverging": [
            [
             0,
             "#8e0152"
            ],
            [
             0.1,
             "#c51b7d"
            ],
            [
             0.2,
             "#de77ae"
            ],
            [
             0.3,
             "#f1b6da"
            ],
            [
             0.4,
             "#fde0ef"
            ],
            [
             0.5,
             "#f7f7f7"
            ],
            [
             0.6,
             "#e6f5d0"
            ],
            [
             0.7,
             "#b8e186"
            ],
            [
             0.8,
             "#7fbc41"
            ],
            [
             0.9,
             "#4d9221"
            ],
            [
             1,
             "#276419"
            ]
           ],
           "sequential": [
            [
             0,
             "#0d0887"
            ],
            [
             0.1111111111111111,
             "#46039f"
            ],
            [
             0.2222222222222222,
             "#7201a8"
            ],
            [
             0.3333333333333333,
             "#9c179e"
            ],
            [
             0.4444444444444444,
             "#bd3786"
            ],
            [
             0.5555555555555556,
             "#d8576b"
            ],
            [
             0.6666666666666666,
             "#ed7953"
            ],
            [
             0.7777777777777778,
             "#fb9f3a"
            ],
            [
             0.8888888888888888,
             "#fdca26"
            ],
            [
             1,
             "#f0f921"
            ]
           ],
           "sequentialminus": [
            [
             0,
             "#0d0887"
            ],
            [
             0.1111111111111111,
             "#46039f"
            ],
            [
             0.2222222222222222,
             "#7201a8"
            ],
            [
             0.3333333333333333,
             "#9c179e"
            ],
            [
             0.4444444444444444,
             "#bd3786"
            ],
            [
             0.5555555555555556,
             "#d8576b"
            ],
            [
             0.6666666666666666,
             "#ed7953"
            ],
            [
             0.7777777777777778,
             "#fb9f3a"
            ],
            [
             0.8888888888888888,
             "#fdca26"
            ],
            [
             1,
             "#f0f921"
            ]
           ]
          },
          "colorway": [
           "#636efa",
           "#EF553B",
           "#00cc96",
           "#ab63fa",
           "#FFA15A",
           "#19d3f3",
           "#FF6692",
           "#B6E880",
           "#FF97FF",
           "#FECB52"
          ],
          "font": {
           "color": "#2a3f5f"
          },
          "geo": {
           "bgcolor": "white",
           "lakecolor": "white",
           "landcolor": "#E5ECF6",
           "showlakes": true,
           "showland": true,
           "subunitcolor": "white"
          },
          "hoverlabel": {
           "align": "left"
          },
          "hovermode": "closest",
          "mapbox": {
           "style": "light"
          },
          "paper_bgcolor": "white",
          "plot_bgcolor": "#E5ECF6",
          "polar": {
           "angularaxis": {
            "gridcolor": "white",
            "linecolor": "white",
            "ticks": ""
           },
           "bgcolor": "#E5ECF6",
           "radialaxis": {
            "gridcolor": "white",
            "linecolor": "white",
            "ticks": ""
           }
          },
          "scene": {
           "xaxis": {
            "backgroundcolor": "#E5ECF6",
            "gridcolor": "white",
            "gridwidth": 2,
            "linecolor": "white",
            "showbackground": true,
            "ticks": "",
            "zerolinecolor": "white"
           },
           "yaxis": {
            "backgroundcolor": "#E5ECF6",
            "gridcolor": "white",
            "gridwidth": 2,
            "linecolor": "white",
            "showbackground": true,
            "ticks": "",
            "zerolinecolor": "white"
           },
           "zaxis": {
            "backgroundcolor": "#E5ECF6",
            "gridcolor": "white",
            "gridwidth": 2,
            "linecolor": "white",
            "showbackground": true,
            "ticks": "",
            "zerolinecolor": "white"
           }
          },
          "shapedefaults": {
           "line": {
            "color": "#2a3f5f"
           }
          },
          "ternary": {
           "aaxis": {
            "gridcolor": "white",
            "linecolor": "white",
            "ticks": ""
           },
           "baxis": {
            "gridcolor": "white",
            "linecolor": "white",
            "ticks": ""
           },
           "bgcolor": "#E5ECF6",
           "caxis": {
            "gridcolor": "white",
            "linecolor": "white",
            "ticks": ""
           }
          },
          "title": {
           "x": 0.05
          },
          "xaxis": {
           "automargin": true,
           "gridcolor": "white",
           "linecolor": "white",
           "ticks": "",
           "title": {
            "standoff": 15
           },
           "zerolinecolor": "white",
           "zerolinewidth": 2
          },
          "yaxis": {
           "automargin": true,
           "gridcolor": "white",
           "linecolor": "white",
           "ticks": "",
           "title": {
            "standoff": 15
           },
           "zerolinecolor": "white",
           "zerolinewidth": 2
          }
         }
        },
        "title": {
         "text": "<b>MLS 2025: Shot Creating Actions (Per 90 minutes) </b><br><sup>Data Source: Fbref</sup>",
         "x": 0.5,
         "xanchor": "center",
         "y": 0.95,
         "yanchor": "top"
        },
        "width": 1200,
        "xaxis": {
         "anchor": "y",
         "domain": [
          0,
          1
         ],
         "title": {
          "text": "Shot-Creating Actions from Live Passes"
         }
        },
        "yaxis": {
         "anchor": "x",
         "domain": [
          0,
          1
         ],
         "title": {
          "text": "Shot-Creating Actions"
         }
        }
       }
      }
     },
     "metadata": {},
     "output_type": "display_data"
    }
   ],
   "source": [
    "fig_bestSCA = px.scatter(sca_best, x = sca_best['SCA_PassLive']/sca_best['90s'], y = sca_best['SCA']/sca_best['90s'], size = 'GCA', hover_name = 'GCA', text = 'Player', color = 'Player')\n",
    "fig_bestSCA.update_traces(textposition = 'middle center', textfont=dict(size=10))\n",
    "fig_bestSCA.update_layout(xaxis_title = 'Shot-Creating Actions from Live Passes', yaxis_title = 'Shot-Creating Actions', width = 1200, height = 700, paper_bgcolor='White',\n",
    "                     title={\n",
    "        'text': '<b>MLS 2025: Shot Creating Actions (Per 90 minutes) </b><br><sup>Data Source: Fbref</sup>',\n",
    "        'y':0.95,\n",
    "        'x':0.5,\n",
    "        'xanchor': 'center',\n",
    "        'yanchor': 'top'\n",
    "                     })"
   ]
  },
  {
   "cell_type": "code",
   "execution_count": 18,
   "metadata": {},
   "outputs": [],
   "source": [
    "fig_bestSCA.write_image('images/most_creative_players_mls2025.png')"
   ]
  }
 ],
 "metadata": {
  "kernelspec": {
   "display_name": "Python 3",
   "language": "python",
   "name": "python3"
  },
  "language_info": {
   "codemirror_mode": {
    "name": "ipython",
    "version": 3
   },
   "file_extension": ".py",
   "mimetype": "text/x-python",
   "name": "python",
   "nbconvert_exporter": "python",
   "pygments_lexer": "ipython3",
   "version": "3.12.6"
  },
  "orig_nbformat": 4
 },
 "nbformat": 4,
 "nbformat_minor": 2
}
