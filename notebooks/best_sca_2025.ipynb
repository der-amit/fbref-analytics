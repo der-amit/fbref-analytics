{
 "cells": [
  {
   "cell_type": "code",
   "execution_count": 23,
   "metadata": {},
   "outputs": [],
   "source": [
    "import pandas as pd\n",
    "import plotly.express as px\n",
    "import matplotlib.pyplot as plt\n",
    "import numpy as np"
   ]
  },
  {
   "cell_type": "code",
   "execution_count": 24,
   "metadata": {},
   "outputs": [],
   "source": [
    "mydata = pd.read_csv('/Users/amitmishra/fbref-analytics/data/player_gca_2025_cleaned.csv')"
   ]
  },
  {
   "cell_type": "code",
   "execution_count": 25,
   "metadata": {},
   "outputs": [
    {
     "data": {
      "text/plain": [
       "(730, 24)"
      ]
     },
     "execution_count": 25,
     "metadata": {},
     "output_type": "execute_result"
    }
   ],
   "source": [
    "mydata.shape"
   ]
  },
  {
   "cell_type": "code",
   "execution_count": 26,
   "metadata": {},
   "outputs": [],
   "source": [
    "df = mydata[mydata['Player']!='Player']"
   ]
  },
  {
   "cell_type": "code",
   "execution_count": 27,
   "metadata": {},
   "outputs": [
    {
     "name": "stdout",
     "output_type": "stream",
     "text": [
      "<class 'pandas.core.frame.DataFrame'>\n",
      "Index: 702 entries, 0 to 729\n",
      "Data columns (total 24 columns):\n",
      " #   Column        Non-Null Count  Dtype \n",
      "---  ------        --------------  ----- \n",
      " 0   Player        702 non-null    object\n",
      " 1   Nation        700 non-null    object\n",
      " 2   Pos           702 non-null    object\n",
      " 3   Squad         702 non-null    object\n",
      " 4   Age           701 non-null    object\n",
      " 5   Born          701 non-null    object\n",
      " 6   90s           702 non-null    object\n",
      " 7   SCA           702 non-null    object\n",
      " 8   SCA90         702 non-null    object\n",
      " 9   SCA_PassLive  702 non-null    object\n",
      " 10  SCA_PassDead  702 non-null    object\n",
      " 11  SCA_TO        702 non-null    object\n",
      " 12  SCA_Shot      702 non-null    object\n",
      " 13  SCA_Fld       702 non-null    object\n",
      " 14  SCA_DefAct    702 non-null    object\n",
      " 15  GCA           702 non-null    object\n",
      " 16  GCA90         702 non-null    object\n",
      " 17  GCA_PassLive  702 non-null    object\n",
      " 18  GCA_PassDead  702 non-null    object\n",
      " 19  GCA_TO        702 non-null    object\n",
      " 20  GCA_Shot      702 non-null    object\n",
      " 21  GCA_Fld       702 non-null    object\n",
      " 22  GCA_DefAct    702 non-null    object\n",
      " 23  Matches       702 non-null    object\n",
      "dtypes: object(24)\n",
      "memory usage: 137.1+ KB\n"
     ]
    }
   ],
   "source": [
    "df.info()"
   ]
  },
  {
   "cell_type": "code",
   "execution_count": 28,
   "metadata": {},
   "outputs": [
    {
     "data": {
      "text/plain": [
       "Index(['Player', 'Nation', 'Pos', 'Squad', 'Age', 'Born', '90s', 'SCA',\n",
       "       'SCA90', 'SCA_PassLive', 'SCA_PassDead', 'SCA_TO', 'SCA_Shot',\n",
       "       'SCA_Fld', 'SCA_DefAct', 'GCA', 'GCA90', 'GCA_PassLive', 'GCA_PassDead',\n",
       "       'GCA_TO', 'GCA_Shot', 'GCA_Fld', 'GCA_DefAct', 'Matches'],\n",
       "      dtype='object')"
      ]
     },
     "execution_count": 28,
     "metadata": {},
     "output_type": "execute_result"
    }
   ],
   "source": [
    "df.shape\n",
    "df.columns"
   ]
  },
  {
   "cell_type": "code",
   "execution_count": 29,
   "metadata": {},
   "outputs": [
    {
     "data": {
      "text/html": [
       "<div>\n",
       "<style scoped>\n",
       "    .dataframe tbody tr th:only-of-type {\n",
       "        vertical-align: middle;\n",
       "    }\n",
       "\n",
       "    .dataframe tbody tr th {\n",
       "        vertical-align: top;\n",
       "    }\n",
       "\n",
       "    .dataframe thead th {\n",
       "        text-align: right;\n",
       "    }\n",
       "</style>\n",
       "<table border=\"1\" class=\"dataframe\">\n",
       "  <thead>\n",
       "    <tr style=\"text-align: right;\">\n",
       "      <th></th>\n",
       "      <th>Player</th>\n",
       "      <th>Nation</th>\n",
       "      <th>Pos</th>\n",
       "      <th>Squad</th>\n",
       "      <th>Age</th>\n",
       "      <th>Born</th>\n",
       "      <th>90s</th>\n",
       "      <th>SCA</th>\n",
       "      <th>SCA90</th>\n",
       "      <th>SCA_PassLive</th>\n",
       "      <th>...</th>\n",
       "      <th>SCA_DefAct</th>\n",
       "      <th>GCA</th>\n",
       "      <th>GCA90</th>\n",
       "      <th>GCA_PassLive</th>\n",
       "      <th>GCA_PassDead</th>\n",
       "      <th>GCA_TO</th>\n",
       "      <th>GCA_Shot</th>\n",
       "      <th>GCA_Fld</th>\n",
       "      <th>GCA_DefAct</th>\n",
       "      <th>Matches</th>\n",
       "    </tr>\n",
       "  </thead>\n",
       "  <tbody>\n",
       "    <tr>\n",
       "      <th>0</th>\n",
       "      <td>Luis Abram</td>\n",
       "      <td>pe PER</td>\n",
       "      <td>DF</td>\n",
       "      <td>Atlanta Utd</td>\n",
       "      <td>29-068</td>\n",
       "      <td>1996</td>\n",
       "      <td>6.8</td>\n",
       "      <td>2</td>\n",
       "      <td>0.29</td>\n",
       "      <td>2</td>\n",
       "      <td>...</td>\n",
       "      <td>0</td>\n",
       "      <td>0</td>\n",
       "      <td>0.00</td>\n",
       "      <td>0</td>\n",
       "      <td>0</td>\n",
       "      <td>0</td>\n",
       "      <td>0</td>\n",
       "      <td>0</td>\n",
       "      <td>0</td>\n",
       "      <td>Matches</td>\n",
       "    </tr>\n",
       "    <tr>\n",
       "      <th>1</th>\n",
       "      <td>Lalas Abubakar</td>\n",
       "      <td>gh GHA</td>\n",
       "      <td>DF</td>\n",
       "      <td>FC Dallas</td>\n",
       "      <td>30-132</td>\n",
       "      <td>1994</td>\n",
       "      <td>2.0</td>\n",
       "      <td>2</td>\n",
       "      <td>0.99</td>\n",
       "      <td>1</td>\n",
       "      <td>...</td>\n",
       "      <td>1</td>\n",
       "      <td>0</td>\n",
       "      <td>0.00</td>\n",
       "      <td>0</td>\n",
       "      <td>0</td>\n",
       "      <td>0</td>\n",
       "      <td>0</td>\n",
       "      <td>0</td>\n",
       "      <td>0</td>\n",
       "      <td>Matches</td>\n",
       "    </tr>\n",
       "    <tr>\n",
       "      <th>2</th>\n",
       "      <td>Kellyn Acosta</td>\n",
       "      <td>us USA</td>\n",
       "      <td>MF</td>\n",
       "      <td>Chicago Fire</td>\n",
       "      <td>29-286</td>\n",
       "      <td>1995</td>\n",
       "      <td>4.3</td>\n",
       "      <td>5</td>\n",
       "      <td>1.16</td>\n",
       "      <td>5</td>\n",
       "      <td>...</td>\n",
       "      <td>0</td>\n",
       "      <td>0</td>\n",
       "      <td>0.00</td>\n",
       "      <td>0</td>\n",
       "      <td>0</td>\n",
       "      <td>0</td>\n",
       "      <td>0</td>\n",
       "      <td>0</td>\n",
       "      <td>0</td>\n",
       "      <td>Matches</td>\n",
       "    </tr>\n",
       "  </tbody>\n",
       "</table>\n",
       "<p>3 rows × 24 columns</p>\n",
       "</div>"
      ],
      "text/plain": [
       "           Player  Nation Pos         Squad     Age  Born  90s SCA SCA90  \\\n",
       "0      Luis Abram  pe PER  DF   Atlanta Utd  29-068  1996  6.8   2  0.29   \n",
       "1  Lalas Abubakar  gh GHA  DF     FC Dallas  30-132  1994  2.0   2  0.99   \n",
       "2   Kellyn Acosta  us USA  MF  Chicago Fire  29-286  1995  4.3   5  1.16   \n",
       "\n",
       "  SCA_PassLive  ... SCA_DefAct GCA GCA90 GCA_PassLive GCA_PassDead GCA_TO  \\\n",
       "0            2  ...          0   0  0.00            0            0      0   \n",
       "1            1  ...          1   0  0.00            0            0      0   \n",
       "2            5  ...          0   0  0.00            0            0      0   \n",
       "\n",
       "  GCA_Shot GCA_Fld GCA_DefAct  Matches  \n",
       "0        0       0          0  Matches  \n",
       "1        0       0          0  Matches  \n",
       "2        0       0          0  Matches  \n",
       "\n",
       "[3 rows x 24 columns]"
      ]
     },
     "execution_count": 29,
     "metadata": {},
     "output_type": "execute_result"
    }
   ],
   "source": [
    "df.head(3)"
   ]
  },
  {
   "cell_type": "code",
   "execution_count": 30,
   "metadata": {},
   "outputs": [],
   "source": [
    "convert_dict = {\n",
    "    'Player': object,\n",
    "    'Nation': object,\n",
    "    'Pos' :str,\n",
    "    'Age': object,\n",
    "    'Born': pd.Int64Dtype(),\n",
    "    '90s': float,\n",
    "    'SCA': int,\n",
    "    'SCA90': float ,\n",
    "    'SCA_PassLive': int,\n",
    "    'SCA_PassDead':int,\n",
    "    'SCA_TO':int,\n",
    "    'SCA_Shot':int,\n",
    "    'SCA_Fld':int,\n",
    "    'SCA_DefAct':int,\n",
    "    'GCA':int,\n",
    "    'GCA90':float,\n",
    "    'GCA_PassLive':int ,\n",
    "    'GCA_PassDead':int,\n",
    "    'GCA_TO':int,\n",
    "    'GCA_Shot':int,\n",
    "    'GCA_Fld':int,\n",
    "    'GCA_DefAct':int,\n",
    "    'Matches':str\n",
    "}"
   ]
  },
  {
   "cell_type": "code",
   "execution_count": 31,
   "metadata": {},
   "outputs": [],
   "source": [
    "df = df.astype(convert_dict)"
   ]
  },
  {
   "cell_type": "code",
   "execution_count": 32,
   "metadata": {},
   "outputs": [],
   "source": [
    "df = df.drop(['Matches', 'Nation','Born'], axis = 1)"
   ]
  },
  {
   "cell_type": "code",
   "execution_count": 33,
   "metadata": {},
   "outputs": [
    {
     "name": "stdout",
     "output_type": "stream",
     "text": [
      "<class 'pandas.core.frame.DataFrame'>\n",
      "Index: 702 entries, 0 to 729\n",
      "Data columns (total 21 columns):\n",
      " #   Column        Non-Null Count  Dtype  \n",
      "---  ------        --------------  -----  \n",
      " 0   Player        702 non-null    object \n",
      " 1   Pos           702 non-null    object \n",
      " 2   Squad         702 non-null    object \n",
      " 3   Age           701 non-null    object \n",
      " 4   90s           702 non-null    float64\n",
      " 5   SCA           702 non-null    int64  \n",
      " 6   SCA90         702 non-null    float64\n",
      " 7   SCA_PassLive  702 non-null    int64  \n",
      " 8   SCA_PassDead  702 non-null    int64  \n",
      " 9   SCA_TO        702 non-null    int64  \n",
      " 10  SCA_Shot      702 non-null    int64  \n",
      " 11  SCA_Fld       702 non-null    int64  \n",
      " 12  SCA_DefAct    702 non-null    int64  \n",
      " 13  GCA           702 non-null    int64  \n",
      " 14  GCA90         702 non-null    float64\n",
      " 15  GCA_PassLive  702 non-null    int64  \n",
      " 16  GCA_PassDead  702 non-null    int64  \n",
      " 17  GCA_TO        702 non-null    int64  \n",
      " 18  GCA_Shot      702 non-null    int64  \n",
      " 19  GCA_Fld       702 non-null    int64  \n",
      " 20  GCA_DefAct    702 non-null    int64  \n",
      "dtypes: float64(3), int64(14), object(4)\n",
      "memory usage: 120.7+ KB\n"
     ]
    }
   ],
   "source": [
    "df.info()"
   ]
  },
  {
   "cell_type": "code",
   "execution_count": 34,
   "metadata": {},
   "outputs": [
    {
     "data": {
      "text/html": [
       "<div>\n",
       "<style scoped>\n",
       "    .dataframe tbody tr th:only-of-type {\n",
       "        vertical-align: middle;\n",
       "    }\n",
       "\n",
       "    .dataframe tbody tr th {\n",
       "        vertical-align: top;\n",
       "    }\n",
       "\n",
       "    .dataframe thead th {\n",
       "        text-align: right;\n",
       "    }\n",
       "</style>\n",
       "<table border=\"1\" class=\"dataframe\">\n",
       "  <thead>\n",
       "    <tr style=\"text-align: right;\">\n",
       "      <th></th>\n",
       "      <th>90s</th>\n",
       "      <th>SCA</th>\n",
       "      <th>SCA90</th>\n",
       "      <th>SCA_PassLive</th>\n",
       "      <th>SCA_PassDead</th>\n",
       "      <th>SCA_TO</th>\n",
       "      <th>SCA_Shot</th>\n",
       "      <th>SCA_Fld</th>\n",
       "      <th>SCA_DefAct</th>\n",
       "      <th>GCA</th>\n",
       "      <th>GCA90</th>\n",
       "      <th>GCA_PassLive</th>\n",
       "      <th>GCA_PassDead</th>\n",
       "      <th>GCA_TO</th>\n",
       "      <th>GCA_Shot</th>\n",
       "      <th>GCA_Fld</th>\n",
       "      <th>GCA_DefAct</th>\n",
       "    </tr>\n",
       "  </thead>\n",
       "  <tbody>\n",
       "    <tr>\n",
       "      <th>count</th>\n",
       "      <td>702.000000</td>\n",
       "      <td>702.000000</td>\n",
       "      <td>702.000000</td>\n",
       "      <td>702.000000</td>\n",
       "      <td>702.000000</td>\n",
       "      <td>702.000000</td>\n",
       "      <td>702.000000</td>\n",
       "      <td>702.000000</td>\n",
       "      <td>702.000000</td>\n",
       "      <td>702.000000</td>\n",
       "      <td>702.000000</td>\n",
       "      <td>702.000000</td>\n",
       "      <td>702.000000</td>\n",
       "      <td>702.000000</td>\n",
       "      <td>702.000000</td>\n",
       "      <td>702.000000</td>\n",
       "      <td>702.000000</td>\n",
       "    </tr>\n",
       "    <tr>\n",
       "      <th>mean</th>\n",
       "      <td>5.119373</td>\n",
       "      <td>10.200855</td>\n",
       "      <td>2.273575</td>\n",
       "      <td>7.602564</td>\n",
       "      <td>0.809117</td>\n",
       "      <td>0.447293</td>\n",
       "      <td>0.653846</td>\n",
       "      <td>0.519943</td>\n",
       "      <td>0.168091</td>\n",
       "      <td>1.072650</td>\n",
       "      <td>0.200157</td>\n",
       "      <td>0.766382</td>\n",
       "      <td>0.064103</td>\n",
       "      <td>0.047009</td>\n",
       "      <td>0.091168</td>\n",
       "      <td>0.088319</td>\n",
       "      <td>0.015670</td>\n",
       "    </tr>\n",
       "    <tr>\n",
       "      <th>std</th>\n",
       "      <td>3.526674</td>\n",
       "      <td>11.548365</td>\n",
       "      <td>4.174822</td>\n",
       "      <td>8.133876</td>\n",
       "      <td>2.332069</td>\n",
       "      <td>1.053186</td>\n",
       "      <td>1.170784</td>\n",
       "      <td>1.011504</td>\n",
       "      <td>0.427589</td>\n",
       "      <td>1.667553</td>\n",
       "      <td>0.384680</td>\n",
       "      <td>1.277305</td>\n",
       "      <td>0.311719</td>\n",
       "      <td>0.218439</td>\n",
       "      <td>0.325268</td>\n",
       "      <td>0.343109</td>\n",
       "      <td>0.124282</td>\n",
       "    </tr>\n",
       "    <tr>\n",
       "      <th>min</th>\n",
       "      <td>0.000000</td>\n",
       "      <td>0.000000</td>\n",
       "      <td>0.000000</td>\n",
       "      <td>0.000000</td>\n",
       "      <td>0.000000</td>\n",
       "      <td>0.000000</td>\n",
       "      <td>0.000000</td>\n",
       "      <td>0.000000</td>\n",
       "      <td>0.000000</td>\n",
       "      <td>0.000000</td>\n",
       "      <td>0.000000</td>\n",
       "      <td>0.000000</td>\n",
       "      <td>0.000000</td>\n",
       "      <td>0.000000</td>\n",
       "      <td>0.000000</td>\n",
       "      <td>0.000000</td>\n",
       "      <td>0.000000</td>\n",
       "    </tr>\n",
       "    <tr>\n",
       "      <th>25%</th>\n",
       "      <td>1.900000</td>\n",
       "      <td>2.000000</td>\n",
       "      <td>0.632500</td>\n",
       "      <td>1.000000</td>\n",
       "      <td>0.000000</td>\n",
       "      <td>0.000000</td>\n",
       "      <td>0.000000</td>\n",
       "      <td>0.000000</td>\n",
       "      <td>0.000000</td>\n",
       "      <td>0.000000</td>\n",
       "      <td>0.000000</td>\n",
       "      <td>0.000000</td>\n",
       "      <td>0.000000</td>\n",
       "      <td>0.000000</td>\n",
       "      <td>0.000000</td>\n",
       "      <td>0.000000</td>\n",
       "      <td>0.000000</td>\n",
       "    </tr>\n",
       "    <tr>\n",
       "      <th>50%</th>\n",
       "      <td>4.700000</td>\n",
       "      <td>6.000000</td>\n",
       "      <td>1.655000</td>\n",
       "      <td>5.000000</td>\n",
       "      <td>0.000000</td>\n",
       "      <td>0.000000</td>\n",
       "      <td>0.000000</td>\n",
       "      <td>0.000000</td>\n",
       "      <td>0.000000</td>\n",
       "      <td>0.000000</td>\n",
       "      <td>0.000000</td>\n",
       "      <td>0.000000</td>\n",
       "      <td>0.000000</td>\n",
       "      <td>0.000000</td>\n",
       "      <td>0.000000</td>\n",
       "      <td>0.000000</td>\n",
       "      <td>0.000000</td>\n",
       "    </tr>\n",
       "    <tr>\n",
       "      <th>75%</th>\n",
       "      <td>8.400000</td>\n",
       "      <td>14.000000</td>\n",
       "      <td>2.950000</td>\n",
       "      <td>11.000000</td>\n",
       "      <td>1.000000</td>\n",
       "      <td>0.000000</td>\n",
       "      <td>1.000000</td>\n",
       "      <td>1.000000</td>\n",
       "      <td>0.000000</td>\n",
       "      <td>2.000000</td>\n",
       "      <td>0.290000</td>\n",
       "      <td>1.000000</td>\n",
       "      <td>0.000000</td>\n",
       "      <td>0.000000</td>\n",
       "      <td>0.000000</td>\n",
       "      <td>0.000000</td>\n",
       "      <td>0.000000</td>\n",
       "    </tr>\n",
       "    <tr>\n",
       "      <th>max</th>\n",
       "      <td>11.000000</td>\n",
       "      <td>80.000000</td>\n",
       "      <td>90.000000</td>\n",
       "      <td>52.000000</td>\n",
       "      <td>22.000000</td>\n",
       "      <td>7.000000</td>\n",
       "      <td>8.000000</td>\n",
       "      <td>7.000000</td>\n",
       "      <td>2.000000</td>\n",
       "      <td>11.000000</td>\n",
       "      <td>5.630000</td>\n",
       "      <td>7.000000</td>\n",
       "      <td>3.000000</td>\n",
       "      <td>2.000000</td>\n",
       "      <td>3.000000</td>\n",
       "      <td>3.000000</td>\n",
       "      <td>1.000000</td>\n",
       "    </tr>\n",
       "  </tbody>\n",
       "</table>\n",
       "</div>"
      ],
      "text/plain": [
       "              90s         SCA       SCA90  SCA_PassLive  SCA_PassDead  \\\n",
       "count  702.000000  702.000000  702.000000    702.000000    702.000000   \n",
       "mean     5.119373   10.200855    2.273575      7.602564      0.809117   \n",
       "std      3.526674   11.548365    4.174822      8.133876      2.332069   \n",
       "min      0.000000    0.000000    0.000000      0.000000      0.000000   \n",
       "25%      1.900000    2.000000    0.632500      1.000000      0.000000   \n",
       "50%      4.700000    6.000000    1.655000      5.000000      0.000000   \n",
       "75%      8.400000   14.000000    2.950000     11.000000      1.000000   \n",
       "max     11.000000   80.000000   90.000000     52.000000     22.000000   \n",
       "\n",
       "           SCA_TO    SCA_Shot     SCA_Fld  SCA_DefAct         GCA       GCA90  \\\n",
       "count  702.000000  702.000000  702.000000  702.000000  702.000000  702.000000   \n",
       "mean     0.447293    0.653846    0.519943    0.168091    1.072650    0.200157   \n",
       "std      1.053186    1.170784    1.011504    0.427589    1.667553    0.384680   \n",
       "min      0.000000    0.000000    0.000000    0.000000    0.000000    0.000000   \n",
       "25%      0.000000    0.000000    0.000000    0.000000    0.000000    0.000000   \n",
       "50%      0.000000    0.000000    0.000000    0.000000    0.000000    0.000000   \n",
       "75%      0.000000    1.000000    1.000000    0.000000    2.000000    0.290000   \n",
       "max      7.000000    8.000000    7.000000    2.000000   11.000000    5.630000   \n",
       "\n",
       "       GCA_PassLive  GCA_PassDead      GCA_TO    GCA_Shot     GCA_Fld  \\\n",
       "count    702.000000    702.000000  702.000000  702.000000  702.000000   \n",
       "mean       0.766382      0.064103    0.047009    0.091168    0.088319   \n",
       "std        1.277305      0.311719    0.218439    0.325268    0.343109   \n",
       "min        0.000000      0.000000    0.000000    0.000000    0.000000   \n",
       "25%        0.000000      0.000000    0.000000    0.000000    0.000000   \n",
       "50%        0.000000      0.000000    0.000000    0.000000    0.000000   \n",
       "75%        1.000000      0.000000    0.000000    0.000000    0.000000   \n",
       "max        7.000000      3.000000    2.000000    3.000000    3.000000   \n",
       "\n",
       "       GCA_DefAct  \n",
       "count  702.000000  \n",
       "mean     0.015670  \n",
       "std      0.124282  \n",
       "min      0.000000  \n",
       "25%      0.000000  \n",
       "50%      0.000000  \n",
       "75%      0.000000  \n",
       "max      1.000000  "
      ]
     },
     "execution_count": 34,
     "metadata": {},
     "output_type": "execute_result"
    }
   ],
   "source": [
    "df.describe()"
   ]
  },
  {
   "cell_type": "code",
   "execution_count": 35,
   "metadata": {},
   "outputs": [],
   "source": [
    "sca_mf = df[df['Pos'].str.contains('MF')]"
   ]
  },
  {
   "cell_type": "code",
   "execution_count": 36,
   "metadata": {},
   "outputs": [
    {
     "data": {
      "text/html": [
       "<div>\n",
       "<style scoped>\n",
       "    .dataframe tbody tr th:only-of-type {\n",
       "        vertical-align: middle;\n",
       "    }\n",
       "\n",
       "    .dataframe tbody tr th {\n",
       "        vertical-align: top;\n",
       "    }\n",
       "\n",
       "    .dataframe thead th {\n",
       "        text-align: right;\n",
       "    }\n",
       "</style>\n",
       "<table border=\"1\" class=\"dataframe\">\n",
       "  <thead>\n",
       "    <tr style=\"text-align: right;\">\n",
       "      <th></th>\n",
       "      <th>Player</th>\n",
       "      <th>Pos</th>\n",
       "      <th>Squad</th>\n",
       "      <th>Age</th>\n",
       "      <th>90s</th>\n",
       "      <th>SCA</th>\n",
       "      <th>SCA90</th>\n",
       "      <th>SCA_PassLive</th>\n",
       "      <th>SCA_PassDead</th>\n",
       "      <th>SCA_TO</th>\n",
       "      <th>...</th>\n",
       "      <th>SCA_Fld</th>\n",
       "      <th>SCA_DefAct</th>\n",
       "      <th>GCA</th>\n",
       "      <th>GCA90</th>\n",
       "      <th>GCA_PassLive</th>\n",
       "      <th>GCA_PassDead</th>\n",
       "      <th>GCA_TO</th>\n",
       "      <th>GCA_Shot</th>\n",
       "      <th>GCA_Fld</th>\n",
       "      <th>GCA_DefAct</th>\n",
       "    </tr>\n",
       "  </thead>\n",
       "  <tbody>\n",
       "    <tr>\n",
       "      <th>2</th>\n",
       "      <td>Kellyn Acosta</td>\n",
       "      <td>MF</td>\n",
       "      <td>Chicago Fire</td>\n",
       "      <td>29-286</td>\n",
       "      <td>4.3</td>\n",
       "      <td>5</td>\n",
       "      <td>1.16</td>\n",
       "      <td>5</td>\n",
       "      <td>0</td>\n",
       "      <td>0</td>\n",
       "      <td>...</td>\n",
       "      <td>0</td>\n",
       "      <td>0</td>\n",
       "      <td>0</td>\n",
       "      <td>0.00</td>\n",
       "      <td>0</td>\n",
       "      <td>0</td>\n",
       "      <td>0</td>\n",
       "      <td>0</td>\n",
       "      <td>0</td>\n",
       "      <td>0</td>\n",
       "    </tr>\n",
       "    <tr>\n",
       "      <th>3</th>\n",
       "      <td>Luciano Acosta</td>\n",
       "      <td>MF</td>\n",
       "      <td>FC Dallas</td>\n",
       "      <td>30-340</td>\n",
       "      <td>10.2</td>\n",
       "      <td>51</td>\n",
       "      <td>5.02</td>\n",
       "      <td>35</td>\n",
       "      <td>13</td>\n",
       "      <td>0</td>\n",
       "      <td>...</td>\n",
       "      <td>2</td>\n",
       "      <td>1</td>\n",
       "      <td>2</td>\n",
       "      <td>0.20</td>\n",
       "      <td>2</td>\n",
       "      <td>0</td>\n",
       "      <td>0</td>\n",
       "      <td>0</td>\n",
       "      <td>0</td>\n",
       "      <td>0</td>\n",
       "    </tr>\n",
       "    <tr>\n",
       "      <th>6</th>\n",
       "      <td>Stephen Afrifa</td>\n",
       "      <td>FW,MF</td>\n",
       "      <td>Sporting KC</td>\n",
       "      <td>24-076</td>\n",
       "      <td>0.1</td>\n",
       "      <td>2</td>\n",
       "      <td>22.50</td>\n",
       "      <td>0</td>\n",
       "      <td>0</td>\n",
       "      <td>1</td>\n",
       "      <td>...</td>\n",
       "      <td>1</td>\n",
       "      <td>0</td>\n",
       "      <td>0</td>\n",
       "      <td>0.00</td>\n",
       "      <td>0</td>\n",
       "      <td>0</td>\n",
       "      <td>0</td>\n",
       "      <td>0</td>\n",
       "      <td>0</td>\n",
       "      <td>0</td>\n",
       "    </tr>\n",
       "    <tr>\n",
       "      <th>14</th>\n",
       "      <td>Tadeo Allende</td>\n",
       "      <td>FW,MF</td>\n",
       "      <td>Inter Miami</td>\n",
       "      <td>26-075</td>\n",
       "      <td>4.5</td>\n",
       "      <td>9</td>\n",
       "      <td>2.01</td>\n",
       "      <td>6</td>\n",
       "      <td>0</td>\n",
       "      <td>2</td>\n",
       "      <td>...</td>\n",
       "      <td>0</td>\n",
       "      <td>0</td>\n",
       "      <td>1</td>\n",
       "      <td>0.22</td>\n",
       "      <td>1</td>\n",
       "      <td>0</td>\n",
       "      <td>0</td>\n",
       "      <td>0</td>\n",
       "      <td>0</td>\n",
       "      <td>0</td>\n",
       "    </tr>\n",
       "    <tr>\n",
       "      <th>15</th>\n",
       "      <td>Miguel Almirón</td>\n",
       "      <td>FW,MF</td>\n",
       "      <td>Atlanta Utd</td>\n",
       "      <td>31-085</td>\n",
       "      <td>9.9</td>\n",
       "      <td>42</td>\n",
       "      <td>4.26</td>\n",
       "      <td>30</td>\n",
       "      <td>1</td>\n",
       "      <td>3</td>\n",
       "      <td>...</td>\n",
       "      <td>3</td>\n",
       "      <td>2</td>\n",
       "      <td>2</td>\n",
       "      <td>0.20</td>\n",
       "      <td>2</td>\n",
       "      <td>0</td>\n",
       "      <td>0</td>\n",
       "      <td>0</td>\n",
       "      <td>0</td>\n",
       "      <td>0</td>\n",
       "    </tr>\n",
       "  </tbody>\n",
       "</table>\n",
       "<p>5 rows × 21 columns</p>\n",
       "</div>"
      ],
      "text/plain": [
       "            Player    Pos         Squad     Age   90s  SCA  SCA90  \\\n",
       "2    Kellyn Acosta     MF  Chicago Fire  29-286   4.3    5   1.16   \n",
       "3   Luciano Acosta     MF     FC Dallas  30-340  10.2   51   5.02   \n",
       "6   Stephen Afrifa  FW,MF   Sporting KC  24-076   0.1    2  22.50   \n",
       "14   Tadeo Allende  FW,MF   Inter Miami  26-075   4.5    9   2.01   \n",
       "15  Miguel Almirón  FW,MF   Atlanta Utd  31-085   9.9   42   4.26   \n",
       "\n",
       "    SCA_PassLive  SCA_PassDead  SCA_TO  ...  SCA_Fld  SCA_DefAct  GCA  GCA90  \\\n",
       "2              5             0       0  ...        0           0    0   0.00   \n",
       "3             35            13       0  ...        2           1    2   0.20   \n",
       "6              0             0       1  ...        1           0    0   0.00   \n",
       "14             6             0       2  ...        0           0    1   0.22   \n",
       "15            30             1       3  ...        3           2    2   0.20   \n",
       "\n",
       "    GCA_PassLive  GCA_PassDead  GCA_TO  GCA_Shot  GCA_Fld  GCA_DefAct  \n",
       "2              0             0       0         0        0           0  \n",
       "3              2             0       0         0        0           0  \n",
       "6              0             0       0         0        0           0  \n",
       "14             1             0       0         0        0           0  \n",
       "15             2             0       0         0        0           0  \n",
       "\n",
       "[5 rows x 21 columns]"
      ]
     },
     "execution_count": 36,
     "metadata": {},
     "output_type": "execute_result"
    }
   ],
   "source": [
    "sca_mf.head()"
   ]
  },
  {
   "cell_type": "code",
   "execution_count": 37,
   "metadata": {},
   "outputs": [],
   "source": [
    "#Bench marking the top creative players with more than 16 shot creating actions from live-ball passes\n",
    "\n",
    "sca_best = sca_mf[(sca_mf['SCA_PassLive'] > 16) & (sca_mf['90s'] > 5.0)].reset_index(drop = True)"
   ]
  },
  {
   "cell_type": "code",
   "execution_count": 38,
   "metadata": {},
   "outputs": [
    {
     "data": {
      "text/html": [
       "<div>\n",
       "<style scoped>\n",
       "    .dataframe tbody tr th:only-of-type {\n",
       "        vertical-align: middle;\n",
       "    }\n",
       "\n",
       "    .dataframe tbody tr th {\n",
       "        vertical-align: top;\n",
       "    }\n",
       "\n",
       "    .dataframe thead th {\n",
       "        text-align: right;\n",
       "    }\n",
       "</style>\n",
       "<table border=\"1\" class=\"dataframe\">\n",
       "  <thead>\n",
       "    <tr style=\"text-align: right;\">\n",
       "      <th></th>\n",
       "      <th>Player</th>\n",
       "      <th>Pos</th>\n",
       "      <th>Squad</th>\n",
       "      <th>Age</th>\n",
       "      <th>90s</th>\n",
       "      <th>SCA</th>\n",
       "      <th>SCA90</th>\n",
       "      <th>SCA_PassLive</th>\n",
       "      <th>SCA_PassDead</th>\n",
       "      <th>SCA_TO</th>\n",
       "      <th>...</th>\n",
       "      <th>SCA_Fld</th>\n",
       "      <th>SCA_DefAct</th>\n",
       "      <th>GCA</th>\n",
       "      <th>GCA90</th>\n",
       "      <th>GCA_PassLive</th>\n",
       "      <th>GCA_PassDead</th>\n",
       "      <th>GCA_TO</th>\n",
       "      <th>GCA_Shot</th>\n",
       "      <th>GCA_Fld</th>\n",
       "      <th>GCA_DefAct</th>\n",
       "    </tr>\n",
       "  </thead>\n",
       "  <tbody>\n",
       "    <tr>\n",
       "      <th>0</th>\n",
       "      <td>Luciano Acosta</td>\n",
       "      <td>MF</td>\n",
       "      <td>FC Dallas</td>\n",
       "      <td>30-340</td>\n",
       "      <td>10.2</td>\n",
       "      <td>51</td>\n",
       "      <td>5.02</td>\n",
       "      <td>35</td>\n",
       "      <td>13</td>\n",
       "      <td>0</td>\n",
       "      <td>...</td>\n",
       "      <td>2</td>\n",
       "      <td>1</td>\n",
       "      <td>2</td>\n",
       "      <td>0.20</td>\n",
       "      <td>2</td>\n",
       "      <td>0</td>\n",
       "      <td>0</td>\n",
       "      <td>0</td>\n",
       "      <td>0</td>\n",
       "      <td>0</td>\n",
       "    </tr>\n",
       "    <tr>\n",
       "      <th>1</th>\n",
       "      <td>Miguel Almirón</td>\n",
       "      <td>FW,MF</td>\n",
       "      <td>Atlanta Utd</td>\n",
       "      <td>31-085</td>\n",
       "      <td>9.9</td>\n",
       "      <td>42</td>\n",
       "      <td>4.26</td>\n",
       "      <td>30</td>\n",
       "      <td>1</td>\n",
       "      <td>3</td>\n",
       "      <td>...</td>\n",
       "      <td>3</td>\n",
       "      <td>2</td>\n",
       "      <td>2</td>\n",
       "      <td>0.20</td>\n",
       "      <td>2</td>\n",
       "      <td>0</td>\n",
       "      <td>0</td>\n",
       "      <td>0</td>\n",
       "      <td>0</td>\n",
       "      <td>0</td>\n",
       "    </tr>\n",
       "    <tr>\n",
       "      <th>2</th>\n",
       "      <td>Iván Angulo</td>\n",
       "      <td>FW,MF</td>\n",
       "      <td>Orlando City</td>\n",
       "      <td>26-045</td>\n",
       "      <td>9.4</td>\n",
       "      <td>23</td>\n",
       "      <td>2.45</td>\n",
       "      <td>21</td>\n",
       "      <td>0</td>\n",
       "      <td>1</td>\n",
       "      <td>...</td>\n",
       "      <td>0</td>\n",
       "      <td>1</td>\n",
       "      <td>1</td>\n",
       "      <td>0.11</td>\n",
       "      <td>1</td>\n",
       "      <td>0</td>\n",
       "      <td>0</td>\n",
       "      <td>0</td>\n",
       "      <td>0</td>\n",
       "      <td>0</td>\n",
       "    </tr>\n",
       "    <tr>\n",
       "      <th>3</th>\n",
       "      <td>Antony</td>\n",
       "      <td>FW,MF</td>\n",
       "      <td>Portland Timbers</td>\n",
       "      <td>23-240</td>\n",
       "      <td>9.9</td>\n",
       "      <td>31</td>\n",
       "      <td>3.13</td>\n",
       "      <td>28</td>\n",
       "      <td>0</td>\n",
       "      <td>1</td>\n",
       "      <td>...</td>\n",
       "      <td>1</td>\n",
       "      <td>0</td>\n",
       "      <td>8</td>\n",
       "      <td>0.81</td>\n",
       "      <td>7</td>\n",
       "      <td>0</td>\n",
       "      <td>1</td>\n",
       "      <td>0</td>\n",
       "      <td>0</td>\n",
       "      <td>0</td>\n",
       "    </tr>\n",
       "    <tr>\n",
       "      <th>4</th>\n",
       "      <td>Cristian Arango</td>\n",
       "      <td>MF,FW</td>\n",
       "      <td>SJ Earthquakes</td>\n",
       "      <td>30-058</td>\n",
       "      <td>10.8</td>\n",
       "      <td>38</td>\n",
       "      <td>3.53</td>\n",
       "      <td>28</td>\n",
       "      <td>1</td>\n",
       "      <td>2</td>\n",
       "      <td>...</td>\n",
       "      <td>3</td>\n",
       "      <td>1</td>\n",
       "      <td>5</td>\n",
       "      <td>0.46</td>\n",
       "      <td>5</td>\n",
       "      <td>0</td>\n",
       "      <td>0</td>\n",
       "      <td>0</td>\n",
       "      <td>0</td>\n",
       "      <td>0</td>\n",
       "    </tr>\n",
       "  </tbody>\n",
       "</table>\n",
       "<p>5 rows × 21 columns</p>\n",
       "</div>"
      ],
      "text/plain": [
       "            Player    Pos             Squad     Age   90s  SCA  SCA90  \\\n",
       "0   Luciano Acosta     MF         FC Dallas  30-340  10.2   51   5.02   \n",
       "1   Miguel Almirón  FW,MF       Atlanta Utd  31-085   9.9   42   4.26   \n",
       "2      Iván Angulo  FW,MF      Orlando City  26-045   9.4   23   2.45   \n",
       "3           Antony  FW,MF  Portland Timbers  23-240   9.9   31   3.13   \n",
       "4  Cristian Arango  MF,FW    SJ Earthquakes  30-058  10.8   38   3.53   \n",
       "\n",
       "   SCA_PassLive  SCA_PassDead  SCA_TO  ...  SCA_Fld  SCA_DefAct  GCA  GCA90  \\\n",
       "0            35            13       0  ...        2           1    2   0.20   \n",
       "1            30             1       3  ...        3           2    2   0.20   \n",
       "2            21             0       1  ...        0           1    1   0.11   \n",
       "3            28             0       1  ...        1           0    8   0.81   \n",
       "4            28             1       2  ...        3           1    5   0.46   \n",
       "\n",
       "   GCA_PassLive  GCA_PassDead  GCA_TO  GCA_Shot  GCA_Fld  GCA_DefAct  \n",
       "0             2             0       0         0        0           0  \n",
       "1             2             0       0         0        0           0  \n",
       "2             1             0       0         0        0           0  \n",
       "3             7             0       1         0        0           0  \n",
       "4             5             0       0         0        0           0  \n",
       "\n",
       "[5 rows x 21 columns]"
      ]
     },
     "execution_count": 38,
     "metadata": {},
     "output_type": "execute_result"
    }
   ],
   "source": [
    "sca_best.head()"
   ]
  },
  {
   "cell_type": "code",
   "execution_count": null,
   "metadata": {},
   "outputs": [],
   "source": []
  },
  {
   "cell_type": "code",
   "execution_count": 39,
   "metadata": {},
   "outputs": [
    {
     "data": {
      "text/plain": [
       "\"fig_bestSCA = px.scatter(sca_best, x = sca_best['SCA_PassLive']/sca_best['90s'], y = sca_best['SCA']/sca_best['90s'], size = 'GCA', hover_name = 'GCA', text = 'Player', color = sca_best['SCA_PassLive']/sca_best['90s'])\\nfig_bestSCA.update_traces(textposition = 'bottom center', textfont=dict(size=10))\\nfig_bestSCA.update_layout(xaxis_title = 'Shot-Creating Actions from Live Passes', yaxis_title = 'Shot-Creating Actions', width = 1200, height = 700, paper_bgcolor='White',\\n                     title={\\n        'text': '<b>MLS 2025: Shot Creating Actions (Per 90 minutes) </b><br><sup>Data Source: Fbref</sup>',\\n        'y':0.95,\\n        'x':0.5,\\n        'xanchor': 'center',\\n        'yanchor': 'top'\\n                     })\""
      ]
     },
     "execution_count": 39,
     "metadata": {},
     "output_type": "execute_result"
    }
   ],
   "source": [
    "'''fig_bestSCA = px.scatter(sca_best, x = sca_best['SCA_PassLive']/sca_best['90s'], y = sca_best['SCA']/sca_best['90s'], size = 'GCA', hover_name = 'GCA', text = 'Player', color = sca_best['SCA_PassLive']/sca_best['90s'])\n",
    "fig_bestSCA.update_traces(textposition = 'bottom center', textfont=dict(size=10))\n",
    "fig_bestSCA.update_layout(xaxis_title = 'Shot-Creating Actions from Live Passes', yaxis_title = 'Shot-Creating Actions', width = 1200, height = 700, paper_bgcolor='White',\n",
    "                     title={\n",
    "        'text': '<b>MLS 2025: Shot Creating Actions (Per 90 minutes) </b><br><sup>Data Source: Fbref</sup>',\n",
    "        'y':0.95,\n",
    "        'x':0.5,\n",
    "        'xanchor': 'center',\n",
    "        'yanchor': 'top'\n",
    "                     })''' "
   ]
  },
  {
   "cell_type": "code",
   "execution_count": 52,
   "metadata": {},
   "outputs": [
    {
     "data": {
      "application/vnd.plotly.v1+json": {
       "config": {
        "plotlyServerURL": "https://plot.ly"
       },
       "data": [
        {
         "hovertemplate": "<b>%{hovertext}</b><br><br>Squad=FC Dallas<br>x=%{x}<br>y=%{y}<br>GCA=%{marker.size}<br>Player=%{text}<extra></extra>",
         "hovertext": [
          "FC Dallas"
         ],
         "legendgroup": "FC Dallas",
         "marker": {
          "color": "#636efa",
          "size": {
           "bdata": "Ag==",
           "dtype": "i1"
          },
          "sizemode": "area",
          "sizeref": 0.0275,
          "symbol": "circle"
         },
         "mode": "markers+text",
         "name": "FC Dallas",
         "orientation": "v",
         "showlegend": true,
         "text": [
          "Luciano Acosta"
         ],
         "textfont": {
          "size": 10
         },
         "textposition": "bottom center",
         "type": "scatter",
         "x": {
          "bdata": "dHNzc3NzC0A=",
          "dtype": "f8"
         },
         "xaxis": "x",
         "y": {
          "bdata": "AAAAAAAAFEA=",
          "dtype": "f8"
         },
         "yaxis": "y"
        },
        {
         "hovertemplate": "<b>%{hovertext}</b><br><br>Squad=Atlanta Utd<br>x=%{x}<br>y=%{y}<br>GCA=%{marker.size}<br>Player=%{text}<extra></extra>",
         "hovertext": [
          "Atlanta Utd",
          "Atlanta Utd"
         ],
         "legendgroup": "Atlanta Utd",
         "marker": {
          "color": "#EF553B",
          "size": {
           "bdata": "AgE=",
           "dtype": "i1"
          },
          "sizemode": "area",
          "sizeref": 0.0275,
          "symbol": "circle"
         },
         "mode": "markers+text",
         "name": "Atlanta Utd",
         "orientation": "v",
         "showlegend": true,
         "text": [
          "Miguel Almirón",
          "Aleksei Miranchuk"
         ],
         "textfont": {
          "size": 10
         },
         "textposition": "bottom center",
         "type": "scatter",
         "x": {
          "bdata": "Pvjggw8+CEBrHuSuny0GQA==",
          "dtype": "f8"
         },
         "xaxis": "x",
         "y": {
          "bdata": "+OCDDz74EEAVmHRqHuQOQA==",
          "dtype": "f8"
         },
         "yaxis": "y"
        },
        {
         "hovertemplate": "<b>%{hovertext}</b><br><br>Squad=Orlando City<br>x=%{x}<br>y=%{y}<br>GCA=%{marker.size}<br>Player=%{text}<extra></extra>",
         "hovertext": [
          "Orlando City",
          "Orlando City",
          "Orlando City",
          "Orlando City",
          "Orlando City"
         ],
         "legendgroup": "Orlando City",
         "marker": {
          "color": "#00cc96",
          "size": {
           "bdata": "AQcHBQQ=",
           "dtype": "i1"
          },
          "sizemode": "area",
          "sizeref": 0.0275,
          "symbol": "circle"
         },
         "mode": "markers+text",
         "name": "Orlando City",
         "orientation": "v",
         "showlegend": true,
         "text": [
          "Iván Angulo",
          "Eduard Atuesta",
          "Luis Muriel",
          "Martín Ojeda",
          "Marco Pašalić"
         ],
         "textfont": {
          "size": 10
         },
         "textposition": "bottom center",
         "type": "scatter",
         "x": {
          "bdata": "Z6O+s1HfAUC1tLS0tLQIQAAAAAAAAAhAEYpQhCIUEUALYnIFMbkCQA==",
          "dtype": "f8"
         },
         "xaxis": "x",
         "y": {
          "bdata": "riAmVxCTA0DT0tLS0tISQHIcx3EcxxFAC1zgAhe4GEA8G/WdjfoGQA==",
          "dtype": "f8"
         },
         "yaxis": "y"
        },
        {
         "hovertemplate": "<b>%{hovertext}</b><br><br>Squad=Portland Timbers<br>x=%{x}<br>y=%{y}<br>GCA=%{marker.size}<br>Player=%{text}<extra></extra>",
         "hovertext": [
          "Portland Timbers",
          "Portland Timbers"
         ],
         "legendgroup": "Portland Timbers",
         "marker": {
          "color": "#ab63fa",
          "size": {
           "bdata": "CAc=",
           "dtype": "i1"
          },
          "sizemode": "area",
          "sizeref": 0.0275,
          "symbol": "circle"
         },
         "mode": "markers+text",
         "name": "Portland Timbers",
         "orientation": "v",
         "showlegend": true,
         "text": [
          "Antony",
          "David Costa"
         ],
         "textfont": {
          "size": 10
         },
         "textposition": "bottom center",
         "type": "scatter",
         "x": {
          "bdata": "S4Fav1KgBkARn0AqOS8LQA==",
          "dtype": "f8"
         },
         "xaxis": "x",
         "y": {
          "bdata": "tzMk5u0MCUAl52URn0ASQA==",
          "dtype": "f8"
         },
         "yaxis": "y"
        },
        {
         "hovertemplate": "<b>%{hovertext}</b><br><br>Squad=SJ Earthquakes<br>x=%{x}<br>y=%{y}<br>GCA=%{marker.size}<br>Player=%{text}<extra></extra>",
         "hovertext": [
          "SJ Earthquakes",
          "SJ Earthquakes",
          "SJ Earthquakes",
          "SJ Earthquakes"
         ],
         "legendgroup": "SJ Earthquakes",
         "marker": {
          "color": "#FFA15A",
          "size": {
           "bdata": "BQsDBg==",
           "dtype": "i1"
          },
          "sizemode": "area",
          "sizeref": 0.0275,
          "symbol": "circle"
         },
         "mode": "markers+text",
         "name": "SJ Earthquakes",
         "orientation": "v",
         "showlegend": true,
         "text": [
          "Cristian Arango",
          "Cristian Espinoza",
          "Ian Harkes",
          "Beau Leroux"
         ],
         "textfont": {
          "size": 10
         },
         "textposition": "bottom center",
         "type": "scatter",
         "x": {
          "bdata": "2ktoL6G9BEDpoosuuugSQKWUUkoppQRAfBphuacRBkA=",
          "dtype": "f8"
         },
         "xaxis": "x",
         "y": {
          "bdata": "XkJ7Ce0lDEAXXXTRRRcdQF122WWXXQZAG2G5pxGWC0A=",
          "dtype": "f8"
         },
         "yaxis": "y"
        },
        {
         "hovertemplate": "<b>%{hovertext}</b><br><br>Squad=Columbus Crew<br>x=%{x}<br>y=%{y}<br>GCA=%{marker.size}<br>Player=%{text}<extra></extra>",
         "hovertext": [
          "Columbus Crew",
          "Columbus Crew",
          "Columbus Crew",
          "Columbus Crew"
         ],
         "legendgroup": "Columbus Crew",
         "marker": {
          "color": "#19d3f3",
          "size": {
           "bdata": "BAMFAw==",
           "dtype": "i1"
          },
          "sizemode": "area",
          "sizeref": 0.0275,
          "symbol": "circle"
         },
         "mode": "markers+text",
         "name": "Columbus Crew",
         "orientation": "v",
         "showlegend": true,
         "text": [
          "Maximilian Arfsten",
          "Dylan Chambost",
          "Mohamed Farsi",
          "Diego Rossi"
         ],
         "textfont": {
          "size": 10
         },
         "textposition": "bottom center",
         "type": "scatter",
         "x": {
          "bdata": "AAAAAAAAAEBMaC+hvYQCQGc84xnPeAZAEtpLaC+h/T8=",
          "dtype": "f8"
         },
         "xaxis": "x",
         "y": {
          "bdata": "zczMzMzMBED2EtpLaC8JQIQiFKEIRQhA9hLaS2gvCUA=",
          "dtype": "f8"
         },
         "yaxis": "y"
        },
        {
         "hovertemplate": "<b>%{hovertext}</b><br><br>Squad=Colorado Rapids<br>x=%{x}<br>y=%{y}<br>GCA=%{marker.size}<br>Player=%{text}<extra></extra>",
         "hovertext": [
          "Colorado Rapids",
          "Colorado Rapids",
          "Colorado Rapids"
         ],
         "legendgroup": "Colorado Rapids",
         "marker": {
          "color": "#FF6692",
          "size": {
           "bdata": "AAQH",
           "dtype": "i1"
          },
          "sizemode": "area",
          "sizeref": 0.0275,
          "symbol": "circle"
         },
         "mode": "markers+text",
         "name": "Colorado Rapids",
         "orientation": "v",
         "showlegend": true,
         "text": [
          "Joshua Atencio",
          "Cole Bassett",
          "Djordje Mihailovic"
         ],
         "textfont": {
          "size": 10
         },
         "textposition": "bottom center",
         "type": "scatter",
         "x": {
          "bdata": "hmEYhmEYAkD1nY36zkYFQI7jOI7jOAZA",
          "dtype": "f8"
         },
         "xaxis": "x",
         "y": {
          "bdata": "wzAMwzAMA0CCmFxBTK4IQCa0l9BeQhNA",
          "dtype": "f8"
         },
         "yaxis": "y"
        },
        {
         "hovertemplate": "<b>%{hovertext}</b><br><br>Squad=Houston Dynamo<br>x=%{x}<br>y=%{y}<br>GCA=%{marker.size}<br>Player=%{text}<extra></extra>",
         "hovertext": [
          "Houston Dynamo",
          "Houston Dynamo",
          "Houston Dynamo"
         ],
         "legendgroup": "Houston Dynamo",
         "marker": {
          "color": "#B6E880",
          "size": {
           "bdata": "AgME",
           "dtype": "i1"
          },
          "sizemode": "area",
          "sizeref": 0.0275,
          "symbol": "circle"
         },
         "mode": "markers+text",
         "name": "Houston Dynamo",
         "orientation": "v",
         "showlegend": true,
         "text": [
          "Amine Bassi",
          "Sebastian Kowalczyk",
          "Jack McGlynn"
         ],
         "textfont": {
          "size": 10
         },
         "textposition": "bottom center",
         "type": "scatter",
         "x": {
          "bdata": "AAAAAAAAAECO4ziO4zj+P+tDY31orAdA",
          "dtype": "f8"
         },
         "xaxis": "x",
         "y": {
          "bdata": "AAAAAAAABEBVVVVVVVUFQJdT8HIKXhJA",
          "dtype": "f8"
         },
         "yaxis": "y"
        },
        {
         "hovertemplate": "<b>%{hovertext}</b><br><br>Squad=Vancouver W'caps<br>x=%{x}<br>y=%{y}<br>GCA=%{marker.size}<br>Player=%{text}<extra></extra>",
         "hovertext": [
          "Vancouver W'caps",
          "Vancouver W'caps",
          "Vancouver W'caps"
         ],
         "legendgroup": "Vancouver W'caps",
         "marker": {
          "color": "#FF97FF",
          "size": {
           "bdata": "AgUG",
           "dtype": "i1"
          },
          "sizemode": "area",
          "sizeref": 0.0275,
          "symbol": "circle"
         },
         "mode": "markers+text",
         "name": "Vancouver W'caps",
         "orientation": "v",
         "showlegend": true,
         "text": [
          "Sebastian Berhalter",
          "Jean-Claude Ngando",
          "Pedro Vite"
         ],
         "textfont": {
          "size": 10
         },
         "textposition": "bottom center",
         "type": "scatter",
         "x": {
          "bdata": "hmEYhmEYAkDxqzGRHqgMQL6E9hLaSxBA",
          "dtype": "f8"
         },
         "xaxis": "x",
         "y": {
          "bdata": "SZIkSZIkEUB2C78aE+kRQLjmh0XKwBNA",
          "dtype": "f8"
         },
         "yaxis": "y"
        },
        {
         "hovertemplate": "<b>%{hovertext}</b><br><br>Squad=Toronto FC<br>x=%{x}<br>y=%{y}<br>GCA=%{marker.size}<br>Player=%{text}<extra></extra>",
         "hovertext": [
          "Toronto FC"
         ],
         "legendgroup": "Toronto FC",
         "marker": {
          "color": "#FECB52",
          "size": {
           "bdata": "Aw==",
           "dtype": "i1"
          },
          "sizemode": "area",
          "sizeref": 0.0275,
          "symbol": "circle"
         },
         "mode": "markers+text",
         "name": "Toronto FC",
         "orientation": "v",
         "showlegend": true,
         "text": [
          "Federico Bernardeschi"
         ],
         "textfont": {
          "size": 10
         },
         "textposition": "bottom center",
         "type": "scatter",
         "x": {
          "bdata": "AAAAAAAABEA=",
          "dtype": "f8"
         },
         "xaxis": "x",
         "y": {
          "bdata": "hPYS2ktoC0A=",
          "dtype": "f8"
         },
         "yaxis": "y"
        },
        {
         "hovertemplate": "<b>%{hovertext}</b><br><br>Squad=Charlotte<br>x=%{x}<br>y=%{y}<br>GCA=%{marker.size}<br>Player=%{text}<extra></extra>",
         "hovertext": [
          "Charlotte",
          "Charlotte",
          "Charlotte"
         ],
         "legendgroup": "Charlotte",
         "marker": {
          "color": "#636efa",
          "size": {
           "bdata": "BwID",
           "dtype": "i1"
          },
          "sizemode": "area",
          "sizeref": 0.0275,
          "symbol": "circle"
         },
         "mode": "markers+text",
         "name": "Charlotte",
         "orientation": "v",
         "showlegend": true,
         "text": [
          "Pep Biel",
          "Ashley Westwood",
          "Wilfried Zaha"
         ],
         "textfont": {
          "size": 10
         },
         "textposition": "bottom center",
         "type": "scatter",
         "x": {
          "bdata": "eHh4eHh4CECjiy666KL7P47jOI7jOAZA",
          "dtype": "f8"
         },
         "xaxis": "x",
         "y": {
          "bdata": "Hh4eHh4eDkCMLrrooov+P1VVVVVVVQ1A",
          "dtype": "f8"
         },
         "yaxis": "y"
        },
        {
         "hovertemplate": "<b>%{hovertext}</b><br><br>Squad=FC Cincinnati<br>x=%{x}<br>y=%{y}<br>GCA=%{marker.size}<br>Player=%{text}<extra></extra>",
         "hovertext": [
          "FC Cincinnati",
          "FC Cincinnati",
          "FC Cincinnati"
         ],
         "legendgroup": "FC Cincinnati",
         "marker": {
          "color": "#EF553B",
          "size": {
           "bdata": "AwQD",
           "dtype": "i1"
          },
          "sizemode": "area",
          "sizeref": 0.0275,
          "symbol": "circle"
         },
         "mode": "markers+text",
         "name": "FC Cincinnati",
         "orientation": "v",
         "showlegend": true,
         "text": [
          "Pavel Bucha",
          "Evander",
          "Luca Orellano"
         ],
         "textfont": {
          "size": 10
         },
         "textposition": "bottom center",
         "type": "scatter",
         "x": {
          "bdata": "39mo72zUB0AAAAAAAAAGQHRkz0BUOgJA",
          "dtype": "f8"
         },
         "xaxis": "x",
         "y": {
          "bdata": "s1Hf2ajvDEAAAAAAAAATQG7C/K4WNxFA",
          "dtype": "f8"
         },
         "yaxis": "y"
        },
        {
         "hovertemplate": "<b>%{hovertext}</b><br><br>Squad=Austin<br>x=%{x}<br>y=%{y}<br>GCA=%{marker.size}<br>Player=%{text}<extra></extra>",
         "hovertext": [
          "Austin",
          "Austin",
          "Austin"
         ],
         "legendgroup": "Austin",
         "marker": {
          "color": "#00cc96",
          "size": {
           "bdata": "AgID",
           "dtype": "i1"
          },
          "sizemode": "area",
          "sizeref": 0.0275,
          "symbol": "circle"
         },
         "mode": "markers+text",
         "name": "Austin",
         "orientation": "v",
         "showlegend": true,
         "text": [
          "Osman Bukari",
          "Daniel Pereira",
          "Owen Wolff"
         ],
         "textfont": {
          "size": 10
         },
         "textposition": "bottom center",
         "type": "scatter",
         "x": {
          "bdata": "a1eidiVqB0CGYRiGYRgCQM3MzMzMzPw/",
          "dtype": "f8"
         },
         "xaxis": "x",
         "y": {
          "bdata": "OR+D8zE4D0D0PM/zPM8HQGZmZmZmZgpA",
          "dtype": "f8"
         },
         "yaxis": "y"
        },
        {
         "hovertemplate": "<b>%{hovertext}</b><br><br>Squad=LAFC<br>x=%{x}<br>y=%{y}<br>GCA=%{marker.size}<br>Player=%{text}<extra></extra>",
         "hovertext": [
          "LAFC",
          "LAFC",
          "LAFC"
         ],
         "legendgroup": "LAFC",
         "marker": {
          "color": "#ab63fa",
          "size": {
           "bdata": "AwED",
           "dtype": "i1"
          },
          "sizemode": "area",
          "sizeref": 0.0275,
          "symbol": "circle"
         },
         "mode": "markers+text",
         "name": "LAFC",
         "orientation": "v",
         "showlegend": true,
         "text": [
          "Marky Delgado",
          "Ryan Hollingshead",
          "Timmy Tillman"
         ],
         "textfont": {
          "size": 10
         },
         "textposition": "bottom center",
         "type": "scatter",
         "x": {
          "bdata": "a1eidiVqB0AAAAAAAAAEQG40dX7tIQdA",
          "dtype": "f8"
         },
         "xaxis": "x",
         "y": {
          "bdata": "UrsStStRC0AAAAAAAAAIQIqBEt5o6gxA",
          "dtype": "f8"
         },
         "yaxis": "y"
        },
        {
         "hovertemplate": "<b>%{hovertext}</b><br><br>Squad=Real Salt Lake<br>x=%{x}<br>y=%{y}<br>GCA=%{marker.size}<br>Player=%{text}<extra></extra>",
         "hovertext": [
          "Real Salt Lake",
          "Real Salt Lake",
          "Real Salt Lake",
          "Real Salt Lake"
         ],
         "legendgroup": "Real Salt Lake",
         "marker": {
          "color": "#FFA15A",
          "size": {
           "bdata": "AQQEAQ==",
           "dtype": "i1"
          },
          "sizemode": "area",
          "sizeref": 0.0275,
          "symbol": "circle"
         },
         "mode": "markers+text",
         "name": "Real Salt Lake",
         "orientation": "v",
         "showlegend": true,
         "text": [
          "Emeka Eneli",
          "Diogo Gonçalves",
          "Diego Luna",
          "Braian Ojeda"
         ],
         "textfont": {
          "size": 10
         },
         "textposition": "bottom center",
         "type": "scatter",
         "x": {
          "bdata": "DeU1lNdQ/j/JQhaykIUAQKqqqqqqqgpAwcspeDkF/z8=",
          "dtype": "f8"
         },
         "xaxis": "x",
         "y": {
          "bdata": "2FBeQ3kNBUAiC1nIQhYKQMYYY4wxxhBAGutDY31oBEA=",
          "dtype": "f8"
         },
         "yaxis": "y"
        },
        {
         "hovertemplate": "<b>%{hovertext}</b><br><br>Squad=LA Galaxy<br>x=%{x}<br>y=%{y}<br>GCA=%{marker.size}<br>Player=%{text}<extra></extra>",
         "hovertext": [
          "LA Galaxy"
         ],
         "legendgroup": "LA Galaxy",
         "marker": {
          "color": "#19d3f3",
          "size": {
           "bdata": "AA==",
           "dtype": "i1"
          },
          "sizemode": "area",
          "sizeref": 0.0275,
          "symbol": "circle"
         },
         "mode": "markers+text",
         "name": "LA Galaxy",
         "orientation": "v",
         "showlegend": true,
         "text": [
          "Diego Fagúndez"
         ],
         "textfont": {
          "size": 10
         },
         "textposition": "bottom center",
         "type": "scatter",
         "x": {
          "bdata": "0UUXXXTRBUA=",
          "dtype": "f8"
         },
         "xaxis": "x",
         "y": {
          "bdata": "CtT6lQK1DkA=",
          "dtype": "f8"
         },
         "yaxis": "y"
        },
        {
         "hovertemplate": "<b>%{hovertext}</b><br><br>Squad=NYCFC<br>x=%{x}<br>y=%{y}<br>GCA=%{marker.size}<br>Player=%{text}<extra></extra>",
         "hovertext": [
          "NYCFC",
          "NYCFC",
          "NYCFC"
         ],
         "legendgroup": "NYCFC",
         "marker": {
          "color": "#FF6692",
          "size": {
           "bdata": "AgIB",
           "dtype": "i1"
          },
          "sizemode": "area",
          "sizeref": 0.0275,
          "symbol": "circle"
         },
         "mode": "markers+text",
         "name": "NYCFC",
         "orientation": "v",
         "showlegend": true,
         "text": [
          "Julián Fernández",
          "Maximiliano Moralez",
          "Keaton Parks"
         ],
         "textfont": {
          "size": 10
         },
         "textposition": "bottom center",
         "type": "scatter",
         "x": {
          "bdata": "kyRJkiRJCECrqqqqqqoKQGMndmIndgJA",
          "dtype": "f8"
         },
         "xaxis": "x",
         "y": {
          "bdata": "SpIkSZIkC0Bvbm5ubm4SQNmJndiJnQhA",
          "dtype": "f8"
         },
         "yaxis": "y"
        },
        {
         "hovertemplate": "<b>%{hovertext}</b><br><br>Squad=Seattle Sounders<br>x=%{x}<br>y=%{y}<br>GCA=%{marker.size}<br>Player=%{text}<extra></extra>",
         "hovertext": [
          "Seattle Sounders",
          "Seattle Sounders",
          "Seattle Sounders",
          "Seattle Sounders",
          "Seattle Sounders",
          "Seattle Sounders"
         ],
         "legendgroup": "Seattle Sounders",
         "marker": {
          "color": "#B6E880",
          "size": {
           "bdata": "BAAEAgUF",
           "dtype": "i1"
          },
          "sizemode": "area",
          "sizeref": 0.0275,
          "symbol": "circle"
         },
         "mode": "markers+text",
         "name": "Seattle Sounders",
         "orientation": "v",
         "showlegend": true,
         "text": [
          "Jesús Ferreira",
          "Alex Roldan",
          "Cristian Roldan",
          "Paul Rothrock",
          "Albert Rusnák",
          "Obed Vargas"
         ],
         "textfont": {
          "size": 10
         },
         "textposition": "bottom center",
         "type": "scatter",
         "x": {
          "bdata": "r169evXqBUD8FJcMwToKQGNl+EYUmARAF7KQhSxkAUC4fMu3fMsPQNFFF1100Q9A",
          "dtype": "f8"
         },
         "xaxis": "x",
         "y": {
          "bdata": "wYEDBw4cCEAvGYJ1tHkPQPazxcrwjQhAhixkIQtZCEDf8i3f8i0bQHTRRRdddBRA",
          "dtype": "f8"
         },
         "yaxis": "y"
        },
        {
         "hovertemplate": "<b>%{hovertext}</b><br><br>Squad=NY Red Bulls<br>x=%{x}<br>y=%{y}<br>GCA=%{marker.size}<br>Player=%{text}<extra></extra>",
         "hovertext": [
          "NY Red Bulls"
         ],
         "legendgroup": "NY Red Bulls",
         "marker": {
          "color": "#FF97FF",
          "size": {
           "bdata": "BA==",
           "dtype": "i1"
          },
          "sizemode": "area",
          "sizeref": 0.0275,
          "symbol": "circle"
         },
         "mode": "markers+text",
         "name": "NY Red Bulls",
         "orientation": "v",
         "showlegend": true,
         "text": [
          "Emil Forsberg"
         ],
         "textfont": {
          "size": 10
         },
         "textposition": "bottom center",
         "type": "scatter",
         "x": {
          "bdata": "DLGiND4yAUA=",
          "dtype": "f8"
         },
         "xaxis": "x",
         "y": {
          "bdata": "jo9MoHfqCkA=",
          "dtype": "f8"
         },
         "yaxis": "y"
        },
        {
         "hovertemplate": "<b>%{hovertext}</b><br><br>Squad=Sporting KC<br>x=%{x}<br>y=%{y}<br>GCA=%{marker.size}<br>Player=%{text}<extra></extra>",
         "hovertext": [
          "Sporting KC"
         ],
         "legendgroup": "Sporting KC",
         "marker": {
          "color": "#FECB52",
          "size": {
           "bdata": "CA==",
           "dtype": "i1"
          },
          "sizemode": "area",
          "sizeref": 0.0275,
          "symbol": "circle"
         },
         "mode": "markers+text",
         "name": "Sporting KC",
         "orientation": "v",
         "showlegend": true,
         "text": [
          "Manu García"
         ],
         "textfont": {
          "size": 10
         },
         "textposition": "bottom center",
         "type": "scatter",
         "x": {
          "bdata": "Yid2Yid2AkA=",
          "dtype": "f8"
         },
         "xaxis": "x",
         "y": {
          "bdata": "dmIndmInEEA=",
          "dtype": "f8"
         },
         "yaxis": "y"
        },
        {
         "hovertemplate": "<b>%{hovertext}</b><br><br>Squad=Philadelphia Union<br>x=%{x}<br>y=%{y}<br>GCA=%{marker.size}<br>Player=%{text}<extra></extra>",
         "hovertext": [
          "Philadelphia Union",
          "Philadelphia Union",
          "Philadelphia Union",
          "Philadelphia Union"
         ],
         "legendgroup": "Philadelphia Union",
         "marker": {
          "color": "#636efa",
          "size": {
           "bdata": "AwQCBw==",
           "dtype": "i1"
          },
          "sizemode": "area",
          "sizeref": 0.0275,
          "symbol": "circle"
         },
         "mode": "markers+text",
         "name": "Philadelphia Union",
         "orientation": "v",
         "showlegend": true,
         "text": [
          "Dániel Gazdag",
          "Danley Jean-Jacques",
          "Jovan Lukić",
          "Quinn Sullivan"
         ],
         "textfont": {
          "size": 10
         },
         "textposition": "bottom center",
         "type": "scatter",
         "x": {
          "bdata": "o4suuuiiC0CzUd/ZqO/8P3Q1V3M1VwNARXwCqeS8DEA=",
          "dtype": "f8"
         },
         "xaxis": "x",
         "y": {
          "bdata": "AAAAAAAAEEBno76zUd8BQLdt27Zt2wZAcl4W8QmkEkA=",
          "dtype": "f8"
         },
         "yaxis": "y"
        },
        {
         "hovertemplate": "<b>%{hovertext}</b><br><br>Squad=NE Revolution<br>x=%{x}<br>y=%{y}<br>GCA=%{marker.size}<br>Player=%{text}<extra></extra>",
         "hovertext": [
          "NE Revolution",
          "NE Revolution"
         ],
         "legendgroup": "NE Revolution",
         "marker": {
          "color": "#EF553B",
          "size": {
           "bdata": "AwI=",
           "dtype": "i1"
          },
          "sizemode": "area",
          "sizeref": 0.0275,
          "symbol": "circle"
         },
         "mode": "markers+text",
         "name": "NE Revolution",
         "orientation": "v",
         "showlegend": true,
         "text": [
          "Carles Gil",
          "Alhassan Yusuf"
         ],
         "textfont": {
          "size": 10
         },
         "textposition": "bottom center",
         "type": "scatter",
         "x": {
          "bdata": "mpmZmZmZCUDezpCYtzMEQA==",
          "dtype": "f8"
         },
         "xaxis": "x",
         "y": {
          "bdata": "MzMzMzMzFUDRRRdddNEFQA==",
          "dtype": "f8"
         },
         "yaxis": "y"
        },
        {
         "hovertemplate": "<b>%{hovertext}</b><br><br>Squad=Chicago Fire<br>x=%{x}<br>y=%{y}<br>GCA=%{marker.size}<br>Player=%{text}<extra></extra>",
         "hovertext": [
          "Chicago Fire",
          "Chicago Fire"
         ],
         "legendgroup": "Chicago Fire",
         "marker": {
          "color": "#00cc96",
          "size": {
           "bdata": "AgE=",
           "dtype": "i1"
          },
          "sizemode": "area",
          "sizeref": 0.0275,
          "symbol": "circle"
         },
         "mode": "markers+text",
         "name": "Chicago Fire",
         "orientation": "v",
         "showlegend": true,
         "text": [
          "Brian Gutiérrez",
          "Sergio Oregel"
         ],
         "textfont": {
          "size": 10
         },
         "textposition": "bottom center",
         "type": "scatter",
         "x": {
          "bdata": "FZcMwTraDEBlIQtZyEICQA==",
          "dtype": "f8"
         },
         "xaxis": "x",
         "y": {
          "bdata": "N+9TXDIEE0CzkIUsZCEDQA==",
          "dtype": "f8"
         },
         "yaxis": "y"
        },
        {
         "hovertemplate": "<b>%{hovertext}</b><br><br>Squad=St. Louis<br>x=%{x}<br>y=%{y}<br>GCA=%{marker.size}<br>Player=%{text}<extra></extra>",
         "hovertext": [
          "St. Louis"
         ],
         "legendgroup": "St. Louis",
         "marker": {
          "color": "#ab63fa",
          "size": {
           "bdata": "AQ==",
           "dtype": "i1"
          },
          "sizemode": "area",
          "sizeref": 0.0275,
          "symbol": "circle"
         },
         "mode": "markers+text",
         "name": "St. Louis",
         "orientation": "v",
         "showlegend": true,
         "text": [
          "Marcel Hartel"
         ],
         "textfont": {
          "size": 10
         },
         "textposition": "bottom center",
         "type": "scatter",
         "x": {
          "bdata": "lCWwaT9ZAkA=",
          "dtype": "f8"
         },
         "xaxis": "x",
         "y": {
          "bdata": "Nu0nS2DTDkA=",
          "dtype": "f8"
         },
         "yaxis": "y"
        },
        {
         "hovertemplate": "<b>%{hovertext}</b><br><br>Squad=D.C. United<br>x=%{x}<br>y=%{y}<br>GCA=%{marker.size}<br>Player=%{text}<extra></extra>",
         "hovertext": [
          "D.C. United",
          "D.C. United",
          "D.C. United",
          "D.C. United"
         ],
         "legendgroup": "D.C. United",
         "marker": {
          "color": "#FFA15A",
          "size": {
           "bdata": "AwACBA==",
           "dtype": "i1"
          },
          "sizemode": "area",
          "sizeref": 0.0275,
          "symbol": "circle"
         },
         "mode": "markers+text",
         "name": "D.C. United",
         "orientation": "v",
         "showlegend": true,
         "text": [
          "Aaron Herrera",
          "Hosei Kijima",
          "Gabriel Pirani",
          "David Schnegg"
         ],
         "textfont": {
          "size": 10
         },
         "textposition": "bottom center",
         "type": "scatter",
         "x": {
          "bdata": "fXH1g44K/D9BC7RAC7QAQDsw1w7MtQNATGgvob2EAkA=",
          "dtype": "f8"
         },
         "xaxis": "x",
         "y": {
          "bdata": "CB0V+OLqB0BjJ3ZiJ3YCQGCuHZhrBwZAQnsJ7SW0B0A=",
          "dtype": "f8"
         },
         "yaxis": "y"
        },
        {
         "hovertemplate": "<b>%{hovertext}</b><br><br>Squad=Minnesota Utd<br>x=%{x}<br>y=%{y}<br>GCA=%{marker.size}<br>Player=%{text}<extra></extra>",
         "hovertext": [
          "Minnesota Utd",
          "Minnesota Utd"
         ],
         "legendgroup": "Minnesota Utd",
         "marker": {
          "color": "#19d3f3",
          "size": {
           "bdata": "AwQ=",
           "dtype": "i1"
          },
          "sizemode": "area",
          "sizeref": 0.0275,
          "symbol": "circle"
         },
         "mode": "markers+text",
         "name": "Minnesota Utd",
         "orientation": "v",
         "showlegend": true,
         "text": [
          "Robin Lod",
          "Joaquín Pereyra"
         ],
         "textfont": {
          "size": 10
         },
         "textposition": "bottom center",
         "type": "scatter",
         "x": {
          "bdata": "AAAAAAAABEB2r3vd614HQA==",
          "dtype": "f8"
         },
         "xaxis": "x",
         "y": {
          "bdata": "9DzP8zzPB0BZyUpWspIVQA==",
          "dtype": "f8"
         },
         "yaxis": "y"
        },
        {
         "hovertemplate": "<b>%{hovertext}</b><br><br>Squad=Inter Miami<br>x=%{x}<br>y=%{y}<br>GCA=%{marker.size}<br>Player=%{text}<extra></extra>",
         "hovertext": [
          "Inter Miami",
          "Inter Miami"
         ],
         "legendgroup": "Inter Miami",
         "marker": {
          "color": "#FF6692",
          "size": {
           "bdata": "BAU=",
           "dtype": "i1"
          },
          "sizemode": "area",
          "sizeref": 0.0275,
          "symbol": "circle"
         },
         "mode": "markers+text",
         "name": "Inter Miami",
         "orientation": "v",
         "showlegend": true,
         "text": [
          "Lionel Messi",
          "Telasco Segovia"
         ],
         "textfont": {
          "size": 10
         },
         "textposition": "bottom center",
         "type": "scatter",
         "x": {
          "bdata": "AAAAAACAC0CxEzuxEzsNQA==",
          "dtype": "f8"
         },
         "xaxis": "x",
         "y": {
          "bdata": "AAAAAABAGkAUO7ETO7ERQA==",
          "dtype": "f8"
         },
         "yaxis": "y"
        },
        {
         "hovertemplate": "<b>%{hovertext}</b><br><br>Squad=Nashville SC<br>x=%{x}<br>y=%{y}<br>GCA=%{marker.size}<br>Player=%{text}<extra></extra>",
         "hovertext": [
          "Nashville SC",
          "Nashville SC"
         ],
         "legendgroup": "Nashville SC",
         "marker": {
          "color": "#B6E880",
          "size": {
           "bdata": "BgM=",
           "dtype": "i1"
          },
          "sizemode": "area",
          "sizeref": 0.0275,
          "symbol": "circle"
         },
         "mode": "markers+text",
         "name": "Nashville SC",
         "orientation": "v",
         "showlegend": true,
         "text": [
          "Hany Mukhtar",
          "Edvard Sandvik Tagseth"
         ],
         "textfont": {
          "size": 10
         },
         "textposition": "bottom center",
         "type": "scatter",
         "x": {
          "bdata": "9hLaS2gvCUCCSafmQe76Pw==",
          "dtype": "f8"
         },
         "xaxis": "x",
         "y": {
          "bdata": "ewntJbSXFkDnQe762WIFQA==",
          "dtype": "f8"
         },
         "yaxis": "y"
        },
        {
         "hovertemplate": "<b>%{hovertext}</b><br><br>Squad=San Diego FC<br>x=%{x}<br>y=%{y}<br>GCA=%{marker.size}<br>Player=%{text}<extra></extra>",
         "hovertext": [
          "San Diego FC"
         ],
         "legendgroup": "San Diego FC",
         "marker": {
          "color": "#FF97FF",
          "size": {
           "bdata": "Aw==",
           "dtype": "i1"
          },
          "sizemode": "area",
          "sizeref": 0.0275,
          "symbol": "circle"
         },
         "mode": "markers+text",
         "name": "San Diego FC",
         "orientation": "v",
         "showlegend": true,
         "text": [
          "Jeppe Tverskov"
         ],
         "textfont": {
          "size": 10
         },
         "textposition": "bottom center",
         "type": "scatter",
         "x": {
          "bdata": "x3Ecx3Ec/z8=",
          "dtype": "f8"
         },
         "xaxis": "x",
         "y": {
          "bdata": "x3Ecx3Ec/z8=",
          "dtype": "f8"
         },
         "yaxis": "y"
        }
       ],
       "layout": {
        "height": 800,
        "legend": {
         "itemsizing": "constant",
         "title": {
          "text": "Squad"
         },
         "tracegroupgap": 0
        },
        "margin": {
         "t": 60
        },
        "paper_bgcolor": "White",
        "shapes": [
         {
          "line": {
           "color": "gray",
           "dash": "dash"
          },
          "type": "line",
          "x0": 0,
          "x1": 1,
          "xref": "x domain",
          "y0": 3.6960926193921853,
          "y1": 3.6960926193921853,
          "yref": "y"
         },
         {
          "line": {
           "color": "gray",
           "dash": "dash"
          },
          "type": "line",
          "x0": 2.685962373371925,
          "x1": 2.685962373371925,
          "xref": "x",
          "y0": 0,
          "y1": 1,
          "yref": "y domain"
         }
        ],
        "template": {
         "data": {
          "bar": [
           {
            "error_x": {
             "color": "#2a3f5f"
            },
            "error_y": {
             "color": "#2a3f5f"
            },
            "marker": {
             "line": {
              "color": "#E5ECF6",
              "width": 0.5
             },
             "pattern": {
              "fillmode": "overlay",
              "size": 10,
              "solidity": 0.2
             }
            },
            "type": "bar"
           }
          ],
          "barpolar": [
           {
            "marker": {
             "line": {
              "color": "#E5ECF6",
              "width": 0.5
             },
             "pattern": {
              "fillmode": "overlay",
              "size": 10,
              "solidity": 0.2
             }
            },
            "type": "barpolar"
           }
          ],
          "carpet": [
           {
            "aaxis": {
             "endlinecolor": "#2a3f5f",
             "gridcolor": "white",
             "linecolor": "white",
             "minorgridcolor": "white",
             "startlinecolor": "#2a3f5f"
            },
            "baxis": {
             "endlinecolor": "#2a3f5f",
             "gridcolor": "white",
             "linecolor": "white",
             "minorgridcolor": "white",
             "startlinecolor": "#2a3f5f"
            },
            "type": "carpet"
           }
          ],
          "choropleth": [
           {
            "colorbar": {
             "outlinewidth": 0,
             "ticks": ""
            },
            "type": "choropleth"
           }
          ],
          "contour": [
           {
            "colorbar": {
             "outlinewidth": 0,
             "ticks": ""
            },
            "colorscale": [
             [
              0,
              "#0d0887"
             ],
             [
              0.1111111111111111,
              "#46039f"
             ],
             [
              0.2222222222222222,
              "#7201a8"
             ],
             [
              0.3333333333333333,
              "#9c179e"
             ],
             [
              0.4444444444444444,
              "#bd3786"
             ],
             [
              0.5555555555555556,
              "#d8576b"
             ],
             [
              0.6666666666666666,
              "#ed7953"
             ],
             [
              0.7777777777777778,
              "#fb9f3a"
             ],
             [
              0.8888888888888888,
              "#fdca26"
             ],
             [
              1,
              "#f0f921"
             ]
            ],
            "type": "contour"
           }
          ],
          "contourcarpet": [
           {
            "colorbar": {
             "outlinewidth": 0,
             "ticks": ""
            },
            "type": "contourcarpet"
           }
          ],
          "heatmap": [
           {
            "colorbar": {
             "outlinewidth": 0,
             "ticks": ""
            },
            "colorscale": [
             [
              0,
              "#0d0887"
             ],
             [
              0.1111111111111111,
              "#46039f"
             ],
             [
              0.2222222222222222,
              "#7201a8"
             ],
             [
              0.3333333333333333,
              "#9c179e"
             ],
             [
              0.4444444444444444,
              "#bd3786"
             ],
             [
              0.5555555555555556,
              "#d8576b"
             ],
             [
              0.6666666666666666,
              "#ed7953"
             ],
             [
              0.7777777777777778,
              "#fb9f3a"
             ],
             [
              0.8888888888888888,
              "#fdca26"
             ],
             [
              1,
              "#f0f921"
             ]
            ],
            "type": "heatmap"
           }
          ],
          "histogram": [
           {
            "marker": {
             "pattern": {
              "fillmode": "overlay",
              "size": 10,
              "solidity": 0.2
             }
            },
            "type": "histogram"
           }
          ],
          "histogram2d": [
           {
            "colorbar": {
             "outlinewidth": 0,
             "ticks": ""
            },
            "colorscale": [
             [
              0,
              "#0d0887"
             ],
             [
              0.1111111111111111,
              "#46039f"
             ],
             [
              0.2222222222222222,
              "#7201a8"
             ],
             [
              0.3333333333333333,
              "#9c179e"
             ],
             [
              0.4444444444444444,
              "#bd3786"
             ],
             [
              0.5555555555555556,
              "#d8576b"
             ],
             [
              0.6666666666666666,
              "#ed7953"
             ],
             [
              0.7777777777777778,
              "#fb9f3a"
             ],
             [
              0.8888888888888888,
              "#fdca26"
             ],
             [
              1,
              "#f0f921"
             ]
            ],
            "type": "histogram2d"
           }
          ],
          "histogram2dcontour": [
           {
            "colorbar": {
             "outlinewidth": 0,
             "ticks": ""
            },
            "colorscale": [
             [
              0,
              "#0d0887"
             ],
             [
              0.1111111111111111,
              "#46039f"
             ],
             [
              0.2222222222222222,
              "#7201a8"
             ],
             [
              0.3333333333333333,
              "#9c179e"
             ],
             [
              0.4444444444444444,
              "#bd3786"
             ],
             [
              0.5555555555555556,
              "#d8576b"
             ],
             [
              0.6666666666666666,
              "#ed7953"
             ],
             [
              0.7777777777777778,
              "#fb9f3a"
             ],
             [
              0.8888888888888888,
              "#fdca26"
             ],
             [
              1,
              "#f0f921"
             ]
            ],
            "type": "histogram2dcontour"
           }
          ],
          "mesh3d": [
           {
            "colorbar": {
             "outlinewidth": 0,
             "ticks": ""
            },
            "type": "mesh3d"
           }
          ],
          "parcoords": [
           {
            "line": {
             "colorbar": {
              "outlinewidth": 0,
              "ticks": ""
             }
            },
            "type": "parcoords"
           }
          ],
          "pie": [
           {
            "automargin": true,
            "type": "pie"
           }
          ],
          "scatter": [
           {
            "fillpattern": {
             "fillmode": "overlay",
             "size": 10,
             "solidity": 0.2
            },
            "type": "scatter"
           }
          ],
          "scatter3d": [
           {
            "line": {
             "colorbar": {
              "outlinewidth": 0,
              "ticks": ""
             }
            },
            "marker": {
             "colorbar": {
              "outlinewidth": 0,
              "ticks": ""
             }
            },
            "type": "scatter3d"
           }
          ],
          "scattercarpet": [
           {
            "marker": {
             "colorbar": {
              "outlinewidth": 0,
              "ticks": ""
             }
            },
            "type": "scattercarpet"
           }
          ],
          "scattergeo": [
           {
            "marker": {
             "colorbar": {
              "outlinewidth": 0,
              "ticks": ""
             }
            },
            "type": "scattergeo"
           }
          ],
          "scattergl": [
           {
            "marker": {
             "colorbar": {
              "outlinewidth": 0,
              "ticks": ""
             }
            },
            "type": "scattergl"
           }
          ],
          "scattermap": [
           {
            "marker": {
             "colorbar": {
              "outlinewidth": 0,
              "ticks": ""
             }
            },
            "type": "scattermap"
           }
          ],
          "scattermapbox": [
           {
            "marker": {
             "colorbar": {
              "outlinewidth": 0,
              "ticks": ""
             }
            },
            "type": "scattermapbox"
           }
          ],
          "scatterpolar": [
           {
            "marker": {
             "colorbar": {
              "outlinewidth": 0,
              "ticks": ""
             }
            },
            "type": "scatterpolar"
           }
          ],
          "scatterpolargl": [
           {
            "marker": {
             "colorbar": {
              "outlinewidth": 0,
              "ticks": ""
             }
            },
            "type": "scatterpolargl"
           }
          ],
          "scatterternary": [
           {
            "marker": {
             "colorbar": {
              "outlinewidth": 0,
              "ticks": ""
             }
            },
            "type": "scatterternary"
           }
          ],
          "surface": [
           {
            "colorbar": {
             "outlinewidth": 0,
             "ticks": ""
            },
            "colorscale": [
             [
              0,
              "#0d0887"
             ],
             [
              0.1111111111111111,
              "#46039f"
             ],
             [
              0.2222222222222222,
              "#7201a8"
             ],
             [
              0.3333333333333333,
              "#9c179e"
             ],
             [
              0.4444444444444444,
              "#bd3786"
             ],
             [
              0.5555555555555556,
              "#d8576b"
             ],
             [
              0.6666666666666666,
              "#ed7953"
             ],
             [
              0.7777777777777778,
              "#fb9f3a"
             ],
             [
              0.8888888888888888,
              "#fdca26"
             ],
             [
              1,
              "#f0f921"
             ]
            ],
            "type": "surface"
           }
          ],
          "table": [
           {
            "cells": {
             "fill": {
              "color": "#EBF0F8"
             },
             "line": {
              "color": "white"
             }
            },
            "header": {
             "fill": {
              "color": "#C8D4E3"
             },
             "line": {
              "color": "white"
             }
            },
            "type": "table"
           }
          ]
         },
         "layout": {
          "annotationdefaults": {
           "arrowcolor": "#2a3f5f",
           "arrowhead": 0,
           "arrowwidth": 1
          },
          "autotypenumbers": "strict",
          "coloraxis": {
           "colorbar": {
            "outlinewidth": 0,
            "ticks": ""
           }
          },
          "colorscale": {
           "diverging": [
            [
             0,
             "#8e0152"
            ],
            [
             0.1,
             "#c51b7d"
            ],
            [
             0.2,
             "#de77ae"
            ],
            [
             0.3,
             "#f1b6da"
            ],
            [
             0.4,
             "#fde0ef"
            ],
            [
             0.5,
             "#f7f7f7"
            ],
            [
             0.6,
             "#e6f5d0"
            ],
            [
             0.7,
             "#b8e186"
            ],
            [
             0.8,
             "#7fbc41"
            ],
            [
             0.9,
             "#4d9221"
            ],
            [
             1,
             "#276419"
            ]
           ],
           "sequential": [
            [
             0,
             "#0d0887"
            ],
            [
             0.1111111111111111,
             "#46039f"
            ],
            [
             0.2222222222222222,
             "#7201a8"
            ],
            [
             0.3333333333333333,
             "#9c179e"
            ],
            [
             0.4444444444444444,
             "#bd3786"
            ],
            [
             0.5555555555555556,
             "#d8576b"
            ],
            [
             0.6666666666666666,
             "#ed7953"
            ],
            [
             0.7777777777777778,
             "#fb9f3a"
            ],
            [
             0.8888888888888888,
             "#fdca26"
            ],
            [
             1,
             "#f0f921"
            ]
           ],
           "sequentialminus": [
            [
             0,
             "#0d0887"
            ],
            [
             0.1111111111111111,
             "#46039f"
            ],
            [
             0.2222222222222222,
             "#7201a8"
            ],
            [
             0.3333333333333333,
             "#9c179e"
            ],
            [
             0.4444444444444444,
             "#bd3786"
            ],
            [
             0.5555555555555556,
             "#d8576b"
            ],
            [
             0.6666666666666666,
             "#ed7953"
            ],
            [
             0.7777777777777778,
             "#fb9f3a"
            ],
            [
             0.8888888888888888,
             "#fdca26"
            ],
            [
             1,
             "#f0f921"
            ]
           ]
          },
          "colorway": [
           "#636efa",
           "#EF553B",
           "#00cc96",
           "#ab63fa",
           "#FFA15A",
           "#19d3f3",
           "#FF6692",
           "#B6E880",
           "#FF97FF",
           "#FECB52"
          ],
          "font": {
           "color": "#2a3f5f"
          },
          "geo": {
           "bgcolor": "white",
           "lakecolor": "white",
           "landcolor": "#E5ECF6",
           "showlakes": true,
           "showland": true,
           "subunitcolor": "white"
          },
          "hoverlabel": {
           "align": "left"
          },
          "hovermode": "closest",
          "mapbox": {
           "style": "light"
          },
          "paper_bgcolor": "white",
          "plot_bgcolor": "#E5ECF6",
          "polar": {
           "angularaxis": {
            "gridcolor": "white",
            "linecolor": "white",
            "ticks": ""
           },
           "bgcolor": "#E5ECF6",
           "radialaxis": {
            "gridcolor": "white",
            "linecolor": "white",
            "ticks": ""
           }
          },
          "scene": {
           "xaxis": {
            "backgroundcolor": "#E5ECF6",
            "gridcolor": "white",
            "gridwidth": 2,
            "linecolor": "white",
            "showbackground": true,
            "ticks": "",
            "zerolinecolor": "white"
           },
           "yaxis": {
            "backgroundcolor": "#E5ECF6",
            "gridcolor": "white",
            "gridwidth": 2,
            "linecolor": "white",
            "showbackground": true,
            "ticks": "",
            "zerolinecolor": "white"
           },
           "zaxis": {
            "backgroundcolor": "#E5ECF6",
            "gridcolor": "white",
            "gridwidth": 2,
            "linecolor": "white",
            "showbackground": true,
            "ticks": "",
            "zerolinecolor": "white"
           }
          },
          "shapedefaults": {
           "line": {
            "color": "#2a3f5f"
           }
          },
          "ternary": {
           "aaxis": {
            "gridcolor": "white",
            "linecolor": "white",
            "ticks": ""
           },
           "baxis": {
            "gridcolor": "white",
            "linecolor": "white",
            "ticks": ""
           },
           "bgcolor": "#E5ECF6",
           "caxis": {
            "gridcolor": "white",
            "linecolor": "white",
            "ticks": ""
           }
          },
          "title": {
           "x": 0.05
          },
          "xaxis": {
           "automargin": true,
           "gridcolor": "white",
           "linecolor": "white",
           "ticks": "",
           "title": {
            "standoff": 15
           },
           "zerolinecolor": "white",
           "zerolinewidth": 2
          },
          "yaxis": {
           "automargin": true,
           "gridcolor": "white",
           "linecolor": "white",
           "ticks": "",
           "title": {
            "standoff": 15
           },
           "zerolinecolor": "white",
           "zerolinewidth": 2
          }
         }
        },
        "title": {
         "text": "<b>MLS 2025: Shot Creating Actions (Per 90 minutes) </b><br><sup>Data Source: Fbref</sup>",
         "x": 0.5,
         "xanchor": "center",
         "y": 0.95,
         "yanchor": "top"
        },
        "width": 1400,
        "xaxis": {
         "anchor": "y",
         "domain": [
          0,
          1
         ],
         "title": {
          "text": "Shot-Creating Actions from Live Passes (per 90)"
         }
        },
        "yaxis": {
         "anchor": "x",
         "domain": [
          0,
          1
         ],
         "title": {
          "text": "Shot-Creating Actions (per 90)"
         }
        }
       }
      }
     },
     "metadata": {},
     "output_type": "display_data"
    }
   ],
   "source": [
    "x_midpoint = sca_best['SCA_PassLive'].sum() / sca_best['90s'].sum()\n",
    "y_midpoint = sca_best['SCA'].sum() / sca_best['90s'].sum()\n",
    "\n",
    "# Create scatter plot\n",
    "fig_bestSCA = px.scatter(\n",
    "    sca_best, \n",
    "    x=sca_best['SCA_PassLive']/sca_best['90s'], \n",
    "    y=sca_best['SCA']/sca_best['90s'], \n",
    "    size='GCA', \n",
    "    hover_name='Squad', \n",
    "    text='Player', \n",
    "    color='Squad'\n",
    ")\n",
    "\n",
    "# Add quadrant lines\n",
    "fig_bestSCA.add_hline(y=y_midpoint, line_dash=\"dash\", line_color=\"gray\")\n",
    "fig_bestSCA.add_vline(x=x_midpoint, line_dash=\"dash\", line_color=\"gray\")\n",
    "\n",
    "# Update layout\n",
    "fig_bestSCA.update_traces(textposition='bottom center', textfont=dict(size=10))\n",
    "fig_bestSCA.update_layout(\n",
    "    xaxis_title='Shot-Creating Actions from Live Passes (per 90)',\n",
    "    yaxis_title='Shot-Creating Actions (per 90)',\n",
    "    width=1400, height=800, paper_bgcolor='White',\n",
    "    title={\n",
    "        'text': '<b>MLS 2025: Shot Creating Actions (Per 90 minutes) </b><br><sup>Data Source: Fbref</sup>',\n",
    "        'y':0.95, 'x':0.5, 'xanchor': 'center', 'yanchor': 'top'\n",
    "    }\n",
    ")"
   ]
  },
  {
   "cell_type": "markdown",
   "metadata": {},
   "source": [
    "## Top-Right Quadrant (Elite Creators)\n",
    "\n",
    "Players like Lionel Messi, Albert Rusnák, and Martin Ojeda\n",
    "Above average in both total chance creation and chance creation through passes\n",
    "These are your elite playmakers who consistently create chances, especially through their passing\n",
    "\n",
    "\n",
    "## Bottom-Right Quadrant (Pass Specialists)\n",
    "\n",
    "Players like Diego Luna and Daniel Gazdag\n",
    "Above average in chance creation through passing but below average in total chance creation\n",
    "These players are primarily pass-focused creators who don't generate as many chances through other methods\n",
    "\n",
    "\n",
    "## Top-Left Quadrant (Diverse Creators)\n",
    "\n",
    "Players like Jack McGlynn and Marcel Hartel\n",
    "Above average in total chance creation but below average in chance creation from live passing\n",
    "These players create chances through varied means - perhaps carrying the ball, winning fouls, or taking shots\n",
    "\n",
    "\n",
    "## Bottom-Left Quadrant (Limited Creators)\n",
    "\n",
    "Players like Dylan Chambost and Jeppe Tverskov\n",
    "Below average in both metrics\n",
    "These players likely have other strengths in their game as they don't specialize in chance creation"
   ]
  },
  {
   "cell_type": "code",
   "execution_count": 41,
   "metadata": {},
   "outputs": [],
   "source": [
    "fig_bestSCA.write_image('images/most_creative_players_mls2025.png')"
   ]
  }
 ],
 "metadata": {
  "kernelspec": {
   "display_name": "Python 3",
   "language": "python",
   "name": "python3"
  },
  "language_info": {
   "codemirror_mode": {
    "name": "ipython",
    "version": 3
   },
   "file_extension": ".py",
   "mimetype": "text/x-python",
   "name": "python",
   "nbconvert_exporter": "python",
   "pygments_lexer": "ipython3",
   "version": "3.12.6"
  },
  "orig_nbformat": 4
 },
 "nbformat": 4,
 "nbformat_minor": 2
}
