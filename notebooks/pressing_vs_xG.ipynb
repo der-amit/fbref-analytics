{
 "cells": [
  {
   "cell_type": "code",
   "execution_count": 7,
   "metadata": {},
   "outputs": [],
   "source": [
    "import pandas as pd\n",
    "import plotly.express as px\n",
    "import os"
   ]
  },
  {
   "cell_type": "code",
   "execution_count": null,
   "metadata": {},
   "outputs": [],
   "source": []
  },
  {
   "cell_type": "code",
   "execution_count": 2,
   "metadata": {},
   "outputs": [],
   "source": [
    "mls_defense_25 = pd.read_csv('/Users/amitmishra/fbref-analytics/data/mls2025_defense_cleaned.csv')\n",
    "mls_standard_25 = pd.read_csv('/Users/amitmishra/fbref-analytics/data/mls2025_standard_cleaned.csv')"
   ]
  },
  {
   "cell_type": "code",
   "execution_count": 3,
   "metadata": {},
   "outputs": [
    {
     "data": {
      "application/vnd.plotly.v1+json": {
       "config": {
        "plotlyServerURL": "https://plot.ly"
       },
       "data": [
        {
         "hovertemplate": "<b>%{hovertext}</b><br><br>Squad=%{text}<br>Tkl_Att=%{x}<br>npxG=%{y}<br>Goals=%{marker.size}<extra></extra>",
         "hovertext": [
          "Atlanta Utd"
         ],
         "legendgroup": "Atlanta Utd",
         "marker": {
          "color": "#636efa",
          "opacity": 0.4,
          "size": {
           "bdata": "CQ==",
           "dtype": "i1"
          },
          "sizemode": "area",
          "sizeref": 0.0475,
          "symbol": "circle"
         },
         "mode": "markers+text",
         "name": "Atlanta Utd",
         "orientation": "v",
         "showlegend": true,
         "text": [
          "Atlanta Utd"
         ],
         "textfont": {
          "color": "rgba(0,0,0,0.4)"
         },
         "type": "scatter",
         "x": {
          "bdata": "DA==",
          "dtype": "i1"
         },
         "xaxis": "x",
         "y": {
          "bdata": "MzMzMzMzKEA=",
          "dtype": "f8"
         },
         "yaxis": "y"
        },
        {
         "hovertemplate": "<b>%{hovertext}</b><br><br>Squad=%{text}<br>Tkl_Att=%{x}<br>npxG=%{y}<br>Goals=%{marker.size}<extra></extra>",
         "hovertext": [
          "Austin"
         ],
         "legendgroup": "Austin",
         "marker": {
          "color": "#EF553B",
          "opacity": 0.4,
          "size": {
           "bdata": "Bw==",
           "dtype": "i1"
          },
          "sizemode": "area",
          "sizeref": 0.0475,
          "symbol": "circle"
         },
         "mode": "markers+text",
         "name": "Austin",
         "orientation": "v",
         "showlegend": true,
         "text": [
          "Austin"
         ],
         "textfont": {
          "color": "rgba(0,0,0,0.4)"
         },
         "type": "scatter",
         "x": {
          "bdata": "DQ==",
          "dtype": "i1"
         },
         "xaxis": "x",
         "y": {
          "bdata": "ZmZmZmZmJkA=",
          "dtype": "f8"
         },
         "yaxis": "y"
        },
        {
         "hovertemplate": "<b>%{hovertext}</b><br><br>Squad=%{text}<br>Tkl_Att=%{x}<br>npxG=%{y}<br>Goals=%{marker.size}<extra></extra>",
         "hovertext": [
          "CF Montréal"
         ],
         "legendgroup": "CF Montréal",
         "marker": {
          "color": "#00cc96",
          "line": {
           "color": "black",
           "width": 2
          },
          "size": {
           "bdata": "BA==",
           "dtype": "i1"
          },
          "sizemode": "area",
          "sizeref": 0.0475,
          "symbol": "circle"
         },
         "mode": "markers+text",
         "name": "CF Montréal",
         "orientation": "v",
         "showlegend": true,
         "text": [
          "CF Montréal"
         ],
         "type": "scatter",
         "x": {
          "bdata": "Fg==",
          "dtype": "i1"
         },
         "xaxis": "x",
         "y": {
          "bdata": "mpmZmZmZI0A=",
          "dtype": "f8"
         },
         "yaxis": "y"
        },
        {
         "hovertemplate": "<b>%{hovertext}</b><br><br>Squad=%{text}<br>Tkl_Att=%{x}<br>npxG=%{y}<br>Goals=%{marker.size}<extra></extra>",
         "hovertext": [
          "Charlotte"
         ],
         "legendgroup": "Charlotte",
         "marker": {
          "color": "#ab63fa",
          "opacity": 0.4,
          "size": {
           "bdata": "Dw==",
           "dtype": "i1"
          },
          "sizemode": "area",
          "sizeref": 0.0475,
          "symbol": "circle"
         },
         "mode": "markers+text",
         "name": "Charlotte",
         "orientation": "v",
         "showlegend": true,
         "text": [
          "Charlotte"
         ],
         "textfont": {
          "color": "rgba(0,0,0,0.4)"
         },
         "type": "scatter",
         "x": {
          "bdata": "Dg==",
          "dtype": "i1"
         },
         "xaxis": "x",
         "y": {
          "bdata": "MzMzMzMzJkA=",
          "dtype": "f8"
         },
         "yaxis": "y"
        },
        {
         "hovertemplate": "<b>%{hovertext}</b><br><br>Squad=%{text}<br>Tkl_Att=%{x}<br>npxG=%{y}<br>Goals=%{marker.size}<extra></extra>",
         "hovertext": [
          "Chicago Fire"
         ],
         "legendgroup": "Chicago Fire",
         "marker": {
          "color": "#FFA15A",
          "opacity": 0.4,
          "size": {
           "bdata": "EA==",
           "dtype": "i1"
          },
          "sizemode": "area",
          "sizeref": 0.0475,
          "symbol": "circle"
         },
         "mode": "markers+text",
         "name": "Chicago Fire",
         "orientation": "v",
         "showlegend": true,
         "text": [
          "Chicago Fire"
         ],
         "textfont": {
          "color": "rgba(0,0,0,0.4)"
         },
         "type": "scatter",
         "x": {
          "bdata": "FQ==",
          "dtype": "i1"
         },
         "xaxis": "x",
         "y": {
          "bdata": "MzMzMzMzK0A=",
          "dtype": "f8"
         },
         "yaxis": "y"
        },
        {
         "hovertemplate": "<b>%{hovertext}</b><br><br>Squad=%{text}<br>Tkl_Att=%{x}<br>npxG=%{y}<br>Goals=%{marker.size}<extra></extra>",
         "hovertext": [
          "Colorado Rapids"
         ],
         "legendgroup": "Colorado Rapids",
         "marker": {
          "color": "#19d3f3",
          "opacity": 0.4,
          "size": {
           "bdata": "DQ==",
           "dtype": "i1"
          },
          "sizemode": "area",
          "sizeref": 0.0475,
          "symbol": "circle"
         },
         "mode": "markers+text",
         "name": "Colorado Rapids",
         "orientation": "v",
         "showlegend": true,
         "text": [
          "Colorado Rapids"
         ],
         "textfont": {
          "color": "rgba(0,0,0,0.4)"
         },
         "type": "scatter",
         "x": {
          "bdata": "FA==",
          "dtype": "i1"
         },
         "xaxis": "x",
         "y": {
          "bdata": "MzMzMzMzJ0A=",
          "dtype": "f8"
         },
         "yaxis": "y"
        },
        {
         "hovertemplate": "<b>%{hovertext}</b><br><br>Squad=%{text}<br>Tkl_Att=%{x}<br>npxG=%{y}<br>Goals=%{marker.size}<extra></extra>",
         "hovertext": [
          "Columbus Crew"
         ],
         "legendgroup": "Columbus Crew",
         "marker": {
          "color": "#FF6692",
          "opacity": 0.4,
          "size": {
           "bdata": "Cw==",
           "dtype": "i1"
          },
          "sizemode": "area",
          "sizeref": 0.0475,
          "symbol": "circle"
         },
         "mode": "markers+text",
         "name": "Columbus Crew",
         "orientation": "v",
         "showlegend": true,
         "text": [
          "Columbus Crew"
         ],
         "textfont": {
          "color": "rgba(0,0,0,0.4)"
         },
         "type": "scatter",
         "x": {
          "bdata": "FQ==",
          "dtype": "i1"
         },
         "xaxis": "x",
         "y": {
          "bdata": "MzMzMzMzK0A=",
          "dtype": "f8"
         },
         "yaxis": "y"
        },
        {
         "hovertemplate": "<b>%{hovertext}</b><br><br>Squad=%{text}<br>Tkl_Att=%{x}<br>npxG=%{y}<br>Goals=%{marker.size}<extra></extra>",
         "hovertext": [
          "D.C. United"
         ],
         "legendgroup": "D.C. United",
         "marker": {
          "color": "#B6E880",
          "opacity": 0.4,
          "size": {
           "bdata": "Cw==",
           "dtype": "i1"
          },
          "sizemode": "area",
          "sizeref": 0.0475,
          "symbol": "circle"
         },
         "mode": "markers+text",
         "name": "D.C. United",
         "orientation": "v",
         "showlegend": true,
         "text": [
          "D.C. United"
         ],
         "textfont": {
          "color": "rgba(0,0,0,0.4)"
         },
         "type": "scatter",
         "x": {
          "bdata": "HA==",
          "dtype": "i1"
         },
         "xaxis": "x",
         "y": {
          "bdata": "AAAAAAAAJ0A=",
          "dtype": "f8"
         },
         "yaxis": "y"
        },
        {
         "hovertemplate": "<b>%{hovertext}</b><br><br>Squad=%{text}<br>Tkl_Att=%{x}<br>npxG=%{y}<br>Goals=%{marker.size}<extra></extra>",
         "hovertext": [
          "FC Cincinnati"
         ],
         "legendgroup": "FC Cincinnati",
         "marker": {
          "color": "#FF97FF",
          "opacity": 0.4,
          "size": {
           "bdata": "DQ==",
           "dtype": "i1"
          },
          "sizemode": "area",
          "sizeref": 0.0475,
          "symbol": "circle"
         },
         "mode": "markers+text",
         "name": "FC Cincinnati",
         "orientation": "v",
         "showlegend": true,
         "text": [
          "FC Cincinnati"
         ],
         "textfont": {
          "color": "rgba(0,0,0,0.4)"
         },
         "type": "scatter",
         "x": {
          "bdata": "Fg==",
          "dtype": "i1"
         },
         "xaxis": "x",
         "y": {
          "bdata": "mpmZmZmZJEA=",
          "dtype": "f8"
         },
         "yaxis": "y"
        },
        {
         "hovertemplate": "<b>%{hovertext}</b><br><br>Squad=%{text}<br>Tkl_Att=%{x}<br>npxG=%{y}<br>Goals=%{marker.size}<extra></extra>",
         "hovertext": [
          "FC Dallas"
         ],
         "legendgroup": "FC Dallas",
         "marker": {
          "color": "#FECB52",
          "opacity": 0.4,
          "size": {
           "bdata": "Cg==",
           "dtype": "i1"
          },
          "sizemode": "area",
          "sizeref": 0.0475,
          "symbol": "circle"
         },
         "mode": "markers+text",
         "name": "FC Dallas",
         "orientation": "v",
         "showlegend": true,
         "text": [
          "FC Dallas"
         ],
         "textfont": {
          "color": "rgba(0,0,0,0.4)"
         },
         "type": "scatter",
         "x": {
          "bdata": "Gg==",
          "dtype": "i1"
         },
         "xaxis": "x",
         "y": {
          "bdata": "ZmZmZmZmJEA=",
          "dtype": "f8"
         },
         "yaxis": "y"
        },
        {
         "hovertemplate": "<b>%{hovertext}</b><br><br>Squad=%{text}<br>Tkl_Att=%{x}<br>npxG=%{y}<br>Goals=%{marker.size}<extra></extra>",
         "hovertext": [
          "Houston Dynamo"
         ],
         "legendgroup": "Houston Dynamo",
         "marker": {
          "color": "#636efa",
          "line": {
           "color": "black",
           "width": 2
          },
          "size": {
           "bdata": "CA==",
           "dtype": "i1"
          },
          "sizemode": "area",
          "sizeref": 0.0475,
          "symbol": "circle"
         },
         "mode": "markers+text",
         "name": "Houston Dynamo",
         "orientation": "v",
         "showlegend": true,
         "text": [
          "Houston Dynamo"
         ],
         "type": "scatter",
         "x": {
          "bdata": "Dg==",
          "dtype": "i1"
         },
         "xaxis": "x",
         "y": {
          "bdata": "ZmZmZmZmIEA=",
          "dtype": "f8"
         },
         "yaxis": "y"
        },
        {
         "hovertemplate": "<b>%{hovertext}</b><br><br>Squad=%{text}<br>Tkl_Att=%{x}<br>npxG=%{y}<br>Goals=%{marker.size}<extra></extra>",
         "hovertext": [
          "Inter Miami"
         ],
         "legendgroup": "Inter Miami",
         "marker": {
          "color": "#EF553B",
          "opacity": 0.4,
          "size": {
           "bdata": "DQ==",
           "dtype": "i1"
          },
          "sizemode": "area",
          "sizeref": 0.0475,
          "symbol": "circle"
         },
         "mode": "markers+text",
         "name": "Inter Miami",
         "orientation": "v",
         "showlegend": true,
         "text": [
          "Inter Miami"
         ],
         "textfont": {
          "color": "rgba(0,0,0,0.4)"
         },
         "type": "scatter",
         "x": {
          "bdata": "DQ==",
          "dtype": "i1"
         },
         "xaxis": "x",
         "y": {
          "bdata": "ZmZmZmZmKkA=",
          "dtype": "f8"
         },
         "yaxis": "y"
        },
        {
         "hovertemplate": "<b>%{hovertext}</b><br><br>Squad=%{text}<br>Tkl_Att=%{x}<br>npxG=%{y}<br>Goals=%{marker.size}<extra></extra>",
         "hovertext": [
          "LA Galaxy"
         ],
         "legendgroup": "LA Galaxy",
         "marker": {
          "color": "#00cc96",
          "line": {
           "color": "black",
           "width": 2
          },
          "size": {
           "bdata": "Bg==",
           "dtype": "i1"
          },
          "sizemode": "area",
          "sizeref": 0.0475,
          "symbol": "circle"
         },
         "mode": "markers+text",
         "name": "LA Galaxy",
         "orientation": "v",
         "showlegend": true,
         "text": [
          "LA Galaxy"
         ],
         "type": "scatter",
         "x": {
          "bdata": "Dg==",
          "dtype": "i1"
         },
         "xaxis": "x",
         "y": {
          "bdata": "MzMzMzMzHUA=",
          "dtype": "f8"
         },
         "yaxis": "y"
        },
        {
         "hovertemplate": "<b>%{hovertext}</b><br><br>Squad=%{text}<br>Tkl_Att=%{x}<br>npxG=%{y}<br>Goals=%{marker.size}<extra></extra>",
         "hovertext": [
          "LAFC"
         ],
         "legendgroup": "LAFC",
         "marker": {
          "color": "#ab63fa",
          "opacity": 0.4,
          "size": {
           "bdata": "DQ==",
           "dtype": "i1"
          },
          "sizemode": "area",
          "sizeref": 0.0475,
          "symbol": "circle"
         },
         "mode": "markers+text",
         "name": "LAFC",
         "orientation": "v",
         "showlegend": true,
         "text": [
          "LAFC"
         ],
         "textfont": {
          "color": "rgba(0,0,0,0.4)"
         },
         "type": "scatter",
         "x": {
          "bdata": "Ew==",
          "dtype": "i1"
         },
         "xaxis": "x",
         "y": {
          "bdata": "AAAAAAAAJkA=",
          "dtype": "f8"
         },
         "yaxis": "y"
        },
        {
         "hovertemplate": "<b>%{hovertext}</b><br><br>Squad=%{text}<br>Tkl_Att=%{x}<br>npxG=%{y}<br>Goals=%{marker.size}<extra></extra>",
         "hovertext": [
          "Minnesota Utd"
         ],
         "legendgroup": "Minnesota Utd",
         "marker": {
          "color": "#FFA15A",
          "opacity": 0.4,
          "size": {
           "bdata": "Cw==",
           "dtype": "i1"
          },
          "sizemode": "area",
          "sizeref": 0.0475,
          "symbol": "circle"
         },
         "mode": "markers+text",
         "name": "Minnesota Utd",
         "orientation": "v",
         "showlegend": true,
         "text": [
          "Minnesota Utd"
         ],
         "textfont": {
          "color": "rgba(0,0,0,0.4)"
         },
         "type": "scatter",
         "x": {
          "bdata": "Hw==",
          "dtype": "i1"
         },
         "xaxis": "x",
         "y": {
          "bdata": "ZmZmZmZmLUA=",
          "dtype": "f8"
         },
         "yaxis": "y"
        },
        {
         "hovertemplate": "<b>%{hovertext}</b><br><br>Squad=%{text}<br>Tkl_Att=%{x}<br>npxG=%{y}<br>Goals=%{marker.size}<extra></extra>",
         "hovertext": [
          "Nashville SC"
         ],
         "legendgroup": "Nashville SC",
         "marker": {
          "color": "#19d3f3",
          "opacity": 0.4,
          "size": {
           "bdata": "DA==",
           "dtype": "i1"
          },
          "sizemode": "area",
          "sizeref": 0.0475,
          "symbol": "circle"
         },
         "mode": "markers+text",
         "name": "Nashville SC",
         "orientation": "v",
         "showlegend": true,
         "text": [
          "Nashville SC"
         ],
         "textfont": {
          "color": "rgba(0,0,0,0.4)"
         },
         "type": "scatter",
         "x": {
          "bdata": "Eg==",
          "dtype": "i1"
         },
         "xaxis": "x",
         "y": {
          "bdata": "ZmZmZmZmJkA=",
          "dtype": "f8"
         },
         "yaxis": "y"
        },
        {
         "hovertemplate": "<b>%{hovertext}</b><br><br>Squad=%{text}<br>Tkl_Att=%{x}<br>npxG=%{y}<br>Goals=%{marker.size}<extra></extra>",
         "hovertext": [
          "NE Revolution"
         ],
         "legendgroup": "NE Revolution",
         "marker": {
          "color": "#FF6692",
          "line": {
           "color": "black",
           "width": 2
          },
          "size": {
           "bdata": "BQ==",
           "dtype": "i1"
          },
          "sizemode": "area",
          "sizeref": 0.0475,
          "symbol": "circle"
         },
         "mode": "markers+text",
         "name": "NE Revolution",
         "orientation": "v",
         "showlegend": true,
         "text": [
          "NE Revolution"
         ],
         "type": "scatter",
         "x": {
          "bdata": "EQ==",
          "dtype": "i1"
         },
         "xaxis": "x",
         "y": {
          "bdata": "mpmZmZmZF0A=",
          "dtype": "f8"
         },
         "yaxis": "y"
        },
        {
         "hovertemplate": "<b>%{hovertext}</b><br><br>Squad=%{text}<br>Tkl_Att=%{x}<br>npxG=%{y}<br>Goals=%{marker.size}<extra></extra>",
         "hovertext": [
          "NY Red Bulls"
         ],
         "legendgroup": "NY Red Bulls",
         "marker": {
          "color": "#B6E880",
          "opacity": 0.4,
          "size": {
           "bdata": "Cg==",
           "dtype": "i1"
          },
          "sizemode": "area",
          "sizeref": 0.0475,
          "symbol": "circle"
         },
         "mode": "markers+text",
         "name": "NY Red Bulls",
         "orientation": "v",
         "showlegend": true,
         "text": [
          "NY Red Bulls"
         ],
         "textfont": {
          "color": "rgba(0,0,0,0.4)"
         },
         "type": "scatter",
         "x": {
          "bdata": "Fg==",
          "dtype": "i1"
         },
         "xaxis": "x",
         "y": {
          "bdata": "zczMzMzMJEA=",
          "dtype": "f8"
         },
         "yaxis": "y"
        },
        {
         "hovertemplate": "<b>%{hovertext}</b><br><br>Squad=%{text}<br>Tkl_Att=%{x}<br>npxG=%{y}<br>Goals=%{marker.size}<extra></extra>",
         "hovertext": [
          "NYCFC"
         ],
         "legendgroup": "NYCFC",
         "marker": {
          "color": "#FF97FF",
          "opacity": 0.4,
          "size": {
           "bdata": "Cw==",
           "dtype": "i1"
          },
          "sizemode": "area",
          "sizeref": 0.0475,
          "symbol": "circle"
         },
         "mode": "markers+text",
         "name": "NYCFC",
         "orientation": "v",
         "showlegend": true,
         "text": [
          "NYCFC"
         ],
         "textfont": {
          "color": "rgba(0,0,0,0.4)"
         },
         "type": "scatter",
         "x": {
          "bdata": "Eg==",
          "dtype": "i1"
         },
         "xaxis": "x",
         "y": {
          "bdata": "ZmZmZmZmJUA=",
          "dtype": "f8"
         },
         "yaxis": "y"
        },
        {
         "hovertemplate": "<b>%{hovertext}</b><br><br>Squad=%{text}<br>Tkl_Att=%{x}<br>npxG=%{y}<br>Goals=%{marker.size}<extra></extra>",
         "hovertext": [
          "Orlando City"
         ],
         "legendgroup": "Orlando City",
         "marker": {
          "color": "#FECB52",
          "opacity": 0.4,
          "size": {
           "bdata": "Dw==",
           "dtype": "i1"
          },
          "sizemode": "area",
          "sizeref": 0.0475,
          "symbol": "circle"
         },
         "mode": "markers+text",
         "name": "Orlando City",
         "orientation": "v",
         "showlegend": true,
         "text": [
          "Orlando City"
         ],
         "textfont": {
          "color": "rgba(0,0,0,0.4)"
         },
         "type": "scatter",
         "x": {
          "bdata": "FA==",
          "dtype": "i1"
         },
         "xaxis": "x",
         "y": {
          "bdata": "AAAAAAAAK0A=",
          "dtype": "f8"
         },
         "yaxis": "y"
        },
        {
         "hovertemplate": "<b>%{hovertext}</b><br><br>Squad=%{text}<br>Tkl_Att=%{x}<br>npxG=%{y}<br>Goals=%{marker.size}<extra></extra>",
         "hovertext": [
          "Philadelphia Union"
         ],
         "legendgroup": "Philadelphia Union",
         "marker": {
          "color": "#636efa",
          "opacity": 0.4,
          "size": {
           "bdata": "EA==",
           "dtype": "i1"
          },
          "sizemode": "area",
          "sizeref": 0.0475,
          "symbol": "circle"
         },
         "mode": "markers+text",
         "name": "Philadelphia Union",
         "orientation": "v",
         "showlegend": true,
         "text": [
          "Philadelphia Union"
         ],
         "textfont": {
          "color": "rgba(0,0,0,0.4)"
         },
         "type": "scatter",
         "x": {
          "bdata": "GQ==",
          "dtype": "i1"
         },
         "xaxis": "x",
         "y": {
          "bdata": "ZmZmZmZmLUA=",
          "dtype": "f8"
         },
         "yaxis": "y"
        },
        {
         "hovertemplate": "<b>%{hovertext}</b><br><br>Squad=%{text}<br>Tkl_Att=%{x}<br>npxG=%{y}<br>Goals=%{marker.size}<extra></extra>",
         "hovertext": [
          "Portland Timbers"
         ],
         "legendgroup": "Portland Timbers",
         "marker": {
          "color": "#EF553B",
          "opacity": 0.4,
          "size": {
           "bdata": "Dg==",
           "dtype": "i1"
          },
          "sizemode": "area",
          "sizeref": 0.0475,
          "symbol": "circle"
         },
         "mode": "markers+text",
         "name": "Portland Timbers",
         "orientation": "v",
         "showlegend": true,
         "text": [
          "Portland Timbers"
         ],
         "textfont": {
          "color": "rgba(0,0,0,0.4)"
         },
         "type": "scatter",
         "x": {
          "bdata": "Ew==",
          "dtype": "i1"
         },
         "xaxis": "x",
         "y": {
          "bdata": "zczMzMzMI0A=",
          "dtype": "f8"
         },
         "yaxis": "y"
        },
        {
         "hovertemplate": "<b>%{hovertext}</b><br><br>Squad=%{text}<br>Tkl_Att=%{x}<br>npxG=%{y}<br>Goals=%{marker.size}<extra></extra>",
         "hovertext": [
          "Real Salt Lake"
         ],
         "legendgroup": "Real Salt Lake",
         "marker": {
          "color": "#00cc96",
          "opacity": 0.4,
          "size": {
           "bdata": "Bw==",
           "dtype": "i1"
          },
          "sizemode": "area",
          "sizeref": 0.0475,
          "symbol": "circle"
         },
         "mode": "markers+text",
         "name": "Real Salt Lake",
         "orientation": "v",
         "showlegend": true,
         "text": [
          "Real Salt Lake"
         ],
         "textfont": {
          "color": "rgba(0,0,0,0.4)"
         },
         "type": "scatter",
         "x": {
          "bdata": "EQ==",
          "dtype": "i1"
         },
         "xaxis": "x",
         "y": {
          "bdata": "zczMzMzMJkA=",
          "dtype": "f8"
         },
         "yaxis": "y"
        },
        {
         "hovertemplate": "<b>%{hovertext}</b><br><br>Squad=%{text}<br>Tkl_Att=%{x}<br>npxG=%{y}<br>Goals=%{marker.size}<extra></extra>",
         "hovertext": [
          "San Diego FC"
         ],
         "legendgroup": "San Diego FC",
         "marker": {
          "color": "#ab63fa",
          "opacity": 0.4,
          "size": {
           "bdata": "Dw==",
           "dtype": "i1"
          },
          "sizemode": "area",
          "sizeref": 0.0475,
          "symbol": "circle"
         },
         "mode": "markers+text",
         "name": "San Diego FC",
         "orientation": "v",
         "showlegend": true,
         "text": [
          "San Diego FC"
         ],
         "textfont": {
          "color": "rgba(0,0,0,0.4)"
         },
         "type": "scatter",
         "x": {
          "bdata": "GQ==",
          "dtype": "i1"
         },
         "xaxis": "x",
         "y": {
          "bdata": "zczMzMzMLEA=",
          "dtype": "f8"
         },
         "yaxis": "y"
        },
        {
         "hovertemplate": "<b>%{hovertext}</b><br><br>Squad=%{text}<br>Tkl_Att=%{x}<br>npxG=%{y}<br>Goals=%{marker.size}<extra></extra>",
         "hovertext": [
          "Seattle Sounders"
         ],
         "legendgroup": "Seattle Sounders",
         "marker": {
          "color": "#FFA15A",
          "opacity": 0.4,
          "size": {
           "bdata": "DA==",
           "dtype": "i1"
          },
          "sizemode": "area",
          "sizeref": 0.0475,
          "symbol": "circle"
         },
         "mode": "markers+text",
         "name": "Seattle Sounders",
         "orientation": "v",
         "showlegend": true,
         "text": [
          "Seattle Sounders"
         ],
         "textfont": {
          "color": "rgba(0,0,0,0.4)"
         },
         "type": "scatter",
         "x": {
          "bdata": "IQ==",
          "dtype": "i1"
         },
         "xaxis": "x",
         "y": {
          "bdata": "MzMzMzMzK0A=",
          "dtype": "f8"
         },
         "yaxis": "y"
        },
        {
         "hovertemplate": "<b>%{hovertext}</b><br><br>Squad=%{text}<br>Tkl_Att=%{x}<br>npxG=%{y}<br>Goals=%{marker.size}<extra></extra>",
         "hovertext": [
          "SJ Earthquakes"
         ],
         "legendgroup": "SJ Earthquakes",
         "marker": {
          "color": "#19d3f3",
          "opacity": 0.4,
          "size": {
           "bdata": "Ew==",
           "dtype": "i1"
          },
          "sizemode": "area",
          "sizeref": 0.0475,
          "symbol": "circle"
         },
         "mode": "markers+text",
         "name": "SJ Earthquakes",
         "orientation": "v",
         "showlegend": true,
         "text": [
          "SJ Earthquakes"
         ],
         "textfont": {
          "color": "rgba(0,0,0,0.4)"
         },
         "type": "scatter",
         "x": {
          "bdata": "FQ==",
          "dtype": "i1"
         },
         "xaxis": "x",
         "y": {
          "bdata": "ZmZmZmZmMkA=",
          "dtype": "f8"
         },
         "yaxis": "y"
        },
        {
         "hovertemplate": "<b>%{hovertext}</b><br><br>Squad=%{text}<br>Tkl_Att=%{x}<br>npxG=%{y}<br>Goals=%{marker.size}<extra></extra>",
         "hovertext": [
          "Sporting KC"
         ],
         "legendgroup": "Sporting KC",
         "marker": {
          "color": "#FF6692",
          "line": {
           "color": "black",
           "width": 2
          },
          "size": {
           "bdata": "Dg==",
           "dtype": "i1"
          },
          "sizemode": "area",
          "sizeref": 0.0475,
          "symbol": "circle"
         },
         "mode": "markers+text",
         "name": "Sporting KC",
         "orientation": "v",
         "showlegend": true,
         "text": [
          "Sporting KC"
         ],
         "type": "scatter",
         "x": {
          "bdata": "HQ==",
          "dtype": "i1"
         },
         "xaxis": "x",
         "y": {
          "bdata": "AAAAAAAAIEA=",
          "dtype": "f8"
         },
         "yaxis": "y"
        },
        {
         "hovertemplate": "<b>%{hovertext}</b><br><br>Squad=%{text}<br>Tkl_Att=%{x}<br>npxG=%{y}<br>Goals=%{marker.size}<extra></extra>",
         "hovertext": [
          "St. Louis"
         ],
         "legendgroup": "St. Louis",
         "marker": {
          "color": "#B6E880",
          "opacity": 0.4,
          "size": {
           "bdata": "BQ==",
           "dtype": "i1"
          },
          "sizemode": "area",
          "sizeref": 0.0475,
          "symbol": "circle"
         },
         "mode": "markers+text",
         "name": "St. Louis",
         "orientation": "v",
         "showlegend": true,
         "text": [
          "St. Louis"
         ],
         "textfont": {
          "color": "rgba(0,0,0,0.4)"
         },
         "type": "scatter",
         "x": {
          "bdata": "Cg==",
          "dtype": "i1"
         },
         "xaxis": "x",
         "y": {
          "bdata": "mpmZmZmZJEA=",
          "dtype": "f8"
         },
         "yaxis": "y"
        },
        {
         "hovertemplate": "<b>%{hovertext}</b><br><br>Squad=%{text}<br>Tkl_Att=%{x}<br>npxG=%{y}<br>Goals=%{marker.size}<extra></extra>",
         "hovertext": [
          "Toronto FC"
         ],
         "legendgroup": "Toronto FC",
         "marker": {
          "color": "#FF97FF",
          "line": {
           "color": "black",
           "width": 2
          },
          "size": {
           "bdata": "CA==",
           "dtype": "i1"
          },
          "sizemode": "area",
          "sizeref": 0.0475,
          "symbol": "circle"
         },
         "mode": "markers+text",
         "name": "Toronto FC",
         "orientation": "v",
         "showlegend": true,
         "text": [
          "Toronto FC"
         ],
         "type": "scatter",
         "x": {
          "bdata": "GA==",
          "dtype": "i1"
         },
         "xaxis": "x",
         "y": {
          "bdata": "MzMzMzMzF0A=",
          "dtype": "f8"
         },
         "yaxis": "y"
        },
        {
         "hovertemplate": "<b>%{hovertext}</b><br><br>Squad=%{text}<br>Tkl_Att=%{x}<br>npxG=%{y}<br>Goals=%{marker.size}<extra></extra>",
         "hovertext": [
          "Vancouver W'caps"
         ],
         "legendgroup": "Vancouver W'caps",
         "marker": {
          "color": "#FECB52",
          "opacity": 0.4,
          "size": {
           "bdata": "EQ==",
           "dtype": "i1"
          },
          "sizemode": "area",
          "sizeref": 0.0475,
          "symbol": "circle"
         },
         "mode": "markers+text",
         "name": "Vancouver W'caps",
         "orientation": "v",
         "showlegend": true,
         "text": [
          "Vancouver W'caps"
         ],
         "textfont": {
          "color": "rgba(0,0,0,0.4)"
         },
         "type": "scatter",
         "x": {
          "bdata": "Hg==",
          "dtype": "i1"
         },
         "xaxis": "x",
         "y": {
          "bdata": "mpmZmZmZMEA=",
          "dtype": "f8"
         },
         "yaxis": "y"
        }
       ],
       "layout": {
        "height": 700,
        "legend": {
         "itemsizing": "constant",
         "title": {
          "text": "Squad"
         },
         "tracegroupgap": 0
        },
        "margin": {
         "t": 60
        },
        "template": {
         "data": {
          "bar": [
           {
            "error_x": {
             "color": "#2a3f5f"
            },
            "error_y": {
             "color": "#2a3f5f"
            },
            "marker": {
             "line": {
              "color": "#E5ECF6",
              "width": 0.5
             },
             "pattern": {
              "fillmode": "overlay",
              "size": 10,
              "solidity": 0.2
             }
            },
            "type": "bar"
           }
          ],
          "barpolar": [
           {
            "marker": {
             "line": {
              "color": "#E5ECF6",
              "width": 0.5
             },
             "pattern": {
              "fillmode": "overlay",
              "size": 10,
              "solidity": 0.2
             }
            },
            "type": "barpolar"
           }
          ],
          "carpet": [
           {
            "aaxis": {
             "endlinecolor": "#2a3f5f",
             "gridcolor": "white",
             "linecolor": "white",
             "minorgridcolor": "white",
             "startlinecolor": "#2a3f5f"
            },
            "baxis": {
             "endlinecolor": "#2a3f5f",
             "gridcolor": "white",
             "linecolor": "white",
             "minorgridcolor": "white",
             "startlinecolor": "#2a3f5f"
            },
            "type": "carpet"
           }
          ],
          "choropleth": [
           {
            "colorbar": {
             "outlinewidth": 0,
             "ticks": ""
            },
            "type": "choropleth"
           }
          ],
          "contour": [
           {
            "colorbar": {
             "outlinewidth": 0,
             "ticks": ""
            },
            "colorscale": [
             [
              0,
              "#0d0887"
             ],
             [
              0.1111111111111111,
              "#46039f"
             ],
             [
              0.2222222222222222,
              "#7201a8"
             ],
             [
              0.3333333333333333,
              "#9c179e"
             ],
             [
              0.4444444444444444,
              "#bd3786"
             ],
             [
              0.5555555555555556,
              "#d8576b"
             ],
             [
              0.6666666666666666,
              "#ed7953"
             ],
             [
              0.7777777777777778,
              "#fb9f3a"
             ],
             [
              0.8888888888888888,
              "#fdca26"
             ],
             [
              1,
              "#f0f921"
             ]
            ],
            "type": "contour"
           }
          ],
          "contourcarpet": [
           {
            "colorbar": {
             "outlinewidth": 0,
             "ticks": ""
            },
            "type": "contourcarpet"
           }
          ],
          "heatmap": [
           {
            "colorbar": {
             "outlinewidth": 0,
             "ticks": ""
            },
            "colorscale": [
             [
              0,
              "#0d0887"
             ],
             [
              0.1111111111111111,
              "#46039f"
             ],
             [
              0.2222222222222222,
              "#7201a8"
             ],
             [
              0.3333333333333333,
              "#9c179e"
             ],
             [
              0.4444444444444444,
              "#bd3786"
             ],
             [
              0.5555555555555556,
              "#d8576b"
             ],
             [
              0.6666666666666666,
              "#ed7953"
             ],
             [
              0.7777777777777778,
              "#fb9f3a"
             ],
             [
              0.8888888888888888,
              "#fdca26"
             ],
             [
              1,
              "#f0f921"
             ]
            ],
            "type": "heatmap"
           }
          ],
          "histogram": [
           {
            "marker": {
             "pattern": {
              "fillmode": "overlay",
              "size": 10,
              "solidity": 0.2
             }
            },
            "type": "histogram"
           }
          ],
          "histogram2d": [
           {
            "colorbar": {
             "outlinewidth": 0,
             "ticks": ""
            },
            "colorscale": [
             [
              0,
              "#0d0887"
             ],
             [
              0.1111111111111111,
              "#46039f"
             ],
             [
              0.2222222222222222,
              "#7201a8"
             ],
             [
              0.3333333333333333,
              "#9c179e"
             ],
             [
              0.4444444444444444,
              "#bd3786"
             ],
             [
              0.5555555555555556,
              "#d8576b"
             ],
             [
              0.6666666666666666,
              "#ed7953"
             ],
             [
              0.7777777777777778,
              "#fb9f3a"
             ],
             [
              0.8888888888888888,
              "#fdca26"
             ],
             [
              1,
              "#f0f921"
             ]
            ],
            "type": "histogram2d"
           }
          ],
          "histogram2dcontour": [
           {
            "colorbar": {
             "outlinewidth": 0,
             "ticks": ""
            },
            "colorscale": [
             [
              0,
              "#0d0887"
             ],
             [
              0.1111111111111111,
              "#46039f"
             ],
             [
              0.2222222222222222,
              "#7201a8"
             ],
             [
              0.3333333333333333,
              "#9c179e"
             ],
             [
              0.4444444444444444,
              "#bd3786"
             ],
             [
              0.5555555555555556,
              "#d8576b"
             ],
             [
              0.6666666666666666,
              "#ed7953"
             ],
             [
              0.7777777777777778,
              "#fb9f3a"
             ],
             [
              0.8888888888888888,
              "#fdca26"
             ],
             [
              1,
              "#f0f921"
             ]
            ],
            "type": "histogram2dcontour"
           }
          ],
          "mesh3d": [
           {
            "colorbar": {
             "outlinewidth": 0,
             "ticks": ""
            },
            "type": "mesh3d"
           }
          ],
          "parcoords": [
           {
            "line": {
             "colorbar": {
              "outlinewidth": 0,
              "ticks": ""
             }
            },
            "type": "parcoords"
           }
          ],
          "pie": [
           {
            "automargin": true,
            "type": "pie"
           }
          ],
          "scatter": [
           {
            "fillpattern": {
             "fillmode": "overlay",
             "size": 10,
             "solidity": 0.2
            },
            "type": "scatter"
           }
          ],
          "scatter3d": [
           {
            "line": {
             "colorbar": {
              "outlinewidth": 0,
              "ticks": ""
             }
            },
            "marker": {
             "colorbar": {
              "outlinewidth": 0,
              "ticks": ""
             }
            },
            "type": "scatter3d"
           }
          ],
          "scattercarpet": [
           {
            "marker": {
             "colorbar": {
              "outlinewidth": 0,
              "ticks": ""
             }
            },
            "type": "scattercarpet"
           }
          ],
          "scattergeo": [
           {
            "marker": {
             "colorbar": {
              "outlinewidth": 0,
              "ticks": ""
             }
            },
            "type": "scattergeo"
           }
          ],
          "scattergl": [
           {
            "marker": {
             "colorbar": {
              "outlinewidth": 0,
              "ticks": ""
             }
            },
            "type": "scattergl"
           }
          ],
          "scattermap": [
           {
            "marker": {
             "colorbar": {
              "outlinewidth": 0,
              "ticks": ""
             }
            },
            "type": "scattermap"
           }
          ],
          "scattermapbox": [
           {
            "marker": {
             "colorbar": {
              "outlinewidth": 0,
              "ticks": ""
             }
            },
            "type": "scattermapbox"
           }
          ],
          "scatterpolar": [
           {
            "marker": {
             "colorbar": {
              "outlinewidth": 0,
              "ticks": ""
             }
            },
            "type": "scatterpolar"
           }
          ],
          "scatterpolargl": [
           {
            "marker": {
             "colorbar": {
              "outlinewidth": 0,
              "ticks": ""
             }
            },
            "type": "scatterpolargl"
           }
          ],
          "scatterternary": [
           {
            "marker": {
             "colorbar": {
              "outlinewidth": 0,
              "ticks": ""
             }
            },
            "type": "scatterternary"
           }
          ],
          "surface": [
           {
            "colorbar": {
             "outlinewidth": 0,
             "ticks": ""
            },
            "colorscale": [
             [
              0,
              "#0d0887"
             ],
             [
              0.1111111111111111,
              "#46039f"
             ],
             [
              0.2222222222222222,
              "#7201a8"
             ],
             [
              0.3333333333333333,
              "#9c179e"
             ],
             [
              0.4444444444444444,
              "#bd3786"
             ],
             [
              0.5555555555555556,
              "#d8576b"
             ],
             [
              0.6666666666666666,
              "#ed7953"
             ],
             [
              0.7777777777777778,
              "#fb9f3a"
             ],
             [
              0.8888888888888888,
              "#fdca26"
             ],
             [
              1,
              "#f0f921"
             ]
            ],
            "type": "surface"
           }
          ],
          "table": [
           {
            "cells": {
             "fill": {
              "color": "#EBF0F8"
             },
             "line": {
              "color": "white"
             }
            },
            "header": {
             "fill": {
              "color": "#C8D4E3"
             },
             "line": {
              "color": "white"
             }
            },
            "type": "table"
           }
          ]
         },
         "layout": {
          "annotationdefaults": {
           "arrowcolor": "#2a3f5f",
           "arrowhead": 0,
           "arrowwidth": 1
          },
          "autotypenumbers": "strict",
          "coloraxis": {
           "colorbar": {
            "outlinewidth": 0,
            "ticks": ""
           }
          },
          "colorscale": {
           "diverging": [
            [
             0,
             "#8e0152"
            ],
            [
             0.1,
             "#c51b7d"
            ],
            [
             0.2,
             "#de77ae"
            ],
            [
             0.3,
             "#f1b6da"
            ],
            [
             0.4,
             "#fde0ef"
            ],
            [
             0.5,
             "#f7f7f7"
            ],
            [
             0.6,
             "#e6f5d0"
            ],
            [
             0.7,
             "#b8e186"
            ],
            [
             0.8,
             "#7fbc41"
            ],
            [
             0.9,
             "#4d9221"
            ],
            [
             1,
             "#276419"
            ]
           ],
           "sequential": [
            [
             0,
             "#0d0887"
            ],
            [
             0.1111111111111111,
             "#46039f"
            ],
            [
             0.2222222222222222,
             "#7201a8"
            ],
            [
             0.3333333333333333,
             "#9c179e"
            ],
            [
             0.4444444444444444,
             "#bd3786"
            ],
            [
             0.5555555555555556,
             "#d8576b"
            ],
            [
             0.6666666666666666,
             "#ed7953"
            ],
            [
             0.7777777777777778,
             "#fb9f3a"
            ],
            [
             0.8888888888888888,
             "#fdca26"
            ],
            [
             1,
             "#f0f921"
            ]
           ],
           "sequentialminus": [
            [
             0,
             "#0d0887"
            ],
            [
             0.1111111111111111,
             "#46039f"
            ],
            [
             0.2222222222222222,
             "#7201a8"
            ],
            [
             0.3333333333333333,
             "#9c179e"
            ],
            [
             0.4444444444444444,
             "#bd3786"
            ],
            [
             0.5555555555555556,
             "#d8576b"
            ],
            [
             0.6666666666666666,
             "#ed7953"
            ],
            [
             0.7777777777777778,
             "#fb9f3a"
            ],
            [
             0.8888888888888888,
             "#fdca26"
            ],
            [
             1,
             "#f0f921"
            ]
           ]
          },
          "colorway": [
           "#636efa",
           "#EF553B",
           "#00cc96",
           "#ab63fa",
           "#FFA15A",
           "#19d3f3",
           "#FF6692",
           "#B6E880",
           "#FF97FF",
           "#FECB52"
          ],
          "font": {
           "color": "#2a3f5f"
          },
          "geo": {
           "bgcolor": "white",
           "lakecolor": "white",
           "landcolor": "#E5ECF6",
           "showlakes": true,
           "showland": true,
           "subunitcolor": "white"
          },
          "hoverlabel": {
           "align": "left"
          },
          "hovermode": "closest",
          "mapbox": {
           "style": "light"
          },
          "paper_bgcolor": "white",
          "plot_bgcolor": "#E5ECF6",
          "polar": {
           "angularaxis": {
            "gridcolor": "white",
            "linecolor": "white",
            "ticks": ""
           },
           "bgcolor": "#E5ECF6",
           "radialaxis": {
            "gridcolor": "white",
            "linecolor": "white",
            "ticks": ""
           }
          },
          "scene": {
           "xaxis": {
            "backgroundcolor": "#E5ECF6",
            "gridcolor": "white",
            "gridwidth": 2,
            "linecolor": "white",
            "showbackground": true,
            "ticks": "",
            "zerolinecolor": "white"
           },
           "yaxis": {
            "backgroundcolor": "#E5ECF6",
            "gridcolor": "white",
            "gridwidth": 2,
            "linecolor": "white",
            "showbackground": true,
            "ticks": "",
            "zerolinecolor": "white"
           },
           "zaxis": {
            "backgroundcolor": "#E5ECF6",
            "gridcolor": "white",
            "gridwidth": 2,
            "linecolor": "white",
            "showbackground": true,
            "ticks": "",
            "zerolinecolor": "white"
           }
          },
          "shapedefaults": {
           "line": {
            "color": "#2a3f5f"
           }
          },
          "ternary": {
           "aaxis": {
            "gridcolor": "white",
            "linecolor": "white",
            "ticks": ""
           },
           "baxis": {
            "gridcolor": "white",
            "linecolor": "white",
            "ticks": ""
           },
           "bgcolor": "#E5ECF6",
           "caxis": {
            "gridcolor": "white",
            "linecolor": "white",
            "ticks": ""
           }
          },
          "title": {
           "x": 0.05
          },
          "xaxis": {
           "automargin": true,
           "gridcolor": "white",
           "linecolor": "white",
           "ticks": "",
           "title": {
            "standoff": 15
           },
           "zerolinecolor": "white",
           "zerolinewidth": 2
          },
          "yaxis": {
           "automargin": true,
           "gridcolor": "white",
           "linecolor": "white",
           "ticks": "",
           "title": {
            "standoff": 15
           },
           "zerolinecolor": "white",
           "zerolinewidth": 2
          }
         }
        },
        "title": {
         "text": "<b>MLS 2025: Does pressing impact xG? </b><br><sup>Data Source: Fbref</sup>",
         "x": 0.5,
         "xanchor": "center",
         "y": 0.95,
         "yanchor": "top"
        },
        "width": 1200,
        "xaxis": {
         "anchor": "y",
         "domain": [
          0,
          1
         ],
         "title": {
          "text": "Tackles Attempted in Attacking Third"
         }
        },
        "yaxis": {
         "anchor": "x",
         "domain": [
          0,
          1
         ],
         "title": {
          "text": "Expected Goals"
         }
        }
       }
      }
     },
     "metadata": {},
     "output_type": "display_data"
    }
   ],
   "source": [
    "merged_df = pd.merge(mls_defense_25, mls_standard_25, on='Squad', how='inner')\n",
    "\n",
    "# Define teams to highlight\n",
    "highlighted_teams = ['CF Montréal', 'Toronto FC', 'NE Revolution', 'Sporting KC', 'LA Galaxy', 'Houston Dynamo']\n",
    "\n",
    "# Create plot without using the opacity parameter\n",
    "fig_xG = px.scatter(merged_df, x='Tkl_Att', y='npxG', \n",
    "                   size='Goals', \n",
    "                   color='Squad', \n",
    "                   text='Squad', \n",
    "                   hover_name='Squad')\n",
    "\n",
    "# Apply opacity changes at the trace level\n",
    "for i, trace in enumerate(fig_xG.data):\n",
    "    team_name = trace.name\n",
    "    if team_name not in highlighted_teams:\n",
    "        fig_xG.data[i].marker.opacity = 0.4\n",
    "        # Optional: also reduce text opacity\n",
    "        fig_xG.data[i].textfont = dict(color='rgba(0,0,0,0.4)')\n",
    "    else:\n",
    "        # Optional: make highlighted teams more prominent\n",
    "        fig_xG.data[i].marker.line.width = 2\n",
    "        fig_xG.data[i].marker.line.color = 'black'\n",
    "\n",
    "# Update layout as before\n",
    "fig_xG.update_layout(yaxis_title='Expected Goals', \n",
    "                    xaxis_title='Tackles Attempted in Attacking Third', \n",
    "                    width=1200, height=700,\n",
    "                    title={\n",
    "                        'text': '<b>MLS 2025: Does pressing impact xG? </b><br><sup>Data Source: Fbref</sup>',\n",
    "                        'y': 0.95,\n",
    "                        'x': 0.5,\n",
    "                        'xanchor': 'center',\n",
    "                        'yanchor': 'top'\n",
    "                    })"
   ]
  },
  {
   "cell_type": "code",
   "execution_count": 12,
   "metadata": {},
   "outputs": [],
   "source": [
    "if not os.path.exists(\"images\"):\n",
    "    os.mkdir(\"images\")"
   ]
  },
  {
   "cell_type": "code",
   "execution_count": 18,
   "metadata": {},
   "outputs": [
    {
     "ename": "ValueError",
     "evalue": "\nImage export using the \"kaleido\" engine requires the kaleido package,\nwhich can be installed using pip:\n    $ pip install -U kaleido\n",
     "output_type": "error",
     "traceback": [
      "\u001b[0;31m---------------------------------------------------------------------------\u001b[0m",
      "\u001b[0;31mValueError\u001b[0m                                Traceback (most recent call last)",
      "Cell \u001b[0;32mIn[18], line 1\u001b[0m\n\u001b[0;32m----> 1\u001b[0m fig_xG\u001b[39m.\u001b[39;49mwrite_image(\u001b[39m\"\u001b[39;49m\u001b[39mimages/TklAtt3rd_vs_xG.png\u001b[39;49m\u001b[39m\"\u001b[39;49m)\n",
      "File \u001b[0;32m/Library/Frameworks/Python.framework/Versions/3.12/lib/python3.12/site-packages/plotly/basedatatypes.py:3827\u001b[0m, in \u001b[0;36mBaseFigure.write_image\u001b[0;34m(self, *args, **kwargs)\u001b[0m\n\u001b[1;32m   3767\u001b[0m \u001b[39m\u001b[39m\u001b[39m\"\"\"\u001b[39;00m\n\u001b[1;32m   3768\u001b[0m \u001b[39mConvert a figure to a static image and write it to a file or writeable\u001b[39;00m\n\u001b[1;32m   3769\u001b[0m \u001b[39mobject\u001b[39;00m\n\u001b[0;32m   (...)\u001b[0m\n\u001b[1;32m   3823\u001b[0m \u001b[39mNone\u001b[39;00m\n\u001b[1;32m   3824\u001b[0m \u001b[39m\"\"\"\u001b[39;00m\n\u001b[1;32m   3825\u001b[0m \u001b[39mimport\u001b[39;00m \u001b[39mplotly\u001b[39;00m\u001b[39m.\u001b[39;00m\u001b[39mio\u001b[39;00m \u001b[39mas\u001b[39;00m \u001b[39mpio\u001b[39;00m\n\u001b[0;32m-> 3827\u001b[0m \u001b[39mreturn\u001b[39;00m pio\u001b[39m.\u001b[39;49mwrite_image(\u001b[39mself\u001b[39;49m, \u001b[39m*\u001b[39;49margs, \u001b[39m*\u001b[39;49m\u001b[39m*\u001b[39;49mkwargs)\n",
      "File \u001b[0;32m/Library/Frameworks/Python.framework/Versions/3.12/lib/python3.12/site-packages/plotly/io/_kaleido.py:266\u001b[0m, in \u001b[0;36mwrite_image\u001b[0;34m(fig, file, format, scale, width, height, validate, engine)\u001b[0m\n\u001b[1;32m    250\u001b[0m             \u001b[39mraise\u001b[39;00m \u001b[39mValueError\u001b[39;00m(\n\u001b[1;32m    251\u001b[0m \u001b[39m                \u001b[39m\u001b[39m\"\"\"\u001b[39;00m\n\u001b[1;32m    252\u001b[0m \u001b[39mCannot infer image type from output path '{file}'.\u001b[39;00m\n\u001b[0;32m   (...)\u001b[0m\n\u001b[1;32m    260\u001b[0m                 )\n\u001b[1;32m    261\u001b[0m             )\n\u001b[1;32m    263\u001b[0m     \u001b[39m# Request image\u001b[39;00m\n\u001b[1;32m    264\u001b[0m     \u001b[39m# -------------\u001b[39;00m\n\u001b[1;32m    265\u001b[0m     \u001b[39m# Do this first so we don't create a file if image conversion fails\u001b[39;00m\n\u001b[0;32m--> 266\u001b[0m     img_data \u001b[39m=\u001b[39m to_image(\n\u001b[1;32m    267\u001b[0m         fig,\n\u001b[1;32m    268\u001b[0m         \u001b[39mformat\u001b[39;49m\u001b[39m=\u001b[39;49m\u001b[39mformat\u001b[39;49m,\n\u001b[1;32m    269\u001b[0m         scale\u001b[39m=\u001b[39;49mscale,\n\u001b[1;32m    270\u001b[0m         width\u001b[39m=\u001b[39;49mwidth,\n\u001b[1;32m    271\u001b[0m         height\u001b[39m=\u001b[39;49mheight,\n\u001b[1;32m    272\u001b[0m         validate\u001b[39m=\u001b[39;49mvalidate,\n\u001b[1;32m    273\u001b[0m         engine\u001b[39m=\u001b[39;49mengine,\n\u001b[1;32m    274\u001b[0m     )\n\u001b[1;32m    276\u001b[0m     \u001b[39m# Open file\u001b[39;00m\n\u001b[1;32m    277\u001b[0m     \u001b[39m# ---------\u001b[39;00m\n\u001b[1;32m    278\u001b[0m     \u001b[39mif\u001b[39;00m path \u001b[39mis\u001b[39;00m \u001b[39mNone\u001b[39;00m:\n\u001b[1;32m    279\u001b[0m         \u001b[39m# We previously failed to make sense of `file` as a pathlib object.\u001b[39;00m\n\u001b[1;32m    280\u001b[0m         \u001b[39m# Attempt to write to `file` as an open file descriptor.\u001b[39;00m\n",
      "File \u001b[0;32m/Library/Frameworks/Python.framework/Versions/3.12/lib/python3.12/site-packages/plotly/io/_kaleido.py:132\u001b[0m, in \u001b[0;36mto_image\u001b[0;34m(fig, format, width, height, scale, validate, engine)\u001b[0m\n\u001b[1;32m    130\u001b[0m     \u001b[39m# Raise informative error message if Kaleido is not installed\u001b[39;00m\n\u001b[1;32m    131\u001b[0m     \u001b[39mif\u001b[39;00m scope \u001b[39mis\u001b[39;00m \u001b[39mNone\u001b[39;00m:\n\u001b[0;32m--> 132\u001b[0m         \u001b[39mraise\u001b[39;00m \u001b[39mValueError\u001b[39;00m(\n\u001b[1;32m    133\u001b[0m \u001b[39m            \u001b[39m\u001b[39m\"\"\"\u001b[39;00m\n\u001b[1;32m    134\u001b[0m \u001b[39mImage export using the \"kaleido\" engine requires the kaleido package,\u001b[39;00m\n\u001b[1;32m    135\u001b[0m \u001b[39mwhich can be installed using pip:\u001b[39;00m\n\u001b[1;32m    136\u001b[0m \u001b[39m    $ pip install -U kaleido\u001b[39;00m\n\u001b[1;32m    137\u001b[0m \u001b[39m\"\"\"\u001b[39;00m\n\u001b[1;32m    138\u001b[0m         )\n\u001b[1;32m    140\u001b[0m     \u001b[39m# Validate figure\u001b[39;00m\n\u001b[1;32m    141\u001b[0m     \u001b[39m# ---------------\u001b[39;00m\n\u001b[1;32m    142\u001b[0m     fig_dict \u001b[39m=\u001b[39m validate_coerce_fig_to_dict(fig, validate)\n",
      "\u001b[0;31mValueError\u001b[0m: \nImage export using the \"kaleido\" engine requires the kaleido package,\nwhich can be installed using pip:\n    $ pip install -U kaleido\n"
     ]
    }
   ],
   "source": [
    "fig_xG.write_image(\"images/TklAtt3rd_vs_xG.png\")"
   ]
  },
  {
   "cell_type": "code",
   "execution_count": null,
   "metadata": {},
   "outputs": [],
   "source": []
  },
  {
   "cell_type": "code",
   "execution_count": null,
   "metadata": {},
   "outputs": [],
   "source": []
  },
  {
   "cell_type": "code",
   "execution_count": null,
   "metadata": {},
   "outputs": [],
   "source": []
  }
 ],
 "metadata": {
  "kernelspec": {
   "display_name": "Python 3",
   "language": "python",
   "name": "python3"
  },
  "language_info": {
   "codemirror_mode": {
    "name": "ipython",
    "version": 3
   },
   "file_extension": ".py",
   "mimetype": "text/x-python",
   "name": "python",
   "nbconvert_exporter": "python",
   "pygments_lexer": "ipython3",
   "version": "3.12.6"
  },
  "orig_nbformat": 4
 },
 "nbformat": 4,
 "nbformat_minor": 2
}
