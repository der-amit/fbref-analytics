{
 "cells": [
  {
   "cell_type": "code",
   "execution_count": 1,
   "metadata": {},
   "outputs": [],
   "source": [
    "import pandas as pd\n",
    "import plotly.express as px"
   ]
  },
  {
   "cell_type": "code",
   "execution_count": 2,
   "metadata": {},
   "outputs": [],
   "source": [
    "data_def = pd.read_csv('/Users/amitmishra/fbref-analytics/data/player_defense_2025_cleaned.csv')\n",
    "data_poss = pd.read_csv('/Users/amitmishra/fbref-analytics/data/player_possession_2025_cleaned.csv')\n",
    "data_gca = pd.read_csv('/Users/amitmishra/fbref-analytics/data/player_gca_2025_cleaned.csv')"
   ]
  },
  {
   "cell_type": "code",
   "execution_count": 3,
   "metadata": {},
   "outputs": [
    {
     "data": {
      "text/html": [
       "<div>\n",
       "<style scoped>\n",
       "    .dataframe tbody tr th:only-of-type {\n",
       "        vertical-align: middle;\n",
       "    }\n",
       "\n",
       "    .dataframe tbody tr th {\n",
       "        vertical-align: top;\n",
       "    }\n",
       "\n",
       "    .dataframe thead th {\n",
       "        text-align: right;\n",
       "    }\n",
       "</style>\n",
       "<table border=\"1\" class=\"dataframe\">\n",
       "  <thead>\n",
       "    <tr style=\"text-align: right;\">\n",
       "      <th></th>\n",
       "      <th>Player</th>\n",
       "      <th>Nation</th>\n",
       "      <th>Pos</th>\n",
       "      <th>Squad</th>\n",
       "      <th>Age</th>\n",
       "      <th>Born</th>\n",
       "      <th>90s</th>\n",
       "      <th>Tkl_attempted</th>\n",
       "      <th>TklW</th>\n",
       "      <th>Tkl_Def</th>\n",
       "      <th>...</th>\n",
       "      <th>Drib_Tkl%</th>\n",
       "      <th>Chal_Lost</th>\n",
       "      <th>Blocks</th>\n",
       "      <th>Shots_blocked</th>\n",
       "      <th>Pass_blocked</th>\n",
       "      <th>Interceptions</th>\n",
       "      <th>Tkl+Int</th>\n",
       "      <th>Clr</th>\n",
       "      <th>Err_shot</th>\n",
       "      <th>Matches</th>\n",
       "    </tr>\n",
       "  </thead>\n",
       "  <tbody>\n",
       "    <tr>\n",
       "      <th>0</th>\n",
       "      <td>Luis Abram</td>\n",
       "      <td>pe PER</td>\n",
       "      <td>DF</td>\n",
       "      <td>Atlanta Utd</td>\n",
       "      <td>29-067</td>\n",
       "      <td>1996</td>\n",
       "      <td>6.8</td>\n",
       "      <td>5</td>\n",
       "      <td>2</td>\n",
       "      <td>4</td>\n",
       "      <td>...</td>\n",
       "      <td>50.0</td>\n",
       "      <td>4</td>\n",
       "      <td>5</td>\n",
       "      <td>2</td>\n",
       "      <td>3</td>\n",
       "      <td>1</td>\n",
       "      <td>6</td>\n",
       "      <td>31</td>\n",
       "      <td>0</td>\n",
       "      <td>Matches</td>\n",
       "    </tr>\n",
       "    <tr>\n",
       "      <th>1</th>\n",
       "      <td>Lalas Abubakar</td>\n",
       "      <td>gh GHA</td>\n",
       "      <td>DF</td>\n",
       "      <td>FC Dallas</td>\n",
       "      <td>30-131</td>\n",
       "      <td>1994</td>\n",
       "      <td>2.0</td>\n",
       "      <td>5</td>\n",
       "      <td>4</td>\n",
       "      <td>2</td>\n",
       "      <td>...</td>\n",
       "      <td>75.0</td>\n",
       "      <td>1</td>\n",
       "      <td>2</td>\n",
       "      <td>1</td>\n",
       "      <td>1</td>\n",
       "      <td>5</td>\n",
       "      <td>10</td>\n",
       "      <td>16</td>\n",
       "      <td>0</td>\n",
       "      <td>Matches</td>\n",
       "    </tr>\n",
       "    <tr>\n",
       "      <th>2</th>\n",
       "      <td>Kellyn Acosta</td>\n",
       "      <td>us USA</td>\n",
       "      <td>MF</td>\n",
       "      <td>Chicago Fire</td>\n",
       "      <td>29-285</td>\n",
       "      <td>1995</td>\n",
       "      <td>4.3</td>\n",
       "      <td>4</td>\n",
       "      <td>2</td>\n",
       "      <td>2</td>\n",
       "      <td>...</td>\n",
       "      <td>50.0</td>\n",
       "      <td>2</td>\n",
       "      <td>3</td>\n",
       "      <td>0</td>\n",
       "      <td>3</td>\n",
       "      <td>5</td>\n",
       "      <td>9</td>\n",
       "      <td>6</td>\n",
       "      <td>0</td>\n",
       "      <td>Matches</td>\n",
       "    </tr>\n",
       "    <tr>\n",
       "      <th>3</th>\n",
       "      <td>Luciano Acosta</td>\n",
       "      <td>ar ARG</td>\n",
       "      <td>MF</td>\n",
       "      <td>FC Dallas</td>\n",
       "      <td>30-339</td>\n",
       "      <td>1994</td>\n",
       "      <td>10.2</td>\n",
       "      <td>15</td>\n",
       "      <td>12</td>\n",
       "      <td>3</td>\n",
       "      <td>...</td>\n",
       "      <td>33.3</td>\n",
       "      <td>12</td>\n",
       "      <td>8</td>\n",
       "      <td>0</td>\n",
       "      <td>8</td>\n",
       "      <td>3</td>\n",
       "      <td>18</td>\n",
       "      <td>10</td>\n",
       "      <td>0</td>\n",
       "      <td>Matches</td>\n",
       "    </tr>\n",
       "    <tr>\n",
       "      <th>4</th>\n",
       "      <td>Sam Adekugbe</td>\n",
       "      <td>ca CAN</td>\n",
       "      <td>DF</td>\n",
       "      <td>Vancouver W'caps</td>\n",
       "      <td>30-109</td>\n",
       "      <td>1995</td>\n",
       "      <td>1.9</td>\n",
       "      <td>1</td>\n",
       "      <td>1</td>\n",
       "      <td>0</td>\n",
       "      <td>...</td>\n",
       "      <td>100.0</td>\n",
       "      <td>0</td>\n",
       "      <td>1</td>\n",
       "      <td>0</td>\n",
       "      <td>1</td>\n",
       "      <td>3</td>\n",
       "      <td>4</td>\n",
       "      <td>4</td>\n",
       "      <td>0</td>\n",
       "      <td>Matches</td>\n",
       "    </tr>\n",
       "  </tbody>\n",
       "</table>\n",
       "<p>5 rows × 24 columns</p>\n",
       "</div>"
      ],
      "text/plain": [
       "           Player  Nation Pos             Squad     Age  Born   90s  \\\n",
       "0      Luis Abram  pe PER  DF       Atlanta Utd  29-067  1996   6.8   \n",
       "1  Lalas Abubakar  gh GHA  DF         FC Dallas  30-131  1994   2.0   \n",
       "2   Kellyn Acosta  us USA  MF      Chicago Fire  29-285  1995   4.3   \n",
       "3  Luciano Acosta  ar ARG  MF         FC Dallas  30-339  1994  10.2   \n",
       "4    Sam Adekugbe  ca CAN  DF  Vancouver W'caps  30-109  1995   1.9   \n",
       "\n",
       "  Tkl_attempted TklW Tkl_Def  ... Drib_Tkl% Chal_Lost Blocks Shots_blocked  \\\n",
       "0             5    2       4  ...      50.0         4      5             2   \n",
       "1             5    4       2  ...      75.0         1      2             1   \n",
       "2             4    2       2  ...      50.0         2      3             0   \n",
       "3            15   12       3  ...      33.3        12      8             0   \n",
       "4             1    1       0  ...     100.0         0      1             0   \n",
       "\n",
       "  Pass_blocked Interceptions Tkl+Int Clr Err_shot  Matches  \n",
       "0            3             1       6  31        0  Matches  \n",
       "1            1             5      10  16        0  Matches  \n",
       "2            3             5       9   6        0  Matches  \n",
       "3            8             3      18  10        0  Matches  \n",
       "4            1             3       4   4        0  Matches  \n",
       "\n",
       "[5 rows x 24 columns]"
      ]
     },
     "execution_count": 3,
     "metadata": {},
     "output_type": "execute_result"
    }
   ],
   "source": [
    "data_def.head()"
   ]
  },
  {
   "cell_type": "markdown",
   "metadata": {},
   "source": [
    "### Right-back position specific filtering"
   ]
  },
  {
   "cell_type": "code",
   "execution_count": 4,
   "metadata": {},
   "outputs": [],
   "source": [
    "#Merge columns first"
   ]
  },
  {
   "cell_type": "code",
   "execution_count": 5,
   "metadata": {},
   "outputs": [
    {
     "data": {
      "text/plain": [
       "Index(['Player', 'Nation', 'Pos', 'Squad', 'Age', 'Born', '90s',\n",
       "       'Tkl_attempted', 'TklW', 'Tkl_Def', 'Tkl_Mid', 'Tkl_Att', 'Drib_Tkl',\n",
       "       'Drib_chal', 'Drib_Tkl%', 'Chal_Lost', 'Blocks', 'Shots_blocked',\n",
       "       'Pass_blocked', 'Interceptions', 'Tkl+Int', 'Clr', 'Err_shot',\n",
       "       'Matches'],\n",
       "      dtype='object')"
      ]
     },
     "execution_count": 5,
     "metadata": {},
     "output_type": "execute_result"
    }
   ],
   "source": [
    "data_def.columns"
   ]
  },
  {
   "cell_type": "code",
   "execution_count": 6,
   "metadata": {},
   "outputs": [],
   "source": [
    "def_stats = ['Player', 'Pos', 'Squad', '90s','Born','Tkl_attempted', 'TklW', 'Tkl_Def', 'Tkl_Mid', 'Tkl_Att', \n",
    "             'Drib_Tkl', 'Drib_chal', 'Drib_Tkl%', 'Interceptions', 'Blocks', 'Clr']\n",
    "\n",
    "poss_stats = ['Player','Touches', 'Touches_Def3rd', 'Touches_Mid3rd', 'Touches_Att3rd', 'TO_Att', 'TO_Succ', 'TO_Succ%','Carries', \n",
    "              'PrgDist', 'PrgC', 'Carry1/3','Pass_Rec', 'Pass_PrgR']\n",
    "\n",
    "gca_stats = ['Player','SCA90','SCA_PassLive','GCA90']"
   ]
  },
  {
   "cell_type": "code",
   "execution_count": 7,
   "metadata": {},
   "outputs": [],
   "source": [
    "base_df = data_def[def_stats]\n",
    "df = base_df.merge(data_poss[poss_stats], on = 'Player', how = 'left')\n",
    "df = df.merge(data_gca[gca_stats],on = 'Player', how = 'left')"
   ]
  },
  {
   "cell_type": "code",
   "execution_count": 8,
   "metadata": {},
   "outputs": [
    {
     "data": {
      "text/html": [
       "<div>\n",
       "<style scoped>\n",
       "    .dataframe tbody tr th:only-of-type {\n",
       "        vertical-align: middle;\n",
       "    }\n",
       "\n",
       "    .dataframe tbody tr th {\n",
       "        vertical-align: top;\n",
       "    }\n",
       "\n",
       "    .dataframe thead th {\n",
       "        text-align: right;\n",
       "    }\n",
       "</style>\n",
       "<table border=\"1\" class=\"dataframe\">\n",
       "  <thead>\n",
       "    <tr style=\"text-align: right;\">\n",
       "      <th></th>\n",
       "      <th>Player</th>\n",
       "      <th>Pos</th>\n",
       "      <th>Squad</th>\n",
       "      <th>90s</th>\n",
       "      <th>Born</th>\n",
       "      <th>Tkl_attempted</th>\n",
       "      <th>TklW</th>\n",
       "      <th>Tkl_Def</th>\n",
       "      <th>Tkl_Mid</th>\n",
       "      <th>Tkl_Att</th>\n",
       "      <th>...</th>\n",
       "      <th>TO_Succ%</th>\n",
       "      <th>Carries</th>\n",
       "      <th>PrgDist</th>\n",
       "      <th>PrgC</th>\n",
       "      <th>Carry1/3</th>\n",
       "      <th>Pass_Rec</th>\n",
       "      <th>Pass_PrgR</th>\n",
       "      <th>SCA90</th>\n",
       "      <th>SCA_PassLive</th>\n",
       "      <th>GCA90</th>\n",
       "    </tr>\n",
       "  </thead>\n",
       "  <tbody>\n",
       "    <tr>\n",
       "      <th>0</th>\n",
       "      <td>Luis Abram</td>\n",
       "      <td>DF</td>\n",
       "      <td>Atlanta Utd</td>\n",
       "      <td>6.8</td>\n",
       "      <td>1996</td>\n",
       "      <td>5</td>\n",
       "      <td>2</td>\n",
       "      <td>4</td>\n",
       "      <td>1</td>\n",
       "      <td>0</td>\n",
       "      <td>...</td>\n",
       "      <td>NaN</td>\n",
       "      <td>252</td>\n",
       "      <td>706</td>\n",
       "      <td>4</td>\n",
       "      <td>4</td>\n",
       "      <td>298</td>\n",
       "      <td>3</td>\n",
       "      <td>0.29</td>\n",
       "      <td>2</td>\n",
       "      <td>0.00</td>\n",
       "    </tr>\n",
       "    <tr>\n",
       "      <th>1</th>\n",
       "      <td>Lalas Abubakar</td>\n",
       "      <td>DF</td>\n",
       "      <td>FC Dallas</td>\n",
       "      <td>2.0</td>\n",
       "      <td>1994</td>\n",
       "      <td>5</td>\n",
       "      <td>4</td>\n",
       "      <td>2</td>\n",
       "      <td>2</td>\n",
       "      <td>1</td>\n",
       "      <td>...</td>\n",
       "      <td>NaN</td>\n",
       "      <td>56</td>\n",
       "      <td>113</td>\n",
       "      <td>1</td>\n",
       "      <td>1</td>\n",
       "      <td>75</td>\n",
       "      <td>1</td>\n",
       "      <td>0.99</td>\n",
       "      <td>1</td>\n",
       "      <td>0.00</td>\n",
       "    </tr>\n",
       "    <tr>\n",
       "      <th>2</th>\n",
       "      <td>Kellyn Acosta</td>\n",
       "      <td>MF</td>\n",
       "      <td>Chicago Fire</td>\n",
       "      <td>4.3</td>\n",
       "      <td>1995</td>\n",
       "      <td>4</td>\n",
       "      <td>2</td>\n",
       "      <td>2</td>\n",
       "      <td>2</td>\n",
       "      <td>0</td>\n",
       "      <td>...</td>\n",
       "      <td>0.0</td>\n",
       "      <td>150</td>\n",
       "      <td>192</td>\n",
       "      <td>3</td>\n",
       "      <td>2</td>\n",
       "      <td>192</td>\n",
       "      <td>4</td>\n",
       "      <td>1.16</td>\n",
       "      <td>5</td>\n",
       "      <td>0.00</td>\n",
       "    </tr>\n",
       "    <tr>\n",
       "      <th>3</th>\n",
       "      <td>Luciano Acosta</td>\n",
       "      <td>MF</td>\n",
       "      <td>FC Dallas</td>\n",
       "      <td>10.2</td>\n",
       "      <td>1994</td>\n",
       "      <td>15</td>\n",
       "      <td>12</td>\n",
       "      <td>3</td>\n",
       "      <td>6</td>\n",
       "      <td>6</td>\n",
       "      <td>...</td>\n",
       "      <td>34.9</td>\n",
       "      <td>321</td>\n",
       "      <td>946</td>\n",
       "      <td>35</td>\n",
       "      <td>25</td>\n",
       "      <td>424</td>\n",
       "      <td>76</td>\n",
       "      <td>5.02</td>\n",
       "      <td>35</td>\n",
       "      <td>0.20</td>\n",
       "    </tr>\n",
       "    <tr>\n",
       "      <th>4</th>\n",
       "      <td>Sam Adekugbe</td>\n",
       "      <td>DF</td>\n",
       "      <td>Vancouver W'caps</td>\n",
       "      <td>1.9</td>\n",
       "      <td>1995</td>\n",
       "      <td>1</td>\n",
       "      <td>1</td>\n",
       "      <td>0</td>\n",
       "      <td>1</td>\n",
       "      <td>0</td>\n",
       "      <td>...</td>\n",
       "      <td>0.0</td>\n",
       "      <td>109</td>\n",
       "      <td>244</td>\n",
       "      <td>6</td>\n",
       "      <td>1</td>\n",
       "      <td>136</td>\n",
       "      <td>19</td>\n",
       "      <td>2.63</td>\n",
       "      <td>5</td>\n",
       "      <td>0.00</td>\n",
       "    </tr>\n",
       "  </tbody>\n",
       "</table>\n",
       "<p>5 rows × 32 columns</p>\n",
       "</div>"
      ],
      "text/plain": [
       "           Player Pos             Squad   90s  Born Tkl_attempted TklW  \\\n",
       "0      Luis Abram  DF       Atlanta Utd   6.8  1996             5    2   \n",
       "1  Lalas Abubakar  DF         FC Dallas   2.0  1994             5    4   \n",
       "2   Kellyn Acosta  MF      Chicago Fire   4.3  1995             4    2   \n",
       "3  Luciano Acosta  MF         FC Dallas  10.2  1994            15   12   \n",
       "4    Sam Adekugbe  DF  Vancouver W'caps   1.9  1995             1    1   \n",
       "\n",
       "  Tkl_Def Tkl_Mid Tkl_Att  ... TO_Succ% Carries PrgDist PrgC Carry1/3  \\\n",
       "0       4       1       0  ...      NaN     252     706    4        4   \n",
       "1       2       2       1  ...      NaN      56     113    1        1   \n",
       "2       2       2       0  ...      0.0     150     192    3        2   \n",
       "3       3       6       6  ...     34.9     321     946   35       25   \n",
       "4       0       1       0  ...      0.0     109     244    6        1   \n",
       "\n",
       "  Pass_Rec Pass_PrgR SCA90 SCA_PassLive GCA90  \n",
       "0      298         3  0.29            2  0.00  \n",
       "1       75         1  0.99            1  0.00  \n",
       "2      192         4  1.16            5  0.00  \n",
       "3      424        76  5.02           35  0.20  \n",
       "4      136        19  2.63            5  0.00  \n",
       "\n",
       "[5 rows x 32 columns]"
      ]
     },
     "execution_count": 8,
     "metadata": {},
     "output_type": "execute_result"
    }
   ],
   "source": [
    "df.head()"
   ]
  },
  {
   "cell_type": "code",
   "execution_count": 9,
   "metadata": {},
   "outputs": [],
   "source": [
    "df = df[df['Player']!='Player']"
   ]
  },
  {
   "cell_type": "markdown",
   "metadata": {},
   "source": [
    "### Feature engineering\n",
    "\n",
    "#### - Progression Ability = (Progressive passes + Progressive carries) / 90\n",
    "#### - Defensive Reliability = (Successful tackles + Interceptions + Recoveries) / 90\n",
    "#### - Crossing Efficiency = Successful crosses / Total crosses\n"
   ]
  },
  {
   "cell_type": "code",
   "execution_count": 10,
   "metadata": {},
   "outputs": [
    {
     "data": {
      "text/plain": [
       "Player            object\n",
       "Pos               object\n",
       "Squad             object\n",
       "90s               object\n",
       "Born              object\n",
       "Tkl_attempted     object\n",
       "TklW              object\n",
       "Tkl_Def           object\n",
       "Tkl_Mid           object\n",
       "Tkl_Att           object\n",
       "Drib_Tkl          object\n",
       "Drib_chal         object\n",
       "Drib_Tkl%         object\n",
       "Interceptions     object\n",
       "Blocks            object\n",
       "Clr               object\n",
       "Touches           object\n",
       "Touches_Def3rd    object\n",
       "Touches_Mid3rd    object\n",
       "Touches_Att3rd    object\n",
       "TO_Att            object\n",
       "TO_Succ           object\n",
       "TO_Succ%          object\n",
       "Carries           object\n",
       "PrgDist           object\n",
       "PrgC              object\n",
       "Carry1/3          object\n",
       "Pass_Rec          object\n",
       "Pass_PrgR         object\n",
       "SCA90             object\n",
       "SCA_PassLive      object\n",
       "GCA90             object\n",
       "dtype: object"
      ]
     },
     "execution_count": 10,
     "metadata": {},
     "output_type": "execute_result"
    }
   ],
   "source": [
    "df.dtypes"
   ]
  },
  {
   "cell_type": "code",
   "execution_count": 11,
   "metadata": {},
   "outputs": [],
   "source": [
    "\n",
    "convert_dict = {\n",
    "    # String columns\n",
    "    'Player': 'object',\n",
    "    'Pos': 'object',\n",
    "    'Squad': 'object',\n",
    "    \n",
    "    # Integer columns\n",
    "    '90s':'float',\n",
    "    'TklW': 'int',\n",
    "    'Tkl_Def': 'int',\n",
    "    'Tkl_Mid': 'int',\n",
    "    'Tkl_Att': 'int',\n",
    "    'Drib_Tkl': 'int',\n",
    "    'Drib_chal': 'int',\n",
    "    'Interceptions': 'int',\n",
    "    'Blocks': 'int',\n",
    "    'Clr': 'int',\n",
    "    'Touches': 'int',\n",
    "    'Touches_Def3rd': 'int', \n",
    "    'Touches_Mid3rd': 'int',\n",
    "    'Touches_Att3rd': 'int',\n",
    "    'TO_Att': 'int',\n",
    "    'TO_Succ': 'int',\n",
    "    'Carries': 'int',\n",
    "    'PrgC': 'int',\n",
    "    'Carry1/3': 'int',\n",
    "    'Pass_Rec': 'int',\n",
    "    'Pass_PrgR': 'int',\n",
    "    'SCA_PassLive': 'int',\n",
    "    \n",
    "    # Float columns\n",
    "    'Tkl_attempted': 'float',\n",
    "    'Drib_Tkl%': 'float',\n",
    "    'TO_Succ%': 'float',\n",
    "    'PrgDist': 'float',\n",
    "    'SCA90': 'float',\n",
    "    'GCA90': 'float'\n",
    "}\n"
   ]
  },
  {
   "cell_type": "code",
   "execution_count": 12,
   "metadata": {},
   "outputs": [
    {
     "data": {
      "text/plain": [
       "Player              0\n",
       "Pos                 0\n",
       "Squad               0\n",
       "90s                 0\n",
       "Born                1\n",
       "Tkl_attempted       0\n",
       "TklW                0\n",
       "Tkl_Def             0\n",
       "Tkl_Mid             0\n",
       "Tkl_Att             0\n",
       "Drib_Tkl            0\n",
       "Drib_chal           0\n",
       "Drib_Tkl%         131\n",
       "Interceptions       0\n",
       "Blocks              0\n",
       "Clr                 0\n",
       "Touches             0\n",
       "Touches_Def3rd      0\n",
       "Touches_Mid3rd      0\n",
       "Touches_Att3rd      0\n",
       "TO_Att              0\n",
       "TO_Succ             0\n",
       "TO_Succ%          165\n",
       "Carries             0\n",
       "PrgDist             0\n",
       "PrgC                0\n",
       "Carry1/3            0\n",
       "Pass_Rec            0\n",
       "Pass_PrgR           0\n",
       "SCA90               0\n",
       "SCA_PassLive        0\n",
       "GCA90               0\n",
       "dtype: int64"
      ]
     },
     "execution_count": 12,
     "metadata": {},
     "output_type": "execute_result"
    }
   ],
   "source": [
    "df.isna().sum()"
   ]
  },
  {
   "cell_type": "code",
   "execution_count": 13,
   "metadata": {},
   "outputs": [],
   "source": [
    "df = df.fillna(0)"
   ]
  },
  {
   "cell_type": "code",
   "execution_count": 14,
   "metadata": {},
   "outputs": [],
   "source": [
    "df = df.astype(convert_dict)"
   ]
  },
  {
   "cell_type": "code",
   "execution_count": 15,
   "metadata": {},
   "outputs": [],
   "source": [
    "df['Prog_Skill'] = (df['PrgC'] + df['Pass_PrgR'])/90\n",
    "df['Def_Skill'] = (df['TklW'] + df['Interceptions'])/90\n",
    "df['Att_Skill'] =  df['SCA90'] + df['GCA90']\n",
    "df['Att_Def_Balance'] = df['Territorial_Balance'] = (df['Touches_Att3rd'] / df['Touches']) / ((df['Touches_Def3rd'] / df['Touches']) + 0.001)"
   ]
  },
  {
   "cell_type": "code",
   "execution_count": 16,
   "metadata": {},
   "outputs": [
    {
     "data": {
      "text/html": [
       "<div>\n",
       "<style scoped>\n",
       "    .dataframe tbody tr th:only-of-type {\n",
       "        vertical-align: middle;\n",
       "    }\n",
       "\n",
       "    .dataframe tbody tr th {\n",
       "        vertical-align: top;\n",
       "    }\n",
       "\n",
       "    .dataframe thead th {\n",
       "        text-align: right;\n",
       "    }\n",
       "</style>\n",
       "<table border=\"1\" class=\"dataframe\">\n",
       "  <thead>\n",
       "    <tr style=\"text-align: right;\">\n",
       "      <th></th>\n",
       "      <th>Player</th>\n",
       "      <th>Pos</th>\n",
       "      <th>Squad</th>\n",
       "      <th>90s</th>\n",
       "      <th>Born</th>\n",
       "      <th>Tkl_attempted</th>\n",
       "      <th>TklW</th>\n",
       "      <th>Tkl_Def</th>\n",
       "      <th>Tkl_Mid</th>\n",
       "      <th>Tkl_Att</th>\n",
       "      <th>...</th>\n",
       "      <th>Pass_Rec</th>\n",
       "      <th>Pass_PrgR</th>\n",
       "      <th>SCA90</th>\n",
       "      <th>SCA_PassLive</th>\n",
       "      <th>GCA90</th>\n",
       "      <th>Prog_Skill</th>\n",
       "      <th>Def_Skill</th>\n",
       "      <th>Att_Skill</th>\n",
       "      <th>Att_Def_Balance</th>\n",
       "      <th>Territorial_Balance</th>\n",
       "    </tr>\n",
       "  </thead>\n",
       "  <tbody>\n",
       "    <tr>\n",
       "      <th>0</th>\n",
       "      <td>Luis Abram</td>\n",
       "      <td>DF</td>\n",
       "      <td>Atlanta Utd</td>\n",
       "      <td>6.8</td>\n",
       "      <td>1996</td>\n",
       "      <td>5.0</td>\n",
       "      <td>2</td>\n",
       "      <td>4</td>\n",
       "      <td>1</td>\n",
       "      <td>0</td>\n",
       "      <td>...</td>\n",
       "      <td>298</td>\n",
       "      <td>3</td>\n",
       "      <td>0.29</td>\n",
       "      <td>2</td>\n",
       "      <td>0.0</td>\n",
       "      <td>0.077778</td>\n",
       "      <td>0.033333</td>\n",
       "      <td>0.29</td>\n",
       "      <td>0.106371</td>\n",
       "      <td>0.106371</td>\n",
       "    </tr>\n",
       "    <tr>\n",
       "      <th>1</th>\n",
       "      <td>Lalas Abubakar</td>\n",
       "      <td>DF</td>\n",
       "      <td>FC Dallas</td>\n",
       "      <td>2.0</td>\n",
       "      <td>1994</td>\n",
       "      <td>5.0</td>\n",
       "      <td>4</td>\n",
       "      <td>2</td>\n",
       "      <td>2</td>\n",
       "      <td>1</td>\n",
       "      <td>...</td>\n",
       "      <td>75</td>\n",
       "      <td>1</td>\n",
       "      <td>0.99</td>\n",
       "      <td>1</td>\n",
       "      <td>0.0</td>\n",
       "      <td>0.022222</td>\n",
       "      <td>0.100000</td>\n",
       "      <td>0.99</td>\n",
       "      <td>0.213797</td>\n",
       "      <td>0.213797</td>\n",
       "    </tr>\n",
       "    <tr>\n",
       "      <th>2</th>\n",
       "      <td>Kellyn Acosta</td>\n",
       "      <td>MF</td>\n",
       "      <td>Chicago Fire</td>\n",
       "      <td>4.3</td>\n",
       "      <td>1995</td>\n",
       "      <td>4.0</td>\n",
       "      <td>2</td>\n",
       "      <td>2</td>\n",
       "      <td>2</td>\n",
       "      <td>0</td>\n",
       "      <td>...</td>\n",
       "      <td>192</td>\n",
       "      <td>4</td>\n",
       "      <td>1.16</td>\n",
       "      <td>5</td>\n",
       "      <td>0.0</td>\n",
       "      <td>0.077778</td>\n",
       "      <td>0.077778</td>\n",
       "      <td>1.16</td>\n",
       "      <td>0.580923</td>\n",
       "      <td>0.580923</td>\n",
       "    </tr>\n",
       "    <tr>\n",
       "      <th>3</th>\n",
       "      <td>Luciano Acosta</td>\n",
       "      <td>MF</td>\n",
       "      <td>FC Dallas</td>\n",
       "      <td>10.2</td>\n",
       "      <td>1994</td>\n",
       "      <td>15.0</td>\n",
       "      <td>12</td>\n",
       "      <td>3</td>\n",
       "      <td>6</td>\n",
       "      <td>6</td>\n",
       "      <td>...</td>\n",
       "      <td>424</td>\n",
       "      <td>76</td>\n",
       "      <td>5.02</td>\n",
       "      <td>35</td>\n",
       "      <td>0.2</td>\n",
       "      <td>1.233333</td>\n",
       "      <td>0.166667</td>\n",
       "      <td>5.22</td>\n",
       "      <td>5.237274</td>\n",
       "      <td>5.237274</td>\n",
       "    </tr>\n",
       "    <tr>\n",
       "      <th>4</th>\n",
       "      <td>Sam Adekugbe</td>\n",
       "      <td>DF</td>\n",
       "      <td>Vancouver W'caps</td>\n",
       "      <td>1.9</td>\n",
       "      <td>1995</td>\n",
       "      <td>1.0</td>\n",
       "      <td>1</td>\n",
       "      <td>0</td>\n",
       "      <td>1</td>\n",
       "      <td>0</td>\n",
       "      <td>...</td>\n",
       "      <td>136</td>\n",
       "      <td>19</td>\n",
       "      <td>2.63</td>\n",
       "      <td>5</td>\n",
       "      <td>0.0</td>\n",
       "      <td>0.277778</td>\n",
       "      <td>0.044444</td>\n",
       "      <td>2.63</td>\n",
       "      <td>2.101322</td>\n",
       "      <td>2.101322</td>\n",
       "    </tr>\n",
       "  </tbody>\n",
       "</table>\n",
       "<p>5 rows × 37 columns</p>\n",
       "</div>"
      ],
      "text/plain": [
       "           Player Pos             Squad   90s  Born  Tkl_attempted  TklW  \\\n",
       "0      Luis Abram  DF       Atlanta Utd   6.8  1996            5.0     2   \n",
       "1  Lalas Abubakar  DF         FC Dallas   2.0  1994            5.0     4   \n",
       "2   Kellyn Acosta  MF      Chicago Fire   4.3  1995            4.0     2   \n",
       "3  Luciano Acosta  MF         FC Dallas  10.2  1994           15.0    12   \n",
       "4    Sam Adekugbe  DF  Vancouver W'caps   1.9  1995            1.0     1   \n",
       "\n",
       "   Tkl_Def  Tkl_Mid  Tkl_Att  ...  Pass_Rec  Pass_PrgR  SCA90  SCA_PassLive  \\\n",
       "0        4        1        0  ...       298          3   0.29             2   \n",
       "1        2        2        1  ...        75          1   0.99             1   \n",
       "2        2        2        0  ...       192          4   1.16             5   \n",
       "3        3        6        6  ...       424         76   5.02            35   \n",
       "4        0        1        0  ...       136         19   2.63             5   \n",
       "\n",
       "   GCA90  Prog_Skill  Def_Skill  Att_Skill  Att_Def_Balance  \\\n",
       "0    0.0    0.077778   0.033333       0.29         0.106371   \n",
       "1    0.0    0.022222   0.100000       0.99         0.213797   \n",
       "2    0.0    0.077778   0.077778       1.16         0.580923   \n",
       "3    0.2    1.233333   0.166667       5.22         5.237274   \n",
       "4    0.0    0.277778   0.044444       2.63         2.101322   \n",
       "\n",
       "   Territorial_Balance  \n",
       "0             0.106371  \n",
       "1             0.213797  \n",
       "2             0.580923  \n",
       "3             5.237274  \n",
       "4             2.101322  \n",
       "\n",
       "[5 rows x 37 columns]"
      ]
     },
     "execution_count": 16,
     "metadata": {},
     "output_type": "execute_result"
    }
   ],
   "source": [
    "df.head()"
   ]
  },
  {
   "cell_type": "code",
   "execution_count": 17,
   "metadata": {},
   "outputs": [
    {
     "data": {
      "text/plain": [
       "Pos\n",
       "DF       231\n",
       "MF       139\n",
       "FW       111\n",
       "MF,FW     85\n",
       "FW,MF     80\n",
       "GK        52\n",
       "DF,MF     29\n",
       "MF,DF     17\n",
       "DF,FW     12\n",
       "FW,DF      6\n",
       "Name: count, dtype: int64"
      ]
     },
     "execution_count": 17,
     "metadata": {},
     "output_type": "execute_result"
    }
   ],
   "source": [
    "df['Pos'].value_counts()"
   ]
  },
  {
   "cell_type": "code",
   "execution_count": 18,
   "metadata": {},
   "outputs": [],
   "source": [
    "df_defenders = df[df['Pos'].str.contains('MF')]"
   ]
  },
  {
   "cell_type": "code",
   "execution_count": 19,
   "metadata": {},
   "outputs": [],
   "source": [
    "#Filtering for at least\n",
    "\n",
    "df_defenders = df_defenders[df_defenders['90s'] > 6.0].reset_index(drop = True)"
   ]
  },
  {
   "cell_type": "code",
   "execution_count": 20,
   "metadata": {},
   "outputs": [
    {
     "data": {
      "text/plain": [
       "(126, 37)"
      ]
     },
     "execution_count": 20,
     "metadata": {},
     "output_type": "execute_result"
    }
   ],
   "source": [
    "df_defenders.shape"
   ]
  },
  {
   "cell_type": "code",
   "execution_count": 21,
   "metadata": {},
   "outputs": [
    {
     "data": {
      "application/vnd.plotly.v1+json": {
       "config": {
        "plotlyServerURL": "https://plot.ly"
       },
       "data": [
        {
         "hovertemplate": "<b>%{hovertext}</b><br><br>Player=%{text}<br>Def_Skill_90=%{x}<br>Att_Skill_90=%{y}<br>Att_Def_Balance=%{marker.size}<extra></extra>",
         "hovertext": {
          "bdata": "MEfO+PfyFEA=",
          "dtype": "f8"
         },
         "legendgroup": "Luciano Acosta",
         "marker": {
          "color": "#636efa",
          "size": {
           "bdata": "MEfO+PfyFEA=",
           "dtype": "f8"
          },
          "sizemode": "area",
          "sizeref": 0.06322082319331288,
          "symbol": "circle"
         },
         "mode": "markers+text",
         "name": "Luciano Acosta",
         "orientation": "v",
         "showlegend": true,
         "text": [
          "Luciano Acosta"
         ],
         "textfont": {
          "size": 10
         },
         "textposition": "bottom center",
         "type": "scatter",
         "x": {
          "bdata": "EWa7EGa7kD8=",
          "dtype": "f8"
         },
         "xaxis": "x",
         "y": {
          "bdata": "YGBgYGBg4D8=",
          "dtype": "f8"
         },
         "yaxis": "y"
        },
        {
         "hovertemplate": "<b>%{hovertext}</b><br><br>Player=%{text}<br>Def_Skill_90=%{x}<br>Att_Skill_90=%{y}<br>Att_Def_Balance=%{marker.size}<extra></extra>",
         "hovertext": {
          "bdata": "Guzc14AOF0A=",
          "dtype": "f8"
         },
         "legendgroup": "Miguel Almirón",
         "marker": {
          "color": "#EF553B",
          "size": {
           "bdata": "Guzc14AOF0A=",
           "dtype": "f8"
          },
          "sizemode": "area",
          "sizeref": 0.06322082319331288,
          "symbol": "circle"
         },
         "mode": "markers+text",
         "name": "Miguel Almirón",
         "orientation": "v",
         "showlegend": true,
         "text": [
          "Miguel Almirón"
         ],
         "textfont": {
          "size": 10
         },
         "textposition": "bottom center",
         "type": "scatter",
         "x": {
          "bdata": "4OnW/LBIiT8=",
          "dtype": "f8"
         },
         "xaxis": "x",
         "y": {
          "bdata": "f4emIhPV3D8=",
          "dtype": "f8"
         },
         "yaxis": "y"
        },
        {
         "hovertemplate": "<b>%{hovertext}</b><br><br>Player=%{text}<br>Def_Skill_90=%{x}<br>Att_Skill_90=%{y}<br>Att_Def_Balance=%{marker.size}<extra></extra>",
         "hovertext": {
          "bdata": "EmZNOqBnAUA=",
          "dtype": "f8"
         },
         "legendgroup": "Iván Angulo",
         "marker": {
          "color": "#00cc96",
          "size": {
           "bdata": "EmZNOqBnAUA=",
           "dtype": "f8"
          },
          "sizemode": "area",
          "sizeref": 0.06322082319331288,
          "symbol": "circle"
         },
         "mode": "markers+text",
         "name": "Iván Angulo",
         "orientation": "v",
         "showlegend": true,
         "text": [
          "Iván Angulo"
         ],
         "textfont": {
          "size": 10
         },
         "textposition": "bottom center",
         "type": "scatter",
         "x": {
          "bdata": "+CqfX85dkz8=",
          "dtype": "f8"
         },
         "xaxis": "x",
         "y": {
          "bdata": "eXNCiQZu0T8=",
          "dtype": "f8"
         },
         "yaxis": "y"
        },
        {
         "hovertemplate": "<b>%{hovertext}</b><br><br>Player=%{text}<br>Def_Skill_90=%{x}<br>Att_Skill_90=%{y}<br>Att_Def_Balance=%{marker.size}<extra></extra>",
         "hovertext": {
          "bdata": "FTEIEDkTAkA=",
          "dtype": "f8"
         },
         "legendgroup": "Antony",
         "marker": {
          "color": "#ab63fa",
          "size": {
           "bdata": "FTEIEDkTAkA=",
           "dtype": "f8"
          },
          "sizemode": "area",
          "sizeref": 0.06322082319331288,
          "symbol": "circle"
         },
         "mode": "markers+text",
         "name": "Antony",
         "orientation": "v",
         "showlegend": true,
         "text": [
          "Antony"
         ],
         "textfont": {
          "size": 10
         },
         "textposition": "bottom center",
         "type": "scatter",
         "x": {
          "bdata": "W79SoNavlD8=",
          "dtype": "f8"
         },
         "xaxis": "x",
         "y": {
          "bdata": "za4yQoB42T8=",
          "dtype": "f8"
         },
         "yaxis": "y"
        },
        {
         "hovertemplate": "<b>%{hovertext}</b><br><br>Player=%{text}<br>Def_Skill_90=%{x}<br>Att_Skill_90=%{y}<br>Att_Def_Balance=%{marker.size}<extra></extra>",
         "hovertext": {
          "bdata": "LydDmL304z8=",
          "dtype": "f8"
         },
         "legendgroup": "Brian Anunga",
         "marker": {
          "color": "#FFA15A",
          "size": {
           "bdata": "LydDmL304z8=",
           "dtype": "f8"
          },
          "sizemode": "area",
          "sizeref": 0.06322082319331288,
          "symbol": "circle"
         },
         "mode": "markers+text",
         "name": "Brian Anunga",
         "orientation": "v",
         "showlegend": true,
         "text": [
          "Brian Anunga"
         ],
         "textfont": {
          "size": 10
         },
         "textposition": "bottom center",
         "type": "scatter",
         "x": {
          "bdata": "GqABGqABmj8=",
          "dtype": "f8"
         },
         "xaxis": "x",
         "y": {
          "bdata": "kiRJkiRJwj8=",
          "dtype": "f8"
         },
         "yaxis": "y"
        },
        {
         "hovertemplate": "<b>%{hovertext}</b><br><br>Player=%{text}<br>Def_Skill_90=%{x}<br>Att_Skill_90=%{y}<br>Att_Def_Balance=%{marker.size}<extra></extra>",
         "hovertext": {
          "bdata": "wLiOJ3B/FkA=",
          "dtype": "f8"
         },
         "legendgroup": "Cristian Arango",
         "marker": {
          "color": "#19d3f3",
          "size": {
           "bdata": "wLiOJ3B/FkA=",
           "dtype": "f8"
          },
          "sizemode": "area",
          "sizeref": 0.06322082319331288,
          "symbol": "circle"
         },
         "mode": "markers+text",
         "name": "Cristian Arango",
         "orientation": "v",
         "showlegend": true,
         "text": [
          "Cristian Arango"
         ],
         "textfont": {
          "size": 10
         },
         "textposition": "bottom center",
         "type": "scatter",
         "x": {
          "bdata": "hbv6Jnl/jT8=",
          "dtype": "f8"
         },
         "xaxis": "x",
         "y": {
          "bdata": "T/qkT/qk1z8=",
          "dtype": "f8"
         },
         "yaxis": "y"
        },
        {
         "hovertemplate": "<b>%{hovertext}</b><br><br>Player=%{text}<br>Def_Skill_90=%{x}<br>Att_Skill_90=%{y}<br>Att_Def_Balance=%{marker.size}<extra></extra>",
         "hovertext": {
          "bdata": "wVVOuP7CB0A=",
          "dtype": "f8"
         },
         "legendgroup": "Maximilian Arfsten",
         "marker": {
          "color": "#FF6692",
          "size": {
           "bdata": "wVVOuP7CB0A=",
           "dtype": "f8"
          },
          "sizemode": "area",
          "sizeref": 0.06322082319331288,
          "symbol": "circle"
         },
         "mode": "markers+text",
         "name": "Maximilian Arfsten",
         "orientation": "v",
         "showlegend": true,
         "text": [
          "Maximilian Arfsten"
         ],
         "textfont": {
          "size": 10
         },
         "textposition": "bottom center",
         "type": "scatter",
         "x": {
          "bdata": "ssPU5fYHmT8=",
          "dtype": "f8"
         },
         "xaxis": "x",
         "y": {
          "bdata": "MzMzMzMz0z8=",
          "dtype": "f8"
         },
         "yaxis": "y"
        },
        {
         "hovertemplate": "<b>%{hovertext}</b><br><br>Player=%{text}<br>Def_Skill_90=%{x}<br>Att_Skill_90=%{y}<br>Att_Def_Balance=%{marker.size}<extra></extra>",
         "hovertext": {
          "bdata": "/7304EDN3T8=",
          "dtype": "f8"
         },
         "legendgroup": "Artur",
         "marker": {
          "color": "#B6E880",
          "size": {
           "bdata": "/7304EDN3T8=",
           "dtype": "f8"
          },
          "sizemode": "area",
          "sizeref": 0.06322082319331288,
          "symbol": "circle"
         },
         "mode": "markers+text",
         "name": "Artur",
         "orientation": "v",
         "showlegend": true,
         "text": [
          "Artur"
         ],
         "textfont": {
          "size": 10
         },
         "textposition": "bottom center",
         "type": "scatter",
         "x": {
          "bdata": "4mV1s6uMoD8=",
          "dtype": "f8"
         },
         "xaxis": "x",
         "y": {
          "bdata": "/VDTDzX9wD8=",
          "dtype": "f8"
         },
         "yaxis": "y"
        },
        {
         "hovertemplate": "<b>%{hovertext}</b><br><br>Player=%{text}<br>Def_Skill_90=%{x}<br>Att_Skill_90=%{y}<br>Att_Def_Balance=%{marker.size}<extra></extra>",
         "hovertext": {
          "bdata": "qpGunUI77D8=",
          "dtype": "f8"
         },
         "legendgroup": "Joshua Atencio",
         "marker": {
          "color": "#FF97FF",
          "size": {
           "bdata": "qpGunUI77D8=",
           "dtype": "f8"
          },
          "sizemode": "area",
          "sizeref": 0.06322082319331288,
          "symbol": "circle"
         },
         "mode": "markers+text",
         "name": "Joshua Atencio",
         "orientation": "v",
         "showlegend": true,
         "text": [
          "Joshua Atencio"
         ],
         "textfont": {
          "size": 10
         },
         "textposition": "bottom center",
         "type": "scatter",
         "x": {
          "bdata": "yNwhc4fMnT8=",
          "dtype": "f8"
         },
         "xaxis": "x",
         "y": {
          "bdata": "IiIiIiIi0j8=",
          "dtype": "f8"
         },
         "yaxis": "y"
        },
        {
         "hovertemplate": "<b>%{hovertext}</b><br><br>Player=%{text}<br>Def_Skill_90=%{x}<br>Att_Skill_90=%{y}<br>Att_Def_Balance=%{marker.size}<extra></extra>",
         "hovertext": {
          "bdata": "pD/y1UYF8T8=",
          "dtype": "f8"
         },
         "legendgroup": "Eduard Atuesta",
         "marker": {
          "color": "#FECB52",
          "size": {
           "bdata": "pD/y1UYF8T8=",
           "dtype": "f8"
          },
          "sizemode": "area",
          "sizeref": 0.06322082319331288,
          "symbol": "circle"
         },
         "mode": "markers+text",
         "name": "Eduard Atuesta",
         "orientation": "v",
         "showlegend": true,
         "text": [
          "Eduard Atuesta"
         ],
         "textfont": {
          "size": 10
         },
         "textposition": "bottom center",
         "type": "scatter",
         "x": {
          "bdata": "FWvAFWvAlT8=",
          "dtype": "f8"
         },
         "xaxis": "x",
         "y": {
          "bdata": "0tLS0tLS6j8=",
          "dtype": "f8"
         },
         "yaxis": "y"
        },
        {
         "hovertemplate": "<b>%{hovertext}</b><br><br>Player=%{text}<br>Def_Skill_90=%{x}<br>Att_Skill_90=%{y}<br>Att_Def_Balance=%{marker.size}<extra></extra>",
         "hovertext": {
          "bdata": "HRqwxdOK3z8=",
          "dtype": "f8"
         },
         "legendgroup": "David Ayala",
         "marker": {
          "color": "#636efa",
          "size": {
           "bdata": "HRqwxdOK3z8=",
           "dtype": "f8"
          },
          "sizemode": "area",
          "sizeref": 0.06322082319331288,
          "symbol": "circle"
         },
         "mode": "markers+text",
         "name": "David Ayala",
         "orientation": "v",
         "showlegend": true,
         "text": [
          "David Ayala"
         ],
         "textfont": {
          "size": 10
         },
         "textposition": "bottom center",
         "type": "scatter",
         "x": {
          "bdata": "w0VBSjhcpD8=",
          "dtype": "f8"
         },
         "xaxis": "x",
         "y": {
          "bdata": "0YdM9tVJxT8=",
          "dtype": "f8"
         },
         "yaxis": "y"
        },
        {
         "hovertemplate": "<b>%{hovertext}</b><br><br>Player=%{text}<br>Def_Skill_90=%{x}<br>Att_Skill_90=%{y}<br>Att_Def_Balance=%{marker.size}<extra></extra>",
         "hovertext": {
          "bdata": "sw6Zov2v4D8=",
          "dtype": "f8"
         },
         "legendgroup": "Jacob Bartlett",
         "marker": {
          "color": "#EF553B",
          "size": {
           "bdata": "sw6Zov2v4D8=",
           "dtype": "f8"
          },
          "sizemode": "area",
          "sizeref": 0.06322082319331288,
          "symbol": "circle"
         },
         "mode": "markers+text",
         "name": "Jacob Bartlett",
         "orientation": "v",
         "showlegend": true,
         "text": [
          "Jacob Bartlett"
         ],
         "textfont": {
          "size": 10
         },
         "textposition": "bottom center",
         "type": "scatter",
         "x": {
          "bdata": "HMABHMABnD8=",
          "dtype": "f8"
         },
         "xaxis": "x",
         "y": {
          "bdata": "F3qhF3qhlz8=",
          "dtype": "f8"
         },
         "yaxis": "y"
        },
        {
         "hovertemplate": "<b>%{hovertext}</b><br><br>Player=%{text}<br>Def_Skill_90=%{x}<br>Att_Skill_90=%{y}<br>Att_Def_Balance=%{marker.size}<extra></extra>",
         "hovertext": {
          "bdata": "5+3zvhwdBEA=",
          "dtype": "f8"
         },
         "legendgroup": "Cole Bassett",
         "marker": {
          "color": "#00cc96",
          "size": {
           "bdata": "5+3zvhwdBEA=",
           "dtype": "f8"
          },
          "sizemode": "area",
          "sizeref": 0.06322082319331288,
          "symbol": "circle"
         },
         "mode": "markers+text",
         "name": "Cole Bassett",
         "orientation": "v",
         "showlegend": true,
         "text": [
          "Cole Bassett"
         ],
         "textfont": {
          "size": 10
         },
         "textposition": "bottom center",
         "type": "scatter",
         "x": {
          "bdata": "+CqfX85dgz8=",
          "dtype": "f8"
         },
         "xaxis": "x",
         "y": {
          "bdata": "39mo72zU1z8=",
          "dtype": "f8"
         },
         "yaxis": "y"
        },
        {
         "hovertemplate": "<b>%{hovertext}</b><br><br>Player=%{text}<br>Def_Skill_90=%{x}<br>Att_Skill_90=%{y}<br>Att_Def_Balance=%{marker.size}<extra></extra>",
         "hovertext": {
          "bdata": "guvNjPDsDEA=",
          "dtype": "f8"
         },
         "legendgroup": "Amine Bassi",
         "marker": {
          "color": "#ab63fa",
          "size": {
           "bdata": "guvNjPDsDEA=",
           "dtype": "f8"
          },
          "sizemode": "area",
          "sizeref": 0.06322082319331288,
          "symbol": "circle"
         },
         "mode": "markers+text",
         "name": "Amine Bassi",
         "orientation": "v",
         "showlegend": true,
         "text": [
          "Amine Bassi"
         ],
         "textfont": {
          "size": 10
         },
         "textposition": "bottom center",
         "type": "scatter",
         "x": {
          "bdata": "ERERERERkT8=",
          "dtype": "f8"
         },
         "xaxis": "x",
         "y": {
          "bdata": "nu+nxks30T8=",
          "dtype": "f8"
         },
         "yaxis": "y"
        },
        {
         "hovertemplate": "<b>%{hovertext}</b><br><br>Player=%{text}<br>Def_Skill_90=%{x}<br>Att_Skill_90=%{y}<br>Att_Def_Balance=%{marker.size}<extra></extra>",
         "hovertext": {
          "bdata": "J1Tqr9x/3j8=",
          "dtype": "f8"
         },
         "legendgroup": "Ramiro Benetti",
         "marker": {
          "color": "#FFA15A",
          "size": {
           "bdata": "J1Tqr9x/3j8=",
           "dtype": "f8"
          },
          "sizemode": "area",
          "sizeref": 0.06322082319331288,
          "symbol": "circle"
         },
         "mode": "markers+text",
         "name": "Ramiro Benetti",
         "orientation": "v",
         "showlegend": true,
         "text": [
          "Ramiro Benetti"
         ],
         "textfont": {
          "size": 10
         },
         "textposition": "bottom center",
         "type": "scatter",
         "x": {
          "bdata": "+ObVxLOioT8=",
          "dtype": "f8"
         },
         "xaxis": "x",
         "y": {
          "bdata": "uh6F61G4vj8=",
          "dtype": "f8"
         },
         "yaxis": "y"
        },
        {
         "hovertemplate": "<b>%{hovertext}</b><br><br>Player=%{text}<br>Def_Skill_90=%{x}<br>Att_Skill_90=%{y}<br>Att_Def_Balance=%{marker.size}<extra></extra>",
         "hovertext": {
          "bdata": "tu37B9pT/T8=",
          "dtype": "f8"
         },
         "legendgroup": "Sebastian Berhalter",
         "marker": {
          "color": "#19d3f3",
          "size": {
           "bdata": "tu37B9pT/T8=",
           "dtype": "f8"
          },
          "sizemode": "area",
          "sizeref": 0.06322082319331288,
          "symbol": "circle"
         },
         "mode": "markers+text",
         "name": "Sebastian Berhalter",
         "orientation": "v",
         "showlegend": true,
         "text": [
          "Sebastian Berhalter"
         ],
         "textfont": {
          "size": 10
         },
         "textposition": "bottom center",
         "type": "scatter",
         "x": {
          "bdata": "FEVRFEVRpD8=",
          "dtype": "f8"
         },
         "xaxis": "x",
         "y": {
          "bdata": "VVVVVVVV4T8=",
          "dtype": "f8"
         },
         "yaxis": "y"
        },
        {
         "hovertemplate": "<b>%{hovertext}</b><br><br>Player=%{text}<br>Def_Skill_90=%{x}<br>Att_Skill_90=%{y}<br>Att_Def_Balance=%{marker.size}<extra></extra>",
         "hovertext": {
          "bdata": "f62tBTg6EEA=",
          "dtype": "f8"
         },
         "legendgroup": "Federico Bernardeschi",
         "marker": {
          "color": "#FF6692",
          "size": {
           "bdata": "f62tBTg6EEA=",
           "dtype": "f8"
          },
          "sizemode": "area",
          "sizeref": 0.06322082319331288,
          "symbol": "circle"
         },
         "mode": "markers+text",
         "name": "Federico Bernardeschi",
         "orientation": "v",
         "showlegend": true,
         "text": [
          "Federico Bernardeschi"
         ],
         "textfont": {
          "size": 10
         },
         "textposition": "bottom center",
         "type": "scatter",
         "x": {
          "bdata": "aC+hvYT2gj8=",
          "dtype": "f8"
         },
         "xaxis": "x",
         "y": {
          "bdata": "tWALtmAL1j8=",
          "dtype": "f8"
         },
         "yaxis": "y"
        },
        {
         "hovertemplate": "<b>%{hovertext}</b><br><br>Player=%{text}<br>Def_Skill_90=%{x}<br>Att_Skill_90=%{y}<br>Att_Def_Balance=%{marker.size}<extra></extra>",
         "hovertext": {
          "bdata": "BmFG7nuvE0A=",
          "dtype": "f8"
         },
         "legendgroup": "Pep Biel",
         "marker": {
          "color": "#B6E880",
          "size": {
           "bdata": "BmFG7nuvE0A=",
           "dtype": "f8"
          },
          "sizemode": "area",
          "sizeref": 0.06322082319331288,
          "symbol": "circle"
         },
         "mode": "markers+text",
         "name": "Pep Biel",
         "orientation": "v",
         "showlegend": true,
         "text": [
          "Pep Biel"
         ],
         "textfont": {
          "size": 10
         },
         "textposition": "bottom center",
         "type": "scatter",
         "x": {
          "bdata": "GBgYGBgYiD8=",
          "dtype": "f8"
         },
         "xaxis": "x",
         "y": {
          "bdata": "NQHOmmc04T8=",
          "dtype": "f8"
         },
         "yaxis": "y"
        },
        {
         "hovertemplate": "<b>%{hovertext}</b><br><br>Player=%{text}<br>Def_Skill_90=%{x}<br>Att_Skill_90=%{y}<br>Att_Def_Balance=%{marker.size}<extra></extra>",
         "hovertext": {
          "bdata": "jTfmjjHp6j8=",
          "dtype": "f8"
         },
         "legendgroup": "Brandt Bronico",
         "marker": {
          "color": "#FF97FF",
          "size": {
           "bdata": "jTfmjjHp6j8=",
           "dtype": "f8"
          },
          "sizemode": "area",
          "sizeref": 0.06322082319331288,
          "symbol": "circle"
         },
         "mode": "markers+text",
         "name": "Brandt Bronico",
         "orientation": "v",
         "showlegend": true,
         "text": [
          "Brandt Bronico"
         ],
         "textfont": {
          "size": 10
         },
         "textposition": "bottom center",
         "type": "scatter",
         "x": {
          "bdata": "Xgwqwi01mz8=",
          "dtype": "f8"
         },
         "xaxis": "x",
         "y": {
          "bdata": "JFC01eA5wj8=",
          "dtype": "f8"
         },
         "yaxis": "y"
        },
        {
         "hovertemplate": "<b>%{hovertext}</b><br><br>Player=%{text}<br>Def_Skill_90=%{x}<br>Att_Skill_90=%{y}<br>Att_Def_Balance=%{marker.size}<extra></extra>",
         "hovertext": {
          "bdata": "iSxnZYq++T8=",
          "dtype": "f8"
         },
         "legendgroup": "Pavel Bucha",
         "marker": {
          "color": "#FECB52",
          "size": {
           "bdata": "iSxnZYq++T8=",
           "dtype": "f8"
          },
          "sizemode": "area",
          "sizeref": 0.06322082319331288,
          "symbol": "circle"
         },
         "mode": "markers+text",
         "name": "Pavel Bucha",
         "orientation": "v",
         "showlegend": true,
         "text": [
          "Pavel Bucha"
         ],
         "textfont": {
          "size": 10
         },
         "textposition": "bottom center",
         "type": "scatter",
         "x": {
          "bdata": "tvWG90E1mD8=",
          "dtype": "f8"
         },
         "xaxis": "x",
         "y": {
          "bdata": "K4jJFcTk2j8=",
          "dtype": "f8"
         },
         "yaxis": "y"
        },
        {
         "hovertemplate": "<b>%{hovertext}</b><br><br>Player=%{text}<br>Def_Skill_90=%{x}<br>Att_Skill_90=%{y}<br>Att_Def_Balance=%{marker.size}<extra></extra>",
         "hovertext": {
          "bdata": "6S/jYSneDkA=",
          "dtype": "f8"
         },
         "legendgroup": "Osman Bukari",
         "marker": {
          "color": "#636efa",
          "size": {
           "bdata": "6S/jYSneDkA=",
           "dtype": "f8"
          },
          "sizemode": "area",
          "sizeref": 0.06322082319331288,
          "symbol": "circle"
         },
         "mode": "markers+text",
         "name": "Osman Bukari",
         "orientation": "v",
         "showlegend": true,
         "text": [
          "Osman Bukari"
         ],
         "textfont": {
          "size": 10
         },
         "textposition": "bottom center",
         "type": "scatter",
         "x": {
          "bdata": "+xicj8H5iD8=",
          "dtype": "f8"
         },
         "xaxis": "x",
         "y": {
          "bdata": "Hojfgfgd4D8=",
          "dtype": "f8"
         },
         "yaxis": "y"
        },
        {
         "hovertemplate": "<b>%{hovertext}</b><br><br>Player=%{text}<br>Def_Skill_90=%{x}<br>Att_Skill_90=%{y}<br>Att_Def_Balance=%{marker.size}<extra></extra>",
         "hovertext": {
          "bdata": "pqNXdaY24D8=",
          "dtype": "f8"
         },
         "legendgroup": "Sergio Busquets",
         "marker": {
          "color": "#EF553B",
          "size": {
           "bdata": "pqNXdaY24D8=",
           "dtype": "f8"
          },
          "sizemode": "area",
          "sizeref": 0.06322082319331288,
          "symbol": "circle"
         },
         "mode": "markers+text",
         "name": "Sergio Busquets",
         "orientation": "v",
         "showlegend": true,
         "text": [
          "Sergio Busquets"
         ],
         "textfont": {
          "size": 10
         },
         "textposition": "bottom center",
         "type": "scatter",
         "x": {
          "bdata": "qmws1cX1nz8=",
          "dtype": "f8"
         },
         "xaxis": "x",
         "y": {
          "bdata": "AUE7DZ0b0D8=",
          "dtype": "f8"
         },
         "yaxis": "y"
        },
        {
         "hovertemplate": "<b>%{hovertext}</b><br><br>Player=%{text}<br>Def_Skill_90=%{x}<br>Att_Skill_90=%{y}<br>Att_Def_Balance=%{marker.size}<extra></extra>",
         "hovertext": {
          "bdata": "BXacSWtIF0A=",
          "dtype": "f8"
         },
         "legendgroup": "Kevin Cabral",
         "marker": {
          "color": "#00cc96",
          "size": {
           "bdata": "BXacSWtIF0A=",
           "dtype": "f8"
          },
          "sizemode": "area",
          "sizeref": 0.06322082319331288,
          "symbol": "circle"
         },
         "mode": "markers+text",
         "name": "Kevin Cabral",
         "orientation": "v",
         "showlegend": true,
         "text": [
          "Kevin Cabral"
         ],
         "textfont": {
          "size": 10
         },
         "textposition": "bottom center",
         "type": "scatter",
         "x": {
          "bdata": "AXmsjlzljD8=",
          "dtype": "f8"
         },
         "xaxis": "x",
         "y": {
          "bdata": "12iN1miNxj8=",
          "dtype": "f8"
         },
         "yaxis": "y"
        },
        {
         "hovertemplate": "<b>%{hovertext}</b><br><br>Player=%{text}<br>Def_Skill_90=%{x}<br>Att_Skill_90=%{y}<br>Att_Def_Balance=%{marker.size}<extra></extra>",
         "hovertext": {
          "bdata": "xpDyQq7n4T8=",
          "dtype": "f8"
         },
         "legendgroup": "Edwin Cerrillo",
         "marker": {
          "color": "#ab63fa",
          "size": {
           "bdata": "xpDyQq7n4T8=",
           "dtype": "f8"
          },
          "sizemode": "area",
          "sizeref": 0.06322082319331288,
          "symbol": "circle"
         },
         "mode": "markers+text",
         "name": "Edwin Cerrillo",
         "orientation": "v",
         "showlegend": true,
         "text": [
          "Edwin Cerrillo"
         ],
         "textfont": {
          "size": 10
         },
         "textposition": "bottom center",
         "type": "scatter",
         "x": {
          "bdata": "L6G9hPYSij8=",
          "dtype": "f8"
         },
         "xaxis": "x",
         "y": {
          "bdata": "eHd3d3d3xz8=",
          "dtype": "f8"
         },
         "yaxis": "y"
        },
        {
         "hovertemplate": "<b>%{hovertext}</b><br><br>Player=%{text}<br>Def_Skill_90=%{x}<br>Att_Skill_90=%{y}<br>Att_Def_Balance=%{marker.size}<extra></extra>",
         "hovertext": {
          "bdata": "AuTB3AfE+T8=",
          "dtype": "f8"
         },
         "legendgroup": "Dylan Chambost",
         "marker": {
          "color": "#FFA15A",
          "size": {
           "bdata": "AuTB3AfE+T8=",
           "dtype": "f8"
          },
          "sizemode": "area",
          "sizeref": 0.06322082319331288,
          "symbol": "circle"
         },
         "mode": "markers+text",
         "name": "Dylan Chambost",
         "orientation": "v",
         "showlegend": true,
         "text": [
          "Dylan Chambost"
         ],
         "textfont": {
          "size": 10
         },
         "textposition": "bottom center",
         "type": "scatter",
         "x": {
          "bdata": "St5fB2NWmj8=",
          "dtype": "f8"
         },
         "xaxis": "x",
         "y": {
          "bdata": "RERERERE1D8=",
          "dtype": "f8"
         },
         "yaxis": "y"
        },
        {
         "hovertemplate": "<b>%{hovertext}</b><br><br>Player=%{text}<br>Def_Skill_90=%{x}<br>Att_Skill_90=%{y}<br>Att_Def_Balance=%{marker.size}<extra></extra>",
         "hovertext": {
          "bdata": "uueICxRe0j8=",
          "dtype": "f8"
         },
         "legendgroup": "Diego Chará",
         "marker": {
          "color": "#19d3f3",
          "size": {
           "bdata": "uueICxRe0j8=",
           "dtype": "f8"
          },
          "sizemode": "area",
          "sizeref": 0.06322082319331288,
          "symbol": "circle"
         },
         "mode": "markers+text",
         "name": "Diego Chará",
         "orientation": "v",
         "showlegend": true,
         "text": [
          "Diego Chará"
         ],
         "textfont": {
          "size": 10
         },
         "textposition": "bottom center",
         "type": "scatter",
         "x": {
          "bdata": "5KQwcrdvpT8=",
          "dtype": "f8"
         },
         "xaxis": "x",
         "y": {
          "bdata": "LE1YsXm8wj8=",
          "dtype": "f8"
         },
         "yaxis": "y"
        },
        {
         "hovertemplate": "<b>%{hovertext}</b><br><br>Player=%{text}<br>Def_Skill_90=%{x}<br>Att_Skill_90=%{y}<br>Att_Def_Balance=%{marker.size}<extra></extra>",
         "hovertext": {
          "bdata": "ojp0rx+qI0A=",
          "dtype": "f8"
         },
         "legendgroup": "Gabriel Chaves",
         "marker": {
          "color": "#FF6692",
          "size": {
           "bdata": "ojp0rx+qI0A=",
           "dtype": "f8"
          },
          "sizemode": "area",
          "sizeref": 0.06322082319331288,
          "symbol": "circle"
         },
         "mode": "markers+text",
         "name": "Gabriel Chaves",
         "orientation": "v",
         "showlegend": true,
         "text": [
          "Gabriel Chaves"
         ],
         "textfont": {
          "size": 10
         },
         "textposition": "bottom center",
         "type": "scatter",
         "x": {
          "bdata": "zQWm8k44hz8=",
          "dtype": "f8"
         },
         "xaxis": "x",
         "y": {
          "bdata": "wm5+CwGj1D8=",
          "dtype": "f8"
         },
         "yaxis": "y"
        },
        {
         "hovertemplate": "<b>%{hovertext}</b><br><br>Player=%{text}<br>Def_Skill_90=%{x}<br>Att_Skill_90=%{y}<br>Att_Def_Balance=%{marker.size}<extra></extra>",
         "hovertext": {
          "bdata": "70XcktjDEUA=",
          "dtype": "f8"
         },
         "legendgroup": "Caden Clark",
         "marker": {
          "color": "#B6E880",
          "size": {
           "bdata": "70XcktjDEUA=",
           "dtype": "f8"
          },
          "sizemode": "area",
          "sizeref": 0.06322082319331288,
          "symbol": "circle"
         },
         "mode": "markers+text",
         "name": "Caden Clark",
         "orientation": "v",
         "showlegend": true,
         "text": [
          "Caden Clark"
         ],
         "textfont": {
          "size": 10
         },
         "textposition": "bottom center",
         "type": "scatter",
         "x": {
          "bdata": "ZDeR3UR2kz8=",
          "dtype": "f8"
         },
         "xaxis": "x",
         "y": {
          "bdata": "0C1x6vfc0j8=",
          "dtype": "f8"
         },
         "yaxis": "y"
        },
        {
         "hovertemplate": "<b>%{hovertext}</b><br><br>Player=%{text}<br>Def_Skill_90=%{x}<br>Att_Skill_90=%{y}<br>Att_Def_Balance=%{marker.size}<extra></extra>",
         "hovertext": {
          "bdata": "xqlinDnUGEA=",
          "dtype": "f8"
         },
         "legendgroup": "Theo Corbeanu",
         "marker": {
          "color": "#FF97FF",
          "size": {
           "bdata": "xqlinDnUGEA=",
           "dtype": "f8"
          },
          "sizemode": "area",
          "sizeref": 0.06322082319331288,
          "symbol": "circle"
         },
         "mode": "markers+text",
         "name": "Theo Corbeanu",
         "orientation": "v",
         "showlegend": true,
         "text": [
          "Theo Corbeanu"
         ],
         "textfont": {
          "size": 10
         },
         "textposition": "bottom center",
         "type": "scatter",
         "x": {
          "bdata": "JP8YKx6VWz8=",
          "dtype": "f8"
         },
         "xaxis": "x",
         "y": {
          "bdata": "knodqdeR2j8=",
          "dtype": "f8"
         },
         "yaxis": "y"
        },
        {
         "hovertemplate": "<b>%{hovertext}</b><br><br>Player=%{text}<br>Def_Skill_90=%{x}<br>Att_Skill_90=%{y}<br>Att_Def_Balance=%{marker.size}<extra></extra>",
         "hovertext": {
          "bdata": "UuBPosOZEEA=",
          "dtype": "f8"
         },
         "legendgroup": "David Costa",
         "marker": {
          "color": "#FECB52",
          "size": {
           "bdata": "UuBPosOZEEA=",
           "dtype": "f8"
          },
          "sizemode": "area",
          "sizeref": 0.06322082319331288,
          "symbol": "circle"
         },
         "mode": "markers+text",
         "name": "David Costa",
         "orientation": "v",
         "showlegend": true,
         "text": [
          "David Costa"
         ],
         "textfont": {
          "size": 10
         },
         "textposition": "bottom center",
         "type": "scatter",
         "x": {
          "bdata": "WOEwUeaCej8=",
          "dtype": "f8"
         },
         "xaxis": "x",
         "y": {
          "bdata": "pJLzsohP4D8=",
          "dtype": "f8"
         },
         "yaxis": "y"
        },
        {
         "hovertemplate": "<b>%{hovertext}</b><br><br>Player=%{text}<br>Def_Skill_90=%{x}<br>Att_Skill_90=%{y}<br>Att_Def_Balance=%{marker.size}<extra></extra>",
         "hovertext": {
          "bdata": "L9ts6CLEBEA=",
          "dtype": "f8"
         },
         "legendgroup": "Ben Cremaschi",
         "marker": {
          "color": "#636efa",
          "size": {
           "bdata": "L9ts6CLEBEA=",
           "dtype": "f8"
          },
          "sizemode": "area",
          "sizeref": 0.06322082319331288,
          "symbol": "circle"
         },
         "mode": "markers+text",
         "name": "Ben Cremaschi",
         "orientation": "v",
         "showlegend": true,
         "text": [
          "Ben Cremaschi"
         ],
         "textfont": {
          "size": 10
         },
         "textposition": "bottom center",
         "type": "scatter",
         "x": {
          "bdata": "ERiBERiBkT8=",
          "dtype": "f8"
         },
         "xaxis": "x",
         "y": {
          "bdata": "FDuxEzux0z8=",
          "dtype": "f8"
         },
         "yaxis": "y"
        },
        {
         "hovertemplate": "<b>%{hovertext}</b><br><br>Player=%{text}<br>Def_Skill_90=%{x}<br>Att_Skill_90=%{y}<br>Att_Def_Balance=%{marker.size}<extra></extra>",
         "hovertext": {
          "bdata": "0L2owpCs4T8=",
          "dtype": "f8"
         },
         "legendgroup": "Andrés Cubas",
         "marker": {
          "color": "#EF553B",
          "size": {
           "bdata": "0L2owpCs4T8=",
           "dtype": "f8"
          },
          "sizemode": "area",
          "sizeref": 0.06322082319331288,
          "symbol": "circle"
         },
         "mode": "markers+text",
         "name": "Andrés Cubas",
         "orientation": "v",
         "showlegend": true,
         "text": [
          "Andrés Cubas"
         ],
         "textfont": {
          "size": 10
         },
         "textposition": "bottom center",
         "type": "scatter",
         "x": {
          "bdata": "Uw1Nhh3ipD8=",
          "dtype": "f8"
         },
         "xaxis": "x",
         "y": {
          "bdata": "d7W4CfO7yj8=",
          "dtype": "f8"
         },
         "yaxis": "y"
        },
        {
         "hovertemplate": "<b>%{hovertext}</b><br><br>Player=%{text}<br>Def_Skill_90=%{x}<br>Att_Skill_90=%{y}<br>Att_Def_Balance=%{marker.size}<extra></extra>",
         "hovertext": {
          "bdata": "Yzlf0ogRAEA=",
          "dtype": "f8"
         },
         "legendgroup": "Jake Davis",
         "marker": {
          "color": "#00cc96",
          "size": {
           "bdata": "Yzlf0ogRAEA=",
           "dtype": "f8"
          },
          "sizemode": "area",
          "sizeref": 0.06322082319331288,
          "symbol": "circle"
         },
         "mode": "markers+text",
         "name": "Jake Davis",
         "orientation": "v",
         "showlegend": true,
         "text": [
          "Jake Davis"
         ],
         "textfont": {
          "size": 10
         },
         "textposition": "bottom center",
         "type": "scatter",
         "x": {
          "bdata": "sAVbsAVboD8=",
          "dtype": "f8"
         },
         "xaxis": "x",
         "y": {
          "bdata": "AAAAAAAAzD8=",
          "dtype": "f8"
         },
         "yaxis": "y"
        },
        {
         "hovertemplate": "<b>%{hovertext}</b><br><br>Player=%{text}<br>Def_Skill_90=%{x}<br>Att_Skill_90=%{y}<br>Att_Def_Balance=%{marker.size}<extra></extra>",
         "hovertext": {
          "bdata": "VbmNYZt39z8=",
          "dtype": "f8"
         },
         "legendgroup": "Marky Delgado",
         "marker": {
          "color": "#ab63fa",
          "size": {
           "bdata": "VbmNYZt39z8=",
           "dtype": "f8"
          },
          "sizemode": "area",
          "sizeref": 0.06322082319331288,
          "symbol": "circle"
         },
         "mode": "markers+text",
         "name": "Marky Delgado",
         "orientation": "v",
         "showlegend": true,
         "text": [
          "Marky Delgado"
         ],
         "textfont": {
          "size": 10
         },
         "textposition": "bottom center",
         "type": "scatter",
         "x": {
          "bdata": "Msm+PZeGnj8=",
          "dtype": "f8"
         },
         "xaxis": "x",
         "y": {
          "bdata": "WZ2K1alY3T8=",
          "dtype": "f8"
         },
         "yaxis": "y"
        },
        {
         "hovertemplate": "<b>%{hovertext}</b><br><br>Player=%{text}<br>Def_Skill_90=%{x}<br>Att_Skill_90=%{y}<br>Att_Def_Balance=%{marker.size}<extra></extra>",
         "hovertext": {
          "bdata": "BT1BGhAO7z8=",
          "dtype": "f8"
         },
         "legendgroup": "Daniel Edelman",
         "marker": {
          "color": "#FFA15A",
          "size": {
           "bdata": "BT1BGhAO7z8=",
           "dtype": "f8"
          },
          "sizemode": "area",
          "sizeref": 0.06322082319331288,
          "symbol": "circle"
         },
         "mode": "markers+text",
         "name": "Daniel Edelman",
         "orientation": "v",
         "showlegend": true,
         "text": [
          "Daniel Edelman"
         ],
         "textfont": {
          "size": 10
         },
         "textposition": "bottom center",
         "type": "scatter",
         "x": {
          "bdata": "4JaaDfu7mD8=",
          "dtype": "f8"
         },
         "xaxis": "x",
         "y": {
          "bdata": "1yWVD+N+zT8=",
          "dtype": "f8"
         },
         "yaxis": "y"
        },
        {
         "hovertemplate": "<b>%{hovertext}</b><br><br>Player=%{text}<br>Def_Skill_90=%{x}<br>Att_Skill_90=%{y}<br>Att_Def_Balance=%{marker.size}<extra></extra>",
         "hovertext": {
          "bdata": "rDHIVzlC5z8=",
          "dtype": "f8"
         },
         "legendgroup": "Emeka Eneli",
         "marker": {
          "color": "#19d3f3",
          "size": {
           "bdata": "rDHIVzlC5z8=",
           "dtype": "f8"
          },
          "sizemode": "area",
          "sizeref": 0.06322082319331288,
          "symbol": "circle"
         },
         "mode": "markers+text",
         "name": "Emeka Eneli",
         "orientation": "v",
         "showlegend": true,
         "text": [
          "Emeka Eneli"
         ],
         "textfont": {
          "size": 10
         },
         "textposition": "bottom center",
         "type": "scatter",
         "x": {
          "bdata": "k6WByTlZmj8=",
          "dtype": "f8"
         },
         "xaxis": "x",
         "y": {
          "bdata": "JPQhk3110j8=",
          "dtype": "f8"
         },
         "yaxis": "y"
        },
        {
         "hovertemplate": "<b>%{hovertext}</b><br><br>Player=%{text}<br>Def_Skill_90=%{x}<br>Att_Skill_90=%{y}<br>Att_Def_Balance=%{marker.size}<extra></extra>",
         "hovertext": {
          "bdata": "BQf7N9/LCkA=",
          "dtype": "f8"
         },
         "legendgroup": "Cristian Espinoza",
         "marker": {
          "color": "#FF6692",
          "size": {
           "bdata": "BQf7N9/LCkA=",
           "dtype": "f8"
          },
          "sizemode": "area",
          "sizeref": 0.06322082319331288,
          "symbol": "circle"
         },
         "mode": "markers+text",
         "name": "Cristian Espinoza",
         "orientation": "v",
         "showlegend": true,
         "text": [
          "Cristian Espinoza"
         ],
         "textfont": {
          "size": 10
         },
         "textposition": "bottom center",
         "type": "scatter",
         "x": {
          "bdata": "uRWKW6G4lT8=",
          "dtype": "f8"
         },
         "xaxis": "x",
         "y": {
          "bdata": "D1DuAOUO6D8=",
          "dtype": "f8"
         },
         "yaxis": "y"
        },
        {
         "hovertemplate": "<b>%{hovertext}</b><br><br>Player=%{text}<br>Def_Skill_90=%{x}<br>Att_Skill_90=%{y}<br>Att_Def_Balance=%{marker.size}<extra></extra>",
         "hovertext": {
          "bdata": "FKkCdC5BCkA=",
          "dtype": "f8"
         },
         "legendgroup": "Evander",
         "marker": {
          "color": "#B6E880",
          "size": {
           "bdata": "FKkCdC5BCkA=",
           "dtype": "f8"
          },
          "sizemode": "area",
          "sizeref": 0.06322082319331288,
          "symbol": "circle"
         },
         "mode": "markers+text",
         "name": "Evander",
         "orientation": "v",
         "showlegend": true,
         "text": [
          "Evander"
         ],
         "textfont": {
          "size": 10
         },
         "textposition": "bottom center",
         "type": "scatter",
         "x": {
          "bdata": "mpmZmZmZiT8=",
          "dtype": "f8"
         },
         "xaxis": "x",
         "y": {
          "bdata": "AAAAAAAA5T8=",
          "dtype": "f8"
         },
         "yaxis": "y"
        },
        {
         "hovertemplate": "<b>%{hovertext}</b><br><br>Player=%{text}<br>Def_Skill_90=%{x}<br>Att_Skill_90=%{y}<br>Att_Def_Balance=%{marker.size}<extra></extra>",
         "hovertext": {
          "bdata": "zuGb+D3pDkA=",
          "dtype": "f8"
         },
         "legendgroup": "Diego Fagúndez",
         "marker": {
          "color": "#FF97FF",
          "size": {
           "bdata": "zuGb+D3pDkA=",
           "dtype": "f8"
          },
          "sizemode": "area",
          "sizeref": 0.06322082319331288,
          "symbol": "circle"
         },
         "mode": "markers+text",
         "name": "Diego Fagúndez",
         "orientation": "v",
         "showlegend": true,
         "text": [
          "Diego Fagúndez"
         ],
         "textfont": {
          "size": 10
         },
         "textposition": "bottom center",
         "type": "scatter",
         "x": {
          "bdata": "I/8YKx6Vez8=",
          "dtype": "f8"
         },
         "xaxis": "x",
         "y": {
          "bdata": "baN84XTC2D8=",
          "dtype": "f8"
         },
         "yaxis": "y"
        },
        {
         "hovertemplate": "<b>%{hovertext}</b><br><br>Player=%{text}<br>Def_Skill_90=%{x}<br>Att_Skill_90=%{y}<br>Att_Def_Balance=%{marker.size}<extra></extra>",
         "hovertext": {
          "bdata": "WI66U96EC0A=",
          "dtype": "f8"
         },
         "legendgroup": "Mohamed Farsi",
         "marker": {
          "color": "#FECB52",
          "size": {
           "bdata": "WI66U96EC0A=",
           "dtype": "f8"
          },
          "sizemode": "area",
          "sizeref": 0.06322082319331288,
          "symbol": "circle"
         },
         "mode": "markers+text",
         "name": "Mohamed Farsi",
         "orientation": "v",
         "showlegend": true,
         "text": [
          "Mohamed Farsi"
         ],
         "textfont": {
          "size": 10
         },
         "textposition": "bottom center",
         "type": "scatter",
         "x": {
          "bdata": "cIELXOAChz8=",
          "dtype": "f8"
         },
         "xaxis": "x",
         "y": {
          "bdata": "nvGMZzzj2T8=",
          "dtype": "f8"
         },
         "yaxis": "y"
        },
        {
         "hovertemplate": "<b>%{hovertext}</b><br><br>Player=%{text}<br>Def_Skill_90=%{x}<br>Att_Skill_90=%{y}<br>Att_Def_Balance=%{marker.size}<extra></extra>",
         "hovertext": {
          "bdata": "qkJePpGCFUA=",
          "dtype": "f8"
         },
         "legendgroup": "Jesús Ferreira",
         "marker": {
          "color": "#636efa",
          "size": {
           "bdata": "qkJePpGCFUA=",
           "dtype": "f8"
          },
          "sizemode": "area",
          "sizeref": 0.06322082319331288,
          "symbol": "circle"
         },
         "mode": "markers+text",
         "name": "Jesús Ferreira",
         "orientation": "v",
         "showlegend": true,
         "text": [
          "Jesús Ferreira"
         ],
         "textfont": {
          "size": 10
         },
         "textposition": "bottom center",
         "type": "scatter",
         "x": {
          "bdata": "EHZB2AVhlz8=",
          "dtype": "f8"
         },
         "xaxis": "x",
         "y": {
          "bdata": "X/MZZwE23z8=",
          "dtype": "f8"
         },
         "yaxis": "y"
        },
        {
         "hovertemplate": "<b>%{hovertext}</b><br><br>Player=%{text}<br>Def_Skill_90=%{x}<br>Att_Skill_90=%{y}<br>Att_Def_Balance=%{marker.size}<extra></extra>",
         "hovertext": {
          "bdata": "4llTHHiS1z8=",
          "dtype": "f8"
         },
         "legendgroup": "Deybi Flores",
         "marker": {
          "color": "#EF553B",
          "size": {
           "bdata": "4llTHHiS1z8=",
           "dtype": "f8"
          },
          "sizemode": "area",
          "sizeref": 0.06322082319331288,
          "symbol": "circle"
         },
         "mode": "markers+text",
         "name": "Deybi Flores",
         "orientation": "v",
         "showlegend": true,
         "text": [
          "Deybi Flores"
         ],
         "textfont": {
          "size": 10
         },
         "textposition": "bottom center",
         "type": "scatter",
         "x": {
          "bdata": "57NVuPlspT8=",
          "dtype": "f8"
         },
         "xaxis": "x",
         "y": {
          "bdata": "BPqIMrRxxT8=",
          "dtype": "f8"
         },
         "yaxis": "y"
        },
        {
         "hovertemplate": "<b>%{hovertext}</b><br><br>Player=%{text}<br>Def_Skill_90=%{x}<br>Att_Skill_90=%{y}<br>Att_Def_Balance=%{marker.size}<extra></extra>",
         "hovertext": {
          "bdata": "QZeQ8s9JOUA=",
          "dtype": "f8"
         },
         "legendgroup": "Emil Forsberg",
         "marker": {
          "color": "#00cc96",
          "size": {
           "bdata": "QZeQ8s9JOUA=",
           "dtype": "f8"
          },
          "sizemode": "area",
          "sizeref": 0.06322082319331288,
          "symbol": "circle"
         },
         "mode": "markers+text",
         "name": "Emil Forsberg",
         "orientation": "v",
         "showlegend": true,
         "text": [
          "Emil Forsberg"
         ],
         "textfont": {
          "size": 10
         },
         "textposition": "bottom center",
         "type": "scatter",
         "x": {
          "bdata": "KuF7OgzGfT8=",
          "dtype": "f8"
         },
         "xaxis": "x",
         "y": {
          "bdata": "FJryQ1591j8=",
          "dtype": "f8"
         },
         "yaxis": "y"
        },
        {
         "hovertemplate": "<b>%{hovertext}</b><br><br>Player=%{text}<br>Def_Skill_90=%{x}<br>Att_Skill_90=%{y}<br>Att_Def_Balance=%{marker.size}<extra></extra>",
         "hovertext": {
          "bdata": "+HX4Fb6/3D8=",
          "dtype": "f8"
         },
         "legendgroup": "Jimer Fory",
         "marker": {
          "color": "#ab63fa",
          "size": {
           "bdata": "+HX4Fb6/3D8=",
           "dtype": "f8"
          },
          "sizemode": "area",
          "sizeref": 0.06322082319331288,
          "symbol": "circle"
         },
         "mode": "markers+text",
         "name": "Jimer Fory",
         "orientation": "v",
         "showlegend": true,
         "text": [
          "Jimer Fory"
         ],
         "textfont": {
          "size": 10
         },
         "textposition": "bottom center",
         "type": "scatter",
         "x": {
          "bdata": "84a8IW/Imz8=",
          "dtype": "f8"
         },
         "xaxis": "x",
         "y": {
          "bdata": "6z0Uqd5DwT8=",
          "dtype": "f8"
         },
         "yaxis": "y"
        },
        {
         "hovertemplate": "<b>%{hovertext}</b><br><br>Player=%{text}<br>Def_Skill_90=%{x}<br>Att_Skill_90=%{y}<br>Att_Def_Balance=%{marker.size}<extra></extra>",
         "hovertext": {
          "bdata": "i4uPywl+BkA=",
          "dtype": "f8"
         },
         "legendgroup": "Ignatius Ganago",
         "marker": {
          "color": "#FFA15A",
          "size": {
           "bdata": "i4uPywl+BkA=",
           "dtype": "f8"
          },
          "sizemode": "area",
          "sizeref": 0.06322082319331288,
          "symbol": "circle"
         },
         "mode": "markers+text",
         "name": "Ignatius Ganago",
         "orientation": "v",
         "showlegend": true,
         "text": [
          "Ignatius Ganago"
         ],
         "textfont": {
          "size": 10
         },
         "textposition": "bottom center",
         "type": "scatter",
         "x": {
          "bdata": "6TS3FeV3iD8=",
          "dtype": "f8"
         },
         "xaxis": "x",
         "y": {
          "bdata": "iFeReBWJxz8=",
          "dtype": "f8"
         },
         "yaxis": "y"
        },
        {
         "hovertemplate": "<b>%{hovertext}</b><br><br>Player=%{text}<br>Def_Skill_90=%{x}<br>Att_Skill_90=%{y}<br>Att_Def_Balance=%{marker.size}<extra></extra>",
         "hovertext": {
          "bdata": "qdUXNyfQFEA=",
          "dtype": "f8"
         },
         "legendgroup": "Manu García",
         "marker": {
          "color": "#19d3f3",
          "size": {
           "bdata": "qdUXNyfQFEA=",
           "dtype": "f8"
          },
          "sizemode": "area",
          "sizeref": 0.06322082319331288,
          "symbol": "circle"
         },
         "mode": "markers+text",
         "name": "Manu García",
         "orientation": "v",
         "showlegend": true,
         "text": [
          "Manu García"
         ],
         "textfont": {
          "size": 10
         },
         "textposition": "bottom center",
         "type": "scatter",
         "x": {
          "bdata": "G8dxHMdxjD8=",
          "dtype": "f8"
         },
         "xaxis": "x",
         "y": {
          "bdata": "llqplVqp3T8=",
          "dtype": "f8"
         },
         "yaxis": "y"
        },
        {
         "hovertemplate": "<b>%{hovertext}</b><br><br>Player=%{text}<br>Def_Skill_90=%{x}<br>Att_Skill_90=%{y}<br>Att_Def_Balance=%{marker.size}<extra></extra>",
         "hovertext": {
          "bdata": "QI5M+no1FUA=",
          "dtype": "f8"
         },
         "legendgroup": "Carles Gil",
         "marker": {
          "color": "#FF6692",
          "size": {
           "bdata": "QI5M+no1FUA=",
           "dtype": "f8"
          },
          "sizemode": "area",
          "sizeref": 0.06322082319331288,
          "symbol": "circle"
         },
         "mode": "markers+text",
         "name": "Carles Gil",
         "orientation": "v",
         "showlegend": true,
         "text": [
          "Carles Gil"
         ],
         "textfont": {
          "size": 10
         },
         "textposition": "bottom center",
         "type": "scatter",
         "x": {
          "bdata": "hsoOU5fbjz8=",
          "dtype": "f8"
         },
         "xaxis": "x",
         "y": {
          "bdata": "lkOLbOf74T8=",
          "dtype": "f8"
         },
         "yaxis": "y"
        },
        {
         "hovertemplate": "<b>%{hovertext}</b><br><br>Player=%{text}<br>Def_Skill_90=%{x}<br>Att_Skill_90=%{y}<br>Att_Def_Balance=%{marker.size}<extra></extra>",
         "hovertext": {
          "bdata": "mv2/AMS/4j8=",
          "dtype": "f8"
         },
         "legendgroup": "Aníbal Godoy",
         "marker": {
          "color": "#B6E880",
          "size": {
           "bdata": "mv2/AMS/4j8=",
           "dtype": "f8"
          },
          "sizemode": "area",
          "sizeref": 0.06322082319331288,
          "symbol": "circle"
         },
         "mode": "markers+text",
         "name": "Aníbal Godoy",
         "orientation": "v",
         "showlegend": true,
         "text": [
          "Aníbal Godoy"
         ],
         "textfont": {
          "size": 10
         },
         "textposition": "bottom center",
         "type": "scatter",
         "x": {
          "bdata": "VVVVVVVVlT8=",
          "dtype": "f8"
         },
         "xaxis": "x",
         "y": {
          "bdata": "FK5H4XoU1D8=",
          "dtype": "f8"
         },
         "yaxis": "y"
        },
        {
         "hovertemplate": "<b>%{hovertext}</b><br><br>Player=%{text}<br>Def_Skill_90=%{x}<br>Att_Skill_90=%{y}<br>Att_Def_Balance=%{marker.size}<extra></extra>",
         "hovertext": {
          "bdata": "x8wXbT/1DkA=",
          "dtype": "f8"
         },
         "legendgroup": "Diogo Gonçalves",
         "marker": {
          "color": "#FF97FF",
          "size": {
           "bdata": "x8wXbT/1DkA=",
           "dtype": "f8"
          },
          "sizemode": "area",
          "sizeref": 0.06322082319331288,
          "symbol": "circle"
         },
         "mode": "markers+text",
         "name": "Diogo Gonçalves",
         "orientation": "v",
         "showlegend": true,
         "text": [
          "Diogo Gonçalves"
         ],
         "textfont": {
          "size": 10
         },
         "textposition": "bottom center",
         "type": "scatter",
         "x": {
          "bdata": "ZSELWchChj8=",
          "dtype": "f8"
         },
         "xaxis": "x",
         "y": {
          "bdata": "HYGirQbP2T8=",
          "dtype": "f8"
         },
         "yaxis": "y"
        },
        {
         "hovertemplate": "<b>%{hovertext}</b><br><br>Player=%{text}<br>Def_Skill_90=%{x}<br>Att_Skill_90=%{y}<br>Att_Def_Balance=%{marker.size}<extra></extra>",
         "hovertext": {
          "bdata": "zcFWBRSL/z8=",
          "dtype": "f8"
         },
         "legendgroup": "Brian Gutiérrez",
         "marker": {
          "color": "#FECB52",
          "size": {
           "bdata": "zcFWBRSL/z8=",
           "dtype": "f8"
          },
          "sizemode": "area",
          "sizeref": 0.06322082319331288,
          "symbol": "circle"
         },
         "mode": "markers+text",
         "name": "Brian Gutiérrez",
         "orientation": "v",
         "showlegend": true,
         "text": [
          "Brian Gutiérrez"
         ],
         "textfont": {
          "size": 10
         },
         "textposition": "bottom center",
         "type": "scatter",
         "x": {
          "bdata": "I/6zJukcmj8=",
          "dtype": "f8"
         },
         "xaxis": "x",
         "y": {
          "bdata": "ZQjW0eZ96j8=",
          "dtype": "f8"
         },
         "yaxis": "y"
        },
        {
         "hovertemplate": "<b>%{hovertext}</b><br><br>Player=%{text}<br>Def_Skill_90=%{x}<br>Att_Skill_90=%{y}<br>Att_Def_Balance=%{marker.size}<extra></extra>",
         "hovertext": {
          "bdata": "2apa3OYvvj8=",
          "dtype": "f8"
         },
         "legendgroup": "Justin Haak",
         "marker": {
          "color": "#636efa",
          "size": {
           "bdata": "2apa3OYvvj8=",
           "dtype": "f8"
          },
          "sizemode": "area",
          "sizeref": 0.06322082319331288,
          "symbol": "circle"
         },
         "mode": "markers+text",
         "name": "Justin Haak",
         "orientation": "v",
         "showlegend": true,
         "text": [
          "Justin Haak"
         ],
         "textfont": {
          "size": 10
         },
         "textposition": "bottom center",
         "type": "scatter",
         "x": {
          "bdata": "6jAYd8Bklz8=",
          "dtype": "f8"
         },
         "xaxis": "x",
         "y": {
          "bdata": "OPuFWFEarz8=",
          "dtype": "f8"
         },
         "yaxis": "y"
        },
        {
         "hovertemplate": "<b>%{hovertext}</b><br><br>Player=%{text}<br>Def_Skill_90=%{x}<br>Att_Skill_90=%{y}<br>Att_Def_Balance=%{marker.size}<extra></extra>",
         "hovertext": {
          "bdata": "JqZCWcZH7T8=",
          "dtype": "f8"
         },
         "legendgroup": "Ian Harkes",
         "marker": {
          "color": "#EF553B",
          "size": {
           "bdata": "JqZCWcZH7T8=",
           "dtype": "f8"
          },
          "sizemode": "area",
          "sizeref": 0.06322082319331288,
          "symbol": "circle"
         },
         "mode": "markers+text",
         "name": "Ian Harkes",
         "orientation": "v",
         "showlegend": true,
         "text": [
          "Ian Harkes"
         ],
         "textfont": {
          "size": 10
         },
         "textposition": "bottom center",
         "type": "scatter",
         "x": {
          "bdata": "r2dJ0OtZkj8=",
          "dtype": "f8"
         },
         "xaxis": "x",
         "y": {
          "bdata": "dxWJV5F41T8=",
          "dtype": "f8"
         },
         "yaxis": "y"
        },
        {
         "hovertemplate": "<b>%{hovertext}</b><br><br>Player=%{text}<br>Def_Skill_90=%{x}<br>Att_Skill_90=%{y}<br>Att_Def_Balance=%{marker.size}<extra></extra>",
         "hovertext": {
          "bdata": "nD08ouZ15D8=",
          "dtype": "f8"
         },
         "legendgroup": "Nathan Harriel",
         "marker": {
          "color": "#00cc96",
          "size": {
           "bdata": "nD08ouZ15D8=",
           "dtype": "f8"
          },
          "sizemode": "area",
          "sizeref": 0.06322082319331288,
          "symbol": "circle"
         },
         "mode": "markers+text",
         "name": "Nathan Harriel",
         "orientation": "v",
         "showlegend": true,
         "text": [
          "Nathan Harriel"
         ],
         "textfont": {
          "size": 10
         },
         "textposition": "bottom center",
         "type": "scatter",
         "x": {
          "bdata": "EiZhEiZhoj8=",
          "dtype": "f8"
         },
         "xaxis": "x",
         "y": {
          "bdata": "n762OFhQwj8=",
          "dtype": "f8"
         },
         "yaxis": "y"
        },
        {
         "hovertemplate": "<b>%{hovertext}</b><br><br>Player=%{text}<br>Def_Skill_90=%{x}<br>Att_Skill_90=%{y}<br>Att_Def_Balance=%{marker.size}<extra></extra>",
         "hovertext": {
          "bdata": "lmEr6cnU9z8=",
          "dtype": "f8"
         },
         "legendgroup": "Marcel Hartel",
         "marker": {
          "color": "#ab63fa",
          "size": {
           "bdata": "lmEr6cnU9z8=",
           "dtype": "f8"
          },
          "sizemode": "area",
          "sizeref": 0.06322082319331288,
          "symbol": "circle"
         },
         "mode": "markers+text",
         "name": "Marcel Hartel",
         "orientation": "v",
         "showlegend": true,
         "text": [
          "Marcel Hartel"
         ],
         "textfont": {
          "size": 10
         },
         "textposition": "bottom center",
         "type": "scatter",
         "x": {
          "bdata": "7BvBrMK+kT8=",
          "dtype": "f8"
         },
         "xaxis": "x",
         "y": {
          "bdata": "JHJtN0oi1z8=",
          "dtype": "f8"
         },
         "yaxis": "y"
        },
        {
         "hovertemplate": "<b>%{hovertext}</b><br><br>Player=%{text}<br>Def_Skill_90=%{x}<br>Att_Skill_90=%{y}<br>Att_Def_Balance=%{marker.size}<extra></extra>",
         "hovertext": {
          "bdata": "97AVlAuP8D8=",
          "dtype": "f8"
         },
         "legendgroup": "Aaron Herrera",
         "marker": {
          "color": "#FFA15A",
          "size": {
           "bdata": "97AVlAuP8D8=",
           "dtype": "f8"
          },
          "sizemode": "area",
          "sizeref": 0.06322082319331288,
          "symbol": "circle"
         },
         "mode": "markers+text",
         "name": "Aaron Herrera",
         "orientation": "v",
         "showlegend": true,
         "text": [
          "Aaron Herrera"
         ],
         "textfont": {
          "size": 10
         },
         "textposition": "bottom center",
         "type": "scatter",
         "x": {
          "bdata": "GcwIkt6hmD8=",
          "dtype": "f8"
         },
         "xaxis": "x",
         "y": {
          "bdata": "do3kIwy11T8=",
          "dtype": "f8"
         },
         "yaxis": "y"
        },
        {
         "hovertemplate": "<b>%{hovertext}</b><br><br>Player=%{text}<br>Def_Skill_90=%{x}<br>Att_Skill_90=%{y}<br>Att_Def_Balance=%{marker.size}<extra></extra>",
         "hovertext": {
          "bdata": "AHvmjiVq8D8=",
          "dtype": "f8"
         },
         "legendgroup": "Ryan Hollingshead",
         "marker": {
          "color": "#19d3f3",
          "size": {
           "bdata": "AHvmjiVq8D8=",
           "dtype": "f8"
          },
          "sizemode": "area",
          "sizeref": 0.06322082319331288,
          "symbol": "circle"
         },
         "mode": "markers+text",
         "name": "Ryan Hollingshead",
         "orientation": "v",
         "showlegend": true,
         "text": [
          "Ryan Hollingshead"
         ],
         "textfont": {
          "size": 10
         },
         "textposition": "bottom center",
         "type": "scatter",
         "x": {
          "bdata": "3t3d3d3dnT8=",
          "dtype": "f8"
         },
         "xaxis": "x",
         "y": {
          "bdata": "9ihcj8L12D8=",
          "dtype": "f8"
         },
         "yaxis": "y"
        },
        {
         "hovertemplate": "<b>%{hovertext}</b><br><br>Player=%{text}<br>Def_Skill_90=%{x}<br>Att_Skill_90=%{y}<br>Att_Def_Balance=%{marker.size}<extra></extra>",
         "hovertext": {
          "bdata": "I0csJtzy4j8=",
          "dtype": "f8"
         },
         "legendgroup": "Igor",
         "marker": {
          "color": "#FF6692",
          "size": {
           "bdata": "I0csJtzy4j8=",
           "dtype": "f8"
          },
          "sizemode": "area",
          "sizeref": 0.06322082319331288,
          "symbol": "circle"
         },
         "mode": "markers+text",
         "name": "Igor",
         "orientation": "v",
         "showlegend": true,
         "text": [
          "Igor"
         ],
         "textfont": {
          "size": 10
         },
         "textposition": "bottom center",
         "type": "scatter",
         "x": {
          "bdata": "bQyGOuMnmj8=",
          "dtype": "f8"
         },
         "xaxis": "x",
         "y": {
          "bdata": "TIBCtQQoxD8=",
          "dtype": "f8"
         },
         "yaxis": "y"
        },
        {
         "hovertemplate": "<b>%{hovertext}</b><br><br>Player=%{text}<br>Def_Skill_90=%{x}<br>Att_Skill_90=%{y}<br>Att_Def_Balance=%{marker.size}<extra></extra>",
         "hovertext": {
          "bdata": "mR3j5LmR5j8=",
          "dtype": "f8"
         },
         "legendgroup": "Danley Jean-Jacques",
         "marker": {
          "color": "#B6E880",
          "size": {
           "bdata": "mR3j5LmR5j8=",
           "dtype": "f8"
          },
          "sizemode": "area",
          "sizeref": 0.06322082319331288,
          "symbol": "circle"
         },
         "mode": "markers+text",
         "name": "Danley Jean-Jacques",
         "orientation": "v",
         "showlegend": true,
         "text": [
          "Danley Jean-Jacques"
         ],
         "textfont": {
          "size": 10
         },
         "textposition": "bottom center",
         "type": "scatter",
         "x": {
          "bdata": "SDilefEnoj8=",
          "dtype": "f8"
         },
         "xaxis": "x",
         "y": {
          "bdata": "cE4o0cAt0j8=",
          "dtype": "f8"
         },
         "yaxis": "y"
        },
        {
         "hovertemplate": "<b>%{hovertext}</b><br><br>Player=%{text}<br>Def_Skill_90=%{x}<br>Att_Skill_90=%{y}<br>Att_Def_Balance=%{marker.size}<extra></extra>",
         "hovertext": {
          "bdata": "zIRjF3nG9z8=",
          "dtype": "f8"
         },
         "legendgroup": "Hosei Kijima",
         "marker": {
          "color": "#FF97FF",
          "size": {
           "bdata": "zIRjF3nG9z8=",
           "dtype": "f8"
          },
          "sizemode": "area",
          "sizeref": 0.06322082319331288,
          "symbol": "circle"
         },
         "mode": "markers+text",
         "name": "Hosei Kijima",
         "orientation": "v",
         "showlegend": true,
         "text": [
          "Hosei Kijima"
         ],
         "textfont": {
          "size": 10
         },
         "textposition": "bottom center",
         "type": "scatter",
         "x": {
          "bdata": "FEABFEABlD8=",
          "dtype": "f8"
         },
         "xaxis": "x",
         "y": {
          "bdata": "EAVREAVR0D8=",
          "dtype": "f8"
         },
         "yaxis": "y"
        },
        {
         "hovertemplate": "<b>%{hovertext}</b><br><br>Player=%{text}<br>Def_Skill_90=%{x}<br>Att_Skill_90=%{y}<br>Att_Def_Balance=%{marker.size}<extra></extra>",
         "hovertext": {
          "bdata": "x08MwQwpB0A=",
          "dtype": "f8"
         },
         "legendgroup": "Sebastian Kowalczyk",
         "marker": {
          "color": "#FECB52",
          "size": {
           "bdata": "x08MwQwpB0A=",
           "dtype": "f8"
          },
          "sizemode": "area",
          "sizeref": 0.06322082319331288,
          "symbol": "circle"
         },
         "mode": "markers+text",
         "name": "Sebastian Kowalczyk",
         "orientation": "v",
         "showlegend": true,
         "text": [
          "Sebastian Kowalczyk"
         ],
         "textfont": {
          "size": 10
         },
         "textposition": "bottom center",
         "type": "scatter",
         "x": {
          "bdata": "Mq22o8l9lT8=",
          "dtype": "f8"
         },
         "xaxis": "x",
         "y": {
          "bdata": "E/DNq4ln1T8=",
          "dtype": "f8"
         },
         "yaxis": "y"
        },
        {
         "hovertemplate": "<b>%{hovertext}</b><br><br>Player=%{text}<br>Def_Skill_90=%{x}<br>Att_Skill_90=%{y}<br>Att_Def_Balance=%{marker.size}<extra></extra>",
         "hovertext": {
          "bdata": "5vOKVGgdC0A=",
          "dtype": "f8"
         },
         "legendgroup": "Luca de la Torre",
         "marker": {
          "color": "#636efa",
          "size": {
           "bdata": "5vOKVGgdC0A=",
           "dtype": "f8"
          },
          "sizemode": "area",
          "sizeref": 0.06322082319331288,
          "symbol": "circle"
         },
         "mode": "markers+text",
         "name": "Luca de la Torre",
         "orientation": "v",
         "showlegend": true,
         "text": [
          "Luca de la Torre"
         ],
         "textfont": {
          "size": 10
         },
         "textposition": "bottom center",
         "type": "scatter",
         "x": {
          "bdata": "24G5dmCujT8=",
          "dtype": "f8"
         },
         "xaxis": "x",
         "y": {
          "bdata": "rwbPESja0j8=",
          "dtype": "f8"
         },
         "yaxis": "y"
        },
        {
         "hovertemplate": "<b>%{hovertext}</b><br><br>Player=%{text}<br>Def_Skill_90=%{x}<br>Att_Skill_90=%{y}<br>Att_Def_Balance=%{marker.size}<extra></extra>",
         "hovertext": {
          "bdata": "8315Hl7v+z8=",
          "dtype": "f8"
         },
         "legendgroup": "Oliver Larraz",
         "marker": {
          "color": "#EF553B",
          "size": {
           "bdata": "8315Hl7v+z8=",
           "dtype": "f8"
          },
          "sizemode": "area",
          "sizeref": 0.06322082319331288,
          "symbol": "circle"
         },
         "mode": "markers+text",
         "name": "Oliver Larraz",
         "orientation": "v",
         "showlegend": true,
         "text": [
          "Oliver Larraz"
         ],
         "textfont": {
          "size": 10
         },
         "textposition": "bottom center",
         "type": "scatter",
         "x": {
          "bdata": "7SW0l9Beoj8=",
          "dtype": "f8"
         },
         "xaxis": "x",
         "y": {
          "bdata": "EhERERER0D8=",
          "dtype": "f8"
         },
         "yaxis": "y"
        },
        {
         "hovertemplate": "<b>%{hovertext}</b><br><br>Player=%{text}<br>Def_Skill_90=%{x}<br>Att_Skill_90=%{y}<br>Att_Def_Balance=%{marker.size}<extra></extra>",
         "hovertext": {
          "bdata": "4FWgeIIn6T8=",
          "dtype": "f8"
         },
         "legendgroup": "Beau Leroux",
         "marker": {
          "color": "#00cc96",
          "size": {
           "bdata": "4FWgeIIn6T8=",
           "dtype": "f8"
          },
          "sizemode": "area",
          "sizeref": 0.06322082319331288,
          "symbol": "circle"
         },
         "mode": "markers+text",
         "name": "Beau Leroux",
         "orientation": "v",
         "showlegend": true,
         "text": [
          "Beau Leroux"
         ],
         "textfont": {
          "size": 10
         },
         "textposition": "bottom center",
         "type": "scatter",
         "x": {
          "bdata": "lnsaYbmnoT8=",
          "dtype": "f8"
         },
         "xaxis": "x",
         "y": {
          "bdata": "ExvmI7Fh3j8=",
          "dtype": "f8"
         },
         "yaxis": "y"
        },
        {
         "hovertemplate": "<b>%{hovertext}</b><br><br>Player=%{text}<br>Def_Skill_90=%{x}<br>Att_Skill_90=%{y}<br>Att_Def_Balance=%{marker.size}<extra></extra>",
         "hovertext": {
          "bdata": "s0TNC6OI6z8=",
          "dtype": "f8"
         },
         "legendgroup": "Sebastian Lletget",
         "marker": {
          "color": "#ab63fa",
          "size": {
           "bdata": "s0TNC6OI6z8=",
           "dtype": "f8"
          },
          "sizemode": "area",
          "sizeref": 0.06322082319331288,
          "symbol": "circle"
         },
         "mode": "markers+text",
         "name": "Sebastian Lletget",
         "orientation": "v",
         "showlegend": true,
         "text": [
          "Sebastian Lletget"
         ],
         "textfont": {
          "size": 10
         },
         "textposition": "bottom center",
         "type": "scatter",
         "x": {
          "bdata": "snJ1gKxcjT8=",
          "dtype": "f8"
         },
         "xaxis": "x",
         "y": {
          "bdata": "FolXkXgV2T8=",
          "dtype": "f8"
         },
         "yaxis": "y"
        },
        {
         "hovertemplate": "<b>%{hovertext}</b><br><br>Player=%{text}<br>Def_Skill_90=%{x}<br>Att_Skill_90=%{y}<br>Att_Def_Balance=%{marker.size}<extra></extra>",
         "hovertext": {
          "bdata": "L0hLhsXI8j8=",
          "dtype": "f8"
         },
         "legendgroup": "Robin Lod",
         "marker": {
          "color": "#FFA15A",
          "size": {
           "bdata": "L0hLhsXI8j8=",
           "dtype": "f8"
          },
          "sizemode": "area",
          "sizeref": 0.06322082319331288,
          "symbol": "circle"
         },
         "mode": "markers+text",
         "name": "Robin Lod",
         "orientation": "v",
         "showlegend": true,
         "text": [
          "Robin Lod"
         ],
         "textfont": {
          "size": 10
         },
         "textposition": "bottom center",
         "type": "scatter",
         "x": {
          "bdata": "bHCxwcUGlz8=",
          "dtype": "f8"
         },
         "xaxis": "x",
         "y": {
          "bdata": "KZdyKZdy2T8=",
          "dtype": "f8"
         },
         "yaxis": "y"
        },
        {
         "hovertemplate": "<b>%{hovertext}</b><br><br>Player=%{text}<br>Def_Skill_90=%{x}<br>Att_Skill_90=%{y}<br>Att_Def_Balance=%{marker.size}<extra></extra>",
         "hovertext": {
          "bdata": "jX9mOq5v5j8=",
          "dtype": "f8"
         },
         "legendgroup": "Victor Loturi",
         "marker": {
          "color": "#19d3f3",
          "size": {
           "bdata": "jX9mOq5v5j8=",
           "dtype": "f8"
          },
          "sizemode": "area",
          "sizeref": 0.06322082319331288,
          "symbol": "circle"
         },
         "mode": "markers+text",
         "name": "Victor Loturi",
         "orientation": "v",
         "showlegend": true,
         "text": [
          "Victor Loturi"
         ],
         "textfont": {
          "size": 10
         },
         "textposition": "bottom center",
         "type": "scatter",
         "x": {
          "bdata": "W79SoNavlD8=",
          "dtype": "f8"
         },
         "xaxis": "x",
         "y": {
          "bdata": "MzMzMzMz0z8=",
          "dtype": "f8"
         },
         "yaxis": "y"
        },
        {
         "hovertemplate": "<b>%{hovertext}</b><br><br>Player=%{text}<br>Def_Skill_90=%{x}<br>Att_Skill_90=%{y}<br>Att_Def_Balance=%{marker.size}<extra></extra>",
         "hovertext": {
          "bdata": "YghY3vIi8T8=",
          "dtype": "f8"
         },
         "legendgroup": "Jovan Lukić",
         "marker": {
          "color": "#FF6692",
          "size": {
           "bdata": "YghY3vIi8T8=",
           "dtype": "f8"
          },
          "sizemode": "area",
          "sizeref": 0.06322082319331288,
          "symbol": "circle"
         },
         "mode": "markers+text",
         "name": "Jovan Lukić",
         "orientation": "v",
         "showlegend": true,
         "text": [
          "Jovan Lukić"
         ],
         "textfont": {
          "size": 10
         },
         "textposition": "bottom center",
         "type": "scatter",
         "x": {
          "bdata": "FEABFEABpD8=",
          "dtype": "f8"
         },
         "xaxis": "x",
         "y": {
          "bdata": "t1u7tVu71T8=",
          "dtype": "f8"
         },
         "yaxis": "y"
        },
        {
         "hovertemplate": "<b>%{hovertext}</b><br><br>Player=%{text}<br>Def_Skill_90=%{x}<br>Att_Skill_90=%{y}<br>Att_Def_Balance=%{marker.size}<extra></extra>",
         "hovertext": {
          "bdata": "XqZWjLz2EUA=",
          "dtype": "f8"
         },
         "legendgroup": "Diego Luna",
         "marker": {
          "color": "#B6E880",
          "size": {
           "bdata": "XqZWjLz2EUA=",
           "dtype": "f8"
          },
          "sizemode": "area",
          "sizeref": 0.06322082319331288,
          "symbol": "circle"
         },
         "mode": "markers+text",
         "name": "Diego Luna",
         "orientation": "v",
         "showlegend": true,
         "text": [
          "Diego Luna"
         ],
         "textfont": {
          "size": 10
         },
         "textposition": "bottom center",
         "type": "scatter",
         "x": {
          "bdata": "zVMWy0jqij8=",
          "dtype": "f8"
         },
         "xaxis": "x",
         "y": {
          "bdata": "3D/M/cPc3z8=",
          "dtype": "f8"
         },
         "yaxis": "y"
        },
        {
         "hovertemplate": "<b>%{hovertext}</b><br><br>Player=%{text}<br>Def_Skill_90=%{x}<br>Att_Skill_90=%{y}<br>Att_Def_Balance=%{marker.size}<extra></extra>",
         "hovertext": {
          "bdata": "GsxSG/KrAkA=",
          "dtype": "f8"
         },
         "legendgroup": "Jack McGlynn",
         "marker": {
          "color": "#FF97FF",
          "size": {
           "bdata": "GsxSG/KrAkA=",
           "dtype": "f8"
          },
          "sizemode": "area",
          "sizeref": 0.06322082319331288,
          "symbol": "circle"
         },
         "mode": "markers+text",
         "name": "Jack McGlynn",
         "orientation": "v",
         "showlegend": true,
         "text": [
          "Jack McGlynn"
         ],
         "textfont": {
          "size": 10
         },
         "textposition": "bottom center",
         "type": "scatter",
         "x": {
          "bdata": "OQUvp+DllD8=",
          "dtype": "f8"
         },
         "xaxis": "x",
         "y": {
          "bdata": "RqkmjztL4D8=",
          "dtype": "f8"
         },
         "yaxis": "y"
        },
        {
         "hovertemplate": "<b>%{hovertext}</b><br><br>Player=%{text}<br>Def_Skill_90=%{x}<br>Att_Skill_90=%{y}<br>Att_Def_Balance=%{marker.size}<extra></extra>",
         "hovertext": {
          "bdata": "L5BJ8QKZKEA=",
          "dtype": "f8"
         },
         "legendgroup": "Lionel Messi",
         "marker": {
          "color": "#FECB52",
          "size": {
           "bdata": "L5BJ8QKZKEA=",
           "dtype": "f8"
          },
          "sizemode": "area",
          "sizeref": 0.06322082319331288,
          "symbol": "circle"
         },
         "mode": "markers+text",
         "name": "Lionel Messi",
         "orientation": "v",
         "showlegend": true,
         "text": [
          "Lionel Messi"
         ],
         "textfont": {
          "size": 10
         },
         "textposition": "bottom center",
         "type": "scatter",
         "x": {
          "bdata": "VVVVVVVVdT8=",
          "dtype": "f8"
         },
         "xaxis": "x",
         "y": {
          "bdata": "MzMzMzPz8T8=",
          "dtype": "f8"
         },
         "yaxis": "y"
        },
        {
         "hovertemplate": "<b>%{hovertext}</b><br><br>Player=%{text}<br>Def_Skill_90=%{x}<br>Att_Skill_90=%{y}<br>Att_Def_Balance=%{marker.size}<extra></extra>",
         "hovertext": {
          "bdata": "ti0XNZY4I0A=",
          "dtype": "f8"
         },
         "legendgroup": "Djordje Mihailovic",
         "marker": {
          "color": "#636efa",
          "size": {
           "bdata": "ti0XNZY4I0A=",
           "dtype": "f8"
          },
          "sizemode": "area",
          "sizeref": 0.06322082319331288,
          "symbol": "circle"
         },
         "mode": "markers+text",
         "name": "Djordje Mihailovic",
         "orientation": "v",
         "showlegend": true,
         "text": [
          "Djordje Mihailovic"
         ],
         "textfont": {
          "size": 10
         },
         "textposition": "bottom center",
         "type": "scatter",
         "x": {
          "bdata": "hbv6Jnl/fT8=",
          "dtype": "f8"
         },
         "xaxis": "x",
         "y": {
          "bdata": "X0J7Ce0l4D8=",
          "dtype": "f8"
         },
         "yaxis": "y"
        },
        {
         "hovertemplate": "<b>%{hovertext}</b><br><br>Player=%{text}<br>Def_Skill_90=%{x}<br>Att_Skill_90=%{y}<br>Att_Def_Balance=%{marker.size}<extra></extra>",
         "hovertext": {
          "bdata": "lPtw7k1PB0A=",
          "dtype": "f8"
         },
         "legendgroup": "Aleksei Miranchuk",
         "marker": {
          "color": "#EF553B",
          "size": {
           "bdata": "lPtw7k1PB0A=",
           "dtype": "f8"
          },
          "sizemode": "area",
          "sizeref": 0.06322082319331288,
          "symbol": "circle"
         },
         "mode": "markers+text",
         "name": "Aleksei Miranchuk",
         "orientation": "v",
         "showlegend": true,
         "text": [
          "Aleksei Miranchuk"
         ],
         "textfont": {
          "size": 10
         },
         "textposition": "bottom center",
         "type": "scatter",
         "x": {
          "bdata": "bmw7ITIGkj8=",
          "dtype": "f8"
         },
         "xaxis": "x",
         "y": {
          "bdata": "ogmVKgwo2T8=",
          "dtype": "f8"
         },
         "yaxis": "y"
        },
        {
         "hovertemplate": "<b>%{hovertext}</b><br><br>Player=%{text}<br>Def_Skill_90=%{x}<br>Att_Skill_90=%{y}<br>Att_Def_Balance=%{marker.size}<extra></extra>",
         "hovertext": {
          "bdata": "cO6Nlf1oEkA=",
          "dtype": "f8"
         },
         "legendgroup": "Maximiliano Moralez",
         "marker": {
          "color": "#00cc96",
          "size": {
           "bdata": "cO6Nlf1oEkA=",
           "dtype": "f8"
          },
          "sizemode": "area",
          "sizeref": 0.06322082319331288,
          "symbol": "circle"
         },
         "mode": "markers+text",
         "name": "Maximiliano Moralez",
         "orientation": "v",
         "showlegend": true,
         "text": [
          "Maximiliano Moralez"
         ],
         "textfont": {
          "size": 10
         },
         "textposition": "bottom center",
         "type": "scatter",
         "x": {
          "bdata": "EWa7EGa7kD8=",
          "dtype": "f8"
         },
         "xaxis": "x",
         "y": {
          "bdata": "Pz4+Pj4+3j8=",
          "dtype": "f8"
         },
         "yaxis": "y"
        },
        {
         "hovertemplate": "<b>%{hovertext}</b><br><br>Player=%{text}<br>Def_Skill_90=%{x}<br>Att_Skill_90=%{y}<br>Att_Def_Balance=%{marker.size}<extra></extra>",
         "hovertext": {
          "bdata": "YgC0ZcXpIkA=",
          "dtype": "f8"
         },
         "legendgroup": "Hany Mukhtar",
         "marker": {
          "color": "#ab63fa",
          "size": {
           "bdata": "YgC0ZcXpIkA=",
           "dtype": "f8"
          },
          "sizemode": "area",
          "sizeref": 0.06322082319331288,
          "symbol": "circle"
         },
         "mode": "markers+text",
         "name": "Hany Mukhtar",
         "orientation": "v",
         "showlegend": true,
         "text": [
          "Hany Mukhtar"
         ],
         "textfont": {
          "size": 10
         },
         "textposition": "bottom center",
         "type": "scatter",
         "x": {
          "bdata": "Ohiz0ugRdT8=",
          "dtype": "f8"
         },
         "xaxis": "x",
         "y": {
          "bdata": "4KYYNfxt4j8=",
          "dtype": "f8"
         },
         "yaxis": "y"
        },
        {
         "hovertemplate": "<b>%{hovertext}</b><br><br>Player=%{text}<br>Def_Skill_90=%{x}<br>Att_Skill_90=%{y}<br>Att_Def_Balance=%{marker.size}<extra></extra>",
         "hovertext": {
          "bdata": "Vw5FDleQFkA=",
          "dtype": "f8"
         },
         "legendgroup": "Luis Muriel",
         "marker": {
          "color": "#FFA15A",
          "size": {
           "bdata": "Vw5FDleQFkA=",
           "dtype": "f8"
          },
          "sizemode": "area",
          "sizeref": 0.06322082319331288,
          "symbol": "circle"
         },
         "mode": "markers+text",
         "name": "Luis Muriel",
         "orientation": "v",
         "showlegend": true,
         "text": [
          "Luis Muriel"
         ],
         "textfont": {
          "size": 10
         },
         "textposition": "bottom center",
         "type": "scatter",
         "x": {
          "bdata": "F2zBFmzBhj8=",
          "dtype": "f8"
         },
         "xaxis": "x",
         "y": {
          "bdata": "kML1KFyP4j8=",
          "dtype": "f8"
         },
         "yaxis": "y"
        },
        {
         "hovertemplate": "<b>%{hovertext}</b><br><br>Player=%{text}<br>Def_Skill_90=%{x}<br>Att_Skill_90=%{y}<br>Att_Def_Balance=%{marker.size}<extra></extra>",
         "hovertext": {
          "bdata": "i5s5OjMt/D8=",
          "dtype": "f8"
         },
         "legendgroup": "Alex Muyl",
         "marker": {
          "color": "#19d3f3",
          "size": {
           "bdata": "i5s5OjMt/D8=",
           "dtype": "f8"
          },
          "sizemode": "area",
          "sizeref": 0.06322082319331288,
          "symbol": "circle"
         },
         "mode": "markers+text",
         "name": "Alex Muyl",
         "orientation": "v",
         "showlegend": true,
         "text": [
          "Alex Muyl"
         ],
         "textfont": {
          "size": 10
         },
         "textposition": "bottom center",
         "type": "scatter",
         "x": {
          "bdata": "KfEzSvyMkj8=",
          "dtype": "f8"
         },
         "xaxis": "x",
         "y": {
          "bdata": "6AgUbTV4zj8=",
          "dtype": "f8"
         },
         "yaxis": "y"
        },
        {
         "hovertemplate": "<b>%{hovertext}</b><br><br>Player=%{text}<br>Def_Skill_90=%{x}<br>Att_Skill_90=%{y}<br>Att_Def_Balance=%{marker.size}<extra></extra>",
         "hovertext": {
          "bdata": "lnuVbCAr6z8=",
          "dtype": "f8"
         },
         "legendgroup": "Darlington Nagbe",
         "marker": {
          "color": "#FF6692",
          "size": {
           "bdata": "lnuVbCAr6z8=",
           "dtype": "f8"
          },
          "sizemode": "area",
          "sizeref": 0.06322082319331288,
          "symbol": "circle"
         },
         "mode": "markers+text",
         "name": "Darlington Nagbe",
         "orientation": "v",
         "showlegend": true,
         "text": [
          "Darlington Nagbe"
         ],
         "textfont": {
          "size": 10
         },
         "textposition": "bottom center",
         "type": "scatter",
         "x": {
          "bdata": "GDD8BJd1hz8=",
          "dtype": "f8"
         },
         "xaxis": "x",
         "y": {
          "bdata": "knyEobauwT8=",
          "dtype": "f8"
         },
         "yaxis": "y"
        },
        {
         "hovertemplate": "<b>%{hovertext}</b><br><br>Player=%{text}<br>Def_Skill_90=%{x}<br>Att_Skill_90=%{y}<br>Att_Def_Balance=%{marker.size}<extra></extra>",
         "hovertext": {
          "bdata": "rpLTjq5MCEA=",
          "dtype": "f8"
         },
         "legendgroup": "Jean-Claude Ngando",
         "marker": {
          "color": "#B6E880",
          "size": {
           "bdata": "rpLTjq5MCEA=",
           "dtype": "f8"
          },
          "sizemode": "area",
          "sizeref": 0.06322082319331288,
          "symbol": "circle"
         },
         "mode": "markers+text",
         "name": "Jean-Claude Ngando",
         "orientation": "v",
         "showlegend": true,
         "text": [
          "Jean-Claude Ngando"
         ],
         "textfont": {
          "size": 10
         },
         "textposition": "bottom center",
         "type": "scatter",
         "x": {
          "bdata": "VYL3e1T7kD8=",
          "dtype": "f8"
         },
         "xaxis": "x",
         "y": {
          "bdata": "cnYLvxoT6T8=",
          "dtype": "f8"
         },
         "yaxis": "y"
        },
        {
         "hovertemplate": "<b>%{hovertext}</b><br><br>Player=%{text}<br>Def_Skill_90=%{x}<br>Att_Skill_90=%{y}<br>Att_Def_Balance=%{marker.size}<extra></extra>",
         "hovertext": {
          "bdata": "15QCmI716z8=",
          "dtype": "f8"
         },
         "legendgroup": "Braian Ojeda",
         "marker": {
          "color": "#FF97FF",
          "size": {
           "bdata": "15QCmI716z8=",
           "dtype": "f8"
          },
          "sizemode": "area",
          "sizeref": 0.06322082319331288,
          "symbol": "circle"
         },
         "mode": "markers+text",
         "name": "Braian Ojeda",
         "orientation": "v",
         "showlegend": true,
         "text": [
          "Braian Ojeda"
         ],
         "textfont": {
          "size": 10
         },
         "textposition": "bottom center",
         "type": "scatter",
         "x": {
          "bdata": "zQWm8k44lz8=",
          "dtype": "f8"
         },
         "xaxis": "x",
         "y": {
          "bdata": "U/ByCl5O0T8=",
          "dtype": "f8"
         },
         "yaxis": "y"
        },
        {
         "hovertemplate": "<b>%{hovertext}</b><br><br>Player=%{text}<br>Def_Skill_90=%{x}<br>Att_Skill_90=%{y}<br>Att_Def_Balance=%{marker.size}<extra></extra>",
         "hovertext": {
          "bdata": "f2RlEhH7E0A=",
          "dtype": "f8"
         },
         "legendgroup": "Martín Ojeda",
         "marker": {
          "color": "#FECB52",
          "size": {
           "bdata": "f2RlEhH7E0A=",
           "dtype": "f8"
          },
          "sizemode": "area",
          "sizeref": 0.06322082319331288,
          "symbol": "circle"
         },
         "mode": "markers+text",
         "name": "Martín Ojeda",
         "orientation": "v",
         "showlegend": true,
         "text": [
          "Martín Ojeda"
         ],
         "textfont": {
          "size": 10
         },
         "textposition": "bottom center",
         "type": "scatter",
         "x": {
          "bdata": "dNZB8srlgT8=",
          "dtype": "f8"
         },
         "xaxis": "x",
         "y": {
          "bdata": "hI3S+jxO6D8=",
          "dtype": "f8"
         },
         "yaxis": "y"
        },
        {
         "hovertemplate": "<b>%{hovertext}</b><br><br>Player=%{text}<br>Def_Skill_90=%{x}<br>Att_Skill_90=%{y}<br>Att_Def_Balance=%{marker.size}<extra></extra>",
         "hovertext": {
          "bdata": "L2CUoo+A4D8=",
          "dtype": "f8"
         },
         "legendgroup": "Sergio Oregel",
         "marker": {
          "color": "#636efa",
          "size": {
           "bdata": "L2CUoo+A4D8=",
           "dtype": "f8"
          },
          "sizemode": "area",
          "sizeref": 0.06322082319331288,
          "symbol": "circle"
         },
         "mode": "markers+text",
         "name": "Sergio Oregel",
         "orientation": "v",
         "showlegend": true,
         "text": [
          "Sergio Oregel"
         ],
         "textfont": {
          "size": 10
         },
         "textposition": "bottom center",
         "type": "scatter",
         "x": {
          "bdata": "24G5dmCujT8=",
          "dtype": "f8"
         },
         "xaxis": "x",
         "y": {
          "bdata": "l1Q+jPt10T8=",
          "dtype": "f8"
         },
         "yaxis": "y"
        },
        {
         "hovertemplate": "<b>%{hovertext}</b><br><br>Player=%{text}<br>Def_Skill_90=%{x}<br>Att_Skill_90=%{y}<br>Att_Def_Balance=%{marker.size}<extra></extra>",
         "hovertext": {
          "bdata": "PrmxzvYGGUA=",
          "dtype": "f8"
         },
         "legendgroup": "Luca Orellano",
         "marker": {
          "color": "#EF553B",
          "size": {
           "bdata": "PrmxzvYGGUA=",
           "dtype": "f8"
          },
          "sizemode": "area",
          "sizeref": 0.06322082319331288,
          "symbol": "circle"
         },
         "mode": "markers+text",
         "name": "Luca Orellano",
         "orientation": "v",
         "showlegend": true,
         "text": [
          "Luca Orellano"
         ],
         "textfont": {
          "size": 10
         },
         "textposition": "bottom center",
         "type": "scatter",
         "x": {
          "bdata": "+mYOaCkLZz8=",
          "dtype": "f8"
         },
         "xaxis": "x",
         "y": {
          "bdata": "gz+advv04j8=",
          "dtype": "f8"
         },
         "yaxis": "y"
        },
        {
         "hovertemplate": "<b>%{hovertext}</b><br><br>Player=%{text}<br>Def_Skill_90=%{x}<br>Att_Skill_90=%{y}<br>Att_Def_Balance=%{marker.size}<extra></extra>",
         "hovertext": {
          "bdata": "7+sX4M0D9z8=",
          "dtype": "f8"
         },
         "legendgroup": "Jonathan Osorio",
         "marker": {
          "color": "#00cc96",
          "size": {
           "bdata": "7+sX4M0D9z8=",
           "dtype": "f8"
          },
          "sizemode": "area",
          "sizeref": 0.06322082319331288,
          "symbol": "circle"
         },
         "mode": "markers+text",
         "name": "Jonathan Osorio",
         "orientation": "v",
         "showlegend": true,
         "text": [
          "Jonathan Osorio"
         ],
         "textfont": {
          "size": 10
         },
         "textposition": "bottom center",
         "type": "scatter",
         "x": {
          "bdata": "hHCWSuKykT8=",
          "dtype": "f8"
         },
         "xaxis": "x",
         "y": {
          "bdata": "XLAFW7AFyz8=",
          "dtype": "f8"
         },
         "yaxis": "y"
        },
        {
         "hovertemplate": "<b>%{hovertext}</b><br><br>Player=%{text}<br>Def_Skill_90=%{x}<br>Att_Skill_90=%{y}<br>Att_Def_Balance=%{marker.size}<extra></extra>",
         "hovertext": {
          "bdata": "1Jzr4K6/8j8=",
          "dtype": "f8"
         },
         "legendgroup": "Sergi Palencia",
         "marker": {
          "color": "#ab63fa",
          "size": {
           "bdata": "1Jzr4K6/8j8=",
           "dtype": "f8"
          },
          "sizemode": "area",
          "sizeref": 0.06322082319331288,
          "symbol": "circle"
         },
         "mode": "markers+text",
         "name": "Sergi Palencia",
         "orientation": "v",
         "showlegend": true,
         "text": [
          "Sergi Palencia"
         ],
         "textfont": {
          "size": 10
         },
         "textposition": "bottom center",
         "type": "scatter",
         "x": {
          "bdata": "BRZYYIEFpj8=",
          "dtype": "f8"
         },
         "xaxis": "x",
         "y": {
          "bdata": "yFSGTGXIxD8=",
          "dtype": "f8"
         },
         "yaxis": "y"
        },
        {
         "hovertemplate": "<b>%{hovertext}</b><br><br>Player=%{text}<br>Def_Skill_90=%{x}<br>Att_Skill_90=%{y}<br>Att_Def_Balance=%{marker.size}<extra></extra>",
         "hovertext": {
          "bdata": "62i/nV4F5j8=",
          "dtype": "f8"
         },
         "legendgroup": "Keaton Parks",
         "marker": {
          "color": "#FFA15A",
          "size": {
           "bdata": "62i/nV4F5j8=",
           "dtype": "f8"
          },
          "sizemode": "area",
          "sizeref": 0.06322082319331288,
          "symbol": "circle"
         },
         "mode": "markers+text",
         "name": "Keaton Parks",
         "orientation": "v",
         "showlegend": true,
         "text": [
          "Keaton Parks"
         ],
         "textfont": {
          "size": 10
         },
         "textposition": "bottom center",
         "type": "scatter",
         "x": {
          "bdata": "G6RBGqRBmj8=",
          "dtype": "f8"
         },
         "xaxis": "x",
         "y": {
          "bdata": "92Zv9mZv1j8=",
          "dtype": "f8"
         },
         "yaxis": "y"
        },
        {
         "hovertemplate": "<b>%{hovertext}</b><br><br>Player=%{text}<br>Def_Skill_90=%{x}<br>Att_Skill_90=%{y}<br>Att_Def_Balance=%{marker.size}<extra></extra>",
         "hovertext": {
          "bdata": "b3DgHgejDUA=",
          "dtype": "f8"
         },
         "legendgroup": "Marco Pašalić",
         "marker": {
          "color": "#19d3f3",
          "size": {
           "bdata": "b3DgHgejDUA=",
           "dtype": "f8"
          },
          "sizemode": "area",
          "sizeref": 0.06322082319331288,
          "symbol": "circle"
         },
         "mode": "markers+text",
         "name": "Marco Pašalić",
         "orientation": "v",
         "showlegend": true,
         "text": [
          "Marco Pašalić"
         ],
         "textfont": {
          "size": 10
         },
         "textposition": "bottom center",
         "type": "scatter",
         "x": {
          "bdata": "SDilefEnkj8=",
          "dtype": "f8"
         },
         "xaxis": "x",
         "y": {
          "bdata": "8iPdX/hU1j8=",
          "dtype": "f8"
         },
         "yaxis": "y"
        },
        {
         "hovertemplate": "<b>%{hovertext}</b><br><br>Player=%{text}<br>Def_Skill_90=%{x}<br>Att_Skill_90=%{y}<br>Att_Def_Balance=%{marker.size}<extra></extra>",
         "hovertext": {
          "bdata": "lwD1K0JFFkA=",
          "dtype": "f8"
         },
         "legendgroup": "Peglow",
         "marker": {
          "color": "#FF6692",
          "size": {
           "bdata": "lwD1K0JFFkA=",
           "dtype": "f8"
          },
          "sizemode": "area",
          "sizeref": 0.06322082319331288,
          "symbol": "circle"
         },
         "mode": "markers+text",
         "name": "Peglow",
         "orientation": "v",
         "showlegend": true,
         "text": [
          "Peglow"
         ],
         "textfont": {
          "size": 10
         },
         "textposition": "bottom center",
         "type": "scatter",
         "x": {
          "bdata": "+SJRauxhlj8=",
          "dtype": "f8"
         },
         "xaxis": "x",
         "y": {
          "bdata": "qees0hXG5D8=",
          "dtype": "f8"
         },
         "yaxis": "y"
        },
        {
         "hovertemplate": "<b>%{hovertext}</b><br><br>Player=%{text}<br>Def_Skill_90=%{x}<br>Att_Skill_90=%{y}<br>Att_Def_Balance=%{marker.size}<extra></extra>",
         "hovertext": {
          "bdata": "8+i/4YyW8D8=",
          "dtype": "f8"
         },
         "legendgroup": "Daniel Pereira",
         "marker": {
          "color": "#B6E880",
          "size": {
           "bdata": "8+i/4YyW8D8=",
           "dtype": "f8"
          },
          "sizemode": "area",
          "sizeref": 0.06322082319331288,
          "symbol": "circle"
         },
         "mode": "markers+text",
         "name": "Daniel Pereira",
         "orientation": "v",
         "showlegend": true,
         "text": [
          "Daniel Pereira"
         ],
         "textfont": {
          "size": 10
         },
         "textposition": "bottom center",
         "type": "scatter",
         "x": {
          "bdata": "GIZhGIZhmD8=",
          "dtype": "f8"
         },
         "xaxis": "x",
         "y": {
          "bdata": "GIZhGIZh2D8=",
          "dtype": "f8"
         },
         "yaxis": "y"
        },
        {
         "hovertemplate": "<b>%{hovertext}</b><br><br>Player=%{text}<br>Def_Skill_90=%{x}<br>Att_Skill_90=%{y}<br>Att_Def_Balance=%{marker.size}<extra></extra>",
         "hovertext": {
          "bdata": "lkusz3CF/j8=",
          "dtype": "f8"
         },
         "legendgroup": "Joaquín Pereyra",
         "marker": {
          "color": "#FF97FF",
          "size": {
           "bdata": "lkusz3CF/j8=",
           "dtype": "f8"
          },
          "sizemode": "area",
          "sizeref": 0.06322082319331288,
          "symbol": "circle"
         },
         "mode": "markers+text",
         "name": "Joaquín Pereyra",
         "orientation": "v",
         "showlegend": true,
         "text": [
          "Joaquín Pereyra"
         ],
         "textfont": {
          "size": 10
         },
         "textposition": "bottom center",
         "type": "scatter",
         "x": {
          "bdata": "K5dHIDtnnT8=",
          "dtype": "f8"
         },
         "xaxis": "x",
         "y": {
          "bdata": "T9gorc/j5D8=",
          "dtype": "f8"
         },
         "yaxis": "y"
        },
        {
         "hovertemplate": "<b>%{hovertext}</b><br><br>Player=%{text}<br>Def_Skill_90=%{x}<br>Att_Skill_90=%{y}<br>Att_Def_Balance=%{marker.size}<extra></extra>",
         "hovertext": {
          "bdata": "IMSIVi0v1j8=",
          "dtype": "f8"
         },
         "legendgroup": "Samuel Piette",
         "marker": {
          "color": "#FECB52",
          "size": {
           "bdata": "IMSIVi0v1j8=",
           "dtype": "f8"
          },
          "sizemode": "area",
          "sizeref": 0.06322082319331288,
          "symbol": "circle"
         },
         "mode": "markers+text",
         "name": "Samuel Piette",
         "orientation": "v",
         "showlegend": true,
         "text": [
          "Samuel Piette"
         ],
         "textfont": {
          "size": 10
         },
         "textposition": "bottom center",
         "type": "scatter",
         "x": {
          "bdata": "wFoBawWspT8=",
          "dtype": "f8"
         },
         "xaxis": "x",
         "y": {
          "bdata": "0AAN0AANwD8=",
          "dtype": "f8"
         },
         "yaxis": "y"
        },
        {
         "hovertemplate": "<b>%{hovertext}</b><br><br>Player=%{text}<br>Def_Skill_90=%{x}<br>Att_Skill_90=%{y}<br>Att_Def_Balance=%{marker.size}<extra></extra>",
         "hovertext": {
          "bdata": "bHKo/Dno2j8=",
          "dtype": "f8"
         },
         "legendgroup": "Mauricio Pineda",
         "marker": {
          "color": "#636efa",
          "size": {
           "bdata": "bHKo/Dno2j8=",
           "dtype": "f8"
          },
          "sizemode": "area",
          "sizeref": 0.06322082319331288,
          "symbol": "circle"
         },
         "mode": "markers+text",
         "name": "Mauricio Pineda",
         "orientation": "v",
         "showlegend": true,
         "text": [
          "Mauricio Pineda"
         ],
         "textfont": {
          "size": 10
         },
         "textposition": "bottom center",
         "type": "scatter",
         "x": {
          "bdata": "EHZB2AVhlz8=",
          "dtype": "f8"
         },
         "xaxis": "x",
         "y": {
          "bdata": "7AtLycW+0D8=",
          "dtype": "f8"
         },
         "yaxis": "y"
        },
        {
         "hovertemplate": "<b>%{hovertext}</b><br><br>Player=%{text}<br>Def_Skill_90=%{x}<br>Att_Skill_90=%{y}<br>Att_Def_Balance=%{marker.size}<extra></extra>",
         "hovertext": {
          "bdata": "jzNz19/REUA=",
          "dtype": "f8"
         },
         "legendgroup": "Gabriel Pirani",
         "marker": {
          "color": "#EF553B",
          "size": {
           "bdata": "jzNz19/REUA=",
           "dtype": "f8"
          },
          "sizemode": "area",
          "sizeref": 0.06322082319331288,
          "symbol": "circle"
         },
         "mode": "markers+text",
         "name": "Gabriel Pirani",
         "orientation": "v",
         "showlegend": true,
         "text": [
          "Gabriel Pirani"
         ],
         "textfont": {
          "size": 10
         },
         "textposition": "bottom center",
         "type": "scatter",
         "x": {
          "bdata": "67kRCVJ9gD8=",
          "dtype": "f8"
         },
         "xaxis": "x",
         "y": {
          "bdata": "wEVy1vcC3D8=",
          "dtype": "f8"
         },
         "yaxis": "y"
        },
        {
         "hovertemplate": "<b>%{hovertext}</b><br><br>Player=%{text}<br>Def_Skill_90=%{x}<br>Att_Skill_90=%{y}<br>Att_Def_Balance=%{marker.size}<extra></extra>",
         "hovertext": {
          "bdata": "lbH5yvPs2z8=",
          "dtype": "f8"
         },
         "legendgroup": "Matt Polster",
         "marker": {
          "color": "#00cc96",
          "size": {
           "bdata": "lbH5yvPs2z8=",
           "dtype": "f8"
          },
          "sizemode": "area",
          "sizeref": 0.06322082319331288,
          "symbol": "circle"
         },
         "mode": "markers+text",
         "name": "Matt Polster",
         "orientation": "v",
         "showlegend": true,
         "text": [
          "Matt Polster"
         ],
         "textfont": {
          "size": 10
         },
         "textposition": "bottom center",
         "type": "scatter",
         "x": {
          "bdata": "GRkZGRkZmT8=",
          "dtype": "f8"
         },
         "xaxis": "x",
         "y": {
          "bdata": "4uHh4eHh0T8=",
          "dtype": "f8"
         },
         "yaxis": "y"
        },
        {
         "hovertemplate": "<b>%{hovertext}</b><br><br>Player=%{text}<br>Def_Skill_90=%{x}<br>Att_Skill_90=%{y}<br>Att_Def_Balance=%{marker.size}<extra></extra>",
         "hovertext": {
          "bdata": "CPv2lWed7D8=",
          "dtype": "f8"
         },
         "legendgroup": "Nemanja Radoja",
         "marker": {
          "color": "#ab63fa",
          "size": {
           "bdata": "CPv2lWed7D8=",
           "dtype": "f8"
          },
          "sizemode": "area",
          "sizeref": 0.06322082319331288,
          "symbol": "circle"
         },
         "mode": "markers+text",
         "name": "Nemanja Radoja",
         "orientation": "v",
         "showlegend": true,
         "text": [
          "Nemanja Radoja"
         ],
         "textfont": {
          "size": 10
         },
         "textposition": "bottom center",
         "type": "scatter",
         "x": {
          "bdata": "aC+hvYT2oj8=",
          "dtype": "f8"
         },
         "xaxis": "x",
         "y": {
          "bdata": "BVuwBVuwzT8=",
          "dtype": "f8"
         },
         "yaxis": "y"
        },
        {
         "hovertemplate": "<b>%{hovertext}</b><br><br>Player=%{text}<br>Def_Skill_90=%{x}<br>Att_Skill_90=%{y}<br>Att_Def_Balance=%{marker.size}<extra></extra>",
         "hovertext": {
          "bdata": "4f93orII9D8=",
          "dtype": "f8"
         },
         "legendgroup": "Alex Roldan",
         "marker": {
          "color": "#FFA15A",
          "size": {
           "bdata": "4f93orII9D8=",
           "dtype": "f8"
          },
          "sizemode": "area",
          "sizeref": 0.06322082319331288,
          "symbol": "circle"
         },
         "mode": "markers+text",
         "name": "Alex Roldan",
         "orientation": "v",
         "showlegend": true,
         "text": [
          "Alex Roldan"
         ],
         "textfont": {
          "size": 10
         },
         "textposition": "bottom center",
         "type": "scatter",
         "x": {
          "bdata": "+SJRauxhpj8=",
          "dtype": "f8"
         },
         "xaxis": "x",
         "y": {
          "bdata": "QPRtDfCC5D8=",
          "dtype": "f8"
         },
         "yaxis": "y"
        },
        {
         "hovertemplate": "<b>%{hovertext}</b><br><br>Player=%{text}<br>Def_Skill_90=%{x}<br>Att_Skill_90=%{y}<br>Att_Def_Balance=%{marker.size}<extra></extra>",
         "hovertext": {
          "bdata": "7i5RnOMQ8j8=",
          "dtype": "f8"
         },
         "legendgroup": "Cristian Roldan",
         "marker": {
          "color": "#19d3f3",
          "size": {
           "bdata": "7i5RnOMQ8j8=",
           "dtype": "f8"
          },
          "sizemode": "area",
          "sizeref": 0.06322082319331288,
          "symbol": "circle"
         },
         "mode": "markers+text",
         "name": "Cristian Roldan",
         "orientation": "v",
         "showlegend": true,
         "text": [
          "Cristian Roldan"
         ],
         "textfont": {
          "size": 10
         },
         "textposition": "bottom center",
         "type": "scatter",
         "x": {
          "bdata": "FrWx7YTImD8=",
          "dtype": "f8"
         },
         "xaxis": "x",
         "y": {
          "bdata": "kpe9WvX81T8=",
          "dtype": "f8"
         },
         "yaxis": "y"
        },
        {
         "hovertemplate": "<b>%{hovertext}</b><br><br>Player=%{text}<br>Def_Skill_90=%{x}<br>Att_Skill_90=%{y}<br>Att_Def_Balance=%{marker.size}<extra></extra>",
         "hovertext": {
          "bdata": "VzZJXFcjJUA=",
          "dtype": "f8"
         },
         "legendgroup": "Diego Rossi",
         "marker": {
          "color": "#FF6692",
          "size": {
           "bdata": "VzZJXFcjJUA=",
           "dtype": "f8"
          },
          "sizemode": "area",
          "sizeref": 0.06322082319331288,
          "symbol": "circle"
         },
         "mode": "markers+text",
         "name": "Diego Rossi",
         "orientation": "v",
         "showlegend": true,
         "text": [
          "Diego Rossi"
         ],
         "textfont": {
          "size": 10
         },
         "textposition": "bottom center",
         "type": "scatter",
         "x": {
          "bdata": "lUaPqCDbcD8=",
          "dtype": "f8"
         },
         "xaxis": "x",
         "y": {
          "bdata": "RERERERE1D8=",
          "dtype": "f8"
         },
         "yaxis": "y"
        },
        {
         "hovertemplate": "<b>%{hovertext}</b><br><br>Player=%{text}<br>Def_Skill_90=%{x}<br>Att_Skill_90=%{y}<br>Att_Def_Balance=%{marker.size}<extra></extra>",
         "hovertext": {
          "bdata": "xOJB3dG1DUA=",
          "dtype": "f8"
         },
         "legendgroup": "Paul Rothrock",
         "marker": {
          "color": "#B6E880",
          "size": {
           "bdata": "xOJB3dG1DUA=",
           "dtype": "f8"
          },
          "sizemode": "area",
          "sizeref": 0.06322082319331288,
          "symbol": "circle"
         },
         "mode": "markers+text",
         "name": "Paul Rothrock",
         "orientation": "v",
         "showlegend": true,
         "text": [
          "Paul Rothrock"
         ],
         "textfont": {
          "size": 10
         },
         "textposition": "bottom center",
         "type": "scatter",
         "x": {
          "bdata": "Xgwqwi01iz8=",
          "dtype": "f8"
         },
         "xaxis": "x",
         "y": {
          "bdata": "bPAcgaKt1j8=",
          "dtype": "f8"
         },
         "yaxis": "y"
        },
        {
         "hovertemplate": "<b>%{hovertext}</b><br><br>Player=%{text}<br>Def_Skill_90=%{x}<br>Att_Skill_90=%{y}<br>Att_Def_Balance=%{marker.size}<extra></extra>",
         "hovertext": {
          "bdata": "vbNh88guJ0A=",
          "dtype": "f8"
         },
         "legendgroup": "Albert Rusnák",
         "marker": {
          "color": "#FF97FF",
          "size": {
           "bdata": "vbNh88guJ0A=",
           "dtype": "f8"
          },
          "sizemode": "area",
          "sizeref": 0.06322082319331288,
          "symbol": "circle"
         },
         "mode": "markers+text",
         "name": "Albert Rusnák",
         "orientation": "v",
         "showlegend": true,
         "text": [
          "Albert Rusnák"
         ],
         "textfont": {
          "size": 10
         },
         "textposition": "bottom center",
         "type": "scatter",
         "x": {
          "bdata": "bXUBwspWVz8=",
          "dtype": "f8"
         },
         "xaxis": "x",
         "y": {
          "bdata": "XuiFXuiF7j8=",
          "dtype": "f8"
         },
         "yaxis": "y"
        },
        {
         "hovertemplate": "<b>%{hovertext}</b><br><br>Player=%{text}<br>Def_Skill_90=%{x}<br>Att_Skill_90=%{y}<br>Att_Def_Balance=%{marker.size}<extra></extra>",
         "hovertext": {
          "bdata": "b6QUVjCr5j8=",
          "dtype": "f8"
         },
         "legendgroup": "Besard Sabovic",
         "marker": {
          "color": "#FECB52",
          "size": {
           "bdata": "b6QUVjCr5j8=",
           "dtype": "f8"
          },
          "sizemode": "area",
          "sizeref": 0.06322082319331288,
          "symbol": "circle"
         },
         "mode": "markers+text",
         "name": "Besard Sabovic",
         "orientation": "v",
         "showlegend": true,
         "text": [
          "Besard Sabovic"
         ],
         "textfont": {
          "size": 10
         },
         "textposition": "bottom center",
         "type": "scatter",
         "x": {
          "bdata": "EHZB2AVhlz8=",
          "dtype": "f8"
         },
         "xaxis": "x",
         "y": {
          "bdata": "uw63B6nr0D8=",
          "dtype": "f8"
         },
         "yaxis": "y"
        },
        {
         "hovertemplate": "<b>%{hovertext}</b><br><br>Player=%{text}<br>Def_Skill_90=%{x}<br>Att_Skill_90=%{y}<br>Att_Def_Balance=%{marker.size}<extra></extra>",
         "hovertext": {
          "bdata": "+NXrD/ZH7z8=",
          "dtype": "f8"
         },
         "legendgroup": "Nathan-Dylan Saliba",
         "marker": {
          "color": "#636efa",
          "size": {
           "bdata": "+NXrD/ZH7z8=",
           "dtype": "f8"
          },
          "sizemode": "area",
          "sizeref": 0.06322082319331288,
          "symbol": "circle"
         },
         "mode": "markers+text",
         "name": "Nathan-Dylan Saliba",
         "orientation": "v",
         "showlegend": true,
         "text": [
          "Nathan-Dylan Saliba"
         ],
         "textfont": {
          "size": 10
         },
         "textposition": "bottom center",
         "type": "scatter",
         "x": {
          "bdata": "P+PFpXojnD8=",
          "dtype": "f8"
         },
         "xaxis": "x",
         "y": {
          "bdata": "RBNNNNFEwz8=",
          "dtype": "f8"
         },
         "yaxis": "y"
        },
        {
         "hovertemplate": "<b>%{hovertext}</b><br><br>Player=%{text}<br>Def_Skill_90=%{x}<br>Att_Skill_90=%{y}<br>Att_Def_Balance=%{marker.size}<extra></extra>",
         "hovertext": {
          "bdata": "WzknC31tGEA=",
          "dtype": "f8"
         },
         "legendgroup": "Dániel Sallói",
         "marker": {
          "color": "#EF553B",
          "size": {
           "bdata": "WzknC31tGEA=",
           "dtype": "f8"
          },
          "sizemode": "area",
          "sizeref": 0.06322082319331288,
          "symbol": "circle"
         },
         "mode": "markers+text",
         "name": "Dániel Sallói",
         "orientation": "v",
         "showlegend": true,
         "text": [
          "Dániel Sallói"
         ],
         "textfont": {
          "size": 10
         },
         "textposition": "bottom center",
         "type": "scatter",
         "x": {
          "bdata": "QX8B/QX0hz8=",
          "dtype": "f8"
         },
         "xaxis": "x",
         "y": {
          "bdata": "d6xAGGnH0j8=",
          "dtype": "f8"
         },
         "yaxis": "y"
        },
        {
         "hovertemplate": "<b>%{hovertext}</b><br><br>Player=%{text}<br>Def_Skill_90=%{x}<br>Att_Skill_90=%{y}<br>Att_Def_Balance=%{marker.size}<extra></extra>",
         "hovertext": {
          "bdata": "Nzozshcf4T8=",
          "dtype": "f8"
         },
         "legendgroup": "Ilie Sánchez",
         "marker": {
          "color": "#00cc96",
          "size": {
           "bdata": "Nzozshcf4T8=",
           "dtype": "f8"
          },
          "sizemode": "area",
          "sizeref": 0.06322082319331288,
          "symbol": "circle"
         },
         "mode": "markers+text",
         "name": "Ilie Sánchez",
         "orientation": "v",
         "showlegend": true,
         "text": [
          "Ilie Sánchez"
         ],
         "textfont": {
          "size": 10
         },
         "textposition": "bottom center",
         "type": "scatter",
         "x": {
          "bdata": "HMABHMABnD8=",
          "dtype": "f8"
         },
         "xaxis": "x",
         "y": {
          "bdata": "n762OFhQwj8=",
          "dtype": "f8"
         },
         "yaxis": "y"
        },
        {
         "hovertemplate": "<b>%{hovertext}</b><br><br>Player=%{text}<br>Def_Skill_90=%{x}<br>Att_Skill_90=%{y}<br>Att_Def_Balance=%{marker.size}<extra></extra>",
         "hovertext": {
          "bdata": "Ypd5n8lx7j8=",
          "dtype": "f8"
         },
         "legendgroup": "Edvard Sandvik Tagseth",
         "marker": {
          "color": "#ab63fa",
          "size": {
           "bdata": "Ypd5n8lx7j8=",
           "dtype": "f8"
          },
          "sizemode": "area",
          "sizeref": 0.06322082319331288,
          "symbol": "circle"
         },
         "mode": "markers+text",
         "name": "Edvard Sandvik Tagseth",
         "orientation": "v",
         "showlegend": true,
         "text": [
          "Edvard Sandvik Tagseth"
         ],
         "textfont": {
          "size": 10
         },
         "textposition": "bottom center",
         "type": "scatter",
         "x": {
          "bdata": "+EYUmHRqnj8=",
          "dtype": "f8"
         },
         "xaxis": "x",
         "y": {
          "bdata": "O6MuxKXB0j8=",
          "dtype": "f8"
         },
         "yaxis": "y"
        },
        {
         "hovertemplate": "<b>%{hovertext}</b><br><br>Player=%{text}<br>Def_Skill_90=%{x}<br>Att_Skill_90=%{y}<br>Att_Def_Balance=%{marker.size}<extra></extra>",
         "hovertext": {
          "bdata": "BqED7O958z8=",
          "dtype": "f8"
         },
         "legendgroup": "David Schnegg",
         "marker": {
          "color": "#FFA15A",
          "size": {
           "bdata": "BqED7O958z8=",
           "dtype": "f8"
          },
          "sizemode": "area",
          "sizeref": 0.06322082319331288,
          "symbol": "circle"
         },
         "mode": "markers+text",
         "name": "David Schnegg",
         "orientation": "v",
         "showlegend": true,
         "text": [
          "David Schnegg"
         ],
         "textfont": {
          "size": 10
         },
         "textposition": "bottom center",
         "type": "scatter",
         "x": {
          "bdata": "Bp5uzQ+LpD8=",
          "dtype": "f8"
         },
         "xaxis": "x",
         "y": {
          "bdata": "rzwgWefK0z8=",
          "dtype": "f8"
         },
         "yaxis": "y"
        },
        {
         "hovertemplate": "<b>%{hovertext}</b><br><br>Player=%{text}<br>Def_Skill_90=%{x}<br>Att_Skill_90=%{y}<br>Att_Def_Balance=%{marker.size}<extra></extra>",
         "hovertext": {
          "bdata": "/EHZ1obq8T8=",
          "dtype": "f8"
         },
         "legendgroup": "Jonathan Shore",
         "marker": {
          "color": "#19d3f3",
          "size": {
           "bdata": "/EHZ1obq8T8=",
           "dtype": "f8"
          },
          "sizemode": "area",
          "sizeref": 0.06322082319331288,
          "symbol": "circle"
         },
         "mode": "markers+text",
         "name": "Jonathan Shore",
         "orientation": "v",
         "showlegend": true,
         "text": [
          "Jonathan Shore"
         ],
         "textfont": {
          "size": 10
         },
         "textposition": "bottom center",
         "type": "scatter",
         "x": {
          "bdata": "nPhDKCf+oD8=",
          "dtype": "f8"
         },
         "xaxis": "x",
         "y": {
          "bdata": "SpCnBHlK0D8=",
          "dtype": "f8"
         },
         "yaxis": "y"
        },
        {
         "hovertemplate": "<b>%{hovertext}</b><br><br>Player=%{text}<br>Def_Skill_90=%{x}<br>Att_Skill_90=%{y}<br>Att_Def_Balance=%{marker.size}<extra></extra>",
         "hovertext": {
          "bdata": "UJP5tdkb3z8=",
          "dtype": "f8"
         },
         "legendgroup": "Bartosz Slisz",
         "marker": {
          "color": "#FF6692",
          "size": {
           "bdata": "UJP5tdkb3z8=",
           "dtype": "f8"
          },
          "sizemode": "area",
          "sizeref": 0.06322082319331288,
          "symbol": "circle"
         },
         "mode": "markers+text",
         "name": "Bartosz Slisz",
         "orientation": "v",
         "showlegend": true,
         "text": [
          "Bartosz Slisz"
         ],
         "textfont": {
          "size": 10
         },
         "textposition": "bottom center",
         "type": "scatter",
         "x": {
          "bdata": "pxBoCoGmoD8=",
          "dtype": "f8"
         },
         "xaxis": "x",
         "y": {
          "bdata": "Sd6G5G1Izj8=",
          "dtype": "f8"
         },
         "yaxis": "y"
        },
        {
         "hovertemplate": "<b>%{hovertext}</b><br><br>Player=%{text}<br>Def_Skill_90=%{x}<br>Att_Skill_90=%{y}<br>Att_Def_Balance=%{marker.size}<extra></extra>",
         "hovertext": {
          "bdata": "fEdBecYACUA=",
          "dtype": "f8"
         },
         "legendgroup": "Jared Stroud",
         "marker": {
          "color": "#B6E880",
          "size": {
           "bdata": "fEdBecYACUA=",
           "dtype": "f8"
          },
          "sizemode": "area",
          "sizeref": 0.06322082319331288,
          "symbol": "circle"
         },
         "mode": "markers+text",
         "name": "Jared Stroud",
         "orientation": "v",
         "showlegend": true,
         "text": [
          "Jared Stroud"
         ],
         "textfont": {
          "size": 10
         },
         "textposition": "bottom center",
         "type": "scatter",
         "x": {
          "bdata": "WKQMPN2ajz8=",
          "dtype": "f8"
         },
         "xaxis": "x",
         "y": {
          "bdata": "eHd3d3d31z8=",
          "dtype": "f8"
         },
         "yaxis": "y"
        },
        {
         "hovertemplate": "<b>%{hovertext}</b><br><br>Player=%{text}<br>Def_Skill_90=%{x}<br>Att_Skill_90=%{y}<br>Att_Def_Balance=%{marker.size}<extra></extra>",
         "hovertext": {
          "bdata": "PRxCuXDp+T8=",
          "dtype": "f8"
         },
         "legendgroup": "Peter Stroud",
         "marker": {
          "color": "#FF97FF",
          "size": {
           "bdata": "PRxCuXDp+T8=",
           "dtype": "f8"
          },
          "sizemode": "area",
          "sizeref": 0.06322082319331288,
          "symbol": "circle"
         },
         "mode": "markers+text",
         "name": "Peter Stroud",
         "orientation": "v",
         "showlegend": true,
         "text": [
          "Peter Stroud"
         ],
         "textfont": {
          "size": 10
         },
         "textposition": "bottom center",
         "type": "scatter",
         "x": {
          "bdata": "MdpOs4LDpz8=",
          "dtype": "f8"
         },
         "xaxis": "x",
         "y": {
          "bdata": "U4DusK1c0z8=",
          "dtype": "f8"
         },
         "yaxis": "y"
        },
        {
         "hovertemplate": "<b>%{hovertext}</b><br><br>Player=%{text}<br>Def_Skill_90=%{x}<br>Att_Skill_90=%{y}<br>Att_Def_Balance=%{marker.size}<extra></extra>",
         "hovertext": {
          "bdata": "9GTjPh7dIUA=",
          "dtype": "f8"
         },
         "legendgroup": "Magomed-Shapi Suleymanov",
         "marker": {
          "color": "#FECB52",
          "size": {
           "bdata": "9GTjPh7dIUA=",
           "dtype": "f8"
          },
          "sizemode": "area",
          "sizeref": 0.06322082319331288,
          "symbol": "circle"
         },
         "mode": "markers+text",
         "name": "Magomed-Shapi Suleymanov",
         "orientation": "v",
         "showlegend": true,
         "text": [
          "Magomed-Shapi Suleymanov"
         ],
         "textfont": {
          "size": 10
         },
         "textposition": "bottom center",
         "type": "scatter",
         "x": {
          "bdata": "cLHBxQYXiz8=",
          "dtype": "f8"
         },
         "xaxis": "x",
         "y": {
          "bdata": "iYiIiIiI2D8=",
          "dtype": "f8"
         },
         "yaxis": "y"
        },
        {
         "hovertemplate": "<b>%{hovertext}</b><br><br>Player=%{text}<br>Def_Skill_90=%{x}<br>Att_Skill_90=%{y}<br>Att_Def_Balance=%{marker.size}<extra></extra>",
         "hovertext": {
          "bdata": "RgXm4owMFkA=",
          "dtype": "f8"
         },
         "legendgroup": "Quinn Sullivan",
         "marker": {
          "color": "#636efa",
          "size": {
           "bdata": "RgXm4owMFkA=",
           "dtype": "f8"
          },
          "sizemode": "area",
          "sizeref": 0.06322082319331288,
          "symbol": "circle"
         },
         "mode": "markers+text",
         "name": "Quinn Sullivan",
         "orientation": "v",
         "showlegend": true,
         "text": [
          "Quinn Sullivan"
         ],
         "textfont": {
          "size": 10
         },
         "textposition": "bottom center",
         "type": "scatter",
         "x": {
          "bdata": "AqnkvCzikz8=",
          "dtype": "f8"
         },
         "xaxis": "x",
         "y": {
          "bdata": "BP0BVB2X4D8=",
          "dtype": "f8"
         },
         "yaxis": "y"
        },
        {
         "hovertemplate": "<b>%{hovertext}</b><br><br>Player=%{text}<br>Def_Skill_90=%{x}<br>Att_Skill_90=%{y}<br>Att_Def_Balance=%{marker.size}<extra></extra>",
         "hovertext": {
          "bdata": "U3D2mzdf9D8=",
          "dtype": "f8"
         },
         "legendgroup": "Timmy Tillman",
         "marker": {
          "color": "#EF553B",
          "size": {
           "bdata": "U3D2mzdf9D8=",
           "dtype": "f8"
          },
          "sizemode": "area",
          "sizeref": 0.06322082319331288,
          "symbol": "circle"
         },
         "mode": "markers+text",
         "name": "Timmy Tillman",
         "orientation": "v",
         "showlegend": true,
         "text": [
          "Timmy Tillman"
         ],
         "textfont": {
          "size": 10
         },
         "textposition": "bottom center",
         "type": "scatter",
         "x": {
          "bdata": "n0fNu5Rqmz8=",
          "dtype": "f8"
         },
         "xaxis": "x",
         "y": {
          "bdata": "7mPiz/GI3j8=",
          "dtype": "f8"
         },
         "yaxis": "y"
        },
        {
         "hovertemplate": "<b>%{hovertext}</b><br><br>Player=%{text}<br>Def_Skill_90=%{x}<br>Att_Skill_90=%{y}<br>Att_Def_Balance=%{marker.size}<extra></extra>",
         "hovertext": {
          "bdata": "zwrknMz34D8=",
          "dtype": "f8"
         },
         "legendgroup": "Wil Trapp",
         "marker": {
          "color": "#00cc96",
          "size": {
           "bdata": "zwrknMz34D8=",
           "dtype": "f8"
          },
          "sizemode": "area",
          "sizeref": 0.06322082319331288,
          "symbol": "circle"
         },
         "mode": "markers+text",
         "name": "Wil Trapp",
         "orientation": "v",
         "showlegend": true,
         "text": [
          "Wil Trapp"
         ],
         "textfont": {
          "size": 10
         },
         "textposition": "bottom center",
         "type": "scatter",
         "x": {
          "bdata": "E8DJ0HjEoj8=",
          "dtype": "f8"
         },
         "xaxis": "x",
         "y": {
          "bdata": "HjtQSCsWvj8=",
          "dtype": "f8"
         },
         "yaxis": "y"
        },
        {
         "hovertemplate": "<b>%{hovertext}</b><br><br>Player=%{text}<br>Def_Skill_90=%{x}<br>Att_Skill_90=%{y}<br>Att_Def_Balance=%{marker.size}<extra></extra>",
         "hovertext": {
          "bdata": "KUT8mgsE5z8=",
          "dtype": "f8"
         },
         "legendgroup": "Jeppe Tverskov",
         "marker": {
          "color": "#ab63fa",
          "size": {
           "bdata": "KUT8mgsE5z8=",
           "dtype": "f8"
          },
          "sizemode": "area",
          "sizeref": 0.06322082319331288,
          "symbol": "circle"
         },
         "mode": "markers+text",
         "name": "Jeppe Tverskov",
         "orientation": "v",
         "showlegend": true,
         "text": [
          "Jeppe Tverskov"
         ],
         "textfont": {
          "size": 10
         },
         "textposition": "bottom center",
         "type": "scatter",
         "x": {
          "bdata": "dvVN8v46qD8=",
          "dtype": "f8"
         },
         "xaxis": "x",
         "y": {
          "bdata": "36YYNfxtyj8=",
          "dtype": "f8"
         },
         "yaxis": "y"
        },
        {
         "hovertemplate": "<b>%{hovertext}</b><br><br>Player=%{text}<br>Def_Skill_90=%{x}<br>Att_Skill_90=%{y}<br>Att_Def_Balance=%{marker.size}<extra></extra>",
         "hovertext": {
          "bdata": "BC/KkOrzEkA=",
          "dtype": "f8"
         },
         "legendgroup": "Onni Valakari",
         "marker": {
          "color": "#FFA15A",
          "size": {
           "bdata": "BC/KkOrzEkA=",
           "dtype": "f8"
          },
          "sizemode": "area",
          "sizeref": 0.06322082319331288,
          "symbol": "circle"
         },
         "mode": "markers+text",
         "name": "Onni Valakari",
         "orientation": "v",
         "showlegend": true,
         "text": [
          "Onni Valakari"
         ],
         "textfont": {
          "size": 10
         },
         "textposition": "bottom center",
         "type": "scatter",
         "x": {
          "bdata": "wPIBywcsfz8=",
          "dtype": "f8"
         },
         "xaxis": "x",
         "y": {
          "bdata": "i+KR8K0o3j8=",
          "dtype": "f8"
         },
         "yaxis": "y"
        },
        {
         "hovertemplate": "<b>%{hovertext}</b><br><br>Player=%{text}<br>Def_Skill_90=%{x}<br>Att_Skill_90=%{y}<br>Att_Def_Balance=%{marker.size}<extra></extra>",
         "hovertext": {
          "bdata": "vGVyCBU5+T8=",
          "dtype": "f8"
         },
         "legendgroup": "Obed Vargas",
         "marker": {
          "color": "#19d3f3",
          "size": {
           "bdata": "vGVyCBU5+T8=",
           "dtype": "f8"
          },
          "sizemode": "area",
          "sizeref": 0.06322082319331288,
          "symbol": "circle"
         },
         "mode": "markers+text",
         "name": "Obed Vargas",
         "orientation": "v",
         "showlegend": true,
         "text": [
          "Obed Vargas"
         ],
         "textfont": {
          "size": 10
         },
         "textposition": "bottom center",
         "type": "scatter",
         "x": {
          "bdata": "XylQ61cKpD8=",
          "dtype": "f8"
         },
         "xaxis": "x",
         "y": {
          "bdata": "lSBPCfKU5D8=",
          "dtype": "f8"
         },
         "yaxis": "y"
        },
        {
         "hovertemplate": "<b>%{hovertext}</b><br><br>Player=%{text}<br>Def_Skill_90=%{x}<br>Att_Skill_90=%{y}<br>Att_Def_Balance=%{marker.size}<extra></extra>",
         "hovertext": {
          "bdata": "okqV9n8nBkA=",
          "dtype": "f8"
         },
         "legendgroup": "Indiana Vassilev",
         "marker": {
          "color": "#FF6692",
          "size": {
           "bdata": "okqV9n8nBkA=",
           "dtype": "f8"
          },
          "sizemode": "area",
          "sizeref": 0.06322082319331288,
          "symbol": "circle"
         },
         "mode": "markers+text",
         "name": "Indiana Vassilev",
         "orientation": "v",
         "showlegend": true,
         "text": [
          "Indiana Vassilev"
         ],
         "textfont": {
          "size": 10
         },
         "textposition": "bottom center",
         "type": "scatter",
         "x": {
          "bdata": "TdkW4+XXjT8=",
          "dtype": "f8"
         },
         "xaxis": "x",
         "y": {
          "bdata": "kGU3Hpwm4j8=",
          "dtype": "f8"
         },
         "yaxis": "y"
        },
        {
         "hovertemplate": "<b>%{hovertext}</b><br><br>Player=%{text}<br>Def_Skill_90=%{x}<br>Att_Skill_90=%{y}<br>Att_Def_Balance=%{marker.size}<extra></extra>",
         "hovertext": {
          "bdata": "kKcT3WEsEEA=",
          "dtype": "f8"
         },
         "legendgroup": "Pedro Vite",
         "marker": {
          "color": "#B6E880",
          "size": {
           "bdata": "kKcT3WEsEEA=",
           "dtype": "f8"
          },
          "sizemode": "area",
          "sizeref": 0.06322082319331288,
          "symbol": "circle"
         },
         "mode": "markers+text",
         "name": "Pedro Vite",
         "orientation": "v",
         "showlegend": true,
         "text": [
          "Pedro Vite"
         ],
         "textfont": {
          "size": 10
         },
         "textposition": "bottom center",
         "type": "scatter",
         "x": {
          "bdata": "EqwGNRHnjj8=",
          "dtype": "f8"
         },
         "xaxis": "x",
         "y": {
          "bdata": "VRKXjaB65j8=",
          "dtype": "f8"
         },
         "yaxis": "y"
        },
        {
         "hovertemplate": "<b>%{hovertext}</b><br><br>Player=%{text}<br>Def_Skill_90=%{x}<br>Att_Skill_90=%{y}<br>Att_Def_Balance=%{marker.size}<extra></extra>",
         "hovertext": {
          "bdata": "7uqb5P118D8=",
          "dtype": "f8"
         },
         "legendgroup": "Conrad Wallem",
         "marker": {
          "color": "#FF97FF",
          "size": {
           "bdata": "7uqb5P118D8=",
           "dtype": "f8"
          },
          "sizemode": "area",
          "sizeref": 0.06322082319331288,
          "symbol": "circle"
         },
         "mode": "markers+text",
         "name": "Conrad Wallem",
         "orientation": "v",
         "showlegend": true,
         "text": [
          "Conrad Wallem"
         ],
         "textfont": {
          "size": 10
         },
         "textposition": "bottom center",
         "type": "scatter",
         "x": {
          "bdata": "azbs72JQkT8=",
          "dtype": "f8"
         },
         "xaxis": "x",
         "y": {
          "bdata": "DFnIQhay0D8=",
          "dtype": "f8"
         },
         "yaxis": "y"
        },
        {
         "hovertemplate": "<b>%{hovertext}</b><br><br>Player=%{text}<br>Def_Skill_90=%{x}<br>Att_Skill_90=%{y}<br>Att_Def_Balance=%{marker.size}<extra></extra>",
         "hovertext": {
          "bdata": "YuR7a5AW7D8=",
          "dtype": "f8"
         },
         "legendgroup": "Akil Watts",
         "marker": {
          "color": "#FECB52",
          "size": {
           "bdata": "YuR7a5AW7D8=",
           "dtype": "f8"
          },
          "sizemode": "area",
          "sizeref": 0.06322082319331288,
          "symbol": "circle"
         },
         "mode": "markers+text",
         "name": "Akil Watts",
         "orientation": "v",
         "showlegend": true,
         "text": [
          "Akil Watts"
         ],
         "textfont": {
          "size": 10
         },
         "textposition": "bottom center",
         "type": "scatter",
         "x": {
          "bdata": "O0Ni3s6QmD8=",
          "dtype": "f8"
         },
         "xaxis": "x",
         "y": {
          "bdata": "7RvWvmHtwz8=",
          "dtype": "f8"
         },
         "yaxis": "y"
        },
        {
         "hovertemplate": "<b>%{hovertext}</b><br><br>Player=%{text}<br>Def_Skill_90=%{x}<br>Att_Skill_90=%{y}<br>Att_Def_Balance=%{marker.size}<extra></extra>",
         "hovertext": {
          "bdata": "4UdzKyYZ5T8=",
          "dtype": "f8"
         },
         "legendgroup": "Ashley Westwood",
         "marker": {
          "color": "#636efa",
          "size": {
           "bdata": "4UdzKyYZ5T8=",
           "dtype": "f8"
          },
          "sizemode": "area",
          "sizeref": 0.06322082319331288,
          "symbol": "circle"
         },
         "mode": "markers+text",
         "name": "Ashley Westwood",
         "orientation": "v",
         "showlegend": true,
         "text": [
          "Ashley Westwood"
         ],
         "textfont": {
          "size": 10
         },
         "textposition": "bottom center",
         "type": "scatter",
         "x": {
          "bdata": "nxLkKUGekj8=",
          "dtype": "f8"
         },
         "xaxis": "x",
         "y": {
          "bdata": "UbgehetRyD8=",
          "dtype": "f8"
         },
         "yaxis": "y"
        },
        {
         "hovertemplate": "<b>%{hovertext}</b><br><br>Player=%{text}<br>Def_Skill_90=%{x}<br>Att_Skill_90=%{y}<br>Att_Def_Balance=%{marker.size}<extra></extra>",
         "hovertext": {
          "bdata": "qQnVHlSeBUA=",
          "dtype": "f8"
         },
         "legendgroup": "Owen Wolff",
         "marker": {
          "color": "#EF553B",
          "size": {
           "bdata": "qQnVHlSeBUA=",
           "dtype": "f8"
          },
          "sizemode": "area",
          "sizeref": 0.06322082319331288,
          "symbol": "circle"
         },
         "mode": "markers+text",
         "name": "Owen Wolff",
         "orientation": "v",
         "showlegend": true,
         "text": [
          "Owen Wolff"
         ],
         "textfont": {
          "size": 10
         },
         "textposition": "bottom center",
         "type": "scatter",
         "x": {
          "bdata": "37yaeFY0kj8=",
          "dtype": "f8"
         },
         "xaxis": "x",
         "y": {
          "bdata": "CtejcD0K1z8=",
          "dtype": "f8"
         },
         "yaxis": "y"
        },
        {
         "hovertemplate": "<b>%{hovertext}</b><br><br>Player=%{text}<br>Def_Skill_90=%{x}<br>Att_Skill_90=%{y}<br>Att_Def_Balance=%{marker.size}<extra></extra>",
         "hovertext": {
          "bdata": "rHYFRPUT4j8=",
          "dtype": "f8"
         },
         "legendgroup": "Patrick Yazbek",
         "marker": {
          "color": "#00cc96",
          "size": {
           "bdata": "rHYFRPUT4j8=",
           "dtype": "f8"
          },
          "sizemode": "area",
          "sizeref": 0.06322082319331288,
          "symbol": "circle"
         },
         "mode": "markers+text",
         "name": "Patrick Yazbek",
         "orientation": "v",
         "showlegend": true,
         "text": [
          "Patrick Yazbek"
         ],
         "textfont": {
          "size": 10
         },
         "textposition": "bottom center",
         "type": "scatter",
         "x": {
          "bdata": "MJMWoq/dkz8=",
          "dtype": "f8"
         },
         "xaxis": "x",
         "y": {
          "bdata": "nc3ZnM3ZzD8=",
          "dtype": "f8"
         },
         "yaxis": "y"
        },
        {
         "hovertemplate": "<b>%{hovertext}</b><br><br>Player=%{text}<br>Def_Skill_90=%{x}<br>Att_Skill_90=%{y}<br>Att_Def_Balance=%{marker.size}<extra></extra>",
         "hovertext": {
          "bdata": "KqLNr8iu7j8=",
          "dtype": "f8"
         },
         "legendgroup": "Alhassan Yusuf",
         "marker": {
          "color": "#ab63fa",
          "size": {
           "bdata": "KqLNr8iu7j8=",
           "dtype": "f8"
          },
          "sizemode": "area",
          "sizeref": 0.06322082319331288,
          "symbol": "circle"
         },
         "mode": "markers+text",
         "name": "Alhassan Yusuf",
         "orientation": "v",
         "showlegend": true,
         "text": [
          "Alhassan Yusuf"
         ],
         "textfont": {
          "size": 10
         },
         "textposition": "bottom center",
         "type": "scatter",
         "x": {
          "bdata": "xQk6wlS7nD8=",
          "dtype": "f8"
         },
         "xaxis": "x",
         "y": {
          "bdata": "Nuix2HPg0j8=",
          "dtype": "f8"
         },
         "yaxis": "y"
        },
        {
         "hovertemplate": "<b>%{hovertext}</b><br><br>Player=%{text}<br>Def_Skill_90=%{x}<br>Att_Skill_90=%{y}<br>Att_Def_Balance=%{marker.size}<extra></extra>",
         "hovertext": {
          "bdata": "tJfQXkJ7GUA=",
          "dtype": "f8"
         },
         "legendgroup": "Wilfried Zaha",
         "marker": {
          "color": "#FFA15A",
          "size": {
           "bdata": "tJfQXkJ7GUA=",
           "dtype": "f8"
          },
          "sizemode": "area",
          "sizeref": 0.06322082319331288,
          "symbol": "circle"
         },
         "mode": "markers+text",
         "name": "Wilfried Zaha",
         "orientation": "v",
         "showlegend": true,
         "text": [
          "Wilfried Zaha"
         ],
         "textfont": {
          "size": 10
         },
         "textposition": "bottom center",
         "type": "scatter",
         "x": {
          "bdata": "qmfs4vXPiz8=",
          "dtype": "f8"
         },
         "xaxis": "x",
         "y": {
          "bdata": "HMdxHMdx3D8=",
          "dtype": "f8"
         },
         "yaxis": "y"
        },
        {
         "hovertemplate": "<b>%{hovertext}</b><br><br>Player=%{text}<br>Def_Skill_90=%{x}<br>Att_Skill_90=%{y}<br>Att_Def_Balance=%{marker.size}<extra></extra>",
         "hovertext": {
          "bdata": "ngmGzuwtyT8=",
          "dtype": "f8"
         },
         "legendgroup": "Sean Zawadzki",
         "marker": {
          "color": "#19d3f3",
          "size": {
           "bdata": "ngmGzuwtyT8=",
           "dtype": "f8"
          },
          "sizemode": "area",
          "sizeref": 0.06322082319331288,
          "symbol": "circle"
         },
         "mode": "markers+text",
         "name": "Sean Zawadzki",
         "orientation": "v",
         "showlegend": true,
         "text": [
          "Sean Zawadzki"
         ],
         "textfont": {
          "size": 10
         },
         "textposition": "bottom center",
         "type": "scatter",
         "x": {
          "bdata": "0xgwjQHTmD8=",
          "dtype": "f8"
         },
         "xaxis": "x",
         "y": {
          "bdata": "j93m2G2OvT8=",
          "dtype": "f8"
         },
         "yaxis": "y"
        }
       ],
       "layout": {
        "height": 700,
        "legend": {
         "itemsizing": "constant",
         "title": {
          "text": "Player"
         },
         "tracegroupgap": 0
        },
        "margin": {
         "t": 60
        },
        "paper_bgcolor": "White",
        "shapes": [
         {
          "line": {
           "color": "gray",
           "dash": "dash"
          },
          "type": "line",
          "x0": 0,
          "x1": 1,
          "xref": "x domain",
          "y0": 0.36375917778248823,
          "y1": 0.36375917778248823,
          "yref": "y"
         },
         {
          "line": {
           "color": "gray",
           "dash": "dash"
          },
          "type": "line",
          "x0": 0.021726103052195977,
          "x1": 0.021726103052195977,
          "xref": "x",
          "y0": 0,
          "y1": 1,
          "yref": "y domain"
         }
        ],
        "template": {
         "data": {
          "bar": [
           {
            "error_x": {
             "color": "#2a3f5f"
            },
            "error_y": {
             "color": "#2a3f5f"
            },
            "marker": {
             "line": {
              "color": "#E5ECF6",
              "width": 0.5
             },
             "pattern": {
              "fillmode": "overlay",
              "size": 10,
              "solidity": 0.2
             }
            },
            "type": "bar"
           }
          ],
          "barpolar": [
           {
            "marker": {
             "line": {
              "color": "#E5ECF6",
              "width": 0.5
             },
             "pattern": {
              "fillmode": "overlay",
              "size": 10,
              "solidity": 0.2
             }
            },
            "type": "barpolar"
           }
          ],
          "carpet": [
           {
            "aaxis": {
             "endlinecolor": "#2a3f5f",
             "gridcolor": "white",
             "linecolor": "white",
             "minorgridcolor": "white",
             "startlinecolor": "#2a3f5f"
            },
            "baxis": {
             "endlinecolor": "#2a3f5f",
             "gridcolor": "white",
             "linecolor": "white",
             "minorgridcolor": "white",
             "startlinecolor": "#2a3f5f"
            },
            "type": "carpet"
           }
          ],
          "choropleth": [
           {
            "colorbar": {
             "outlinewidth": 0,
             "ticks": ""
            },
            "type": "choropleth"
           }
          ],
          "contour": [
           {
            "colorbar": {
             "outlinewidth": 0,
             "ticks": ""
            },
            "colorscale": [
             [
              0,
              "#0d0887"
             ],
             [
              0.1111111111111111,
              "#46039f"
             ],
             [
              0.2222222222222222,
              "#7201a8"
             ],
             [
              0.3333333333333333,
              "#9c179e"
             ],
             [
              0.4444444444444444,
              "#bd3786"
             ],
             [
              0.5555555555555556,
              "#d8576b"
             ],
             [
              0.6666666666666666,
              "#ed7953"
             ],
             [
              0.7777777777777778,
              "#fb9f3a"
             ],
             [
              0.8888888888888888,
              "#fdca26"
             ],
             [
              1,
              "#f0f921"
             ]
            ],
            "type": "contour"
           }
          ],
          "contourcarpet": [
           {
            "colorbar": {
             "outlinewidth": 0,
             "ticks": ""
            },
            "type": "contourcarpet"
           }
          ],
          "heatmap": [
           {
            "colorbar": {
             "outlinewidth": 0,
             "ticks": ""
            },
            "colorscale": [
             [
              0,
              "#0d0887"
             ],
             [
              0.1111111111111111,
              "#46039f"
             ],
             [
              0.2222222222222222,
              "#7201a8"
             ],
             [
              0.3333333333333333,
              "#9c179e"
             ],
             [
              0.4444444444444444,
              "#bd3786"
             ],
             [
              0.5555555555555556,
              "#d8576b"
             ],
             [
              0.6666666666666666,
              "#ed7953"
             ],
             [
              0.7777777777777778,
              "#fb9f3a"
             ],
             [
              0.8888888888888888,
              "#fdca26"
             ],
             [
              1,
              "#f0f921"
             ]
            ],
            "type": "heatmap"
           }
          ],
          "histogram": [
           {
            "marker": {
             "pattern": {
              "fillmode": "overlay",
              "size": 10,
              "solidity": 0.2
             }
            },
            "type": "histogram"
           }
          ],
          "histogram2d": [
           {
            "colorbar": {
             "outlinewidth": 0,
             "ticks": ""
            },
            "colorscale": [
             [
              0,
              "#0d0887"
             ],
             [
              0.1111111111111111,
              "#46039f"
             ],
             [
              0.2222222222222222,
              "#7201a8"
             ],
             [
              0.3333333333333333,
              "#9c179e"
             ],
             [
              0.4444444444444444,
              "#bd3786"
             ],
             [
              0.5555555555555556,
              "#d8576b"
             ],
             [
              0.6666666666666666,
              "#ed7953"
             ],
             [
              0.7777777777777778,
              "#fb9f3a"
             ],
             [
              0.8888888888888888,
              "#fdca26"
             ],
             [
              1,
              "#f0f921"
             ]
            ],
            "type": "histogram2d"
           }
          ],
          "histogram2dcontour": [
           {
            "colorbar": {
             "outlinewidth": 0,
             "ticks": ""
            },
            "colorscale": [
             [
              0,
              "#0d0887"
             ],
             [
              0.1111111111111111,
              "#46039f"
             ],
             [
              0.2222222222222222,
              "#7201a8"
             ],
             [
              0.3333333333333333,
              "#9c179e"
             ],
             [
              0.4444444444444444,
              "#bd3786"
             ],
             [
              0.5555555555555556,
              "#d8576b"
             ],
             [
              0.6666666666666666,
              "#ed7953"
             ],
             [
              0.7777777777777778,
              "#fb9f3a"
             ],
             [
              0.8888888888888888,
              "#fdca26"
             ],
             [
              1,
              "#f0f921"
             ]
            ],
            "type": "histogram2dcontour"
           }
          ],
          "mesh3d": [
           {
            "colorbar": {
             "outlinewidth": 0,
             "ticks": ""
            },
            "type": "mesh3d"
           }
          ],
          "parcoords": [
           {
            "line": {
             "colorbar": {
              "outlinewidth": 0,
              "ticks": ""
             }
            },
            "type": "parcoords"
           }
          ],
          "pie": [
           {
            "automargin": true,
            "type": "pie"
           }
          ],
          "scatter": [
           {
            "fillpattern": {
             "fillmode": "overlay",
             "size": 10,
             "solidity": 0.2
            },
            "type": "scatter"
           }
          ],
          "scatter3d": [
           {
            "line": {
             "colorbar": {
              "outlinewidth": 0,
              "ticks": ""
             }
            },
            "marker": {
             "colorbar": {
              "outlinewidth": 0,
              "ticks": ""
             }
            },
            "type": "scatter3d"
           }
          ],
          "scattercarpet": [
           {
            "marker": {
             "colorbar": {
              "outlinewidth": 0,
              "ticks": ""
             }
            },
            "type": "scattercarpet"
           }
          ],
          "scattergeo": [
           {
            "marker": {
             "colorbar": {
              "outlinewidth": 0,
              "ticks": ""
             }
            },
            "type": "scattergeo"
           }
          ],
          "scattergl": [
           {
            "marker": {
             "colorbar": {
              "outlinewidth": 0,
              "ticks": ""
             }
            },
            "type": "scattergl"
           }
          ],
          "scattermap": [
           {
            "marker": {
             "colorbar": {
              "outlinewidth": 0,
              "ticks": ""
             }
            },
            "type": "scattermap"
           }
          ],
          "scattermapbox": [
           {
            "marker": {
             "colorbar": {
              "outlinewidth": 0,
              "ticks": ""
             }
            },
            "type": "scattermapbox"
           }
          ],
          "scatterpolar": [
           {
            "marker": {
             "colorbar": {
              "outlinewidth": 0,
              "ticks": ""
             }
            },
            "type": "scatterpolar"
           }
          ],
          "scatterpolargl": [
           {
            "marker": {
             "colorbar": {
              "outlinewidth": 0,
              "ticks": ""
             }
            },
            "type": "scatterpolargl"
           }
          ],
          "scatterternary": [
           {
            "marker": {
             "colorbar": {
              "outlinewidth": 0,
              "ticks": ""
             }
            },
            "type": "scatterternary"
           }
          ],
          "surface": [
           {
            "colorbar": {
             "outlinewidth": 0,
             "ticks": ""
            },
            "colorscale": [
             [
              0,
              "#0d0887"
             ],
             [
              0.1111111111111111,
              "#46039f"
             ],
             [
              0.2222222222222222,
              "#7201a8"
             ],
             [
              0.3333333333333333,
              "#9c179e"
             ],
             [
              0.4444444444444444,
              "#bd3786"
             ],
             [
              0.5555555555555556,
              "#d8576b"
             ],
             [
              0.6666666666666666,
              "#ed7953"
             ],
             [
              0.7777777777777778,
              "#fb9f3a"
             ],
             [
              0.8888888888888888,
              "#fdca26"
             ],
             [
              1,
              "#f0f921"
             ]
            ],
            "type": "surface"
           }
          ],
          "table": [
           {
            "cells": {
             "fill": {
              "color": "#EBF0F8"
             },
             "line": {
              "color": "white"
             }
            },
            "header": {
             "fill": {
              "color": "#C8D4E3"
             },
             "line": {
              "color": "white"
             }
            },
            "type": "table"
           }
          ]
         },
         "layout": {
          "annotationdefaults": {
           "arrowcolor": "#2a3f5f",
           "arrowhead": 0,
           "arrowwidth": 1
          },
          "autotypenumbers": "strict",
          "coloraxis": {
           "colorbar": {
            "outlinewidth": 0,
            "ticks": ""
           }
          },
          "colorscale": {
           "diverging": [
            [
             0,
             "#8e0152"
            ],
            [
             0.1,
             "#c51b7d"
            ],
            [
             0.2,
             "#de77ae"
            ],
            [
             0.3,
             "#f1b6da"
            ],
            [
             0.4,
             "#fde0ef"
            ],
            [
             0.5,
             "#f7f7f7"
            ],
            [
             0.6,
             "#e6f5d0"
            ],
            [
             0.7,
             "#b8e186"
            ],
            [
             0.8,
             "#7fbc41"
            ],
            [
             0.9,
             "#4d9221"
            ],
            [
             1,
             "#276419"
            ]
           ],
           "sequential": [
            [
             0,
             "#0d0887"
            ],
            [
             0.1111111111111111,
             "#46039f"
            ],
            [
             0.2222222222222222,
             "#7201a8"
            ],
            [
             0.3333333333333333,
             "#9c179e"
            ],
            [
             0.4444444444444444,
             "#bd3786"
            ],
            [
             0.5555555555555556,
             "#d8576b"
            ],
            [
             0.6666666666666666,
             "#ed7953"
            ],
            [
             0.7777777777777778,
             "#fb9f3a"
            ],
            [
             0.8888888888888888,
             "#fdca26"
            ],
            [
             1,
             "#f0f921"
            ]
           ],
           "sequentialminus": [
            [
             0,
             "#0d0887"
            ],
            [
             0.1111111111111111,
             "#46039f"
            ],
            [
             0.2222222222222222,
             "#7201a8"
            ],
            [
             0.3333333333333333,
             "#9c179e"
            ],
            [
             0.4444444444444444,
             "#bd3786"
            ],
            [
             0.5555555555555556,
             "#d8576b"
            ],
            [
             0.6666666666666666,
             "#ed7953"
            ],
            [
             0.7777777777777778,
             "#fb9f3a"
            ],
            [
             0.8888888888888888,
             "#fdca26"
            ],
            [
             1,
             "#f0f921"
            ]
           ]
          },
          "colorway": [
           "#636efa",
           "#EF553B",
           "#00cc96",
           "#ab63fa",
           "#FFA15A",
           "#19d3f3",
           "#FF6692",
           "#B6E880",
           "#FF97FF",
           "#FECB52"
          ],
          "font": {
           "color": "#2a3f5f"
          },
          "geo": {
           "bgcolor": "white",
           "lakecolor": "white",
           "landcolor": "#E5ECF6",
           "showlakes": true,
           "showland": true,
           "subunitcolor": "white"
          },
          "hoverlabel": {
           "align": "left"
          },
          "hovermode": "closest",
          "mapbox": {
           "style": "light"
          },
          "paper_bgcolor": "white",
          "plot_bgcolor": "#E5ECF6",
          "polar": {
           "angularaxis": {
            "gridcolor": "white",
            "linecolor": "white",
            "ticks": ""
           },
           "bgcolor": "#E5ECF6",
           "radialaxis": {
            "gridcolor": "white",
            "linecolor": "white",
            "ticks": ""
           }
          },
          "scene": {
           "xaxis": {
            "backgroundcolor": "#E5ECF6",
            "gridcolor": "white",
            "gridwidth": 2,
            "linecolor": "white",
            "showbackground": true,
            "ticks": "",
            "zerolinecolor": "white"
           },
           "yaxis": {
            "backgroundcolor": "#E5ECF6",
            "gridcolor": "white",
            "gridwidth": 2,
            "linecolor": "white",
            "showbackground": true,
            "ticks": "",
            "zerolinecolor": "white"
           },
           "zaxis": {
            "backgroundcolor": "#E5ECF6",
            "gridcolor": "white",
            "gridwidth": 2,
            "linecolor": "white",
            "showbackground": true,
            "ticks": "",
            "zerolinecolor": "white"
           }
          },
          "shapedefaults": {
           "line": {
            "color": "#2a3f5f"
           }
          },
          "ternary": {
           "aaxis": {
            "gridcolor": "white",
            "linecolor": "white",
            "ticks": ""
           },
           "baxis": {
            "gridcolor": "white",
            "linecolor": "white",
            "ticks": ""
           },
           "bgcolor": "#E5ECF6",
           "caxis": {
            "gridcolor": "white",
            "linecolor": "white",
            "ticks": ""
           }
          },
          "title": {
           "x": 0.05
          },
          "xaxis": {
           "automargin": true,
           "gridcolor": "white",
           "linecolor": "white",
           "ticks": "",
           "title": {
            "standoff": 15
           },
           "zerolinecolor": "white",
           "zerolinewidth": 2
          },
          "yaxis": {
           "automargin": true,
           "gridcolor": "white",
           "linecolor": "white",
           "ticks": "",
           "title": {
            "standoff": 15
           },
           "zerolinecolor": "white",
           "zerolinewidth": 2
          }
         }
        },
        "title": {
         "text": "<b>MLS 2025: Defensive vs Attacking Skills (Midfielders) </b><br><sup>Data Source: Fbref</sup>",
         "x": 0.5,
         "xanchor": "center",
         "y": 0.95,
         "yanchor": "top"
        },
        "width": 1200,
        "xaxis": {
         "anchor": "y",
         "domain": [
          0,
          1
         ],
         "title": {
          "text": "Defensive Skill Rating"
         }
        },
        "yaxis": {
         "anchor": "x",
         "domain": [
          0,
          1
         ],
         "title": {
          "text": "Attacking skill Rating"
         }
        }
       }
      }
     },
     "metadata": {},
     "output_type": "display_data"
    }
   ],
   "source": [
    "# First calculate each player's per-90 values\n",
    "df_defenders['Def_Skill_90'] = df_defenders['Def_Skill'] / df_defenders['90s']\n",
    "df_defenders['Att_Skill_90'] = df_defenders['Att_Skill'] / df_defenders['90s']\n",
    "\n",
    "# Then calculate midpoints of these per-90 values\n",
    "x_midpoint = df_defenders['Def_Skill_90'].mean()\n",
    "y_midpoint = df_defenders['Att_Skill_90'].mean()\n",
    "\n",
    "# Create scatter plot using these calculated fields\n",
    "fig_Def_Att = px.scatter(\n",
    "    df_defenders, \n",
    "    x='Def_Skill_90', \n",
    "    y='Att_Skill_90', \n",
    "    size='Att_Def_Balance', \n",
    "    hover_name='Att_Def_Balance', \n",
    "    text='Player', \n",
    "    color='Player'\n",
    ")\n",
    "\n",
    "# Add quadrant lines\n",
    "fig_Def_Att.add_hline(y=y_midpoint, line_dash=\"dash\", line_color=\"gray\")\n",
    "fig_Def_Att.add_vline(x=x_midpoint, line_dash=\"dash\", line_color=\"gray\")\n",
    "\n",
    "# Update layout\n",
    "fig_Def_Att.update_traces(textposition='bottom center', textfont=dict(size=10))\n",
    "fig_Def_Att.update_layout(\n",
    "    xaxis_title='Defensive Skill Rating',\n",
    "    yaxis_title='Attacking skill Rating',\n",
    "    width=1200, height=700, paper_bgcolor='White',\n",
    "    title={\n",
    "        'text': '<b>MLS 2025: Defensive vs Attacking Skills (Midfielders) </b><br><sup>Data Source: Fbref</sup>',\n",
    "        'y':0.95, 'x':0.5, 'xanchor': 'center', 'yanchor': 'top'\n",
    "    }\n",
    ")"
   ]
  },
  {
   "cell_type": "markdown",
   "metadata": {},
   "source": [
    "### Feature Weighting and Similarity Model"
   ]
  },
  {
   "cell_type": "code",
   "execution_count": 22,
   "metadata": {},
   "outputs": [],
   "source": [
    "# Define weights based on Minnesota's playing style requirements for right-backs\n",
    "feature_weights = {\n",
    "    'Prog_Skill': 0.25,     # Importance of progression ability\n",
    "    'Def_Skill': 0.30,      # Defensive solidity is key for right-back\n",
    "    'Att_Skill': 0.20,      # Attacking contribution\n",
    "    'Att_Def_Balance': 0.15, # Balance between phases\n",
    "    'Territorial_Balance': 0.10  # Position coverage\n",
    "}\n",
    "\n",
    "# Apply weights to create features\n",
    "df_defenders['Weighted_Score'] = (\n",
    "    df_defenders['Prog_Skill'] * feature_weights['Prog_Skill'] +\n",
    "    df_defenders['Def_Skill'] * feature_weights['Def_Skill'] +\n",
    "    df_defenders['Att_Skill'] * feature_weights['Att_Skill'] +\n",
    "    df_defenders['Att_Def_Balance'] * feature_weights['Att_Def_Balance'] +\n",
    "    df_defenders['Territorial_Balance'] * feature_weights['Territorial_Balance']\n",
    ")"
   ]
  },
  {
   "cell_type": "code",
   "execution_count": 23,
   "metadata": {},
   "outputs": [
    {
     "data": {
      "text/html": [
       "<div>\n",
       "<style scoped>\n",
       "    .dataframe tbody tr th:only-of-type {\n",
       "        vertical-align: middle;\n",
       "    }\n",
       "\n",
       "    .dataframe tbody tr th {\n",
       "        vertical-align: top;\n",
       "    }\n",
       "\n",
       "    .dataframe thead th {\n",
       "        text-align: right;\n",
       "    }\n",
       "</style>\n",
       "<table border=\"1\" class=\"dataframe\">\n",
       "  <thead>\n",
       "    <tr style=\"text-align: right;\">\n",
       "      <th></th>\n",
       "      <th>Player</th>\n",
       "      <th>Pos</th>\n",
       "      <th>Squad</th>\n",
       "      <th>90s</th>\n",
       "      <th>Born</th>\n",
       "      <th>Tkl_attempted</th>\n",
       "      <th>TklW</th>\n",
       "      <th>Tkl_Def</th>\n",
       "      <th>Tkl_Mid</th>\n",
       "      <th>Tkl_Att</th>\n",
       "      <th>...</th>\n",
       "      <th>SCA_PassLive</th>\n",
       "      <th>GCA90</th>\n",
       "      <th>Prog_Skill</th>\n",
       "      <th>Def_Skill</th>\n",
       "      <th>Att_Skill</th>\n",
       "      <th>Att_Def_Balance</th>\n",
       "      <th>Territorial_Balance</th>\n",
       "      <th>Def_Skill_90</th>\n",
       "      <th>Att_Skill_90</th>\n",
       "      <th>Weighted_Score</th>\n",
       "    </tr>\n",
       "  </thead>\n",
       "  <tbody>\n",
       "    <tr>\n",
       "      <th>64</th>\n",
       "      <td>Robin Lod</td>\n",
       "      <td>MF,FW</td>\n",
       "      <td>Minnesota Utd</td>\n",
       "      <td>8.4</td>\n",
       "      <td>1993</td>\n",
       "      <td>15.0</td>\n",
       "      <td>11</td>\n",
       "      <td>10</td>\n",
       "      <td>3</td>\n",
       "      <td>2</td>\n",
       "      <td>...</td>\n",
       "      <td>21</td>\n",
       "      <td>0.36</td>\n",
       "      <td>0.300000</td>\n",
       "      <td>0.188889</td>\n",
       "      <td>3.34</td>\n",
       "      <td>1.174016</td>\n",
       "      <td>1.174016</td>\n",
       "      <td>0.022487</td>\n",
       "      <td>0.397619</td>\n",
       "      <td>1.093171</td>\n",
       "    </tr>\n",
       "    <tr>\n",
       "      <th>88</th>\n",
       "      <td>Joaquín Pereyra</td>\n",
       "      <td>MF</td>\n",
       "      <td>Minnesota Utd</td>\n",
       "      <td>8.9</td>\n",
       "      <td>1998</td>\n",
       "      <td>27.0</td>\n",
       "      <td>13</td>\n",
       "      <td>12</td>\n",
       "      <td>9</td>\n",
       "      <td>6</td>\n",
       "      <td>...</td>\n",
       "      <td>26</td>\n",
       "      <td>0.45</td>\n",
       "      <td>0.644444</td>\n",
       "      <td>0.255556</td>\n",
       "      <td>5.81</td>\n",
       "      <td>1.907578</td>\n",
       "      <td>1.907578</td>\n",
       "      <td>0.028714</td>\n",
       "      <td>0.652809</td>\n",
       "      <td>1.876672</td>\n",
       "    </tr>\n",
       "    <tr>\n",
       "      <th>112</th>\n",
       "      <td>Wil Trapp</td>\n",
       "      <td>MF</td>\n",
       "      <td>Minnesota Utd</td>\n",
       "      <td>9.7</td>\n",
       "      <td>1993</td>\n",
       "      <td>22.0</td>\n",
       "      <td>14</td>\n",
       "      <td>14</td>\n",
       "      <td>5</td>\n",
       "      <td>3</td>\n",
       "      <td>...</td>\n",
       "      <td>10</td>\n",
       "      <td>0.00</td>\n",
       "      <td>0.077778</td>\n",
       "      <td>0.355556</td>\n",
       "      <td>1.14</td>\n",
       "      <td>0.530249</td>\n",
       "      <td>0.530249</td>\n",
       "      <td>0.036655</td>\n",
       "      <td>0.117526</td>\n",
       "      <td>0.486673</td>\n",
       "    </tr>\n",
       "  </tbody>\n",
       "</table>\n",
       "<p>3 rows × 40 columns</p>\n",
       "</div>"
      ],
      "text/plain": [
       "              Player    Pos          Squad  90s  Born  Tkl_attempted  TklW  \\\n",
       "64         Robin Lod  MF,FW  Minnesota Utd  8.4  1993           15.0    11   \n",
       "88   Joaquín Pereyra     MF  Minnesota Utd  8.9  1998           27.0    13   \n",
       "112        Wil Trapp     MF  Minnesota Utd  9.7  1993           22.0    14   \n",
       "\n",
       "     Tkl_Def  Tkl_Mid  Tkl_Att  ...  SCA_PassLive  GCA90  Prog_Skill  \\\n",
       "64        10        3        2  ...            21   0.36    0.300000   \n",
       "88        12        9        6  ...            26   0.45    0.644444   \n",
       "112       14        5        3  ...            10   0.00    0.077778   \n",
       "\n",
       "     Def_Skill  Att_Skill  Att_Def_Balance  Territorial_Balance  Def_Skill_90  \\\n",
       "64    0.188889       3.34         1.174016             1.174016      0.022487   \n",
       "88    0.255556       5.81         1.907578             1.907578      0.028714   \n",
       "112   0.355556       1.14         0.530249             0.530249      0.036655   \n",
       "\n",
       "     Att_Skill_90  Weighted_Score  \n",
       "64       0.397619        1.093171  \n",
       "88       0.652809        1.876672  \n",
       "112      0.117526        0.486673  \n",
       "\n",
       "[3 rows x 40 columns]"
      ]
     },
     "execution_count": 23,
     "metadata": {},
     "output_type": "execute_result"
    }
   ],
   "source": [
    "df_defenders[df_defenders['Squad'] == 'Minnesota Utd']"
   ]
  },
  {
   "cell_type": "markdown",
   "metadata": {},
   "source": [
    "### Similarity calculation"
   ]
  },
  {
   "cell_type": "code",
   "execution_count": 24,
   "metadata": {},
   "outputs": [],
   "source": [
    "\n",
    "\n",
    "import numpy as np\n",
    "from sklearn.preprocessing import StandardScaler\n",
    "from scipy.spatial.distance import cosine, euclidean\n",
    "\n",
    "# Standardize the features\n",
    "features = ['Prog_Skill', 'Def_Skill', 'Att_Skill', 'Att_Def_Balance', 'Territorial_Balance']\n",
    "X = df_defenders[features].values\n",
    "scaler = StandardScaler()\n",
    "X_scaled = scaler.fit_transform(X)\n",
    "\n",
    "# Create DataFrame with scaled values\n",
    "df_scaled = pd.DataFrame(X_scaled, columns=features, index=df_defenders.index)\n",
    "\n",
    "# Find current Minnesota United right-back\n",
    "current_mf = \"Robin Lod\"  # Replace with actual player name\n",
    "if current_mf in df_defenders['Player'].values:\n",
    "    # Get current RB's scaled values as a reference point\n",
    "    reference_player = df_scaled[df_defenders['Player'] == current_mf].iloc[0].values\n",
    "    \n",
    "    # Calculate similarity for each player (using cosine similarity)\n",
    "    similarities = []\n",
    "    for idx, row in df_scaled.iterrows():\n",
    "        # Cosine similarity (1 is most similar, 0 is dissimilar)\n",
    "        sim = 1 - cosine(row.values, reference_player) \n",
    "        similarities.append(sim)\n",
    "    \n",
    "    df_defenders['Similarity_Score'] = similarities"
   ]
  },
  {
   "cell_type": "markdown",
   "metadata": {},
   "source": [
    "### Minnesota Compatibility Score"
   ]
  },
  {
   "cell_type": "code",
   "execution_count": 25,
   "metadata": {},
   "outputs": [],
   "source": [
    "# Calculate overall compatibility score (0-100 scale)\n",
    "# Combine weighted metrics and similarity to current player\n",
    "\n",
    "# Define minimum thresholds for non-negotiable requirements\n",
    "min_thresholds = {\n",
    "    'Def_Skill': 0.05,  # Must have basic defensive capability\n",
    "    'Prog_Skill': 0.08  # Must be able to progress the ball\n",
    "}\n",
    "\n",
    "# Apply thresholds\n",
    "df_defenders['Meets_Thresholds'] = (\n",
    "    (df_defenders['Def_Skill'] >= min_thresholds['Def_Skill']) & \n",
    "    (df_defenders['Prog_Skill'] >= min_thresholds['Prog_Skill'])\n",
    ")\n",
    "\n",
    "# Calculate final Minnesota United Compatibility Score\n",
    "df_defenders['MNU_Compatibility'] = df_defenders['Weighted_Score'] * 70 + df_defenders['Similarity_Score'] * 30\n",
    "df_defenders.loc[~df_defenders['Meets_Thresholds'], 'MNU_Compatibility'] = 0  # Zero score if thresholds not met"
   ]
  },
  {
   "cell_type": "markdown",
   "metadata": {},
   "source": [
    "###  Recruitment Shortlist"
   ]
  },
  {
   "cell_type": "code",
   "execution_count": 26,
   "metadata": {},
   "outputs": [
    {
     "name": "stdout",
     "output_type": "stream",
     "text": [
      "Top 10 Midfielder Targets for Minnesota United:\n"
     ]
    },
    {
     "data": {
      "text/html": [
       "<div>\n",
       "<style scoped>\n",
       "    .dataframe tbody tr th:only-of-type {\n",
       "        vertical-align: middle;\n",
       "    }\n",
       "\n",
       "    .dataframe tbody tr th {\n",
       "        vertical-align: top;\n",
       "    }\n",
       "\n",
       "    .dataframe thead th {\n",
       "        text-align: right;\n",
       "    }\n",
       "</style>\n",
       "<table border=\"1\" class=\"dataframe\">\n",
       "  <thead>\n",
       "    <tr style=\"text-align: right;\">\n",
       "      <th></th>\n",
       "      <th>Player</th>\n",
       "      <th>Prog_Skill</th>\n",
       "      <th>Def_Skill</th>\n",
       "      <th>Att_Skill</th>\n",
       "      <th>Att_Def_Balance</th>\n",
       "      <th>Similarity_Score</th>\n",
       "      <th>MNU_Compatibility</th>\n",
       "    </tr>\n",
       "  </thead>\n",
       "  <tbody>\n",
       "    <tr>\n",
       "      <th>42</th>\n",
       "      <td>Emil Forsberg</td>\n",
       "      <td>0.733333</td>\n",
       "      <td>0.077778</td>\n",
       "      <td>3.76</td>\n",
       "      <td>25.288329</td>\n",
       "      <td>-0.723735</td>\n",
       "      <td>487.940382</td>\n",
       "    </tr>\n",
       "    <tr>\n",
       "      <th>46</th>\n",
       "      <td>Carles Gil</td>\n",
       "      <td>0.855556</td>\n",
       "      <td>0.155556</td>\n",
       "      <td>5.62</td>\n",
       "      <td>5.302227</td>\n",
       "      <td>-0.486230</td>\n",
       "      <td>175.120961</td>\n",
       "    </tr>\n",
       "    <tr>\n",
       "      <th>110</th>\n",
       "      <td>Quinn Sullivan</td>\n",
       "      <td>1.177778</td>\n",
       "      <td>0.200000</td>\n",
       "      <td>5.34</td>\n",
       "      <td>5.512256</td>\n",
       "      <td>-0.702664</td>\n",
       "      <td>174.955687</td>\n",
       "    </tr>\n",
       "    <tr>\n",
       "      <th>0</th>\n",
       "      <td>Luciano Acosta</td>\n",
       "      <td>1.233333</td>\n",
       "      <td>0.166667</td>\n",
       "      <td>5.22</td>\n",
       "      <td>5.237274</td>\n",
       "      <td>-0.713262</td>\n",
       "      <td>168.417774</td>\n",
       "    </tr>\n",
       "    <tr>\n",
       "      <th>45</th>\n",
       "      <td>Manu García</td>\n",
       "      <td>0.577778</td>\n",
       "      <td>0.144444</td>\n",
       "      <td>4.82</td>\n",
       "      <td>5.203275</td>\n",
       "      <td>-0.363065</td>\n",
       "      <td>160.789809</td>\n",
       "    </tr>\n",
       "    <tr>\n",
       "      <th>72</th>\n",
       "      <td>Maximiliano Moralez</td>\n",
       "      <td>0.722222</td>\n",
       "      <td>0.166667</td>\n",
       "      <td>4.82</td>\n",
       "      <td>4.602530</td>\n",
       "      <td>-0.450017</td>\n",
       "      <td>150.662637</td>\n",
       "    </tr>\n",
       "    <tr>\n",
       "      <th>88</th>\n",
       "      <td>Joaquín Pereyra</td>\n",
       "      <td>0.644444</td>\n",
       "      <td>0.255556</td>\n",
       "      <td>5.81</td>\n",
       "      <td>1.907578</td>\n",
       "      <td>0.224534</td>\n",
       "      <td>138.103090</td>\n",
       "    </tr>\n",
       "    <tr>\n",
       "      <th>115</th>\n",
       "      <td>Obed Vargas</td>\n",
       "      <td>0.533333</td>\n",
       "      <td>0.344444</td>\n",
       "      <td>5.66</td>\n",
       "      <td>1.576436</td>\n",
       "      <td>0.294607</td>\n",
       "      <td>132.232497</td>\n",
       "    </tr>\n",
       "    <tr>\n",
       "      <th>49</th>\n",
       "      <td>Brian Gutiérrez</td>\n",
       "      <td>0.500000</td>\n",
       "      <td>0.155556</td>\n",
       "      <td>5.05</td>\n",
       "      <td>1.971455</td>\n",
       "      <td>0.432586</td>\n",
       "      <td>130.194688</td>\n",
       "    </tr>\n",
       "    <tr>\n",
       "      <th>9</th>\n",
       "      <td>Eduard Atuesta</td>\n",
       "      <td>0.266667</td>\n",
       "      <td>0.144444</td>\n",
       "      <td>5.70</td>\n",
       "      <td>1.063788</td>\n",
       "      <td>0.638300</td>\n",
       "      <td>125.265303</td>\n",
       "    </tr>\n",
       "  </tbody>\n",
       "</table>\n",
       "</div>"
      ],
      "text/plain": [
       "                  Player  Prog_Skill  Def_Skill  Att_Skill  Att_Def_Balance  \\\n",
       "42         Emil Forsberg    0.733333   0.077778       3.76        25.288329   \n",
       "46            Carles Gil    0.855556   0.155556       5.62         5.302227   \n",
       "110       Quinn Sullivan    1.177778   0.200000       5.34         5.512256   \n",
       "0         Luciano Acosta    1.233333   0.166667       5.22         5.237274   \n",
       "45           Manu García    0.577778   0.144444       4.82         5.203275   \n",
       "72   Maximiliano Moralez    0.722222   0.166667       4.82         4.602530   \n",
       "88       Joaquín Pereyra    0.644444   0.255556       5.81         1.907578   \n",
       "115          Obed Vargas    0.533333   0.344444       5.66         1.576436   \n",
       "49       Brian Gutiérrez    0.500000   0.155556       5.05         1.971455   \n",
       "9         Eduard Atuesta    0.266667   0.144444       5.70         1.063788   \n",
       "\n",
       "     Similarity_Score  MNU_Compatibility  \n",
       "42          -0.723735         487.940382  \n",
       "46          -0.486230         175.120961  \n",
       "110         -0.702664         174.955687  \n",
       "0           -0.713262         168.417774  \n",
       "45          -0.363065         160.789809  \n",
       "72          -0.450017         150.662637  \n",
       "88           0.224534         138.103090  \n",
       "115          0.294607         132.232497  \n",
       "49           0.432586         130.194688  \n",
       "9            0.638300         125.265303  "
      ]
     },
     "execution_count": 26,
     "metadata": {},
     "output_type": "execute_result"
    }
   ],
   "source": [
    "# Filter for midfielders only\n",
    "mf_candidates = df_defenders[df_defenders['Pos'] == 'MF'].copy()\n",
    "\n",
    "# Sort by compatibility score\n",
    "mf_shortlist = mf_candidates.sort_values('MNU_Compatibility', ascending=False)\n",
    "\n",
    "# Display top 10 candidates with key metrics\n",
    "top_candidates = mf_shortlist.head(10)[['Player', 'Prog_Skill', 'Def_Skill', \n",
    "                                       'Att_Skill', 'Att_Def_Balance',\n",
    "                                       'Similarity_Score', 'MNU_Compatibility']]\n",
    "\n",
    "print(\"Top 10 Midfielder Targets for Minnesota United:\")\n",
    "top_candidates"
   ]
  },
  {
   "cell_type": "markdown",
   "metadata": {},
   "source": [
    "### Visualize Targets vs. Current Midfielder using mplsoccer pizza charts"
   ]
  },
  {
   "cell_type": "code",
   "execution_count": 29,
   "metadata": {},
   "outputs": [],
   "source": [
    "import matplotlib.pyplot as plt\n",
    "from highlight_text import fig_text\n",
    "\n",
    "from mplsoccer import PyPizza, FontManager"
   ]
  },
  {
   "cell_type": "code",
   "execution_count": 30,
   "metadata": {},
   "outputs": [],
   "source": [
    "font_normal = FontManager('https://raw.githubusercontent.com/googlefonts/roboto/main/'\n",
    "                          'src/hinted/Roboto-Regular.ttf')\n",
    "font_italic = FontManager('https://raw.githubusercontent.com/googlefonts/roboto/main/'\n",
    "                          'src/hinted/Roboto-Italic.ttf')\n",
    "font_bold = FontManager('https://raw.githubusercontent.com/google/fonts/main/apache/robotoslab/'\n",
    "                        'RobotoSlab[wght].ttf')\n"
   ]
  },
  {
   "cell_type": "code",
   "execution_count": null,
   "metadata": {},
   "outputs": [],
   "source": [
    "df_defenders[df_defenders['Squad'] == 'Minnesota Utd']\n",
    "top_candidates"
   ]
  },
  {
   "cell_type": "code",
   "execution_count": null,
   "metadata": {},
   "outputs": [],
   "source": [
    "params = [Prog_Skill,\tDef_Skill,\tAtt_Skill,\tAtt_Def_Balance,\tSimilarity_Score,\tMNU_Compatibility]"
   ]
  },
  {
   "cell_type": "code",
   "execution_count": 39,
   "metadata": {},
   "outputs": [
    {
     "data": {
      "image/png": "[encoded data removed]",
      "text/plain": [
       "<Figure size 1000x1000 with 1 Axes>"
      ]
     },
     "metadata": {},
     "output_type": "display_data"
    }
   ],
   "source": [
    "# Pizza chart code for midfielder comparison - fixed version\n",
    "\n",
    "# Import libraries\n",
    "from mplsoccer import PyPizza\n",
    "import matplotlib.pyplot as plt\n",
    "import numpy as np\n",
    "import pandas as pd\n",
    "\n",
    "# Define parameters for midfielders\n",
    "params = [\n",
    "    \"Progression\\nAbility\", \"Defensive\\nReliability\", \"Attacking\\nThreat\",\n",
    "    \"Ball\\nRetention\", \"Progressive\\nPasses\", \"Progressive\\nCarries\",\n",
    "    \"Defensive\\nActions\", \"Shot-Creating\\nActions\", \"Goal-Creating\\nActions\",\n",
    "    \"Final Third\\nEntries\", \"Territorial\\nBalance\", \"Duel\\nSuccess\"\n",
    "]\n",
    "\n",
    "# Define which metrics to use for each parameter\n",
    "metric_mapping = {\n",
    "    \"Progression\\nAbility\": \"Prog_Skill\",\n",
    "    \"Defensive\\nReliability\": \"Def_Skill\",\n",
    "    \"Attacking\\nThreat\": \"Att_Skill\",\n",
    "    \"Territorial\\nBalance\": \"Territorial_Balance\",\n",
    "    \"Ball\\nRetention\": \"TO_Succ%\",\n",
    "    \"Progressive\\nPasses\": \"Pass_PrgR\",\n",
    "    \"Progressive\\nCarries\": \"PrgC\",\n",
    "    \"Defensive\\nActions\": \"Interceptions\",\n",
    "    \"Shot-Creating\\nActions\": \"SCA90\",\n",
    "    \"Goal-Creating\\nActions\": \"GCA90\",\n",
    "    \"Final Third\\nEntries\": \"Touches_Att3rd\",\n",
    "    \"Duel\\nSuccess\": \"Drib_Tkl%\"\n",
    "}\n",
    "\n",
    "# Get the features to use from mapping\n",
    "features_to_use = list(metric_mapping.values())\n",
    "\n",
    "# Get current midfielder name and check if they exist in the dataframe\n",
    "current_mf = \"Robin Lod\"\n",
    "target_mf_name = \"Eduard Atuesta\"\n",
    "\n",
    "# Safely get player data - check if player exists first\n",
    "def get_player_safely(player_name, df_defenders):\n",
    "    player_data = df_defenders[df_defenders['Player'] == player_name]\n",
    "    if len(player_data) > 0:\n",
    "        return player_data.iloc[0]\n",
    "    else:\n",
    "        print(f\"Player '{player_name}' not found in dataset.\")\n",
    "        return None\n",
    "\n",
    "# Convert values to percentiles\n",
    "def get_percentile_values(player_row, df_defenders, features):\n",
    "    \"\"\"Convert raw values to percentile ranks (0-100)\"\"\"\n",
    "    percentiles = []\n",
    "    if player_row is None:\n",
    "        return [50] * len(features)  # Use 50th percentile as placeholder\n",
    "        \n",
    "    for feature in features:\n",
    "        if feature in player_row and feature in df_defenders.columns:\n",
    "            # Calculate percentile rank\n",
    "            pct = 100 * (df_defenders[feature] <= player_row[feature]).mean()\n",
    "            # Round to 2 decimal places\n",
    "            pct = round(pct, 2)\n",
    "            percentiles.append(pct)\n",
    "        else:\n",
    "            percentiles.append(50)\n",
    "    return percentiles\n",
    "\n",
    "# Get player data\n",
    "current_mf_row = get_player_safely(current_mf, df_defenders)\n",
    "target_mf_row = get_player_safely(target_mf_name, df_defenders)\n",
    "\n",
    "# Get percentile values\n",
    "current_values = get_percentile_values(current_mf_row, df_defenders, features_to_use)\n",
    "target_values = get_percentile_values(target_mf_row, df_defenders, features_to_use)\n",
    "\n",
    "# Instantiate PyPizza class\n",
    "baker = PyPizza(\n",
    "    params=params,\n",
    "    background_color=\"#222222\",\n",
    "    straight_line_color=\"#000000\",\n",
    "    straight_line_lw=1,\n",
    "    last_circle_lw=1,\n",
    "    last_circle_color=\"#000000\",\n",
    "    other_circle_ls=\"-.\",\n",
    "    other_circle_lw=1\n",
    ")\n",
    "\n",
    "# Plot pizza - use standard parameters without format_strings\n",
    "fig, ax = baker.make_pizza(\n",
    "    target_values,\n",
    "    compare_values=current_values,\n",
    "    figsize=(10, 10),\n",
    "    kwargs_slices=dict(\n",
    "        facecolor=\"#1A78CF\", edgecolor=\"#000000\",\n",
    "        zorder=2, linewidth=1\n",
    "    ),                             \n",
    "    kwargs_compare=dict(\n",
    "        facecolor=\"#FF9300\", edgecolor=\"#000000\",\n",
    "        zorder=2, linewidth=1,\n",
    "    ),\n",
    "    kwargs_params=dict(\n",
    "        color=\"#FFFFFF\", fontsize=12,\n",
    "        va=\"center\"\n",
    "    ),                         \n",
    "    # Basic value display without custom formatting\n",
    "    kwargs_values=dict(\n",
    "        color=\"#000000\", fontsize=10,\n",
    "        zorder=3,\n",
    "        bbox=dict(\n",
    "            edgecolor=\"#000000\", facecolor=\"#1A78CF\",\n",
    "            boxstyle=\"round,pad=0.2\", lw=1\n",
    "        )\n",
    "    ),                     \n",
    "    kwargs_compare_values=dict(\n",
    "        color=\"#000000\", fontsize=10, \n",
    "        zorder=3,\n",
    "        bbox=dict(edgecolor=\"#000000\", facecolor=\"#FF9300\", boxstyle=\"round,pad=0.2\", lw=1)\n",
    "    ),                      \n",
    ")\n",
    "\n",
    "# Create a custom legend with player names and percentile ranges\n",
    "legend_elements = [\n",
    "    plt.Line2D([0], [0], marker='o', color='w', markerfacecolor='#1A78CF', \n",
    "              markersize=15, label=f\"{target_mf_name} (Blue)\"),\n",
    "    plt.Line2D([0], [0], marker='o', color='w', markerfacecolor='#FF9300', \n",
    "              markersize=15, label=f\"{current_mf} (Orange)\")\n",
    "]\n",
    "ax.legend(handles=legend_elements, loc='upper center', bbox_to_anchor=(0.5, -0.05),\n",
    "         fancybox=True, shadow=True, ncol=2, fontsize=14)\n",
    "\n",
    "# Add title\n",
    "fig.text(\n",
    "    0.515, 0.97, f\"{target_mf_name} vs {current_mf}\", size=18,\n",
    "    ha=\"center\", color=\"#FFFFFF\"\n",
    ")\n",
    "\n",
    "# Add subtitle\n",
    "fig.text(\n",
    "    0.515, 0.93,\n",
    "    \"Percentile Rank among MLS Midfielders | 2025 Season\",\n",
    "    size=15,\n",
    "    ha=\"center\", color=\"#FFFFFF\"\n",
    ")\n",
    "\n",
    "# Add a note about values\n",
    "fig.text(\n",
    "    0.5, 0.03, \"Values show percentile rank (0-100) rounded to 2 decimal places\",\n",
    "    size=10, ha=\"center\", color=\"#AAAAAA\"\n",
    ")\n",
    "\n",
    "# Add credits\n",
    "fig.text(\n",
    "    0.99, 0.005, \"Data: FBref / Visualization: mplsoccer\", size=9,\n",
    "    color=\"#FFFFFF\", ha=\"right\"\n",
    ")\n",
    "\n",
    "plt.tight_layout(rect=[0, 0.05, 1, 0.95])\n",
    "plt.show()"
   ]
  },
  {
   "cell_type": "code",
   "execution_count": 44,
   "metadata": {},
   "outputs": [],
   "source": [
    "def generate_player_comparison_charts(current_team_df, shortlist_df, output_folder=\"player_comparisons\"):\n",
    "    \"\"\"\n",
    "    Generate pizza charts comparing Minnesota United's current players with shortlisted targets.\n",
    "    \n",
    "    Parameters:\n",
    "    -----------\n",
    "    current_team_df : DataFrame\n",
    "        DataFrame containing Minnesota's current players (filtered with Squad == 'Minnesota Utd')\n",
    "    shortlist_df : DataFrame\n",
    "        DataFrame containing shortlisted players for recruitment\n",
    "    output_folder : str\n",
    "        Folder to save the generated charts (will be created if it doesn't exist)\n",
    "    \"\"\"\n",
    "    import os\n",
    "    import matplotlib.pyplot as plt\n",
    "    import numpy as np\n",
    "    from mplsoccer import PyPizza\n",
    "    \n",
    "    # Create output folder if it doesn't exist\n",
    "    if not os.path.exists(output_folder):\n",
    "        os.makedirs(output_folder)\n",
    "    \n",
    "    # Define parameters for player comparisons - reduced number of parameters for better readability\n",
    "    params = [\n",
    "        \"Progression\\nAbility\", \"Defensive\\nReliability\", \"Attacking\\nThreat\",\n",
    "        \"Ball\\nRetention\", \"Progressive\\nPasses\", \"Progressive\\nCarries\",\n",
    "        \"Defensive\\nActions\", \"Shot-Creating\\nActions\", \"Goal-Creating\\nActions\",\n",
    "        \"Final Third\\nEntries\", \"Territorial\\nBalance\", \"Duel\\nSuccess\"\n",
    "    ]\n",
    "    \n",
    "    # Define metrics mapping (adjust based on your available columns)\n",
    "    metric_mapping = {\n",
    "        \"Progression\\nAbility\": \"Prog_Skill\",\n",
    "        \"Defensive\\nReliability\": \"Def_Skill\",\n",
    "        \"Attacking\\nThreat\": \"Att_Skill\",\n",
    "        \"Territorial\\nBalance\": \"Att_Def_Balance\",  # Using this as a proxy\n",
    "        \"Ball\\nRetention\": \"TO_Succ%\",\n",
    "        \"Progressive\\nPasses\": \"Pass_PrgR\",\n",
    "        \"Progressive\\nCarries\": \"PrgC\",\n",
    "        \"Defensive\\nActions\": \"Tkl_Def\",  # Using tackles in defensive third\n",
    "        \"Shot-Creating\\nActions\": \"SCA_PassLive\",\n",
    "        \"Goal-Creating\\nActions\": \"GCA90\",\n",
    "        \"Final Third\\nEntries\": \"Touches_Att3rd\",\n",
    "        \"Duel\\nSuccess\": \"TklW\"  # Using successful tackles\n",
    "    }\n",
    "    \n",
    "    # Get the features to use from mapping\n",
    "    features_to_use = list(metric_mapping.values())\n",
    "    \n",
    "    # Function to calculate percentile ranks\n",
    "    def get_percentile_values(player_row, reference_df, features):\n",
    "        \"\"\"Calculate percentile ranks for a player compared to reference dataset\"\"\"\n",
    "        percentiles = []\n",
    "        if player_row is None:\n",
    "            return [50] * len(features)\n",
    "            \n",
    "        for feature in features:\n",
    "            if feature in player_row and feature in reference_df.columns:\n",
    "                # Calculate percentile rank\n",
    "                pct = 100 * (reference_df[feature] <= player_row[feature]).mean()\n",
    "                # Round to 2 decimal places\n",
    "                pct = round(pct, 2)\n",
    "                percentiles.append(pct)\n",
    "            else:\n",
    "                percentiles.append(50)\n",
    "        return percentiles\n",
    "    \n",
    "    # Combine dataframes for percentile calculation reference\n",
    "    reference_df = pd.concat([current_team_df, shortlist_df]).drop_duplicates()\n",
    "    \n",
    "    # Loop through each shortlisted player and compare with current team players\n",
    "    for _, target_player in shortlist_df.iterrows():\n",
    "        target_name = target_player['Player']\n",
    "        \n",
    "        # Loop through current team players for comparison\n",
    "        for _, current_player in current_team_df.iterrows():\n",
    "            current_name = current_player['Player']\n",
    "            \n",
    "            # Skip if comparing a player to themselves\n",
    "            if target_name == current_name:\n",
    "                continue\n",
    "                \n",
    "            print(f\"Generating comparison: {target_name} vs {current_name}\")\n",
    "            \n",
    "            # Calculate percentile values\n",
    "            target_values = get_percentile_values(target_player, reference_df, features_to_use)\n",
    "            current_values = get_percentile_values(current_player, reference_df, features_to_use)\n",
    "            \n",
    "            # Create PyPizza instance with improved visibility\n",
    "            baker = PyPizza(\n",
    "                params=params,\n",
    "                background_color=\"white\",  # Changed to white for better contrast\n",
    "                straight_line_color=\"#222222\",\n",
    "                straight_line_lw=1,\n",
    "                last_circle_lw=1,\n",
    "                last_circle_color=\"#222222\",\n",
    "                other_circle_ls=\"-.\",\n",
    "                other_circle_lw=1\n",
    "            )\n",
    "            \n",
    "            # Create figure with larger size for better readability\n",
    "            fig, ax = plt.subplots(figsize=(12, 12), subplot_kw=dict(projection='polar'))\n",
    "            \n",
    "            # Plot the pizza chart with visible value labels\n",
    "            baker.make_pizza(\n",
    "                target_values,\n",
    "                compare_values=current_values,\n",
    "                figsize=(12, 12),\n",
    "                ax=ax,\n",
    "                kwargs_slices=dict(\n",
    "                    facecolor=\"#1A78CF\", edgecolor=\"#000000\",\n",
    "                    zorder=2, linewidth=1, alpha=0.7\n",
    "                ),                             \n",
    "                kwargs_compare=dict(\n",
    "                    facecolor=\"#FF9300\", edgecolor=\"#000000\",\n",
    "                    zorder=2, linewidth=1, alpha=0.7\n",
    "                ),\n",
    "                kwargs_params=dict(\n",
    "                    color=\"#000000\", fontsize=12, fontweight='bold',\n",
    "                    va=\"center\", zorder=5\n",
    "                ),                        \n",
    "                # Improved value display with value_bboxes\n",
    "                kwargs_values=dict(\n",
    "                    color=\"white\", fontsize=11, fontweight='bold',\n",
    "                    zorder=4, \n",
    "                    bbox=dict(\n",
    "                        boxstyle=\"round,pad=0.4\", fc=\"#1A78CF\",\n",
    "                        ec=\"black\", lw=1, alpha=1\n",
    "                    )\n",
    "                ),                     \n",
    "                kwargs_compare_values=dict(\n",
    "                    color=\"white\", fontsize=11, fontweight='bold',\n",
    "                    zorder=4, \n",
    "                    bbox=dict(\n",
    "                        boxstyle=\"round,pad=0.4\", fc=\"#FF9300\",\n",
    "                        ec=\"black\", lw=1, alpha=1\n",
    "                    )\n",
    "                )                    \n",
    "            )\n",
    "            \n",
    "            # Add whitespace around the chart\n",
    "            plt.subplots_adjust(top=0.85, bottom=0.15, left=0.1, right=0.9)\n",
    "            \n",
    "            # Create a better positioned legend with clearer text\n",
    "            legend_elements = [\n",
    "                plt.Line2D([0], [0], marker='o', color='w', markerfacecolor='#1A78CF', \n",
    "                          markersize=15, label=f\"{target_name} (Target)\"),\n",
    "                plt.Line2D([0], [0], marker='o', color='w', markerfacecolor='#FF9300', \n",
    "                          markersize=15, label=f\"{current_name} (Current)\")\n",
    "            ]\n",
    "            legend = ax.legend(handles=legend_elements, loc='lower center', \n",
    "                       bbox_to_anchor=(0.5, -0.1), frameon=True,\n",
    "                       fancybox=True, shadow=True, ncol=2, fontsize=12)\n",
    "            legend.get_frame().set_facecolor('white')\n",
    "            \n",
    "            # Add title and subtitles with better positioning and contrast\n",
    "            plt.title(f\"{target_name} vs {current_name}\", \n",
    "                     size=20, color=\"black\", y=1.05, fontweight='bold')\n",
    "            \n",
    "            plt.figtext(0.5, 0.95, \"Percentile Rank Comparison\", \n",
    "                       ha=\"center\", color=\"#555555\", size=16, fontweight='bold')\n",
    "            \n",
    "            plt.figtext(0.5, 0.01, \"Values show percentile rank (0-100)\", \n",
    "                       size=12, ha=\"center\", color=\"#555555\")\n",
    "            \n",
    "            # Add signature\n",
    "            plt.figtext(0.99, 0.01, \"Minnesota United FC\", \n",
    "                       size=10, color=\"#000000\", ha=\"right\")\n",
    "            \n",
    "            # Set background color for the entire figure\n",
    "            fig.patch.set_facecolor('white')\n",
    "            \n",
    "            # Save with better quality and spacing\n",
    "            filename = f\"{output_folder}/{target_name}_vs_{current_name}.png\".replace(\" \", \"_\")\n",
    "            plt.savefig(filename, dpi=300, bbox_inches=\"tight\", pad_inches=0.5, \n",
    "                       facecolor='white')\n",
    "            plt.close()\n",
    "    \n",
    "    print(f\"All comparison charts saved to {output_folder}/\")"
   ]
  },
  {
   "cell_type": "code",
   "execution_count": 45,
   "metadata": {},
   "outputs": [
    {
     "name": "stdout",
     "output_type": "stream",
     "text": [
      "Generating comparison: Emil Forsberg vs Robin Lod\n",
      "Generating comparison: Emil Forsberg vs Joaquín Pereyra\n",
      "Generating comparison: Emil Forsberg vs Wil Trapp\n",
      "Generating comparison: Carles Gil vs Robin Lod\n",
      "Generating comparison: Carles Gil vs Joaquín Pereyra\n",
      "Generating comparison: Carles Gil vs Wil Trapp\n",
      "Generating comparison: Quinn Sullivan vs Robin Lod\n",
      "Generating comparison: Quinn Sullivan vs Joaquín Pereyra\n",
      "Generating comparison: Quinn Sullivan vs Wil Trapp\n",
      "Generating comparison: Luciano Acosta vs Robin Lod\n",
      "Generating comparison: Luciano Acosta vs Joaquín Pereyra\n",
      "Generating comparison: Luciano Acosta vs Wil Trapp\n",
      "Generating comparison: Manu García vs Robin Lod\n",
      "Generating comparison: Manu García vs Joaquín Pereyra\n",
      "Generating comparison: Manu García vs Wil Trapp\n",
      "Generating comparison: Maximiliano Moralez vs Robin Lod\n",
      "Generating comparison: Maximiliano Moralez vs Joaquín Pereyra\n",
      "Generating comparison: Maximiliano Moralez vs Wil Trapp\n",
      "Generating comparison: Joaquín Pereyra vs Robin Lod\n",
      "Generating comparison: Joaquín Pereyra vs Wil Trapp\n",
      "Generating comparison: Obed Vargas vs Robin Lod\n",
      "Generating comparison: Obed Vargas vs Joaquín Pereyra\n",
      "Generating comparison: Obed Vargas vs Wil Trapp\n",
      "Generating comparison: Brian Gutiérrez vs Robin Lod\n",
      "Generating comparison: Brian Gutiérrez vs Joaquín Pereyra\n",
      "Generating comparison: Brian Gutiérrez vs Wil Trapp\n",
      "Generating comparison: Eduard Atuesta vs Robin Lod\n",
      "Generating comparison: Eduard Atuesta vs Joaquín Pereyra\n",
      "Generating comparison: Eduard Atuesta vs Wil Trapp\n",
      "All comparison charts saved to player_comparisons/\n"
     ]
    }
   ],
   "source": [
    "\n",
    "current_players = df_defenders[df_defenders['Squad'] == 'Minnesota Utd']\n",
    "generate_player_comparison_charts(current_players, top_candidates)"
   ]
  },
  {
   "cell_type": "code",
   "execution_count": null,
   "metadata": {},
   "outputs": [],
   "source": []
  }
 ],
 "metadata": {
  "kernelspec": {
   "display_name": "Python 3",
   "language": "python",
   "name": "python3"
  },
  "language_info": {
   "codemirror_mode": {
    "name": "ipython",
    "version": 3
   },
   "file_extension": ".py",
   "mimetype": "text/x-python",
   "name": "python",
   "nbconvert_exporter": "python",
   "pygments_lexer": "ipython3",
   "version": "3.12.6"
  },
  "orig_nbformat": 4
 },
 "nbformat": 4,
 "nbformat_minor": 2
}
